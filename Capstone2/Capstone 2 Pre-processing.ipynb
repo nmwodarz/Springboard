{
 "cells": [
  {
   "cell_type": "code",
   "execution_count": 1,
   "metadata": {},
   "outputs": [],
   "source": [
    "from pathlib import Path\n",
    "import pandas as pd\n",
    "import numpy as np\n",
    "import bz2\n",
    "import _pickle as cPickle\n",
    "from sklearn.preprocessing import MaxAbsScaler, MinMaxScaler\n",
    "from sklearn.model_selection import train_test_split"
   ]
  },
  {
   "cell_type": "code",
   "execution_count": 2,
   "metadata": {},
   "outputs": [],
   "source": [
    "current_dir = Path.cwd()\n",
    "relative_path = 'data/compressed_eda_adjusted.pbz2'\n",
    "frame_path = current_dir.joinpath(relative_path)\n",
    "shot_frame = bz2.BZ2File(str(frame_path), 'rb')\n",
    "shot_frame = cPickle.load(shot_frame)"
   ]
  },
  {
   "cell_type": "code",
   "execution_count": 3,
   "metadata": {},
   "outputs": [
    {
     "data": {
      "text/html": [
       "<div>\n",
       "<style scoped>\n",
       "    .dataframe tbody tr th:only-of-type {\n",
       "        vertical-align: middle;\n",
       "    }\n",
       "\n",
       "    .dataframe tbody tr th {\n",
       "        vertical-align: top;\n",
       "    }\n",
       "\n",
       "    .dataframe thead th {\n",
       "        text-align: right;\n",
       "    }\n",
       "</style>\n",
       "<table border=\"1\" class=\"dataframe\">\n",
       "  <thead>\n",
       "    <tr style=\"text-align: right;\">\n",
       "      <th></th>\n",
       "      <th>game_id_livefeed</th>\n",
       "      <th>season</th>\n",
       "      <th>type</th>\n",
       "      <th>game_time</th>\n",
       "      <th>venue</th>\n",
       "      <th>period</th>\n",
       "      <th>period_ord</th>\n",
       "      <th>period_type</th>\n",
       "      <th>time_elapsed</th>\n",
       "      <th>cum_time_elapsed</th>\n",
       "      <th>event</th>\n",
       "      <th>event_team_code</th>\n",
       "      <th>event_team_is_home</th>\n",
       "      <th>event_coord_x</th>\n",
       "      <th>event_coord_y</th>\n",
       "      <th>is_rebound</th>\n",
       "      <th>time_remaining</th>\n",
       "      <th>seconds_remaining</th>\n",
       "      <th>event_zone</th>\n",
       "      <th>miss_type</th>\n",
       "      <th>shot_type</th>\n",
       "      <th>calc_dist</th>\n",
       "      <th>calc_angle</th>\n",
       "      <th>players_shooting</th>\n",
       "      <th>skaters_shooting</th>\n",
       "      <th>fwds_shooting</th>\n",
       "      <th>attacker_state</th>\n",
       "      <th>is_extra_attacker</th>\n",
       "      <th>is_empty_net</th>\n",
       "      <th>players_defending</th>\n",
       "      <th>skaters_defending</th>\n",
       "      <th>fwds_defending</th>\n",
       "      <th>is_goal</th>\n",
       "    </tr>\n",
       "  </thead>\n",
       "  <tbody>\n",
       "    <tr>\n",
       "      <th>0</th>\n",
       "      <td>2010020003</td>\n",
       "      <td>20102011</td>\n",
       "      <td>R</td>\n",
       "      <td>2010-10-07T16:00:00Z</td>\n",
       "      <td>Hartwall Areena</td>\n",
       "      <td>1</td>\n",
       "      <td>1st</td>\n",
       "      <td>REGULAR</td>\n",
       "      <td>01:05</td>\n",
       "      <td>65.0</td>\n",
       "      <td>SHOT</td>\n",
       "      <td>CAR</td>\n",
       "      <td>False</td>\n",
       "      <td>56.0</td>\n",
       "      <td>-15.0</td>\n",
       "      <td>False</td>\n",
       "      <td>18:55</td>\n",
       "      <td>1135.0</td>\n",
       "      <td>Off. Zone</td>\n",
       "      <td>Save</td>\n",
       "      <td>Snap</td>\n",
       "      <td>36.249138</td>\n",
       "      <td>-24.443955</td>\n",
       "      <td>6</td>\n",
       "      <td>5</td>\n",
       "      <td>3</td>\n",
       "      <td>5-on-5</td>\n",
       "      <td>False</td>\n",
       "      <td>False</td>\n",
       "      <td>6</td>\n",
       "      <td>5</td>\n",
       "      <td>3</td>\n",
       "      <td>False</td>\n",
       "    </tr>\n",
       "    <tr>\n",
       "      <th>1</th>\n",
       "      <td>2010020003</td>\n",
       "      <td>20102011</td>\n",
       "      <td>R</td>\n",
       "      <td>2010-10-07T16:00:00Z</td>\n",
       "      <td>Hartwall Areena</td>\n",
       "      <td>1</td>\n",
       "      <td>1st</td>\n",
       "      <td>REGULAR</td>\n",
       "      <td>01:16</td>\n",
       "      <td>76.0</td>\n",
       "      <td>MISS</td>\n",
       "      <td>CAR</td>\n",
       "      <td>False</td>\n",
       "      <td>35.0</td>\n",
       "      <td>33.0</td>\n",
       "      <td>False</td>\n",
       "      <td>18:44</td>\n",
       "      <td>1124.0</td>\n",
       "      <td>Off. Zone</td>\n",
       "      <td>Wide of Net</td>\n",
       "      <td>Wrist</td>\n",
       "      <td>63.285069</td>\n",
       "      <td>31.429566</td>\n",
       "      <td>6</td>\n",
       "      <td>5</td>\n",
       "      <td>3</td>\n",
       "      <td>5-on-5</td>\n",
       "      <td>False</td>\n",
       "      <td>False</td>\n",
       "      <td>6</td>\n",
       "      <td>5</td>\n",
       "      <td>3</td>\n",
       "      <td>False</td>\n",
       "    </tr>\n",
       "    <tr>\n",
       "      <th>2</th>\n",
       "      <td>2010020003</td>\n",
       "      <td>20102011</td>\n",
       "      <td>R</td>\n",
       "      <td>2010-10-07T16:00:00Z</td>\n",
       "      <td>Hartwall Areena</td>\n",
       "      <td>1</td>\n",
       "      <td>1st</td>\n",
       "      <td>REGULAR</td>\n",
       "      <td>01:37</td>\n",
       "      <td>97.0</td>\n",
       "      <td>MISS</td>\n",
       "      <td>MIN</td>\n",
       "      <td>True</td>\n",
       "      <td>87.0</td>\n",
       "      <td>-6.0</td>\n",
       "      <td>False</td>\n",
       "      <td>18:23</td>\n",
       "      <td>1103.0</td>\n",
       "      <td>Off. Zone</td>\n",
       "      <td>Wide of Net</td>\n",
       "      <td>Wrist</td>\n",
       "      <td>6.324555</td>\n",
       "      <td>-71.565051</td>\n",
       "      <td>6</td>\n",
       "      <td>5</td>\n",
       "      <td>3</td>\n",
       "      <td>5-on-5</td>\n",
       "      <td>False</td>\n",
       "      <td>False</td>\n",
       "      <td>6</td>\n",
       "      <td>5</td>\n",
       "      <td>3</td>\n",
       "      <td>False</td>\n",
       "    </tr>\n",
       "    <tr>\n",
       "      <th>3</th>\n",
       "      <td>2010020003</td>\n",
       "      <td>20102011</td>\n",
       "      <td>R</td>\n",
       "      <td>2010-10-07T16:00:00Z</td>\n",
       "      <td>Hartwall Areena</td>\n",
       "      <td>1</td>\n",
       "      <td>1st</td>\n",
       "      <td>REGULAR</td>\n",
       "      <td>03:33</td>\n",
       "      <td>213.0</td>\n",
       "      <td>GOAL</td>\n",
       "      <td>MIN</td>\n",
       "      <td>True</td>\n",
       "      <td>78.0</td>\n",
       "      <td>3.0</td>\n",
       "      <td>False</td>\n",
       "      <td>16:27</td>\n",
       "      <td>987.0</td>\n",
       "      <td>Off. Zone</td>\n",
       "      <td>Goal</td>\n",
       "      <td>Wrist</td>\n",
       "      <td>11.401754</td>\n",
       "      <td>15.255119</td>\n",
       "      <td>6</td>\n",
       "      <td>5</td>\n",
       "      <td>3</td>\n",
       "      <td>5-on-5</td>\n",
       "      <td>False</td>\n",
       "      <td>False</td>\n",
       "      <td>6</td>\n",
       "      <td>5</td>\n",
       "      <td>3</td>\n",
       "      <td>True</td>\n",
       "    </tr>\n",
       "    <tr>\n",
       "      <th>4</th>\n",
       "      <td>2010020003</td>\n",
       "      <td>20102011</td>\n",
       "      <td>R</td>\n",
       "      <td>2010-10-07T16:00:00Z</td>\n",
       "      <td>Hartwall Areena</td>\n",
       "      <td>1</td>\n",
       "      <td>1st</td>\n",
       "      <td>REGULAR</td>\n",
       "      <td>03:49</td>\n",
       "      <td>229.0</td>\n",
       "      <td>BLOCK</td>\n",
       "      <td>MIN</td>\n",
       "      <td>True</td>\n",
       "      <td>77.0</td>\n",
       "      <td>13.0</td>\n",
       "      <td>False</td>\n",
       "      <td>16:11</td>\n",
       "      <td>971.0</td>\n",
       "      <td>Off. Zone</td>\n",
       "      <td>Block</td>\n",
       "      <td>Snap</td>\n",
       "      <td>17.691806</td>\n",
       "      <td>47.290610</td>\n",
       "      <td>6</td>\n",
       "      <td>5</td>\n",
       "      <td>3</td>\n",
       "      <td>5-on-5</td>\n",
       "      <td>False</td>\n",
       "      <td>False</td>\n",
       "      <td>6</td>\n",
       "      <td>5</td>\n",
       "      <td>3</td>\n",
       "      <td>False</td>\n",
       "    </tr>\n",
       "  </tbody>\n",
       "</table>\n",
       "</div>"
      ],
      "text/plain": [
       "  game_id_livefeed    season type             game_time            venue  \\\n",
       "0       2010020003  20102011    R  2010-10-07T16:00:00Z  Hartwall Areena   \n",
       "1       2010020003  20102011    R  2010-10-07T16:00:00Z  Hartwall Areena   \n",
       "2       2010020003  20102011    R  2010-10-07T16:00:00Z  Hartwall Areena   \n",
       "3       2010020003  20102011    R  2010-10-07T16:00:00Z  Hartwall Areena   \n",
       "4       2010020003  20102011    R  2010-10-07T16:00:00Z  Hartwall Areena   \n",
       "\n",
       "   period period_ord period_type time_elapsed  cum_time_elapsed  event  \\\n",
       "0       1        1st     REGULAR        01:05              65.0   SHOT   \n",
       "1       1        1st     REGULAR        01:16              76.0   MISS   \n",
       "2       1        1st     REGULAR        01:37              97.0   MISS   \n",
       "3       1        1st     REGULAR        03:33             213.0   GOAL   \n",
       "4       1        1st     REGULAR        03:49             229.0  BLOCK   \n",
       "\n",
       "  event_team_code  event_team_is_home  event_coord_x  event_coord_y  \\\n",
       "0             CAR               False           56.0          -15.0   \n",
       "1             CAR               False           35.0           33.0   \n",
       "2             MIN                True           87.0           -6.0   \n",
       "3             MIN                True           78.0            3.0   \n",
       "4             MIN                True           77.0           13.0   \n",
       "\n",
       "   is_rebound time_remaining  seconds_remaining event_zone    miss_type  \\\n",
       "0       False          18:55             1135.0  Off. Zone         Save   \n",
       "1       False          18:44             1124.0  Off. Zone  Wide of Net   \n",
       "2       False          18:23             1103.0  Off. Zone  Wide of Net   \n",
       "3       False          16:27              987.0  Off. Zone         Goal   \n",
       "4       False          16:11              971.0  Off. Zone        Block   \n",
       "\n",
       "  shot_type  calc_dist  calc_angle  players_shooting  skaters_shooting  \\\n",
       "0      Snap  36.249138  -24.443955                 6                 5   \n",
       "1     Wrist  63.285069   31.429566                 6                 5   \n",
       "2     Wrist   6.324555  -71.565051                 6                 5   \n",
       "3     Wrist  11.401754   15.255119                 6                 5   \n",
       "4      Snap  17.691806   47.290610                 6                 5   \n",
       "\n",
       "   fwds_shooting attacker_state  is_extra_attacker  is_empty_net  \\\n",
       "0              3         5-on-5              False         False   \n",
       "1              3         5-on-5              False         False   \n",
       "2              3         5-on-5              False         False   \n",
       "3              3         5-on-5              False         False   \n",
       "4              3         5-on-5              False         False   \n",
       "\n",
       "   players_defending  skaters_defending  fwds_defending  is_goal  \n",
       "0                  6                  5               3    False  \n",
       "1                  6                  5               3    False  \n",
       "2                  6                  5               3    False  \n",
       "3                  6                  5               3     True  \n",
       "4                  6                  5               3    False  "
      ]
     },
     "execution_count": 3,
     "metadata": {},
     "output_type": "execute_result"
    }
   ],
   "source": [
    "pd.set_option('display.max_columns', None)\n",
    "shot_frame.head()"
   ]
  },
  {
   "cell_type": "markdown",
   "metadata": {},
   "source": [
    "There are several columns that are either redundant or irrelevant to modeling. These are `game_id_livefeed`, `season` (although rule changes could potentially have long-term effects), `game_time` (a more-sophisticated model may want to account for fatigue in late-season and back-to-back games), `venue`, `period_ord` (duplicates `period`),  `time_elapsed`/`cum_time_elapsed`/`time_remaining` (effectively duplicated by `seconds_remaining`), `event` (derivable from `miss_type`), `event_team_code` (player and team might be included in a different model), `event_coord_x`/`event_coord_y` (represented by `calc_dist`/`calc_angle`), `attacker_state` (given by `skaters_shooting` and `skaters_defending`). The column `miss_type` will also be removed since it can be used by itself to correctly predict `is_goal`."
   ]
  },
  {
   "cell_type": "code",
   "execution_count": 4,
   "metadata": {},
   "outputs": [
    {
     "data": {
      "text/plain": [
       "array(['20102011', '20112012', '20122013', '20132014', '20142015',\n",
       "       '20152016', '20162017', '20172018', '20182019', '20192020'],\n",
       "      dtype=object)"
      ]
     },
     "execution_count": 4,
     "metadata": {},
     "output_type": "execute_result"
    }
   ],
   "source": [
    "shot_frame.season.unique()"
   ]
  },
  {
   "cell_type": "markdown",
   "metadata": {},
   "source": [
    "Maintaining all seasons was leading to computational difficulties while modeling. The decision was made to reduce the dataset to only include the most recent full season (2018-19 as the 2019-20 season was shortened as a result of the Covid-19 pandemic)."
   ]
  },
  {
   "cell_type": "code",
   "execution_count": 5,
   "metadata": {},
   "outputs": [],
   "source": [
    "shot_frame = shot_frame[shot_frame['season']=='20182019']"
   ]
  },
  {
   "cell_type": "code",
   "execution_count": 6,
   "metadata": {},
   "outputs": [
    {
     "data": {
      "text/plain": [
       "array(['20182019'], dtype=object)"
      ]
     },
     "execution_count": 6,
     "metadata": {},
     "output_type": "execute_result"
    }
   ],
   "source": [
    "shot_frame.season.unique()"
   ]
  },
  {
   "cell_type": "code",
   "execution_count": 7,
   "metadata": {},
   "outputs": [],
   "source": [
    "shot_frame.drop(labels=['game_id_livefeed', 'season', 'game_time', 'venue', 'period_ord', 'time_elapsed', 'cum_time_elapsed', \\\n",
    "                        'event', 'event_team_code', 'event_coord_x', 'event_coord_y', 'time_remaining', 'attacker_state', \\\n",
    "                        'miss_type'], \\\n",
    "                axis=1, inplace=True)"
   ]
  },
  {
   "cell_type": "code",
   "execution_count": 17,
   "metadata": {},
   "outputs": [],
   "source": [
    "# shot_frame = shot_frame.drop(labels=['game_id_livefeed', 'season', 'game_time', 'venue', 'period_ord', 'time_elapsed', 'cum_time_elapsed', \\\n",
    "#                         'event', 'event_team_code', 'calc_dist', 'calc_angle', 'time_remaining', 'attacker_state', \\\n",
    "#                         'miss_type'], \\\n",
    "#                 axis=1)"
   ]
  },
  {
   "cell_type": "code",
   "execution_count": 8,
   "metadata": {},
   "outputs": [
    {
     "name": "stdout",
     "output_type": "stream",
     "text": [
      "<class 'pandas.core.frame.DataFrame'>\n",
      "Int64Index: 157336 entries, 1131838 to 1289200\n",
      "Data columns (total 19 columns):\n",
      " #   Column              Non-Null Count   Dtype  \n",
      "---  ------              --------------   -----  \n",
      " 0   type                157336 non-null  object \n",
      " 1   period              157336 non-null  int64  \n",
      " 2   period_type         157336 non-null  object \n",
      " 3   event_team_is_home  157336 non-null  bool   \n",
      " 4   is_rebound          157336 non-null  bool   \n",
      " 5   seconds_remaining   157336 non-null  float64\n",
      " 6   event_zone          157336 non-null  object \n",
      " 7   shot_type           157336 non-null  object \n",
      " 8   calc_dist           157336 non-null  float64\n",
      " 9   calc_angle          157336 non-null  float64\n",
      " 10  players_shooting    157336 non-null  int64  \n",
      " 11  skaters_shooting    157336 non-null  int64  \n",
      " 12  fwds_shooting       157336 non-null  int64  \n",
      " 13  is_extra_attacker   157336 non-null  bool   \n",
      " 14  is_empty_net        157336 non-null  bool   \n",
      " 15  players_defending   157336 non-null  int64  \n",
      " 16  skaters_defending   157336 non-null  int64  \n",
      " 17  fwds_defending      157336 non-null  int64  \n",
      " 18  is_goal             157336 non-null  bool   \n",
      "dtypes: bool(5), float64(3), int64(7), object(4)\n",
      "memory usage: 18.8+ MB\n"
     ]
    }
   ],
   "source": [
    "shot_frame.info()"
   ]
  },
  {
   "cell_type": "markdown",
   "metadata": {},
   "source": [
    "Two of the remaining fields have only two values: `type` (either 'R' or 'P', meaning regular-season or playoff) and `period_type` (either 'REGULAR' or 'OVERTIME'). These can both be changed to boolean fields."
   ]
  },
  {
   "cell_type": "code",
   "execution_count": 9,
   "metadata": {},
   "outputs": [
    {
     "data": {
      "text/plain": [
       "array(['R', 'P'], dtype=object)"
      ]
     },
     "execution_count": 9,
     "metadata": {},
     "output_type": "execute_result"
    }
   ],
   "source": [
    "shot_frame.type.unique()"
   ]
  },
  {
   "cell_type": "code",
   "execution_count": 10,
   "metadata": {},
   "outputs": [],
   "source": [
    "shot_frame['type'] = (shot_frame.type == 'P')"
   ]
  },
  {
   "cell_type": "code",
   "execution_count": 11,
   "metadata": {},
   "outputs": [
    {
     "data": {
      "text/plain": [
       "array([False,  True])"
      ]
     },
     "execution_count": 11,
     "metadata": {},
     "output_type": "execute_result"
    }
   ],
   "source": [
    "shot_frame.type.unique()"
   ]
  },
  {
   "cell_type": "code",
   "execution_count": 12,
   "metadata": {},
   "outputs": [
    {
     "data": {
      "text/plain": [
       "array(['REGULAR', 'OVERTIME'], dtype=object)"
      ]
     },
     "execution_count": 12,
     "metadata": {},
     "output_type": "execute_result"
    }
   ],
   "source": [
    "shot_frame.period_type.unique()"
   ]
  },
  {
   "cell_type": "code",
   "execution_count": 13,
   "metadata": {},
   "outputs": [],
   "source": [
    "shot_frame['period_type'] = (shot_frame.period_type == 'OVERTIME')"
   ]
  },
  {
   "cell_type": "code",
   "execution_count": 14,
   "metadata": {},
   "outputs": [
    {
     "data": {
      "text/plain": [
       "array([False,  True])"
      ]
     },
     "execution_count": 14,
     "metadata": {},
     "output_type": "execute_result"
    }
   ],
   "source": [
    "shot_frame.period_type.unique()"
   ]
  },
  {
   "cell_type": "code",
   "execution_count": 15,
   "metadata": {},
   "outputs": [],
   "source": [
    "shot_frame.rename(columns={'type': 'is_playoff', 'period_type': 'is_overtime'}, inplace=True)"
   ]
  },
  {
   "cell_type": "code",
   "execution_count": 16,
   "metadata": {},
   "outputs": [
    {
     "name": "stdout",
     "output_type": "stream",
     "text": [
      "<class 'pandas.core.frame.DataFrame'>\n",
      "Int64Index: 157336 entries, 1131838 to 1289200\n",
      "Data columns (total 19 columns):\n",
      " #   Column              Non-Null Count   Dtype  \n",
      "---  ------              --------------   -----  \n",
      " 0   is_playoff          157336 non-null  bool   \n",
      " 1   period              157336 non-null  int64  \n",
      " 2   is_overtime         157336 non-null  bool   \n",
      " 3   event_team_is_home  157336 non-null  bool   \n",
      " 4   is_rebound          157336 non-null  bool   \n",
      " 5   seconds_remaining   157336 non-null  float64\n",
      " 6   event_zone          157336 non-null  object \n",
      " 7   shot_type           157336 non-null  object \n",
      " 8   calc_dist           157336 non-null  float64\n",
      " 9   calc_angle          157336 non-null  float64\n",
      " 10  players_shooting    157336 non-null  int64  \n",
      " 11  skaters_shooting    157336 non-null  int64  \n",
      " 12  fwds_shooting       157336 non-null  int64  \n",
      " 13  is_extra_attacker   157336 non-null  bool   \n",
      " 14  is_empty_net        157336 non-null  bool   \n",
      " 15  players_defending   157336 non-null  int64  \n",
      " 16  skaters_defending   157336 non-null  int64  \n",
      " 17  fwds_defending      157336 non-null  int64  \n",
      " 18  is_goal             157336 non-null  bool   \n",
      "dtypes: bool(7), float64(3), int64(7), object(2)\n",
      "memory usage: 16.7+ MB\n"
     ]
    }
   ],
   "source": [
    "shot_frame.info()"
   ]
  },
  {
   "cell_type": "markdown",
   "metadata": {},
   "source": [
    "The data frame is down to two categorical columns. These will now be one-hot-encoded."
   ]
  },
  {
   "cell_type": "code",
   "execution_count": 17,
   "metadata": {},
   "outputs": [],
   "source": [
    "dfo=shot_frame.select_dtypes(include=['object']) # select object type columns\n",
    "shot_frame = pd.concat([shot_frame.drop(dfo, axis=1), pd.get_dummies(dfo)], axis=1)"
   ]
  },
  {
   "cell_type": "code",
   "execution_count": 18,
   "metadata": {},
   "outputs": [
    {
     "name": "stdout",
     "output_type": "stream",
     "text": [
      "<class 'pandas.core.frame.DataFrame'>\n",
      "Int64Index: 157336 entries, 1131838 to 1289200\n",
      "Data columns (total 27 columns):\n",
      " #   Column                 Non-Null Count   Dtype  \n",
      "---  ------                 --------------   -----  \n",
      " 0   is_playoff             157336 non-null  bool   \n",
      " 1   period                 157336 non-null  int64  \n",
      " 2   is_overtime            157336 non-null  bool   \n",
      " 3   event_team_is_home     157336 non-null  bool   \n",
      " 4   is_rebound             157336 non-null  bool   \n",
      " 5   seconds_remaining      157336 non-null  float64\n",
      " 6   calc_dist              157336 non-null  float64\n",
      " 7   calc_angle             157336 non-null  float64\n",
      " 8   players_shooting       157336 non-null  int64  \n",
      " 9   skaters_shooting       157336 non-null  int64  \n",
      " 10  fwds_shooting          157336 non-null  int64  \n",
      " 11  is_extra_attacker      157336 non-null  bool   \n",
      " 12  is_empty_net           157336 non-null  bool   \n",
      " 13  players_defending      157336 non-null  int64  \n",
      " 14  skaters_defending      157336 non-null  int64  \n",
      " 15  fwds_defending         157336 non-null  int64  \n",
      " 16  is_goal                157336 non-null  bool   \n",
      " 17  event_zone_Def. Zone   157336 non-null  uint8  \n",
      " 18  event_zone_Neu. Zone   157336 non-null  uint8  \n",
      " 19  event_zone_Off. Zone   157336 non-null  uint8  \n",
      " 20  shot_type_Backhand     157336 non-null  uint8  \n",
      " 21  shot_type_Deflected    157336 non-null  uint8  \n",
      " 22  shot_type_Slap         157336 non-null  uint8  \n",
      " 23  shot_type_Snap         157336 non-null  uint8  \n",
      " 24  shot_type_Tip-In       157336 non-null  uint8  \n",
      " 25  shot_type_Wrap-around  157336 non-null  uint8  \n",
      " 26  shot_type_Wrist        157336 non-null  uint8  \n",
      "dtypes: bool(7), float64(3), int64(7), uint8(10)\n",
      "memory usage: 15.8 MB\n"
     ]
    }
   ],
   "source": [
    "shot_frame.info()"
   ]
  },
  {
   "cell_type": "markdown",
   "metadata": {},
   "source": [
    "Finally, clean up some of the remaining column names."
   ]
  },
  {
   "cell_type": "code",
   "execution_count": 19,
   "metadata": {},
   "outputs": [],
   "source": [
    "shot_frame.rename(columns={'event_zone_Def. Zone': 'event_zone_Def_Zone', 'event_zone_Neu. Zone': 'event_zone_Neu_Zone',\n",
    "                          'event_zone_Off. Zone': 'event_zone_Off_Zone', 'shot_type_Tip-In': 'shot_type_Tip_In', \n",
    "                           'shot_type_Wrap-around': 'shot_type_Wrap_around'}, \n",
    "                  inplace=True)"
   ]
  },
  {
   "cell_type": "code",
   "execution_count": 20,
   "metadata": {},
   "outputs": [
    {
     "name": "stdout",
     "output_type": "stream",
     "text": [
      "<class 'pandas.core.frame.DataFrame'>\n",
      "Int64Index: 157336 entries, 1131838 to 1289200\n",
      "Data columns (total 27 columns):\n",
      " #   Column                 Non-Null Count   Dtype  \n",
      "---  ------                 --------------   -----  \n",
      " 0   is_playoff             157336 non-null  bool   \n",
      " 1   period                 157336 non-null  int64  \n",
      " 2   is_overtime            157336 non-null  bool   \n",
      " 3   event_team_is_home     157336 non-null  bool   \n",
      " 4   is_rebound             157336 non-null  bool   \n",
      " 5   seconds_remaining      157336 non-null  float64\n",
      " 6   calc_dist              157336 non-null  float64\n",
      " 7   calc_angle             157336 non-null  float64\n",
      " 8   players_shooting       157336 non-null  int64  \n",
      " 9   skaters_shooting       157336 non-null  int64  \n",
      " 10  fwds_shooting          157336 non-null  int64  \n",
      " 11  is_extra_attacker      157336 non-null  bool   \n",
      " 12  is_empty_net           157336 non-null  bool   \n",
      " 13  players_defending      157336 non-null  int64  \n",
      " 14  skaters_defending      157336 non-null  int64  \n",
      " 15  fwds_defending         157336 non-null  int64  \n",
      " 16  is_goal                157336 non-null  bool   \n",
      " 17  event_zone_Def_Zone    157336 non-null  uint8  \n",
      " 18  event_zone_Neu_Zone    157336 non-null  uint8  \n",
      " 19  event_zone_Off_Zone    157336 non-null  uint8  \n",
      " 20  shot_type_Backhand     157336 non-null  uint8  \n",
      " 21  shot_type_Deflected    157336 non-null  uint8  \n",
      " 22  shot_type_Slap         157336 non-null  uint8  \n",
      " 23  shot_type_Snap         157336 non-null  uint8  \n",
      " 24  shot_type_Tip_In       157336 non-null  uint8  \n",
      " 25  shot_type_Wrap_around  157336 non-null  uint8  \n",
      " 26  shot_type_Wrist        157336 non-null  uint8  \n",
      "dtypes: bool(7), float64(3), int64(7), uint8(10)\n",
      "memory usage: 15.8 MB\n"
     ]
    }
   ],
   "source": [
    "shot_frame.info()"
   ]
  },
  {
   "cell_type": "code",
   "execution_count": 21,
   "metadata": {},
   "outputs": [],
   "source": [
    "shot_frame.rename(columns={'event_team_is_home': 'is_event_team_home'}, \n",
    "                  inplace=True)"
   ]
  },
  {
   "cell_type": "code",
   "execution_count": 22,
   "metadata": {
    "scrolled": true
   },
   "outputs": [
    {
     "name": "stdout",
     "output_type": "stream",
     "text": [
      "<class 'pandas.core.frame.DataFrame'>\n",
      "Int64Index: 157336 entries, 1131838 to 1289200\n",
      "Data columns (total 27 columns):\n",
      " #   Column                 Non-Null Count   Dtype  \n",
      "---  ------                 --------------   -----  \n",
      " 0   is_playoff             157336 non-null  bool   \n",
      " 1   period                 157336 non-null  int64  \n",
      " 2   is_overtime            157336 non-null  bool   \n",
      " 3   is_event_team_home     157336 non-null  bool   \n",
      " 4   is_rebound             157336 non-null  bool   \n",
      " 5   seconds_remaining      157336 non-null  float64\n",
      " 6   calc_dist              157336 non-null  float64\n",
      " 7   calc_angle             157336 non-null  float64\n",
      " 8   players_shooting       157336 non-null  int64  \n",
      " 9   skaters_shooting       157336 non-null  int64  \n",
      " 10  fwds_shooting          157336 non-null  int64  \n",
      " 11  is_extra_attacker      157336 non-null  bool   \n",
      " 12  is_empty_net           157336 non-null  bool   \n",
      " 13  players_defending      157336 non-null  int64  \n",
      " 14  skaters_defending      157336 non-null  int64  \n",
      " 15  fwds_defending         157336 non-null  int64  \n",
      " 16  is_goal                157336 non-null  bool   \n",
      " 17  event_zone_Def_Zone    157336 non-null  uint8  \n",
      " 18  event_zone_Neu_Zone    157336 non-null  uint8  \n",
      " 19  event_zone_Off_Zone    157336 non-null  uint8  \n",
      " 20  shot_type_Backhand     157336 non-null  uint8  \n",
      " 21  shot_type_Deflected    157336 non-null  uint8  \n",
      " 22  shot_type_Slap         157336 non-null  uint8  \n",
      " 23  shot_type_Snap         157336 non-null  uint8  \n",
      " 24  shot_type_Tip_In       157336 non-null  uint8  \n",
      " 25  shot_type_Wrap_around  157336 non-null  uint8  \n",
      " 26  shot_type_Wrist        157336 non-null  uint8  \n",
      "dtypes: bool(7), float64(3), int64(7), uint8(10)\n",
      "memory usage: 15.8 MB\n"
     ]
    }
   ],
   "source": [
    "shot_frame.info()"
   ]
  },
  {
   "cell_type": "code",
   "execution_count": 23,
   "metadata": {},
   "outputs": [],
   "source": [
    "dfo=shot_frame.select_dtypes(include=['bool'])\n",
    "shot_frame = pd.concat([shot_frame.drop(dfo, axis=1), dfo.astype('uint8')], axis=1)"
   ]
  },
  {
   "cell_type": "code",
   "execution_count": 24,
   "metadata": {},
   "outputs": [],
   "source": [
    "dfo=shot_frame.select_dtypes(include=['int64'])\n",
    "shot_frame = pd.concat([shot_frame.drop(dfo, axis=1), dfo.astype('uint8')], axis=1)"
   ]
  },
  {
   "cell_type": "code",
   "execution_count": 25,
   "metadata": {},
   "outputs": [
    {
     "name": "stdout",
     "output_type": "stream",
     "text": [
      "<class 'pandas.core.frame.DataFrame'>\n",
      "Int64Index: 157336 entries, 1131838 to 1289200\n",
      "Data columns (total 27 columns):\n",
      " #   Column                 Non-Null Count   Dtype  \n",
      "---  ------                 --------------   -----  \n",
      " 0   seconds_remaining      157336 non-null  float64\n",
      " 1   calc_dist              157336 non-null  float64\n",
      " 2   calc_angle             157336 non-null  float64\n",
      " 3   event_zone_Def_Zone    157336 non-null  uint8  \n",
      " 4   event_zone_Neu_Zone    157336 non-null  uint8  \n",
      " 5   event_zone_Off_Zone    157336 non-null  uint8  \n",
      " 6   shot_type_Backhand     157336 non-null  uint8  \n",
      " 7   shot_type_Deflected    157336 non-null  uint8  \n",
      " 8   shot_type_Slap         157336 non-null  uint8  \n",
      " 9   shot_type_Snap         157336 non-null  uint8  \n",
      " 10  shot_type_Tip_In       157336 non-null  uint8  \n",
      " 11  shot_type_Wrap_around  157336 non-null  uint8  \n",
      " 12  shot_type_Wrist        157336 non-null  uint8  \n",
      " 13  is_playoff             157336 non-null  uint8  \n",
      " 14  is_overtime            157336 non-null  uint8  \n",
      " 15  is_event_team_home     157336 non-null  uint8  \n",
      " 16  is_rebound             157336 non-null  uint8  \n",
      " 17  is_extra_attacker      157336 non-null  uint8  \n",
      " 18  is_empty_net           157336 non-null  uint8  \n",
      " 19  is_goal                157336 non-null  uint8  \n",
      " 20  period                 157336 non-null  uint8  \n",
      " 21  players_shooting       157336 non-null  uint8  \n",
      " 22  skaters_shooting       157336 non-null  uint8  \n",
      " 23  fwds_shooting          157336 non-null  uint8  \n",
      " 24  players_defending      157336 non-null  uint8  \n",
      " 25  skaters_defending      157336 non-null  uint8  \n",
      " 26  fwds_defending         157336 non-null  uint8  \n",
      "dtypes: float64(3), uint8(24)\n",
      "memory usage: 8.4 MB\n"
     ]
    }
   ],
   "source": [
    "shot_frame.info()"
   ]
  },
  {
   "cell_type": "markdown",
   "metadata": {},
   "source": [
    "Three continuous variables (`seconds_remaining`, `calc_dist`, and `calc_angle`) are included and will need to be scaled. The first of these is technically discrete but can be treated as continuous as it represents time on a scale with a maximum of 1200 seconds. The variable `calc_angle` will be scaled by MaxAbsScaler, the remaining variables by MinMaxScaler."
   ]
  },
  {
   "cell_type": "code",
   "execution_count": 28,
   "metadata": {},
   "outputs": [],
   "source": [
    "# shot_frame[['seconds_remaining', 'event_coord_x', 'event_coord_y']].describe().T"
   ]
  },
  {
   "cell_type": "code",
   "execution_count": 29,
   "metadata": {},
   "outputs": [
    {
     "data": {
      "text/html": [
       "<div>\n",
       "<style scoped>\n",
       "    .dataframe tbody tr th:only-of-type {\n",
       "        vertical-align: middle;\n",
       "    }\n",
       "\n",
       "    .dataframe tbody tr th {\n",
       "        vertical-align: top;\n",
       "    }\n",
       "\n",
       "    .dataframe thead th {\n",
       "        text-align: right;\n",
       "    }\n",
       "</style>\n",
       "<table border=\"1\" class=\"dataframe\">\n",
       "  <thead>\n",
       "    <tr style=\"text-align: right;\">\n",
       "      <th></th>\n",
       "      <th>count</th>\n",
       "      <th>mean</th>\n",
       "      <th>std</th>\n",
       "      <th>min</th>\n",
       "      <th>25%</th>\n",
       "      <th>50%</th>\n",
       "      <th>75%</th>\n",
       "      <th>max</th>\n",
       "    </tr>\n",
       "  </thead>\n",
       "  <tbody>\n",
       "    <tr>\n",
       "      <th>seconds_remaining</th>\n",
       "      <td>157336.0</td>\n",
       "      <td>591.966301</td>\n",
       "      <td>347.854231</td>\n",
       "      <td>0.0</td>\n",
       "      <td>286.000000</td>\n",
       "      <td>595.000000</td>\n",
       "      <td>895.000000</td>\n",
       "      <td>1200.000000</td>\n",
       "    </tr>\n",
       "    <tr>\n",
       "      <th>calc_dist</th>\n",
       "      <td>157336.0</td>\n",
       "      <td>34.341196</td>\n",
       "      <td>22.904572</td>\n",
       "      <td>0.0</td>\n",
       "      <td>17.691806</td>\n",
       "      <td>30.594117</td>\n",
       "      <td>46.572524</td>\n",
       "      <td>189.654950</td>\n",
       "    </tr>\n",
       "    <tr>\n",
       "      <th>calc_angle</th>\n",
       "      <td>157336.0</td>\n",
       "      <td>-0.656727</td>\n",
       "      <td>34.655760</td>\n",
       "      <td>-180.0</td>\n",
       "      <td>-26.565051</td>\n",
       "      <td>0.000000</td>\n",
       "      <td>25.740708</td>\n",
       "      <td>159.443955</td>\n",
       "    </tr>\n",
       "  </tbody>\n",
       "</table>\n",
       "</div>"
      ],
      "text/plain": [
       "                      count        mean         std    min         25%  \\\n",
       "seconds_remaining  157336.0  591.966301  347.854231    0.0  286.000000   \n",
       "calc_dist          157336.0   34.341196   22.904572    0.0   17.691806   \n",
       "calc_angle         157336.0   -0.656727   34.655760 -180.0  -26.565051   \n",
       "\n",
       "                          50%         75%          max  \n",
       "seconds_remaining  595.000000  895.000000  1200.000000  \n",
       "calc_dist           30.594117   46.572524   189.654950  \n",
       "calc_angle           0.000000   25.740708   159.443955  "
      ]
     },
     "execution_count": 29,
     "metadata": {},
     "output_type": "execute_result"
    }
   ],
   "source": [
    "shot_frame[['seconds_remaining', 'calc_dist', 'calc_angle']].describe().T"
   ]
  },
  {
   "cell_type": "code",
   "execution_count": 30,
   "metadata": {},
   "outputs": [],
   "source": [
    "shot_frame['calc_angle'] = MaxAbsScaler().fit_transform(shot_frame[['calc_angle']])\n",
    "shot_frame['seconds_remaining'] = MinMaxScaler().fit_transform(shot_frame[['seconds_remaining']])\n",
    "shot_frame['calc_dist'] = MinMaxScaler().fit_transform(shot_frame[['calc_dist']])"
   ]
  },
  {
   "cell_type": "code",
   "execution_count": 31,
   "metadata": {},
   "outputs": [
    {
     "data": {
      "text/html": [
       "<div>\n",
       "<style scoped>\n",
       "    .dataframe tbody tr th:only-of-type {\n",
       "        vertical-align: middle;\n",
       "    }\n",
       "\n",
       "    .dataframe tbody tr th {\n",
       "        vertical-align: top;\n",
       "    }\n",
       "\n",
       "    .dataframe thead th {\n",
       "        text-align: right;\n",
       "    }\n",
       "</style>\n",
       "<table border=\"1\" class=\"dataframe\">\n",
       "  <thead>\n",
       "    <tr style=\"text-align: right;\">\n",
       "      <th></th>\n",
       "      <th>count</th>\n",
       "      <th>mean</th>\n",
       "      <th>std</th>\n",
       "      <th>min</th>\n",
       "      <th>25%</th>\n",
       "      <th>50%</th>\n",
       "      <th>75%</th>\n",
       "      <th>max</th>\n",
       "    </tr>\n",
       "  </thead>\n",
       "  <tbody>\n",
       "    <tr>\n",
       "      <th>seconds_remaining</th>\n",
       "      <td>157336.0</td>\n",
       "      <td>0.493305</td>\n",
       "      <td>0.289879</td>\n",
       "      <td>0.0</td>\n",
       "      <td>0.238333</td>\n",
       "      <td>0.495833</td>\n",
       "      <td>0.745833</td>\n",
       "      <td>1.0000</td>\n",
       "    </tr>\n",
       "    <tr>\n",
       "      <th>calc_dist</th>\n",
       "      <td>157336.0</td>\n",
       "      <td>0.181072</td>\n",
       "      <td>0.120770</td>\n",
       "      <td>0.0</td>\n",
       "      <td>0.093284</td>\n",
       "      <td>0.161315</td>\n",
       "      <td>0.245565</td>\n",
       "      <td>1.0000</td>\n",
       "    </tr>\n",
       "    <tr>\n",
       "      <th>calc_angle</th>\n",
       "      <td>157336.0</td>\n",
       "      <td>-0.003648</td>\n",
       "      <td>0.192532</td>\n",
       "      <td>-1.0</td>\n",
       "      <td>-0.147584</td>\n",
       "      <td>0.000000</td>\n",
       "      <td>0.143004</td>\n",
       "      <td>0.8858</td>\n",
       "    </tr>\n",
       "  </tbody>\n",
       "</table>\n",
       "</div>"
      ],
      "text/plain": [
       "                      count      mean       std  min       25%       50%  \\\n",
       "seconds_remaining  157336.0  0.493305  0.289879  0.0  0.238333  0.495833   \n",
       "calc_dist          157336.0  0.181072  0.120770  0.0  0.093284  0.161315   \n",
       "calc_angle         157336.0 -0.003648  0.192532 -1.0 -0.147584  0.000000   \n",
       "\n",
       "                        75%     max  \n",
       "seconds_remaining  0.745833  1.0000  \n",
       "calc_dist          0.245565  1.0000  \n",
       "calc_angle         0.143004  0.8858  "
      ]
     },
     "execution_count": 31,
     "metadata": {},
     "output_type": "execute_result"
    }
   ],
   "source": [
    "shot_frame[['seconds_remaining', 'calc_dist', 'calc_angle']].describe().T"
   ]
  },
  {
   "cell_type": "code",
   "execution_count": 32,
   "metadata": {},
   "outputs": [],
   "source": [
    "current_dir = Path.cwd()\n",
    "relative_path = 'data/compressed_preprocessed.pbz2'\n",
    "frame_path = current_dir.joinpath(relative_path)\n",
    "with bz2.BZ2File(str(frame_path), 'w') as f: \n",
    "    cPickle.dump(shot_frame, f)"
   ]
  },
  {
   "cell_type": "code",
   "execution_count": 33,
   "metadata": {},
   "outputs": [],
   "source": [
    "# y = shot_frame['is_goal']\n",
    "# X = shot_frame.drop(labels=['is_goal'], axis=1)"
   ]
  },
  {
   "cell_type": "code",
   "execution_count": 70,
   "metadata": {},
   "outputs": [],
   "source": [
    "# X_train, X_test, y_train, y_test = train_test_split(X, y, test_size=0.20, stratify=shot_frame['is_goal'],random_state=0)"
   ]
  },
  {
   "cell_type": "code",
   "execution_count": 65,
   "metadata": {},
   "outputs": [],
   "source": [
    "# X_train, X_test, y_train, y_test = train_test_split(X, y, test_size=0.20,random_state=0)"
   ]
  },
  {
   "cell_type": "code",
   "execution_count": 29,
   "metadata": {},
   "outputs": [],
   "source": [
    "# df_map = {'x_train': X_train, 'x_test': X_test, 'y_train': y_train, 'y_test': y_test}\n",
    "# current_dir = Path.cwd()\n",
    "# for name, df in df_map.items():\n",
    "#     relative_path = 'data/preprocessed_' + name + '.pbz2'\n",
    "#     frame_path = current_dir.joinpath(relative_path)\n",
    "#     with bz2.BZ2File(str(frame_path), 'w') as f: \n",
    "#         cPickle.dump(df, f)"
   ]
  }
 ],
 "metadata": {
  "kernelspec": {
   "display_name": "Python 3",
   "language": "python",
   "name": "python3"
  },
  "language_info": {
   "codemirror_mode": {
    "name": "ipython",
    "version": 3
   },
   "file_extension": ".py",
   "mimetype": "text/x-python",
   "name": "python",
   "nbconvert_exporter": "python",
   "pygments_lexer": "ipython3",
   "version": "3.9.1"
  }
 },
 "nbformat": 4,
 "nbformat_minor": 4
}
