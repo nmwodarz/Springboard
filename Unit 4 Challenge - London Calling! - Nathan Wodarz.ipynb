{
 "cells": [
  {
   "cell_type": "markdown",
   "metadata": {
    "colab_type": "text",
    "id": "Tia3MP1SJpgj"
   },
   "source": [
    "# Springboard Data Science Career Track Unit 4 Challenge - Tier 3 Complete\n",
    "\n",
    "## Objectives\n",
    "Hey! Great job getting through those challenging DataCamp courses. You're learning a lot in a short span of time. \n",
    "\n",
    "In this notebook, you're going to apply the skills you've been learning, bridging the gap between the controlled environment of DataCamp and the *slightly* messier work that data scientists do with actual datasets!\n",
    "\n",
    "Here’s the mystery we’re going to solve: ***which boroughs of London have seen the greatest increase in housing prices, on average, over the last two decades?***\n",
    "\n",
    "\n",
    "A borough is just a fancy word for district. You may be familiar with the five boroughs of New York… well, there are 32 boroughs within Greater London [(here's some info for the curious)](https://en.wikipedia.org/wiki/London_boroughs). Some of them are more desirable areas to live in, and the data will reflect that with a greater rise in housing prices.\n",
    "\n",
    "***This is the Tier 3 notebook, which means it's not filled in at all: we'll just give you the skeleton of a project, the brief and the data. It's up to you to play around with it and see what you can find out! Good luck! If you struggle, feel free to look at easier tiers for help; but try to dip in and out of them, as the more independent work you do, the better it is for your learning!***\n",
    "\n",
    "This challenge will make use of only what you learned in the following DataCamp courses: \n",
    "- Prework courses (Introduction to Python for Data Science, Intermediate Python for Data Science)\n",
    "- Data Types for Data Science\n",
    "- Python Data Science Toolbox (Part One) \n",
    "- pandas Foundations\n",
    "- Manipulating DataFrames with pandas\n",
    "- Merging DataFrames with pandas\n",
    "\n",
    "Of the tools, techniques and concepts in the above DataCamp courses, this challenge should require the application of the following: \n",
    "- **pandas**\n",
    "    - **data ingestion and inspection** (pandas Foundations, Module One) \n",
    "    - **exploratory data analysis** (pandas Foundations, Module Two)\n",
    "    - **tidying and cleaning** (Manipulating DataFrames with pandas, Module Three) \n",
    "    - **transforming DataFrames** (Manipulating DataFrames with pandas, Module One)\n",
    "    - **subsetting DataFrames with lists** (Manipulating DataFrames with pandas, Module One) \n",
    "    - **filtering DataFrames** (Manipulating DataFrames with pandas, Module One) \n",
    "    - **grouping data** (Manipulating DataFrames with pandas, Module Four) \n",
    "    - **melting data** (Manipulating DataFrames with pandas, Module Three) \n",
    "    - **advanced indexing** (Manipulating DataFrames with pandas, Module Four) \n",
    "- **matplotlib** (Intermediate Python for Data Science, Module One)\n",
    "- **fundamental data types** (Data Types for Data Science, Module One) \n",
    "- **dictionaries** (Intermediate Python for Data Science, Module Two)\n",
    "- **handling dates and times** (Data Types for Data Science, Module Four)\n",
    "- **function definition** (Python Data Science Toolbox - Part One, Module One)\n",
    "- **default arguments, variable length, and scope** (Python Data Science Toolbox - Part One, Module Two) \n",
    "- **lambda functions and error handling** (Python Data Science Toolbox - Part One, Module Four) "
   ]
  },
  {
   "cell_type": "markdown",
   "metadata": {
    "colab_type": "text",
    "id": "Ipgd2nV8Jpgl"
   },
   "source": [
    "## The Data Science Pipeline\n",
    "\n",
    "This is Tier Three, so we'll get you started. But after that, it's all in your hands! When you feel done with your investigations, look back over what you've accomplished, and prepare a quick presentation of your findings for the next mentor meeting. \n",
    "\n",
    "Data Science is magical. In this case study, you'll get to apply some complex machine learning algorithms. But as  [David Spiegelhalter](https://www.youtube.com/watch?v=oUs1uvsz0Ok) reminds us, there is no substitute for simply **taking a really, really good look at the data.** Sometimes, this is all we need to answer our question.\n",
    "\n",
    "Data Science projects generally adhere to the four stages of Data Science Pipeline:\n",
    "1. Sourcing and loading \n",
    "2. Cleaning, transforming, and visualizing \n",
    "3. Modeling \n",
    "4. Evaluating and concluding \n"
   ]
  },
  {
   "cell_type": "markdown",
   "metadata": {
    "colab_type": "text",
    "id": "zswDqbefJpgm"
   },
   "source": [
    "### 1. Sourcing and Loading \n",
    "\n",
    "Any Data Science project kicks off by importing  ***pandas***. The documentation of this wonderful library can be found [here](https://pandas.pydata.org/). As you've seen, pandas is conveniently connected to the [Numpy](http://www.numpy.org/) and [Matplotlib](https://matplotlib.org/) libraries. \n",
    "\n",
    "***Hint:*** This part of the data science pipeline will test those skills you acquired in the pandas Foundations course, Module One. "
   ]
  },
  {
   "cell_type": "markdown",
   "metadata": {
    "colab_type": "text",
    "id": "aEau5nEvJpgm"
   },
   "source": [
    "#### 1.1. Importing Libraries"
   ]
  },
  {
   "cell_type": "code",
   "execution_count": 1,
   "metadata": {
    "colab": {},
    "colab_type": "code",
    "id": "7Bt_Q_oPJpgn"
   },
   "outputs": [],
   "source": [
    "# Let's import the pandas, numpy libraries as pd, and np respectively. \n",
    "import pandas as pd\n",
    "import numpy as np\n",
    "\n",
    "# Load the pyplot collection of functions from matplotlib, as plt \n",
    "from matplotlib import pyplot as plt"
   ]
  },
  {
   "cell_type": "markdown",
   "metadata": {
    "colab_type": "text",
    "id": "koUrawxsJpgq"
   },
   "source": [
    "#### 1.2.  Loading the data\n",
    "Your data comes from the [London Datastore](https://data.london.gov.uk/): a free, open-source data-sharing portal for London-oriented datasets. "
   ]
  },
  {
   "cell_type": "code",
   "execution_count": 2,
   "metadata": {
    "colab": {},
    "colab_type": "code",
    "id": "AiLiD4v3Jpgr"
   },
   "outputs": [],
   "source": [
    "# First, make a variable called url_LondonHousePrices, and assign it the following link, enclosed in quotation-marks as a string:\n",
    "# https://data.london.gov.uk/download/uk-house-price-index/70ac0766-8902-4eb5-aab5-01951aaed773/UK%20House%20price%20index.xls\n",
    "\n",
    "url_LondonHousePrices = \"https://data.london.gov.uk/download/uk-house-price-index/70ac0766-8902-4eb5-aab5-01951aaed773/UK%20House%20price%20index.xls\"\n",
    "\n",
    "# The dataset we're interested in contains the Average prices of the houses, and is actually on a particular sheet of the Excel file. \n",
    "# As a result, we need to specify the sheet name in the read_excel() method.\n",
    "# Put this data into a variable called properties.  \n",
    "properties = pd.read_excel(url_LondonHousePrices, sheet_name='Average price', index_col= None)"
   ]
  },
  {
   "cell_type": "markdown",
   "metadata": {
    "colab_type": "text",
    "id": "POukEJXgJpgu"
   },
   "source": [
    "### 2. Cleaning, transforming, and visualizing\n",
    "This second stage is arguably the most important part of any Data Science project. The first thing to do is take a proper look at the data. Cleaning forms the majority of this stage, and can be done both before or after Transformation.\n",
    "\n",
    "The end goal of data cleaning is to have tidy data. When data is tidy: \n",
    "\n",
    "1. Each variable has a column.\n",
    "2. Each observation forms a row.\n",
    "\n",
    "Keep the end goal in mind as you move through this process, every step will take you closer. \n",
    "\n",
    "\n",
    "\n",
    "***Hint:*** This part of the data science pipeline should test those skills you acquired in: \n",
    "- Intermediate Python for data science, all modules.\n",
    "- pandas Foundations, all modules. \n",
    "- Manipulating DataFrames with pandas, all modules.\n",
    "- Data Types for Data Science, Module Four.\n",
    "- Python Data Science Toolbox - Part One, all modules"
   ]
  },
  {
   "cell_type": "markdown",
   "metadata": {
    "colab_type": "text",
    "id": "Te0Q548tnzZa"
   },
   "source": [
    "**2.1. Exploring your data** \n",
    "\n",
    "Think about your pandas functions for checking out a dataframe. "
   ]
  },
  {
   "cell_type": "code",
   "execution_count": 3,
   "metadata": {
    "colab": {},
    "colab_type": "code",
    "id": "Rxirxw_qoAJa",
    "scrolled": true
   },
   "outputs": [
    {
     "name": "stdout",
     "output_type": "stream",
     "text": [
      "  Unnamed: 0 City of London Barking & Dagenham     Barnet     Bexley  \\\n",
      "0        NaT      E09000001          E09000002  E09000003  E09000004   \n",
      "1 1995-01-01          91449            50460.2    93284.5    64958.1   \n",
      "2 1995-02-01        82202.8            51085.8    93190.2    64787.9   \n",
      "3 1995-03-01        79120.7              51269    92247.5    64367.5   \n",
      "4 1995-04-01        77101.2            53133.5    90762.9    64277.7   \n",
      "\n",
      "       Brent    Bromley     Camden    Croydon     Ealing  ... NORTH WEST  \\\n",
      "0  E09000005  E09000006  E09000007  E09000008  E09000009  ...  E12000002   \n",
      "1    71306.6    81671.5     120933    69158.2    79885.9  ...    43958.5   \n",
      "2    72022.3    81657.6     119509    68951.1    80897.1  ...    43925.4   \n",
      "3    72015.8    81449.3     120282    68712.4    81379.9  ...    44434.9   \n",
      "4    72965.6    81124.4     120098      68610    82188.9  ...    44267.8   \n",
      "\n",
      "  YORKS & THE HUMBER EAST MIDLANDS WEST MIDLANDS EAST OF ENGLAND     LONDON  \\\n",
      "0          E12000003     E12000004     E12000005       E12000006  E12000007   \n",
      "1            44803.4       45544.5       48527.5         56701.6    74435.8   \n",
      "2            44528.8       46051.6       49341.3         56593.6    72777.9   \n",
      "3            45200.5       45383.8       49442.2         56171.2    73896.8   \n",
      "4            45614.3       46124.2       49455.9         56567.9    74455.3   \n",
      "\n",
      "  SOUTH EAST SOUTH WEST Unnamed: 47    England  \n",
      "0  E12000008  E12000009         NaN  E92000001  \n",
      "1    64018.9    54705.2         NaN    53202.8  \n",
      "2      63715    54356.1         NaN    53096.2  \n",
      "3    64113.6    53583.1         NaN    53201.3  \n",
      "4    64623.2      54786         NaN    53590.9  \n",
      "\n",
      "[5 rows x 49 columns]\n"
     ]
    }
   ],
   "source": [
    "# Examining format of data\n",
    "print(properties.head())"
   ]
  },
  {
   "cell_type": "markdown",
   "metadata": {
    "colab_type": "text",
    "id": "tE9Sqt9-oAta"
   },
   "source": [
    "**2.2. Cleaning the data**\n",
    "\n",
    "You might find you need to transpose your dataframe, check out what its row indexes are, and reset the index. You  also might find you need to assign the values of the first row to your column headings  . (Hint: recall the .columns feature of DataFrames, as well as the iloc[] method).\n",
    "\n",
    "Don't be afraid to use StackOverflow for help  with this."
   ]
  },
  {
   "cell_type": "code",
   "execution_count": 4,
   "metadata": {
    "colab": {},
    "colab_type": "code",
    "id": "cdAu1A3YoH_r"
   },
   "outputs": [
    {
     "name": "stdout",
     "output_type": "stream",
     "text": [
      "Unnamed: 0               index 1995-01-01 00:00:00 1995-02-01 00:00:00  \\\n",
      "0               City of London               91449             82202.8   \n",
      "1           Barking & Dagenham             50460.2             51085.8   \n",
      "2                       Barnet             93284.5             93190.2   \n",
      "3                       Bexley             64958.1             64787.9   \n",
      "4                        Brent             71306.6             72022.3   \n",
      "\n",
      "Unnamed: 0 1995-03-01 00:00:00 1995-04-01 00:00:00 1995-05-01 00:00:00  \\\n",
      "0                      79120.7             77101.2             84409.1   \n",
      "1                        51269             53133.5             53042.2   \n",
      "2                      92247.5             90762.9               90258   \n",
      "3                      64367.5             64277.7             63997.1   \n",
      "4                      72015.8             72965.6               73704   \n",
      "\n",
      "Unnamed: 0 1995-06-01 00:00:00 1995-07-01 00:00:00 1995-08-01 00:00:00  \\\n",
      "0                      94900.5              110128              112329   \n",
      "1                      53700.3             52113.1             52232.2   \n",
      "2                      90107.2             91441.2             92361.3   \n",
      "3                      64252.3             63722.7             64432.6   \n",
      "4                      74310.5               74127               73547   \n",
      "\n",
      "Unnamed: 0 1995-09-01 00:00:00  ... 2019-11-01 00:00:00 2019-12-01 00:00:00  \\\n",
      "0                       104473  ...              776894              737275   \n",
      "1                      51471.6  ...              306390              301283   \n",
      "2                      93273.1  ...              522639              519306   \n",
      "3                      64509.5  ...              333657              336302   \n",
      "4                      73789.5  ...              432188              427126   \n",
      "\n",
      "Unnamed: 0 2020-01-01 00:00:00 2020-02-01 00:00:00 2020-03-01 00:00:00  \\\n",
      "0                       747611              777640              844989   \n",
      "1                       303653              304265              304099   \n",
      "2                       518542              519121              527747   \n",
      "3                       334765              337760              339215   \n",
      "4                       423161              467145              461398   \n",
      "\n",
      "Unnamed: 0 2020-04-01 00:00:00 2020-05-01 00:00:00 2020-06-01 00:00:00  \\\n",
      "0                       867841              899831              938833   \n",
      "1                       283139              295744              300595   \n",
      "2                       526553              532503              519064   \n",
      "3                       346840              339408              341611   \n",
      "4                       494455              466574              487237   \n",
      "\n",
      "Unnamed: 0 2020-07-01 00:00:00 2020-08-01 00:00:00  \n",
      "0                       852151              814665  \n",
      "1                       304223              302395  \n",
      "2                       524400              522846  \n",
      "3                       344964              350938  \n",
      "4                       481094              487949  \n",
      "\n",
      "[5 rows x 309 columns]\n"
     ]
    }
   ],
   "source": [
    "# We would ultimately like a format where the columns are ID, Average Price, Month, and London Borough.\n",
    "# This will first require transposing the data frame, relabelling, and melting.\n",
    "properties = properties.transpose()\n",
    "# After transposition, most (but not all) columns correspond to dates.\n",
    "properties.columns = properties.iloc[0]\n",
    "properties = properties.drop(properties.index[0])\n",
    "properties = properties.drop(columns=[pd.NaT]).reset_index()\n",
    "print(properties.head())"
   ]
  },
  {
   "cell_type": "markdown",
   "metadata": {
    "colab_type": "text",
    "id": "o1uLbJAsoIjK"
   },
   "source": [
    "**2.3. Cleaning the data (part 2)**\n",
    "\n",
    "You might we have to **rename** a couple columns. How do you do this? The clue's pretty bold..."
   ]
  },
  {
   "cell_type": "code",
   "execution_count": 5,
   "metadata": {
    "colab": {},
    "colab_type": "code",
    "id": "GKkmn1AnoVZS"
   },
   "outputs": [
    {
     "name": "stdout",
     "output_type": "stream",
     "text": [
      "Unnamed: 0      London Borough 1995-01-01 00:00:00 1995-02-01 00:00:00  \\\n",
      "0               City of London               91449             82202.8   \n",
      "1           Barking & Dagenham             50460.2             51085.8   \n",
      "2                       Barnet             93284.5             93190.2   \n",
      "3                       Bexley             64958.1             64787.9   \n",
      "4                        Brent             71306.6             72022.3   \n",
      "\n",
      "Unnamed: 0 1995-03-01 00:00:00 1995-04-01 00:00:00 1995-05-01 00:00:00  \\\n",
      "0                      79120.7             77101.2             84409.1   \n",
      "1                        51269             53133.5             53042.2   \n",
      "2                      92247.5             90762.9               90258   \n",
      "3                      64367.5             64277.7             63997.1   \n",
      "4                      72015.8             72965.6               73704   \n",
      "\n",
      "Unnamed: 0 1995-06-01 00:00:00 1995-07-01 00:00:00 1995-08-01 00:00:00  \\\n",
      "0                      94900.5              110128              112329   \n",
      "1                      53700.3             52113.1             52232.2   \n",
      "2                      90107.2             91441.2             92361.3   \n",
      "3                      64252.3             63722.7             64432.6   \n",
      "4                      74310.5               74127               73547   \n",
      "\n",
      "Unnamed: 0 1995-09-01 00:00:00  ... 2019-11-01 00:00:00 2019-12-01 00:00:00  \\\n",
      "0                       104473  ...              776894              737275   \n",
      "1                      51471.6  ...              306390              301283   \n",
      "2                      93273.1  ...              522639              519306   \n",
      "3                      64509.5  ...              333657              336302   \n",
      "4                      73789.5  ...              432188              427126   \n",
      "\n",
      "Unnamed: 0 2020-01-01 00:00:00 2020-02-01 00:00:00 2020-03-01 00:00:00  \\\n",
      "0                       747611              777640              844989   \n",
      "1                       303653              304265              304099   \n",
      "2                       518542              519121              527747   \n",
      "3                       334765              337760              339215   \n",
      "4                       423161              467145              461398   \n",
      "\n",
      "Unnamed: 0 2020-04-01 00:00:00 2020-05-01 00:00:00 2020-06-01 00:00:00  \\\n",
      "0                       867841              899831              938833   \n",
      "1                       283139              295744              300595   \n",
      "2                       526553              532503              519064   \n",
      "3                       346840              339408              341611   \n",
      "4                       494455              466574              487237   \n",
      "\n",
      "Unnamed: 0 2020-07-01 00:00:00 2020-08-01 00:00:00  \n",
      "0                       852151              814665  \n",
      "1                       304223              302395  \n",
      "2                       524400              522846  \n",
      "3                       344964              350938  \n",
      "4                       481094              487949  \n",
      "\n",
      "[5 rows x 309 columns]\n"
     ]
    }
   ],
   "source": [
    "properties = properties.rename(columns={'index': 'London Borough'})\n",
    "print(properties.head())"
   ]
  },
  {
   "cell_type": "code",
   "execution_count": 6,
   "metadata": {},
   "outputs": [
    {
     "name": "stdout",
     "output_type": "stream",
     "text": [
      "0           City of London\n",
      "1       Barking & Dagenham\n",
      "2                   Barnet\n",
      "3                   Bexley\n",
      "4                    Brent\n",
      "5                  Bromley\n",
      "6                   Camden\n",
      "7                  Croydon\n",
      "8                   Ealing\n",
      "9                  Enfield\n",
      "10               Greenwich\n",
      "11                 Hackney\n",
      "12    Hammersmith & Fulham\n",
      "13                Haringey\n",
      "14                  Harrow\n",
      "15                Havering\n",
      "16              Hillingdon\n",
      "17                Hounslow\n",
      "18               Islington\n",
      "19    Kensington & Chelsea\n",
      "20    Kingston upon Thames\n",
      "21                 Lambeth\n",
      "22                Lewisham\n",
      "23                  Merton\n",
      "24                  Newham\n",
      "25               Redbridge\n",
      "26    Richmond upon Thames\n",
      "27               Southwark\n",
      "28                  Sutton\n",
      "29           Tower Hamlets\n",
      "30          Waltham Forest\n",
      "31              Wandsworth\n",
      "32             Westminster\n",
      "33             Unnamed: 34\n",
      "34            Inner London\n",
      "35            Outer London\n",
      "36             Unnamed: 37\n",
      "37              NORTH EAST\n",
      "38              NORTH WEST\n",
      "39      YORKS & THE HUMBER\n",
      "40           EAST MIDLANDS\n",
      "41           WEST MIDLANDS\n",
      "42         EAST OF ENGLAND\n",
      "43                  LONDON\n",
      "44              SOUTH EAST\n",
      "45              SOUTH WEST\n",
      "46             Unnamed: 47\n",
      "47                 England\n",
      "Name: London Borough, dtype: object\n"
     ]
    }
   ],
   "source": [
    "# There are too many rows in the table, as the 'London Borough' column includes values outside London and empty rows.\n",
    "print(properties['London Borough'])"
   ]
  },
  {
   "cell_type": "code",
   "execution_count": 7,
   "metadata": {},
   "outputs": [
    {
     "name": "stdout",
     "output_type": "stream",
     "text": [
      "0           City of London\n",
      "1       Barking & Dagenham\n",
      "2                   Barnet\n",
      "3                   Bexley\n",
      "4                    Brent\n",
      "5                  Bromley\n",
      "6                   Camden\n",
      "7                  Croydon\n",
      "8                   Ealing\n",
      "9                  Enfield\n",
      "10               Greenwich\n",
      "11                 Hackney\n",
      "12    Hammersmith & Fulham\n",
      "13                Haringey\n",
      "14                  Harrow\n",
      "15                Havering\n",
      "16              Hillingdon\n",
      "17                Hounslow\n",
      "18               Islington\n",
      "19    Kensington & Chelsea\n",
      "20    Kingston upon Thames\n",
      "21                 Lambeth\n",
      "22                Lewisham\n",
      "23                  Merton\n",
      "24                  Newham\n",
      "25               Redbridge\n",
      "26    Richmond upon Thames\n",
      "27               Southwark\n",
      "28                  Sutton\n",
      "29           Tower Hamlets\n",
      "30          Waltham Forest\n",
      "31              Wandsworth\n",
      "32             Westminster\n",
      "Name: London Borough, dtype: object\n"
     ]
    }
   ],
   "source": [
    "# Everything from index 33 on is unneeded.\n",
    "properties = properties[0:33]\n",
    "print(properties['London Borough'])"
   ]
  },
  {
   "cell_type": "markdown",
   "metadata": {
    "colab_type": "text",
    "id": "jy8BzXHmoWEw"
   },
   "source": [
    "**2.4.Transforming the data**\n",
    "\n",
    "Remember what Wes McKinney said about tidy data? \n",
    "\n",
    "You might need to **melt** your DataFrame here. "
   ]
  },
  {
   "cell_type": "code",
   "execution_count": 8,
   "metadata": {
    "colab": {},
    "colab_type": "code",
    "id": "S2wM0qLuo2Zt"
   },
   "outputs": [
    {
     "name": "stdout",
     "output_type": "stream",
     "text": [
      "        London Borough      Month Average Price\n",
      "ID                                             \n",
      "0       City of London 1995-01-01         91449\n",
      "1   Barking & Dagenham 1995-01-01       50460.2\n",
      "2               Barnet 1995-01-01       93284.5\n",
      "3               Bexley 1995-01-01       64958.1\n",
      "4                Brent 1995-01-01       71306.6\n"
     ]
    }
   ],
   "source": [
    "properties = properties.melt(id_vars=['London Borough'], value_vars=properties.columns.to_list()[1:], var_name='Month', value_name='Average Price')\n",
    "properties.index.name = 'ID'\n",
    "print(properties.head())"
   ]
  },
  {
   "cell_type": "markdown",
   "metadata": {
    "colab_type": "text",
    "id": "7kIsgAo7o3mf"
   },
   "source": [
    "Remember to make sure your column data types are all correct. Average prices, for example, should be floating point numbers... "
   ]
  },
  {
   "cell_type": "code",
   "execution_count": 9,
   "metadata": {
    "colab": {},
    "colab_type": "code",
    "id": "ZcR4IHbcpOaq"
   },
   "outputs": [
    {
     "name": "stdout",
     "output_type": "stream",
     "text": [
      "<class 'pandas.core.frame.DataFrame'>\n",
      "RangeIndex: 10164 entries, 0 to 10163\n",
      "Data columns (total 3 columns):\n",
      " #   Column          Non-Null Count  Dtype         \n",
      "---  ------          --------------  -----         \n",
      " 0   London Borough  10164 non-null  object        \n",
      " 1   Month           10164 non-null  datetime64[ns]\n",
      " 2   Average Price   10164 non-null  object        \n",
      "dtypes: datetime64[ns](1), object(2)\n",
      "memory usage: 238.3+ KB\n",
      "None\n"
     ]
    }
   ],
   "source": [
    "print(properties.info())"
   ]
  },
  {
   "cell_type": "code",
   "execution_count": 10,
   "metadata": {},
   "outputs": [
    {
     "name": "stdout",
     "output_type": "stream",
     "text": [
      "<class 'pandas.core.frame.DataFrame'>\n",
      "RangeIndex: 10164 entries, 0 to 10163\n",
      "Data columns (total 3 columns):\n",
      " #   Column          Non-Null Count  Dtype         \n",
      "---  ------          --------------  -----         \n",
      " 0   London Borough  10164 non-null  object        \n",
      " 1   Month           10164 non-null  datetime64[ns]\n",
      " 2   Average Price   10164 non-null  float64       \n",
      "dtypes: datetime64[ns](1), float64(1), object(1)\n",
      "memory usage: 238.3+ KB\n",
      "None\n"
     ]
    }
   ],
   "source": [
    "# Average Price column should be of type float\n",
    "properties['Average Price'] = properties['Average Price'].astype(float)\n",
    "print(properties.info())"
   ]
  },
  {
   "cell_type": "markdown",
   "metadata": {
    "colab_type": "text",
    "id": "knLUXHLypOtw"
   },
   "source": [
    "#### **2.5. Cleaning the data (part 3)**\n",
    "\n",
    "Do we have an equal number of observations in the ID, Average Price, Month, and London Borough columns? Remember that there are only 32 London Boroughs. How many entries do you have in that column? \n",
    "\n",
    "Check out the contents of the London Borough column, and if you find null values, get rid of them however you see fit. "
   ]
  },
  {
   "cell_type": "code",
   "execution_count": 11,
   "metadata": {
    "colab": {},
    "colab_type": "code",
    "id": "BnvTW5a3p0fC"
   },
   "outputs": [
    {
     "name": "stdout",
     "output_type": "stream",
     "text": [
      "count      10164\n",
      "unique        33\n",
      "top       Newham\n",
      "freq         308\n",
      "Name: London Borough, dtype: object\n"
     ]
    }
   ],
   "source": [
    "# This work was done in Section 2.3.\n",
    "# We are intentionally keeping 'City of London' as a borough, resulting in an actual count of 33 boroughs.\n",
    "print(properties['London Borough'].describe())"
   ]
  },
  {
   "cell_type": "code",
   "execution_count": 12,
   "metadata": {},
   "outputs": [
    {
     "name": "stdout",
     "output_type": "stream",
     "text": [
      "True\n"
     ]
    }
   ],
   "source": [
    "# Quick check to make sure that each of the boroughs has the correct number of entries.\n",
    "print(10164.0 / 33.0 == 308.0)"
   ]
  },
  {
   "cell_type": "markdown",
   "metadata": {
    "colab_type": "text",
    "id": "PGEx6mJsp6dG"
   },
   "source": [
    "**2.6. Visualizing the data**\n",
    "\n",
    "To visualize the data, why not subset on a particular London Borough? Maybe do a line plot of Month against Average Price?"
   ]
  },
  {
   "cell_type": "code",
   "execution_count": 13,
   "metadata": {
    "colab": {},
    "colab_type": "code",
    "id": "nAg5pT9cqHAR"
   },
   "outputs": [
    {
     "data": {
      "text/plain": [
       "<matplotlib.axes._subplots.AxesSubplot at 0x1c1e44d8580>"
      ]
     },
     "execution_count": 13,
     "metadata": {},
     "output_type": "execute_result"
    },
    {
     "data": {
      "image/png": "[encoded data removed]",
      "text/plain": [
       "<Figure size 432x288 with 1 Axes>"
      ]
     },
     "metadata": {
      "needs_background": "light"
     },
     "output_type": "display_data"
    }
   ],
   "source": [
    "properties[properties['London Borough'] == 'Barking & Dagenham'].plot(kind='line', x='Month', y='Average Price')"
   ]
  },
  {
   "cell_type": "markdown",
   "metadata": {
    "colab_type": "text",
    "id": "aWTPqSJeqHnC"
   },
   "source": [
    "To limit the number of data points you have, you might want to extract the year from every month value your *Month* column. \n",
    "\n",
    "To this end, you *could* apply a ***lambda function***. Your logic could work as follows:\n",
    "1. look through the `Month` column\n",
    "2. extract the year from each individual value in that column \n",
    "3. store that corresponding year as separate column. \n",
    "\n",
    "Whether you go ahead with this is up to you. Just so long as you answer our initial brief: which boroughs of London have seen the greatest house price increase, on average, over the past two decades? "
   ]
  },
  {
   "cell_type": "code",
   "execution_count": 14,
   "metadata": {
    "colab": {},
    "colab_type": "code",
    "id": "e0DF92cyqnu8"
   },
   "outputs": [
    {
     "data": {
      "text/plain": [
       "<matplotlib.axes._subplots.AxesSubplot at 0x1c1e46567f0>"
      ]
     },
     "execution_count": 14,
     "metadata": {},
     "output_type": "execute_result"
    },
    {
     "data": {
      "image/png": "[encoded data removed]",
      "text/plain": [
       "<Figure size 432x288 with 1 Axes>"
      ]
     },
     "metadata": {
      "needs_background": "light"
     },
     "output_type": "display_data"
    }
   ],
   "source": [
    "# Extract yearly data from the data frame. We aggregate over each year by taking the mean of the monthly prices for that year\n",
    "properties['Year'] = properties.apply(lambda x: x['Month'].year, axis=1)\n",
    "properties = properties.groupby(['London Borough', 'Year']).mean()\n",
    "properties = properties.reset_index()\n",
    "properties[properties['London Borough'] == 'Barking & Dagenham'].plot(kind='line', x='Year', y='Average Price')"
   ]
  },
  {
   "cell_type": "markdown",
   "metadata": {
    "colab_type": "text",
    "id": "2knuTxAEqoJ4"
   },
   "source": [
    "**3. Modeling**\n",
    "\n",
    "Consider creating a function that will calculate a ratio of house prices, comparing the price of a house in 2018 to the price in 1998.\n",
    "\n",
    "Consider calling this function create_price_ratio.\n",
    "\n",
    "You'd want this function to:\n",
    "1. Take a filter of dfg, specifically where this filter constrains the London_Borough, as an argument. For example, one admissible argument should be: dfg[dfg['London_Borough']=='Camden'].\n",
    "2. Get the Average Price for that Borough, for the years 1998 and 2018.\n",
    "4. Calculate the ratio of the Average Price for 1998 divided by the Average Price for 2018.\n",
    "5. Return that ratio.\n",
    "\n",
    "Once you've written this function, you ultimately want to use it to iterate through all the unique London_Boroughs and work out the ratio capturing the difference of house prices between 1998 and 2018.\n",
    "\n",
    "Bear in mind: you don't have to write a function like this if you don't want to. If you can solve the brief otherwise, then great! \n",
    "\n",
    "***Hint***: This section should test the skills you acquired in:\n",
    "- Python Data Science Toolbox - Part One, all modules"
   ]
  },
  {
   "cell_type": "code",
   "execution_count": 15,
   "metadata": {
    "colab": {},
    "colab_type": "code",
    "id": "cKTyr437UgDa"
   },
   "outputs": [
    {
     "data": {
      "text/plain": [
       "4.89661861291754"
      ]
     },
     "execution_count": 15,
     "metadata": {},
     "output_type": "execute_result"
    }
   ],
   "source": [
    "# We create the function as indicated, but allow the beginning and end dates to be adjusted.\n",
    "def create_price_ratio(borough_name, first_year=1998, last_year=2018):\n",
    "    \"\"\"\n",
    "    Finds the ratio of the average house price in the London borough borough_name between years first_year and last_year\n",
    "    \"\"\"\n",
    "    my_df = properties[properties['London Borough']==borough_name]\n",
    "    my_first_price = my_df[my_df['Year'] == first_year].iloc[0]['Average Price']\n",
    "    my_last_price = my_df[my_df['Year'] == last_year].iloc[0]['Average Price']\n",
    "    return (my_last_price / my_first_price)\n",
    "create_price_ratio('Barking & Dagenham')\n"
   ]
  },
  {
   "cell_type": "code",
   "execution_count": 16,
   "metadata": {},
   "outputs": [
    {
     "name": "stdout",
     "output_type": "stream",
     "text": [
      "         London Boroughs  Price Ratio\n",
      "0                Hackney     6.198286\n",
      "1         Waltham Forest     5.834756\n",
      "2              Southwark     5.516485\n",
      "3               Lewisham     5.449221\n",
      "4            Westminster     5.353565\n",
      "5                 Newham     5.305390\n",
      "6         City of London     5.301620\n",
      "7               Haringey     5.134625\n",
      "8   Kensington & Chelsea     5.082465\n",
      "9                Lambeth     4.957751\n",
      "10                Camden     4.935353\n",
      "11    Barking & Dagenham     4.896619\n",
      "12                 Brent     4.894554\n",
      "13             Islington     4.844048\n",
      "14             Greenwich     4.763036\n",
      "15            Wandsworth     4.757709\n",
      "16                Merton     4.741273\n",
      "17         Tower Hamlets     4.626701\n",
      "18             Redbridge     4.471182\n",
      "19                Barnet     4.358196\n",
      "20              Havering     4.325230\n",
      "21                Ealing     4.311451\n",
      "22  Kingston upon Thames     4.270550\n",
      "23               Enfield     4.263472\n",
      "24                Bexley     4.248977\n",
      "25               Croydon     4.201100\n",
      "26            Hillingdon     4.200273\n",
      "27  Hammersmith & Fulham     4.137798\n",
      "28                Sutton     4.118523\n",
      "29               Bromley     4.094785\n",
      "30                Harrow     4.059196\n",
      "31  Richmond upon Thames     4.005162\n",
      "32              Hounslow     3.976409\n"
     ]
    }
   ],
   "source": [
    "# Only want to use unique values in London Borough names\n",
    "borough_names = properties['London Borough'].unique()\n",
    "# Use the borough list to create the price ratio list.\n",
    "borough_ratios = []\n",
    "for boro in borough_names:\n",
    "    borough_ratios.append(create_price_ratio(boro))\n",
    "# Create an appropriate data frame and sort.\n",
    "price_ratios = pd.DataFrame(data=borough_ratios, index=borough_names, columns=['Price Ratio'])\n",
    "price_ratios.index.name = 'London Boroughs'\n",
    "price_ratios = price_ratios.sort_values(by='Price Ratio', ascending=False)\n",
    "price_ratios = price_ratios.reset_index()\n",
    "print(price_ratios)"
   ]
  },
  {
   "cell_type": "markdown",
   "metadata": {
    "colab_type": "text",
    "id": "NzYUI7FxJpgv"
   },
   "source": [
    "### 4. Conclusion\n",
    "What can you conclude? Type out your conclusion below. \n",
    "\n",
    "Look back at your notebook. Think about how you might summarize what you have done, and prepare a quick presentation on it to your mentor at your next meeting. \n",
    "\n",
    "We hope you enjoyed this practical project. It should have consolidated your data hygiene and pandas skills by looking at a real-world problem involving just the kind of dataset you might encounter as a budding data scientist. Congratulations, and looking forward to seeing you at the next step in the course! "
   ]
  },
  {
   "cell_type": "markdown",
   "metadata": {},
   "source": [
    "##### Results\n",
    "The London borough seeing the largest rate of increase in housing prices over the time period from 1998 to 2018 was <b>Hackney</b>, where average prices increased by <b>almost 520%</b>."
   ]
  },
  {
   "cell_type": "code",
   "execution_count": null,
   "metadata": {},
   "outputs": [],
   "source": []
  }
 ],
 "metadata": {
  "colab": {
   "collapsed_sections": [],
   "name": "Springboard Data Science Career Track Unit 4 Challenge - Tier 3 Complete .ipynb",
   "provenance": []
  },
  "kernelspec": {
   "display_name": "Python 3",
   "language": "python",
   "name": "python3"
  },
  "language_info": {
   "codemirror_mode": {
    "name": "ipython",
    "version": 3
   },
   "file_extension": ".py",
   "mimetype": "text/x-python",
   "name": "python",
   "nbconvert_exporter": "python",
   "pygments_lexer": "ipython3",
   "version": "3.8.3"
  }
 },
 "nbformat": 4,
 "nbformat_minor": 1
}
