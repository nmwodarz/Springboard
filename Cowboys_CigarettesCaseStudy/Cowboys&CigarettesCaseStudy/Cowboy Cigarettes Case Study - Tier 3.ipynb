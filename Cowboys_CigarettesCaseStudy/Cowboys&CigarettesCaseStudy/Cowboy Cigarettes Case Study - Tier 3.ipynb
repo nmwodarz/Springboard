{
 "cells": [
  {
   "cell_type": "markdown",
   "metadata": {},
   "source": [
    "# Springboard Time Series - 'Cowboy Cigarettes' Case Study - Tier 3"
   ]
  },
  {
   "cell_type": "markdown",
   "metadata": {},
   "source": [
    "## Brief\n",
    "\n",
    "You're working in the US federal government as a data scientist in the Health and Environment department. You've been tasked with determining whether sales for the oldest and most powerful producers of cigarettes in the country are increasing or declining. \n",
    "\n",
    "**Cowboy Cigarettes (TM, *est.* 1890)** is the US's longest-running cigarette manufacturer. Like many cigarette companies, however, they haven't always been that public about their sales and marketing data. The available post-war historical data runs for only 11 years after they resumed production in 1949; stopping in 1960 before resuming again in 1970. Your job is to use the 1949-1960 data to predict whether the manufacturer's cigarette sales actually increased, decreased, or stayed the same. You need to make a probable reconstruction of the sales record of the manufacturer - predicting the future, from the perspective of the past - to contribute to a full report on US public health in relation to major cigarette companies. \n",
    "\n",
    "The results of your analysis will be used as part of a major report relating public health and local economics, and will be combined with other studies executed by your colleagues to provide important government advice.  \n",
    "\n",
    "-------------------------------\n",
    "As ever, this notebook is **tiered**, meaning you can elect that tier that is right for your confidence and skill level. There are 3 tiers, with tier 1 being the easiest and tier 3 being the hardest.  \n",
    "\n",
    "**1. Sourcing and loading** \n",
    "- Load relevant libraries \n",
    "- Load the data\n",
    "- Explore the data\n",
    "\n",
    " \n",
    "**2. Cleaning, transforming and visualizing**\n",
    "- Dropping unwanted columns\n",
    "- Nomenclature\n",
    "- Type conversions\n",
    "- Making a predictor variable `y` \n",
    "- Getting summary statistics for `y`\n",
    "- Plotting `y`\n",
    "  \n",
    "  \n",
    "**3. Modelling** \n",
    "- Decomposition\n",
    "    - Trend\n",
    "    - Seasonality\n",
    "    - Noise\n",
    "- Testing for stationarity with KPSS\n",
    "- Making the data stationary\n",
    "- The ARIMA Model\n",
    "    - Make a function to find the MSE of a single ARIMA model\n",
    "    - Make a function to evaluate the different ARIMA models with different p, d, and q values\n",
    "- Visualize the results\n",
    "- Application: Forecasting\n",
    "\n",
    "**4. Evaluating and concluding** \n",
    "- What is our conclusion?\n",
    "- Next steps\n",
    "    "
   ]
  },
  {
   "cell_type": "markdown",
   "metadata": {},
   "source": [
    "## 0. Preliminaries \n",
    "\n",
    "Time series data is just any data displaying how a single variable changes over time. It comes as a collection of metrics typically taken at regular intervals. Common examples of time series data include weekly sales data and daily stock prices. You can also easily acquire time series data from [Google Trends](https://trends.google.com/trends/?geo=US), which shows you how popular certain search terms are, measured in number of Google searches. "
   ]
  },
  {
   "cell_type": "markdown",
   "metadata": {},
   "source": [
    "## 1. Sourcing and Loading\n",
    "\n",
    "### 1a. Load relevant libraries "
   ]
  },
  {
   "cell_type": "code",
   "execution_count": 1,
   "metadata": {},
   "outputs": [],
   "source": [
    "import pandas as pd"
   ]
  },
  {
   "cell_type": "markdown",
   "metadata": {},
   "source": [
    "### 1b. Load the data\n",
    "Call the variable `cigData`. "
   ]
  },
  {
   "cell_type": "code",
   "execution_count": 2,
   "metadata": {},
   "outputs": [],
   "source": [
    "cigData = pd.read_csv('CowboyCigsData.csv')"
   ]
  },
  {
   "cell_type": "markdown",
   "metadata": {},
   "source": [
    "### 1c. Explore the data\n",
    "We now need to check whether the data conduces to a time series style analysis."
   ]
  },
  {
   "cell_type": "code",
   "execution_count": 3,
   "metadata": {
    "scrolled": true
   },
   "outputs": [
    {
     "data": {
      "text/html": [
       "<div>\n",
       "<style scoped>\n",
       "    .dataframe tbody tr th:only-of-type {\n",
       "        vertical-align: middle;\n",
       "    }\n",
       "\n",
       "    .dataframe tbody tr th {\n",
       "        vertical-align: top;\n",
       "    }\n",
       "\n",
       "    .dataframe thead th {\n",
       "        text-align: right;\n",
       "    }\n",
       "</style>\n",
       "<table border=\"1\" class=\"dataframe\">\n",
       "  <thead>\n",
       "    <tr style=\"text-align: right;\">\n",
       "      <th></th>\n",
       "      <th>Unnamed: 0</th>\n",
       "      <th>Time</th>\n",
       "      <th>#CigSales</th>\n",
       "    </tr>\n",
       "  </thead>\n",
       "  <tbody>\n",
       "    <tr>\n",
       "      <th>0</th>\n",
       "      <td>0</td>\n",
       "      <td>1949-01</td>\n",
       "      <td>1000112</td>\n",
       "    </tr>\n",
       "    <tr>\n",
       "      <th>1</th>\n",
       "      <td>1</td>\n",
       "      <td>1949-02</td>\n",
       "      <td>1000118</td>\n",
       "    </tr>\n",
       "    <tr>\n",
       "      <th>2</th>\n",
       "      <td>2</td>\n",
       "      <td>1949-03</td>\n",
       "      <td>1000132</td>\n",
       "    </tr>\n",
       "    <tr>\n",
       "      <th>3</th>\n",
       "      <td>3</td>\n",
       "      <td>1949-04</td>\n",
       "      <td>1000129</td>\n",
       "    </tr>\n",
       "    <tr>\n",
       "      <th>4</th>\n",
       "      <td>4</td>\n",
       "      <td>1949-05</td>\n",
       "      <td>1000121</td>\n",
       "    </tr>\n",
       "  </tbody>\n",
       "</table>\n",
       "</div>"
      ],
      "text/plain": [
       "   Unnamed: 0     Time  #CigSales\n",
       "0           0  1949-01    1000112\n",
       "1           1  1949-02    1000118\n",
       "2           2  1949-03    1000132\n",
       "3           3  1949-04    1000129\n",
       "4           4  1949-05    1000121"
      ]
     },
     "execution_count": 3,
     "metadata": {},
     "output_type": "execute_result"
    }
   ],
   "source": [
    "cigData.head()"
   ]
  },
  {
   "cell_type": "markdown",
   "metadata": {},
   "source": [
    "Over a million cigarettes sold in the month of January 1949. This certainly is a popular cigarette brand. "
   ]
  },
  {
   "cell_type": "markdown",
   "metadata": {},
   "source": [
    "Check out the columns feature of the data. How many columns are there? "
   ]
  },
  {
   "cell_type": "code",
   "execution_count": 4,
   "metadata": {},
   "outputs": [
    {
     "data": {
      "text/plain": [
       "Index(['Unnamed: 0', 'Time', '#CigSales'], dtype='object')"
      ]
     },
     "execution_count": 4,
     "metadata": {},
     "output_type": "execute_result"
    }
   ],
   "source": [
    "cigData.columns"
   ]
  },
  {
   "cell_type": "markdown",
   "metadata": {},
   "source": [
    "<span style=\"color:blue\">There are three columns, an index column, a time column (with time given by calendar months) and a sales column.</span>"
   ]
  },
  {
   "cell_type": "markdown",
   "metadata": {},
   "source": [
    "Let's check out the data types of our columns."
   ]
  },
  {
   "cell_type": "code",
   "execution_count": 5,
   "metadata": {
    "scrolled": false
   },
   "outputs": [
    {
     "data": {
      "text/plain": [
       "Unnamed: 0     int64\n",
       "Time          object\n",
       "#CigSales      int64\n",
       "dtype: object"
      ]
     },
     "execution_count": 5,
     "metadata": {},
     "output_type": "execute_result"
    }
   ],
   "source": [
    "cigData.dtypes"
   ]
  },
  {
   "cell_type": "markdown",
   "metadata": {},
   "source": [
    "<span style=\"color:blue\">The index and sales columns are ints, while the time column is an object</span>"
   ]
  },
  {
   "cell_type": "markdown",
   "metadata": {},
   "source": [
    "Check whether there are any null values. "
   ]
  },
  {
   "cell_type": "code",
   "execution_count": 6,
   "metadata": {},
   "outputs": [
    {
     "name": "stdout",
     "output_type": "stream",
     "text": [
      "<class 'pandas.core.frame.DataFrame'>\n",
      "RangeIndex: 144 entries, 0 to 143\n",
      "Data columns (total 3 columns):\n",
      " #   Column      Non-Null Count  Dtype \n",
      "---  ------      --------------  ----- \n",
      " 0   Unnamed: 0  144 non-null    int64 \n",
      " 1   Time        144 non-null    object\n",
      " 2   #CigSales   144 non-null    int64 \n",
      "dtypes: int64(2), object(1)\n",
      "memory usage: 3.5+ KB\n"
     ]
    }
   ],
   "source": [
    "cigData.info()"
   ]
  },
  {
   "cell_type": "code",
   "execution_count": 7,
   "metadata": {},
   "outputs": [
    {
     "data": {
      "text/html": [
       "<div>\n",
       "<style scoped>\n",
       "    .dataframe tbody tr th:only-of-type {\n",
       "        vertical-align: middle;\n",
       "    }\n",
       "\n",
       "    .dataframe tbody tr th {\n",
       "        vertical-align: top;\n",
       "    }\n",
       "\n",
       "    .dataframe thead th {\n",
       "        text-align: right;\n",
       "    }\n",
       "</style>\n",
       "<table border=\"1\" class=\"dataframe\">\n",
       "  <thead>\n",
       "    <tr style=\"text-align: right;\">\n",
       "      <th></th>\n",
       "      <th>Unnamed: 0</th>\n",
       "      <th>#CigSales</th>\n",
       "    </tr>\n",
       "  </thead>\n",
       "  <tbody>\n",
       "    <tr>\n",
       "      <th>count</th>\n",
       "      <td>144.000000</td>\n",
       "      <td>1.440000e+02</td>\n",
       "    </tr>\n",
       "    <tr>\n",
       "      <th>mean</th>\n",
       "      <td>71.500000</td>\n",
       "      <td>1.000280e+06</td>\n",
       "    </tr>\n",
       "    <tr>\n",
       "      <th>std</th>\n",
       "      <td>41.713307</td>\n",
       "      <td>1.199663e+02</td>\n",
       "    </tr>\n",
       "    <tr>\n",
       "      <th>min</th>\n",
       "      <td>0.000000</td>\n",
       "      <td>1.000104e+06</td>\n",
       "    </tr>\n",
       "    <tr>\n",
       "      <th>25%</th>\n",
       "      <td>35.750000</td>\n",
       "      <td>1.000180e+06</td>\n",
       "    </tr>\n",
       "    <tr>\n",
       "      <th>50%</th>\n",
       "      <td>71.500000</td>\n",
       "      <td>1.000266e+06</td>\n",
       "    </tr>\n",
       "    <tr>\n",
       "      <th>75%</th>\n",
       "      <td>107.250000</td>\n",
       "      <td>1.000360e+06</td>\n",
       "    </tr>\n",
       "    <tr>\n",
       "      <th>max</th>\n",
       "      <td>143.000000</td>\n",
       "      <td>1.000622e+06</td>\n",
       "    </tr>\n",
       "  </tbody>\n",
       "</table>\n",
       "</div>"
      ],
      "text/plain": [
       "       Unnamed: 0     #CigSales\n",
       "count  144.000000  1.440000e+02\n",
       "mean    71.500000  1.000280e+06\n",
       "std     41.713307  1.199663e+02\n",
       "min      0.000000  1.000104e+06\n",
       "25%     35.750000  1.000180e+06\n",
       "50%     71.500000  1.000266e+06\n",
       "75%    107.250000  1.000360e+06\n",
       "max    143.000000  1.000622e+06"
      ]
     },
     "execution_count": 7,
     "metadata": {},
     "output_type": "execute_result"
    }
   ],
   "source": [
    "cigData.describe()"
   ]
  },
  {
   "cell_type": "markdown",
   "metadata": {},
   "source": [
    "<span style=\"color:blue\">There are no null entries.</span>"
   ]
  },
  {
   "cell_type": "markdown",
   "metadata": {},
   "source": [
    "## 2. Cleaning, transforming and visualizing"
   ]
  },
  {
   "cell_type": "markdown",
   "metadata": {},
   "source": [
    "### 2a. Dropping unwanted columns\n",
    "We need to cut that `Unnamed: 0` column. Delete it here."
   ]
  },
  {
   "cell_type": "code",
   "execution_count": 8,
   "metadata": {},
   "outputs": [],
   "source": [
    "cigData.drop('Unnamed: 0', axis=1, inplace=True)"
   ]
  },
  {
   "cell_type": "code",
   "execution_count": 9,
   "metadata": {},
   "outputs": [
    {
     "name": "stdout",
     "output_type": "stream",
     "text": [
      "<class 'pandas.core.frame.DataFrame'>\n",
      "RangeIndex: 144 entries, 0 to 143\n",
      "Data columns (total 2 columns):\n",
      " #   Column     Non-Null Count  Dtype \n",
      "---  ------     --------------  ----- \n",
      " 0   Time       144 non-null    object\n",
      " 1   #CigSales  144 non-null    int64 \n",
      "dtypes: int64(1), object(1)\n",
      "memory usage: 2.4+ KB\n"
     ]
    }
   ],
   "source": [
    "cigData.info()"
   ]
  },
  {
   "cell_type": "markdown",
   "metadata": {},
   "source": [
    "<span style=\"color:blue\">The column has been removed.</span>"
   ]
  },
  {
   "cell_type": "markdown",
   "metadata": {},
   "source": [
    "### 2b. Nomenclature"
   ]
  },
  {
   "cell_type": "markdown",
   "metadata": {},
   "source": [
    "We can see that the `Time` column actually has the granularity of months. Change the name of that column to `Month`."
   ]
  },
  {
   "cell_type": "code",
   "execution_count": 10,
   "metadata": {},
   "outputs": [],
   "source": [
    "cigData.rename(columns={'Time': 'Month'}, inplace=True)"
   ]
  },
  {
   "cell_type": "code",
   "execution_count": 11,
   "metadata": {},
   "outputs": [
    {
     "name": "stdout",
     "output_type": "stream",
     "text": [
      "<class 'pandas.core.frame.DataFrame'>\n",
      "RangeIndex: 144 entries, 0 to 143\n",
      "Data columns (total 2 columns):\n",
      " #   Column     Non-Null Count  Dtype \n",
      "---  ------     --------------  ----- \n",
      " 0   Month      144 non-null    object\n",
      " 1   #CigSales  144 non-null    int64 \n",
      "dtypes: int64(1), object(1)\n",
      "memory usage: 2.4+ KB\n"
     ]
    }
   ],
   "source": [
    "cigData.info()"
   ]
  },
  {
   "cell_type": "markdown",
   "metadata": {},
   "source": [
    "Call a head() to check this has worked. "
   ]
  },
  {
   "cell_type": "code",
   "execution_count": 12,
   "metadata": {},
   "outputs": [
    {
     "data": {
      "text/html": [
       "<div>\n",
       "<style scoped>\n",
       "    .dataframe tbody tr th:only-of-type {\n",
       "        vertical-align: middle;\n",
       "    }\n",
       "\n",
       "    .dataframe tbody tr th {\n",
       "        vertical-align: top;\n",
       "    }\n",
       "\n",
       "    .dataframe thead th {\n",
       "        text-align: right;\n",
       "    }\n",
       "</style>\n",
       "<table border=\"1\" class=\"dataframe\">\n",
       "  <thead>\n",
       "    <tr style=\"text-align: right;\">\n",
       "      <th></th>\n",
       "      <th>Month</th>\n",
       "      <th>#CigSales</th>\n",
       "    </tr>\n",
       "  </thead>\n",
       "  <tbody>\n",
       "    <tr>\n",
       "      <th>0</th>\n",
       "      <td>1949-01</td>\n",
       "      <td>1000112</td>\n",
       "    </tr>\n",
       "    <tr>\n",
       "      <th>1</th>\n",
       "      <td>1949-02</td>\n",
       "      <td>1000118</td>\n",
       "    </tr>\n",
       "    <tr>\n",
       "      <th>2</th>\n",
       "      <td>1949-03</td>\n",
       "      <td>1000132</td>\n",
       "    </tr>\n",
       "    <tr>\n",
       "      <th>3</th>\n",
       "      <td>1949-04</td>\n",
       "      <td>1000129</td>\n",
       "    </tr>\n",
       "    <tr>\n",
       "      <th>4</th>\n",
       "      <td>1949-05</td>\n",
       "      <td>1000121</td>\n",
       "    </tr>\n",
       "  </tbody>\n",
       "</table>\n",
       "</div>"
      ],
      "text/plain": [
       "     Month  #CigSales\n",
       "0  1949-01    1000112\n",
       "1  1949-02    1000118\n",
       "2  1949-03    1000132\n",
       "3  1949-04    1000129\n",
       "4  1949-05    1000121"
      ]
     },
     "execution_count": 12,
     "metadata": {},
     "output_type": "execute_result"
    }
   ],
   "source": [
    "cigData.head()"
   ]
  },
  {
   "cell_type": "markdown",
   "metadata": {},
   "source": [
    "### 2c. Type conversions "
   ]
  },
  {
   "cell_type": "markdown",
   "metadata": {},
   "source": [
    "Now, do time series analysis on a Pandas dataframe is overkill, and is actually counter-productive. It's much more easy to carry out this type of analysis if we convert our data to a series first.\n",
    "\n",
    "Notice that the `Month` field was an object. Let's type convert the `Month` column to a Python `datetime`, before making that the index."
   ]
  },
  {
   "cell_type": "code",
   "execution_count": 13,
   "metadata": {},
   "outputs": [],
   "source": [
    "cigData.Month = pd.to_datetime(cigData.Month)"
   ]
  },
  {
   "cell_type": "code",
   "execution_count": 14,
   "metadata": {},
   "outputs": [
    {
     "data": {
      "text/plain": [
       "Month        datetime64[ns]\n",
       "#CigSales             int64\n",
       "dtype: object"
      ]
     },
     "execution_count": 14,
     "metadata": {},
     "output_type": "execute_result"
    }
   ],
   "source": [
    "cigData.dtypes"
   ]
  },
  {
   "cell_type": "markdown",
   "metadata": {},
   "source": [
    "Perfect! "
   ]
  },
  {
   "cell_type": "markdown",
   "metadata": {},
   "source": [
    "### 2d. Making a predictor variable `y`"
   ]
  },
  {
   "cell_type": "markdown",
   "metadata": {},
   "source": [
    "The data is now indexed by date, as time series data ought to be.\n",
    "\n",
    "Since we want to predict the number of cigarette sales at Cowboy cigarettes, and `y` is typically used to signify a predictor variable, let's create a new variable called `y` and assign the indexed #Passenger column. "
   ]
  },
  {
   "cell_type": "code",
   "execution_count": 15,
   "metadata": {},
   "outputs": [],
   "source": [
    "y = cigData['#CigSales']\n",
    "y.index = cigData['Month']"
   ]
  },
  {
   "cell_type": "markdown",
   "metadata": {},
   "source": [
    "<span style=\"color:blue\">Additionally, the series is given a datetime index for simplicity.</span>"
   ]
  },
  {
   "cell_type": "markdown",
   "metadata": {},
   "source": [
    "Check the type of our new variable. "
   ]
  },
  {
   "cell_type": "code",
   "execution_count": 16,
   "metadata": {
    "scrolled": true
   },
   "outputs": [
    {
     "data": {
      "text/plain": [
       "pandas.core.series.Series"
      ]
     },
     "execution_count": 16,
     "metadata": {},
     "output_type": "execute_result"
    }
   ],
   "source": [
    "type(y)"
   ]
  },
  {
   "cell_type": "code",
   "execution_count": 17,
   "metadata": {},
   "outputs": [
    {
     "data": {
      "text/plain": [
       "dtype('int64')"
      ]
     },
     "execution_count": 17,
     "metadata": {},
     "output_type": "execute_result"
    }
   ],
   "source": [
    "y.dtype"
   ]
  },
  {
   "cell_type": "markdown",
   "metadata": {},
   "source": [
    "### 2e. Getting summary statistics for `y`"
   ]
  },
  {
   "cell_type": "markdown",
   "metadata": {},
   "source": [
    "Get the summary statistics of our data here. "
   ]
  },
  {
   "cell_type": "code",
   "execution_count": 18,
   "metadata": {
    "scrolled": true
   },
   "outputs": [
    {
     "data": {
      "text/plain": [
       "count    1.440000e+02\n",
       "mean     1.000280e+06\n",
       "std      1.199663e+02\n",
       "min      1.000104e+06\n",
       "25%      1.000180e+06\n",
       "50%      1.000266e+06\n",
       "75%      1.000360e+06\n",
       "max      1.000622e+06\n",
       "Name: #CigSales, dtype: float64"
      ]
     },
     "execution_count": 18,
     "metadata": {},
     "output_type": "execute_result"
    }
   ],
   "source": [
    "y.describe()"
   ]
  },
  {
   "cell_type": "markdown",
   "metadata": {},
   "source": [
    "<span style=\"color:blue\">The scaling of the data presented problems. A web search discovered that this data was actually a transformed version of well-known `airline passenger` data. A constant of 1,000,000 was added to each entry. Unfortunately, this complicated much of the later analysis (in particular, on taking logarithms, the series becomes nearly constant). I elected to subtract 1,000,000 from each entry.</span>"
   ]
  },
  {
   "cell_type": "code",
   "execution_count": 19,
   "metadata": {},
   "outputs": [],
   "source": [
    "y = y.sub(1000000)"
   ]
  },
  {
   "cell_type": "markdown",
   "metadata": {},
   "source": [
    "Try visualizing the data. A simple `matplotlib` plot should do the trick.  "
   ]
  },
  {
   "cell_type": "markdown",
   "metadata": {},
   "source": [
    "### 2f. Plotting `y`"
   ]
  },
  {
   "cell_type": "code",
   "execution_count": 20,
   "metadata": {},
   "outputs": [
    {
     "data": {
      "image/png": "[encoded data removed]",
      "text/plain": [
       "<Figure size 1008x360 with 1 Axes>"
      ]
     },
     "metadata": {
      "needs_background": "light"
     },
     "output_type": "display_data"
    }
   ],
   "source": [
    "import matplotlib.pyplot as plt\n",
    "%matplotlib inline\n",
    "fig, ax = plt.subplots(figsize=(14, 5))\n",
    "ax.grid()\n",
    "plt.plot(y, '-');\n",
    "plt.plot(y, '.r');\n",
    "plt.xlabel('Month');\n",
    "plt.ylabel('Sales');"
   ]
  },
  {
   "cell_type": "markdown",
   "metadata": {},
   "source": [
    "<span style=\"color:blue\">We find a general upward trend with an obvious seasonal cycle with period of one year.</span>"
   ]
  },
  {
   "cell_type": "markdown",
   "metadata": {},
   "source": [
    "## 3. Modelling \n",
    "### 3a. Decomposition\n",
    "What do you notice from the plot? Take at least `2` minutes to examine the plot, and write down everything you observe.  \n",
    "\n",
    "All done?\n",
    "\n",
    "We can see that, generally, there is a trend upwards in cigarette sales from at Cowboy Cigarettes. But there are also some striking - and perhaps unexpected - seasonal fluctuations. These seasonal fluctations come in a repeated pattern. Work out when these seasonal fluctuations are happening, and take 2 minutes to hypothesize on their cause here.\n",
    "\n",
    "What does it mean to *decompose* time series data? It means breaking that data into 3 components: \n",
    "\n",
    "1. **Trend**: The overall direction that the data is travelling in (like upwards or downwards)\n",
    "2. **Seasonality**: Cyclical patterns in the data \n",
    "3. **Noise**: The random variation in the data\n",
    "\n",
    "We can treat these components differently, depending on the question and what's appropriate in the context. They can either be added together in an *additive* model, or multiplied together in a *multiplicative* model. \n",
    "\n",
    "Make a coffee, take `5` minutes and read [this article](https://medium.com/@sigmundojr/seasonality-in-python-additive-or-multiplicative-model-d4b9cf1f48a7) and think about whether our data would conduce to an additive or multiplicative model here. Write your conclusion down just here: \n",
    "\n",
    "-------------------------------"
   ]
  },
  {
   "cell_type": "markdown",
   "metadata": {},
   "source": [
    "<span style=\"color:blue\">The seasonal trend increases with time, so the multiplicative model should be more appropriate.</span>"
   ]
  },
  {
   "cell_type": "markdown",
   "metadata": {},
   "source": [
    "All done? Well, just on the basis of the plot above, it seems our Cowboy Cigarettes data is actually multiplicative. \n",
    "\n",
    "That's because, as time progresses, the general trend seems to be increasing *at a rate that's also increasing*. We also see that the seasonal fluctuations (the peaks and troughs) get bigger and bigger as time progresses.\n",
    "\n",
    "Now on the other hand, if the data were simply additive, we could expect the general trend to increase at a *steadily*, and a constant speed; and also for seasonal ups and downs not to increase or decrease in extent over time.\n",
    "\n",
    "Happily, we can use the `decompose()` function to quantify the component parts described above in our data."
   ]
  },
  {
   "cell_type": "code",
   "execution_count": 21,
   "metadata": {},
   "outputs": [
    {
     "data": {
      "image/png": "[encoded data removed]",
      "text/plain": [
       "<Figure size 864x1080 with 4 Axes>"
      ]
     },
     "metadata": {
      "needs_background": "light"
     },
     "output_type": "display_data"
    }
   ],
   "source": [
    "from statsmodels.tsa.seasonal import seasonal_decompose\n",
    "\n",
    "decomposition = seasonal_decompose(y, model='multiplicative')\n",
    "\n",
    "# Plot the original data, the trend, the seasonality, and the residuals \n",
    "\n",
    "fig, axes = plt.subplots(4, 1, sharex=True, figsize=(12, 15))\n",
    "components = (decomposition.observed, decomposition.trend, decomposition.seasonal, decomposition.resid)\n",
    "titles = ('Observed', 'Trend', 'Seasonal', 'Residuals')\n",
    "for (decomp, ax, title) in zip(components, axes, titles):\n",
    "    decomp.plot(ax=ax, fontsize=12, xlabel='Month', ylabel='Sales', title=title);\n",
    "    ax.grid();\n",
    "\n",
    "plt.tight_layout();"
   ]
  },
  {
   "cell_type": "markdown",
   "metadata": {},
   "source": [
    "### 3b. Testing for stationarity with KPSS\n",
    "As you know, when doing time series analysis we always have to check for stationarity. Imprecisely, a time series dataset is stationary just if its statistical features don't change over time. A little more precisely, a stationary time series dataset will have constant mean, variance, and covariance.\n",
    "\n",
    "There are many ways to test for stationarity, but one of the most common is the KPSS test. The Null hypothesis of this test is that the time series data in question is stationary; hence, if the *p*-value is less than the significance level (typically 0.05, but we decide) then we reject the Null and infer that the data is not stationary."
   ]
  },
  {
   "cell_type": "code",
   "execution_count": 22,
   "metadata": {
    "scrolled": false
   },
   "outputs": [
    {
     "name": "stdout",
     "output_type": "stream",
     "text": [
      "The test-statistic is 1.651, giving a p-value of 0.010\n"
     ]
    }
   ],
   "source": [
    "from statsmodels.tsa.stattools import kpss\n",
    "\n",
    "# kpss gives a warning if the p-value is too large or too small, as the p-value is calculated using interpolation.\n",
    "# This doesn't matter for the current project, so ignore this warning.\n",
    "import warnings\n",
    "warnings.filterwarnings(\"ignore\", message=\"the test statistic\")\n",
    "\n",
    "kpss_stat, p_value, lags, crit = kpss(y, regression='c', nlags=\"auto\")\n",
    "print(f\"The test-statistic is {kpss_stat:0.3f}, giving a p-value of {p_value:0.3f}\")"
   ]
  },
  {
   "cell_type": "markdown",
   "metadata": {},
   "source": [
    "Since our p-value is less than 0.05, we should reject the Null hypothesis and deduce the non-stationarity of our data. \n",
    "\n",
    "But our data need to be stationary! So we need to do some transforming."
   ]
  },
  {
   "cell_type": "markdown",
   "metadata": {},
   "source": [
    "### 3c. Making the data stationary \n",
    "Let's recall what it looks like. "
   ]
  },
  {
   "cell_type": "code",
   "execution_count": 23,
   "metadata": {},
   "outputs": [
    {
     "data": {
      "image/png": "[encoded data removed]",
      "text/plain": [
       "<Figure size 1008x360 with 1 Axes>"
      ]
     },
     "metadata": {
      "needs_background": "light"
     },
     "output_type": "display_data"
    }
   ],
   "source": [
    "fig, ax = plt.subplots(figsize=(14, 5))\n",
    "ax.grid()\n",
    "plt.plot(y, '-');\n",
    "plt.plot(y, '.r');\n",
    "plt.xlabel('Month');\n",
    "plt.ylabel('Sales');"
   ]
  },
  {
   "cell_type": "markdown",
   "metadata": {},
   "source": [
    "In our plot, we can see that both the mean and the variance *increase as time progresses*. At the moment, our data has neither a constant mean, nor a constant variance (the covariance, however, seems constant). \n",
    "\n",
    "One ofte  used way of getting rid of changing variance is to take the natural log of all the values in our dataset. Let's do this now. "
   ]
  },
  {
   "cell_type": "code",
   "execution_count": 24,
   "metadata": {},
   "outputs": [],
   "source": [
    "import numpy as np\n",
    "log_y = np.log(y)"
   ]
  },
  {
   "cell_type": "markdown",
   "metadata": {},
   "source": [
    "\n",
    "When you plot this, you can see how the variance in our data now remains contant over time."
   ]
  },
  {
   "cell_type": "code",
   "execution_count": 25,
   "metadata": {
    "scrolled": true
   },
   "outputs": [
    {
     "data": {
      "image/png": "[encoded data removed]",
      "text/plain": [
       "<Figure size 1008x360 with 1 Axes>"
      ]
     },
     "metadata": {
      "needs_background": "light"
     },
     "output_type": "display_data"
    }
   ],
   "source": [
    "fig, ax = plt.subplots(figsize=(14, 5))\n",
    "ax.grid()\n",
    "plt.plot(log_y, '-');\n",
    "plt.plot(log_y, '.r');\n",
    "plt.xlabel('Month');"
   ]
  },
  {
   "cell_type": "code",
   "execution_count": 26,
   "metadata": {},
   "outputs": [
    {
     "name": "stdout",
     "output_type": "stream",
     "text": [
      "The test-statistic is 1.669, giving a p-value of 0.010\n"
     ]
    }
   ],
   "source": [
    "kpss_stat, p_value, lags, crit = kpss(log_y, regression='c', nlags=\"auto\")\n",
    "print(f\"The test-statistic is {kpss_stat:0.3f}, giving a p-value of {p_value:0.3f}\")"
   ]
  },
  {
   "cell_type": "markdown",
   "metadata": {},
   "source": [
    "We now have a constant variance, but we also need a constant mean.\n",
    "\n",
    "We can do this by *differencing* our data. We difference a time series dataset when we create a new time series comprising the difference between the values of our existing dataset.\n",
    "\n",
    "Python is powerful, and we can use the `diff()` function to do this. You'll notice there's one less value than our existing dataset (since we're taking the difference between the existing values)."
   ]
  },
  {
   "cell_type": "code",
   "execution_count": 27,
   "metadata": {
    "scrolled": true
   },
   "outputs": [],
   "source": [
    "diff_log_y = log_y.diff()"
   ]
  },
  {
   "cell_type": "code",
   "execution_count": 28,
   "metadata": {},
   "outputs": [
    {
     "data": {
      "image/png": "[encoded data removed]",
      "text/plain": [
       "<Figure size 1008x360 with 1 Axes>"
      ]
     },
     "metadata": {
      "needs_background": "light"
     },
     "output_type": "display_data"
    }
   ],
   "source": [
    "fig, ax = plt.subplots(figsize=(14, 5))\n",
    "ax.grid()\n",
    "plt.plot(diff_log_y, '-');\n",
    "plt.plot(diff_log_y, '.r');\n",
    "plt.xlabel('Month');"
   ]
  },
  {
   "cell_type": "code",
   "execution_count": 29,
   "metadata": {},
   "outputs": [
    {
     "name": "stdout",
     "output_type": "stream",
     "text": [
      "The test-statistic is 0.038, giving a p-value of 0.100\n"
     ]
    }
   ],
   "source": [
    "kpss_stat, p_value, lags, crit = kpss(diff_log_y[1:], regression='c', nlags=\"auto\")\n",
    "print(f\"The test-statistic is {kpss_stat:0.3f}, giving a p-value of {p_value:0.3f}\")"
   ]
  },
  {
   "cell_type": "markdown",
   "metadata": {},
   "source": [
    "Our p-value is now greater than 0.05, so we can accept the null hypothesis that our data is stationary."
   ]
  },
  {
   "cell_type": "markdown",
   "metadata": {},
   "source": [
    "### 3d. The ARIMA model\n",
    "\n",
    "Recall that ARIMA models are based around the idea that it's possible to predict the next value in a time series by using information about the most recent data points. It also assumes there will be some randomness in our data that can't ever be predicted.\n",
    "\n",
    "We can find some good parameters for our model using the `sklearn` and `statsmodels` libraries, and in particular `mean_squared_error` and `ARIMA`. "
   ]
  },
  {
   "cell_type": "code",
   "execution_count": 30,
   "metadata": {},
   "outputs": [],
   "source": [
    "# Import mean_squared_error and ARIMA\n",
    "from sklearn.metrics import mean_squared_error\n",
    "from statsmodels.tsa.arima.model import ARIMA"
   ]
  },
  {
   "cell_type": "markdown",
   "metadata": {},
   "source": [
    "<span style=\"color:blue\">The ARIMA model included here originally has been deprecated. We use the replacement instead.</span>"
   ]
  },
  {
   "cell_type": "markdown",
   "metadata": {},
   "source": [
    "#### 3di. Make a function to find the MSE of a single ARIMA model\n",
    "Things get intricate here. Don't worry if you can't do this yourself and need to drop down a Tier. "
   ]
  },
  {
   "cell_type": "code",
   "execution_count": 31,
   "metadata": {},
   "outputs": [],
   "source": [
    "def ts_test_train_split(y, test_size):\n",
    "    '''\n",
    "    Splits the time-series y into train and test sections. The variable test_size should be a float between 0 and 1. The \\\n",
    "    function splits the time-series in such a way as to provide the tail-end of the series as a test set, of approximately \\\n",
    "    a proportion of test_size of the full series. The remaining part of the series is returned as the training set. \n",
    "    '''\n",
    "    split_index = int((1 - test_size) * len(y))\n",
    "    y_train = y[:split_index]\n",
    "    y_test = y[split_index:]\n",
    "    # Setting the frequency of the test/train components is a simple form of suppressing ARIMA warnings related to use of \\\n",
    "    # inferred frequencies.\n",
    "    y_train.index.freq = y.index.inferred_freq\n",
    "    y_test.index.freq = y.index.inferred_freq\n",
    "    return y_train, y_test"
   ]
  },
  {
   "cell_type": "code",
   "execution_count": 32,
   "metadata": {},
   "outputs": [],
   "source": [
    "def ts_evaluate_model(y, order, seasonal_order, test_size=0.2, metric=mean_squared_error):\n",
    "    '''\n",
    "    Trains a seasonal ARIMA model on the time series y and evaluates it using the metric. The metric must be a function taking \\\n",
    "    two time-series as arguments.\n",
    "    '''\n",
    "    y_train, y_test = ts_test_train_split(y, test_size)\n",
    "    # fit model to training data\n",
    "    model = ARIMA(y_train, order=order, seasonal_order=seasonal_order)\n",
    "    results = model.fit()\n",
    "    # get predictions and compare against the actual series.\n",
    "    y_pred = results.get_forecast(len(y_test)).predicted_mean\n",
    "    score = metric(y_test, y_pred)\n",
    "    return score"
   ]
  },
  {
   "cell_type": "markdown",
   "metadata": {},
   "source": [
    "<span style=\"color:blue\">There were serious difficulties with the assignment at this point. In particular, the ARIMA model requested has no seasonal component, but the data definitely has seasonality. Consequently, we will fit using a seasonal component as well.</span>"
   ]
  },
  {
   "cell_type": "code",
   "execution_count": 33,
   "metadata": {},
   "outputs": [],
   "source": [
    "# There's a fair amount of commonality between this and ts_evaluate_model. An obvious path forward would be to re-factor this \\\n",
    "# code.\n",
    "def ts_plot_model(y, order, seasonal_order, test_size=0.2):\n",
    "    '''\n",
    "    Plots the prediction against the observed series.\n",
    "    '''\n",
    "    y_train, y_test = ts_test_train_split(y, test_size)\n",
    "    # fit model to training data\n",
    "    model = ARIMA(y_train, order=order, seasonal_order=seasonal_order)\n",
    "    results = model.fit()\n",
    "    y_pred = results.get_forecast(len(y_test)).predicted_mean\n",
    "    fig, ax = plt.subplots(figsize=(14, 5))\n",
    "    ax.grid()\n",
    "    plt.plot(y, '-', label='Observed');\n",
    "    plt.plot(y_pred, '-r', label='Predicted')\n",
    "    plt.xlabel('Month');\n",
    "    plt.legend()\n",
    "    return plt"
   ]
  },
  {
   "cell_type": "markdown",
   "metadata": {},
   "source": [
    "<span style=\"color:blue\">As an example, the discussion below suggests modeling the time series using a non-seasonal ARIMA with order (2,1,1). This is obviously incorrect as can be immediately observed by plotting.</span>"
   ]
  },
  {
   "cell_type": "code",
   "execution_count": 34,
   "metadata": {},
   "outputs": [
    {
     "data": {
      "image/png": "[encoded data removed]",
      "text/plain": [
       "<Figure size 1008x360 with 1 Axes>"
      ]
     },
     "metadata": {
      "needs_background": "light"
     },
     "output_type": "display_data"
    }
   ],
   "source": [
    "ts_plot_model(log_y, (2,1,1), None);"
   ]
  },
  {
   "cell_type": "markdown",
   "metadata": {},
   "source": [
    "#### 3dii. Make a function to evaluate the different ARIMA models with different p, d, and q values"
   ]
  },
  {
   "cell_type": "code",
   "execution_count": 35,
   "metadata": {},
   "outputs": [],
   "source": [
    "# Make a function to evaluate different ARIMA models with several different p, d, and q values.\n",
    "def evaluate_arima(y, p_list, d_list, q_list, P_list, D_list, Q_list, m=12, test_size=0.2, metric=mean_squared_error):\n",
    "    '''\n",
    "    Finds the best-fitting ARIMA using the given metric.\n",
    "    '''\n",
    "    \n",
    "    min_score = None\n",
    "    min_order = None\n",
    "    min_seasonal_order = None\n",
    "    \n",
    "    # This is extremely ugly, but a simple implementation.\n",
    "    for p in p_list:\n",
    "        for d in d_list:\n",
    "            for q in q_list:\n",
    "                for P in P_list:\n",
    "                    for D in D_list:\n",
    "                        for Q in Q_list:\n",
    "                            try:\n",
    "                                order = (p, d, q)\n",
    "                                seasonal_order = (P, D, Q, m)\n",
    "                                score = ts_evaluate_model(y, order, seasonal_order, test_size, metric)\n",
    "                    \n",
    "                                print(f\"Score for (p, d, q) = {order}, (P, D, Q, m) = {seasonal_order}: {score}\")\n",
    "                                if (min_score is None) or (score < min_score):\n",
    "                                    print(f\"New best score!\")\n",
    "                                    min_score = score\n",
    "                                    min_order = order\n",
    "                                    min_seasonal_order = seasonal_order\n",
    "                            except:\n",
    "                                pass\n",
    "                \n",
    "    return min_order, min_seasonal_order"
   ]
  },
  {
   "cell_type": "code",
   "execution_count": 36,
   "metadata": {},
   "outputs": [],
   "source": [
    "common_list = range(0,3)\n",
    "p_list, d_list, q_list, P_list, D_list, Q_list = common_list, common_list, common_list, common_list, common_list, common_list"
   ]
  },
  {
   "cell_type": "code",
   "execution_count": 37,
   "metadata": {
    "scrolled": false
   },
   "outputs": [
    {
     "name": "stdout",
     "output_type": "stream",
     "text": [
      "Score for (p, d, q) = (0, 0, 0), (P, D, Q, m) = (0, 0, 0, 12): 0.4705721304864935\n",
      "New best score!\n",
      "Score for (p, d, q) = (0, 0, 0), (P, D, Q, m) = (0, 0, 1, 12): 0.37555094083339685\n",
      "New best score!\n"
     ]
    },
    {
     "name": "stderr",
     "output_type": "stream",
     "text": [
      "C:\\Users\\wodar\\miniconda3\\envs\\conda-env\\lib\\site-packages\\statsmodels\\tsa\\statespace\\sarimax.py:1009: UserWarning: Non-invertible starting seasonal moving average Using zeros as starting parameters.\n",
      "  warn('Non-invertible starting seasonal moving average'\n",
      "C:\\Users\\wodar\\miniconda3\\envs\\conda-env\\lib\\site-packages\\statsmodels\\tsa\\statespace\\sarimax.py:1009: UserWarning: Non-invertible starting seasonal moving average Using zeros as starting parameters.\n",
      "  warn('Non-invertible starting seasonal moving average'\n"
     ]
    },
    {
     "name": "stdout",
     "output_type": "stream",
     "text": [
      "Score for (p, d, q) = (0, 0, 0), (P, D, Q, m) = (0, 0, 2, 12): 0.2421673701858969\n",
      "New best score!\n",
      "Score for (p, d, q) = (0, 0, 0), (P, D, Q, m) = (0, 1, 0, 12): 0.031163168486885093\n",
      "New best score!\n",
      "Score for (p, d, q) = (0, 0, 0), (P, D, Q, m) = (0, 1, 1, 12): 0.025592962212720317\n",
      "New best score!\n"
     ]
    },
    {
     "name": "stderr",
     "output_type": "stream",
     "text": [
      "C:\\Users\\wodar\\miniconda3\\envs\\conda-env\\lib\\site-packages\\statsmodels\\tsa\\statespace\\sarimax.py:1009: UserWarning: Non-invertible starting seasonal moving average Using zeros as starting parameters.\n",
      "  warn('Non-invertible starting seasonal moving average'\n"
     ]
    },
    {
     "name": "stdout",
     "output_type": "stream",
     "text": [
      "Score for (p, d, q) = (0, 0, 0), (P, D, Q, m) = (0, 1, 2, 12): 0.02749361868888218\n",
      "Score for (p, d, q) = (0, 0, 0), (P, D, Q, m) = (0, 2, 0, 12): 0.013720848849992693\n",
      "New best score!\n",
      "Score for (p, d, q) = (0, 0, 0), (P, D, Q, m) = (0, 2, 1, 12): 0.009135124172416312\n",
      "New best score!\n"
     ]
    },
    {
     "name": "stderr",
     "output_type": "stream",
     "text": [
      "C:\\Users\\wodar\\miniconda3\\envs\\conda-env\\lib\\site-packages\\statsmodels\\tsa\\statespace\\sarimax.py:1009: UserWarning: Non-invertible starting seasonal moving average Using zeros as starting parameters.\n",
      "  warn('Non-invertible starting seasonal moving average'\n"
     ]
    },
    {
     "name": "stdout",
     "output_type": "stream",
     "text": [
      "Score for (p, d, q) = (0, 0, 0), (P, D, Q, m) = (0, 2, 2, 12): 0.007377496601993368\n",
      "New best score!\n",
      "Score for (p, d, q) = (0, 0, 0), (P, D, Q, m) = (1, 0, 0, 12): 0.045617777271531906\n"
     ]
    },
    {
     "name": "stderr",
     "output_type": "stream",
     "text": [
      "C:\\Users\\wodar\\miniconda3\\envs\\conda-env\\lib\\site-packages\\statsmodels\\tsa\\statespace\\sarimax.py:997: UserWarning: Non-stationary starting seasonal autoregressive Using zeros as starting parameters.\n",
      "  warn('Non-stationary starting seasonal autoregressive'\n"
     ]
    },
    {
     "name": "stdout",
     "output_type": "stream",
     "text": [
      "Score for (p, d, q) = (0, 0, 0), (P, D, Q, m) = (1, 0, 1, 12): 0.042678732898571665\n"
     ]
    },
    {
     "name": "stderr",
     "output_type": "stream",
     "text": [
      "C:\\Users\\wodar\\miniconda3\\envs\\conda-env\\lib\\site-packages\\statsmodels\\tsa\\statespace\\sarimax.py:997: UserWarning: Non-stationary starting seasonal autoregressive Using zeros as starting parameters.\n",
      "  warn('Non-stationary starting seasonal autoregressive'\n",
      "C:\\Users\\wodar\\miniconda3\\envs\\conda-env\\lib\\site-packages\\statsmodels\\tsa\\statespace\\sarimax.py:1009: UserWarning: Non-invertible starting seasonal moving average Using zeros as starting parameters.\n",
      "  warn('Non-invertible starting seasonal moving average'\n"
     ]
    },
    {
     "name": "stdout",
     "output_type": "stream",
     "text": [
      "Score for (p, d, q) = (0, 0, 0), (P, D, Q, m) = (1, 0, 2, 12): 0.05019389168470906\n",
      "Score for (p, d, q) = (0, 0, 0), (P, D, Q, m) = (1, 1, 0, 12): 0.011861703606461086\n",
      "Score for (p, d, q) = (0, 0, 0), (P, D, Q, m) = (1, 1, 1, 12): 0.007692394824878302\n"
     ]
    },
    {
     "name": "stderr",
     "output_type": "stream",
     "text": [
      "C:\\Users\\wodar\\miniconda3\\envs\\conda-env\\lib\\site-packages\\statsmodels\\tsa\\statespace\\sarimax.py:1009: UserWarning: Non-invertible starting seasonal moving average Using zeros as starting parameters.\n",
      "  warn('Non-invertible starting seasonal moving average'\n"
     ]
    },
    {
     "name": "stdout",
     "output_type": "stream",
     "text": [
      "Score for (p, d, q) = (0, 0, 0), (P, D, Q, m) = (1, 1, 2, 12): 0.006625144350520449\n",
      "New best score!\n",
      "Score for (p, d, q) = (0, 0, 0), (P, D, Q, m) = (1, 2, 0, 12): 0.009058983065922647\n",
      "Score for (p, d, q) = (0, 0, 0), (P, D, Q, m) = (1, 2, 1, 12): 0.010253383259241246\n"
     ]
    },
    {
     "name": "stderr",
     "output_type": "stream",
     "text": [
      "C:\\Users\\wodar\\miniconda3\\envs\\conda-env\\lib\\site-packages\\statsmodels\\tsa\\statespace\\sarimax.py:1009: UserWarning: Non-invertible starting seasonal moving average Using zeros as starting parameters.\n",
      "  warn('Non-invertible starting seasonal moving average'\n",
      "C:\\Users\\wodar\\miniconda3\\envs\\conda-env\\lib\\site-packages\\statsmodels\\base\\model.py:566: ConvergenceWarning: Maximum Likelihood optimization failed to converge. Check mle_retvals\n",
      "  warnings.warn(\"Maximum Likelihood optimization failed to \"\n"
     ]
    },
    {
     "name": "stdout",
     "output_type": "stream",
     "text": [
      "Score for (p, d, q) = (0, 0, 0), (P, D, Q, m) = (1, 2, 2, 12): 0.007075926704583368\n",
      "Score for (p, d, q) = (0, 0, 0), (P, D, Q, m) = (2, 0, 0, 12): 0.038391240222296695\n",
      "Score for (p, d, q) = (0, 0, 0), (P, D, Q, m) = (2, 0, 1, 12): 0.00620146002538661\n",
      "New best score!\n"
     ]
    },
    {
     "name": "stderr",
     "output_type": "stream",
     "text": [
      "C:\\Users\\wodar\\miniconda3\\envs\\conda-env\\lib\\site-packages\\statsmodels\\tsa\\statespace\\sarimax.py:997: UserWarning: Non-stationary starting seasonal autoregressive Using zeros as starting parameters.\n",
      "  warn('Non-stationary starting seasonal autoregressive'\n",
      "C:\\Users\\wodar\\miniconda3\\envs\\conda-env\\lib\\site-packages\\statsmodels\\base\\model.py:566: ConvergenceWarning: Maximum Likelihood optimization failed to converge. Check mle_retvals\n",
      "  warnings.warn(\"Maximum Likelihood optimization failed to \"\n"
     ]
    },
    {
     "name": "stdout",
     "output_type": "stream",
     "text": [
      "Score for (p, d, q) = (0, 0, 0), (P, D, Q, m) = (2, 0, 2, 12): 0.008357304143556605\n",
      "Score for (p, d, q) = (0, 0, 0), (P, D, Q, m) = (2, 1, 0, 12): 0.0065763898496445095\n",
      "Score for (p, d, q) = (0, 0, 0), (P, D, Q, m) = (2, 1, 1, 12): 0.009081997210435198\n",
      "Score for (p, d, q) = (0, 0, 0), (P, D, Q, m) = (2, 1, 2, 12): 0.008039073348661772\n",
      "Score for (p, d, q) = (0, 0, 0), (P, D, Q, m) = (2, 2, 0, 12): 0.009431994299092245\n",
      "Score for (p, d, q) = (0, 0, 0), (P, D, Q, m) = (2, 2, 1, 12): 0.011866972085388873\n"
     ]
    },
    {
     "name": "stderr",
     "output_type": "stream",
     "text": [
      "C:\\Users\\wodar\\miniconda3\\envs\\conda-env\\lib\\site-packages\\statsmodels\\tsa\\statespace\\sarimax.py:1009: UserWarning: Non-invertible starting seasonal moving average Using zeros as starting parameters.\n",
      "  warn('Non-invertible starting seasonal moving average'\n"
     ]
    },
    {
     "name": "stdout",
     "output_type": "stream",
     "text": [
      "Score for (p, d, q) = (0, 0, 0), (P, D, Q, m) = (2, 2, 2, 12): 0.006879024122302685\n",
      "Score for (p, d, q) = (0, 0, 1), (P, D, Q, m) = (0, 0, 0, 12): 0.4533764468456357\n"
     ]
    },
    {
     "name": "stderr",
     "output_type": "stream",
     "text": [
      "C:\\Users\\wodar\\miniconda3\\envs\\conda-env\\lib\\site-packages\\statsmodels\\tsa\\statespace\\sarimax.py:978: UserWarning: Non-invertible starting MA parameters found. Using zeros as starting parameters.\n",
      "  warn('Non-invertible starting MA parameters found.'\n",
      "C:\\Users\\wodar\\miniconda3\\envs\\conda-env\\lib\\site-packages\\statsmodels\\tsa\\statespace\\sarimax.py:978: UserWarning: Non-invertible starting MA parameters found. Using zeros as starting parameters.\n",
      "  warn('Non-invertible starting MA parameters found.'\n",
      "C:\\Users\\wodar\\miniconda3\\envs\\conda-env\\lib\\site-packages\\statsmodels\\tsa\\statespace\\sarimax.py:1009: UserWarning: Non-invertible starting seasonal moving average Using zeros as starting parameters.\n",
      "  warn('Non-invertible starting seasonal moving average'\n"
     ]
    },
    {
     "name": "stdout",
     "output_type": "stream",
     "text": [
      "Score for (p, d, q) = (0, 0, 1), (P, D, Q, m) = (0, 0, 1, 12): 0.3600495866009404\n"
     ]
    },
    {
     "name": "stderr",
     "output_type": "stream",
     "text": [
      "C:\\Users\\wodar\\miniconda3\\envs\\conda-env\\lib\\site-packages\\statsmodels\\tsa\\statespace\\sarimax.py:978: UserWarning: Non-invertible starting MA parameters found. Using zeros as starting parameters.\n",
      "  warn('Non-invertible starting MA parameters found.'\n",
      "C:\\Users\\wodar\\miniconda3\\envs\\conda-env\\lib\\site-packages\\statsmodels\\tsa\\statespace\\sarimax.py:1009: UserWarning: Non-invertible starting seasonal moving average Using zeros as starting parameters.\n",
      "  warn('Non-invertible starting seasonal moving average'\n",
      "C:\\Users\\wodar\\miniconda3\\envs\\conda-env\\lib\\site-packages\\statsmodels\\base\\model.py:566: ConvergenceWarning: Maximum Likelihood optimization failed to converge. Check mle_retvals\n",
      "  warnings.warn(\"Maximum Likelihood optimization failed to \"\n"
     ]
    },
    {
     "name": "stdout",
     "output_type": "stream",
     "text": [
      "Score for (p, d, q) = (0, 0, 1), (P, D, Q, m) = (0, 0, 2, 12): 0.24454611362712148\n",
      "Score for (p, d, q) = (0, 0, 1), (P, D, Q, m) = (0, 1, 0, 12): 0.030132230167839412\n",
      "Score for (p, d, q) = (0, 0, 1), (P, D, Q, m) = (0, 1, 1, 12): 0.025668578069804958\n"
     ]
    },
    {
     "name": "stderr",
     "output_type": "stream",
     "text": [
      "C:\\Users\\wodar\\miniconda3\\envs\\conda-env\\lib\\site-packages\\statsmodels\\tsa\\statespace\\sarimax.py:1009: UserWarning: Non-invertible starting seasonal moving average Using zeros as starting parameters.\n",
      "  warn('Non-invertible starting seasonal moving average'\n"
     ]
    },
    {
     "name": "stdout",
     "output_type": "stream",
     "text": [
      "Score for (p, d, q) = (0, 0, 1), (P, D, Q, m) = (0, 1, 2, 12): 0.02505005477209749\n",
      "Score for (p, d, q) = (0, 0, 1), (P, D, Q, m) = (0, 2, 0, 12): 0.013000076984770436\n",
      "Score for (p, d, q) = (0, 0, 1), (P, D, Q, m) = (0, 2, 1, 12): 0.00829715692557669\n"
     ]
    },
    {
     "name": "stderr",
     "output_type": "stream",
     "text": [
      "C:\\Users\\wodar\\miniconda3\\envs\\conda-env\\lib\\site-packages\\statsmodels\\tsa\\statespace\\sarimax.py:1009: UserWarning: Non-invertible starting seasonal moving average Using zeros as starting parameters.\n",
      "  warn('Non-invertible starting seasonal moving average'\n",
      "C:\\Users\\wodar\\miniconda3\\envs\\conda-env\\lib\\site-packages\\statsmodels\\base\\model.py:566: ConvergenceWarning: Maximum Likelihood optimization failed to converge. Check mle_retvals\n",
      "  warnings.warn(\"Maximum Likelihood optimization failed to \"\n",
      "C:\\Users\\wodar\\miniconda3\\envs\\conda-env\\lib\\site-packages\\statsmodels\\tsa\\statespace\\sarimax.py:978: UserWarning: Non-invertible starting MA parameters found. Using zeros as starting parameters.\n",
      "  warn('Non-invertible starting MA parameters found.'\n"
     ]
    },
    {
     "name": "stdout",
     "output_type": "stream",
     "text": [
      "Score for (p, d, q) = (0, 0, 1), (P, D, Q, m) = (0, 2, 2, 12): 0.008573270563533157\n",
      "Score for (p, d, q) = (0, 0, 1), (P, D, Q, m) = (1, 0, 0, 12): 0.0483975532188178\n"
     ]
    },
    {
     "name": "stderr",
     "output_type": "stream",
     "text": [
      "C:\\Users\\wodar\\miniconda3\\envs\\conda-env\\lib\\site-packages\\statsmodels\\tsa\\statespace\\sarimax.py:978: UserWarning: Non-invertible starting MA parameters found. Using zeros as starting parameters.\n",
      "  warn('Non-invertible starting MA parameters found.'\n",
      "C:\\Users\\wodar\\miniconda3\\envs\\conda-env\\lib\\site-packages\\statsmodels\\tsa\\statespace\\sarimax.py:997: UserWarning: Non-stationary starting seasonal autoregressive Using zeros as starting parameters.\n",
      "  warn('Non-stationary starting seasonal autoregressive'\n"
     ]
    },
    {
     "name": "stdout",
     "output_type": "stream",
     "text": [
      "Score for (p, d, q) = (0, 0, 1), (P, D, Q, m) = (1, 0, 1, 12): 0.047728299231594315\n"
     ]
    },
    {
     "name": "stderr",
     "output_type": "stream",
     "text": [
      "C:\\Users\\wodar\\miniconda3\\envs\\conda-env\\lib\\site-packages\\statsmodels\\tsa\\statespace\\sarimax.py:978: UserWarning: Non-invertible starting MA parameters found. Using zeros as starting parameters.\n",
      "  warn('Non-invertible starting MA parameters found.'\n",
      "C:\\Users\\wodar\\miniconda3\\envs\\conda-env\\lib\\site-packages\\statsmodels\\tsa\\statespace\\sarimax.py:997: UserWarning: Non-stationary starting seasonal autoregressive Using zeros as starting parameters.\n",
      "  warn('Non-stationary starting seasonal autoregressive'\n",
      "C:\\Users\\wodar\\miniconda3\\envs\\conda-env\\lib\\site-packages\\statsmodels\\tsa\\statespace\\sarimax.py:1009: UserWarning: Non-invertible starting seasonal moving average Using zeros as starting parameters.\n",
      "  warn('Non-invertible starting seasonal moving average'\n",
      "C:\\Users\\wodar\\miniconda3\\envs\\conda-env\\lib\\site-packages\\statsmodels\\base\\model.py:566: ConvergenceWarning: Maximum Likelihood optimization failed to converge. Check mle_retvals\n",
      "  warnings.warn(\"Maximum Likelihood optimization failed to \"\n"
     ]
    },
    {
     "name": "stdout",
     "output_type": "stream",
     "text": [
      "Score for (p, d, q) = (0, 0, 1), (P, D, Q, m) = (1, 0, 2, 12): 0.04934402322228915\n",
      "Score for (p, d, q) = (0, 0, 1), (P, D, Q, m) = (1, 1, 0, 12): 0.014570366703639374\n"
     ]
    },
    {
     "name": "stderr",
     "output_type": "stream",
     "text": [
      "C:\\Users\\wodar\\miniconda3\\envs\\conda-env\\lib\\site-packages\\statsmodels\\base\\model.py:566: ConvergenceWarning: Maximum Likelihood optimization failed to converge. Check mle_retvals\n",
      "  warnings.warn(\"Maximum Likelihood optimization failed to \"\n",
      "C:\\Users\\wodar\\miniconda3\\envs\\conda-env\\lib\\site-packages\\statsmodels\\tsa\\statespace\\sarimax.py:1009: UserWarning: Non-invertible starting seasonal moving average Using zeros as starting parameters.\n",
      "  warn('Non-invertible starting seasonal moving average'\n"
     ]
    },
    {
     "name": "stdout",
     "output_type": "stream",
     "text": [
      "Score for (p, d, q) = (0, 0, 1), (P, D, Q, m) = (1, 1, 1, 12): 0.006349653938841317\n",
      "Score for (p, d, q) = (0, 0, 1), (P, D, Q, m) = (1, 1, 2, 12): 0.006654960326912937\n",
      "Score for (p, d, q) = (0, 0, 1), (P, D, Q, m) = (1, 2, 0, 12): 0.008409170779318804\n",
      "Score for (p, d, q) = (0, 0, 1), (P, D, Q, m) = (1, 2, 1, 12): 0.009788775716388195\n"
     ]
    },
    {
     "name": "stderr",
     "output_type": "stream",
     "text": [
      "C:\\Users\\wodar\\miniconda3\\envs\\conda-env\\lib\\site-packages\\statsmodels\\tsa\\statespace\\sarimax.py:1009: UserWarning: Non-invertible starting seasonal moving average Using zeros as starting parameters.\n",
      "  warn('Non-invertible starting seasonal moving average'\n",
      "C:\\Users\\wodar\\miniconda3\\envs\\conda-env\\lib\\site-packages\\statsmodels\\base\\model.py:566: ConvergenceWarning: Maximum Likelihood optimization failed to converge. Check mle_retvals\n",
      "  warnings.warn(\"Maximum Likelihood optimization failed to \"\n",
      "C:\\Users\\wodar\\miniconda3\\envs\\conda-env\\lib\\site-packages\\statsmodels\\tsa\\statespace\\sarimax.py:978: UserWarning: Non-invertible starting MA parameters found. Using zeros as starting parameters.\n",
      "  warn('Non-invertible starting MA parameters found.'\n"
     ]
    },
    {
     "name": "stdout",
     "output_type": "stream",
     "text": [
      "Score for (p, d, q) = (0, 0, 1), (P, D, Q, m) = (1, 2, 2, 12): 0.00777389832489\n",
      "Score for (p, d, q) = (0, 0, 1), (P, D, Q, m) = (2, 0, 0, 12): 0.04407588245876601\n"
     ]
    },
    {
     "name": "stderr",
     "output_type": "stream",
     "text": [
      "C:\\Users\\wodar\\miniconda3\\envs\\conda-env\\lib\\site-packages\\statsmodels\\tsa\\statespace\\sarimax.py:978: UserWarning: Non-invertible starting MA parameters found. Using zeros as starting parameters.\n",
      "  warn('Non-invertible starting MA parameters found.'\n",
      "C:\\Users\\wodar\\miniconda3\\envs\\conda-env\\lib\\site-packages\\statsmodels\\base\\model.py:566: ConvergenceWarning: Maximum Likelihood optimization failed to converge. Check mle_retvals\n",
      "  warnings.warn(\"Maximum Likelihood optimization failed to \"\n",
      "C:\\Users\\wodar\\miniconda3\\envs\\conda-env\\lib\\site-packages\\statsmodels\\tsa\\statespace\\sarimax.py:978: UserWarning: Non-invertible starting MA parameters found. Using zeros as starting parameters.\n",
      "  warn('Non-invertible starting MA parameters found.'\n",
      "C:\\Users\\wodar\\miniconda3\\envs\\conda-env\\lib\\site-packages\\statsmodels\\tsa\\statespace\\sarimax.py:997: UserWarning: Non-stationary starting seasonal autoregressive Using zeros as starting parameters.\n",
      "  warn('Non-stationary starting seasonal autoregressive'\n"
     ]
    },
    {
     "name": "stdout",
     "output_type": "stream",
     "text": [
      "Score for (p, d, q) = (0, 0, 1), (P, D, Q, m) = (2, 0, 1, 12): 0.004557252348348582\n",
      "New best score!\n"
     ]
    },
    {
     "name": "stderr",
     "output_type": "stream",
     "text": [
      "C:\\Users\\wodar\\miniconda3\\envs\\conda-env\\lib\\site-packages\\statsmodels\\base\\model.py:566: ConvergenceWarning: Maximum Likelihood optimization failed to converge. Check mle_retvals\n",
      "  warnings.warn(\"Maximum Likelihood optimization failed to \"\n"
     ]
    },
    {
     "name": "stdout",
     "output_type": "stream",
     "text": [
      "Score for (p, d, q) = (0, 0, 1), (P, D, Q, m) = (2, 0, 2, 12): 0.0035905976451858614\n",
      "New best score!\n",
      "Score for (p, d, q) = (0, 0, 1), (P, D, Q, m) = (2, 1, 0, 12): 0.006292625398373114\n"
     ]
    },
    {
     "name": "stderr",
     "output_type": "stream",
     "text": [
      "C:\\Users\\wodar\\miniconda3\\envs\\conda-env\\lib\\site-packages\\statsmodels\\base\\model.py:566: ConvergenceWarning: Maximum Likelihood optimization failed to converge. Check mle_retvals\n",
      "  warnings.warn(\"Maximum Likelihood optimization failed to \"\n"
     ]
    },
    {
     "name": "stdout",
     "output_type": "stream",
     "text": [
      "Score for (p, d, q) = (0, 0, 1), (P, D, Q, m) = (2, 1, 1, 12): 0.008178092186192695\n"
     ]
    },
    {
     "name": "stderr",
     "output_type": "stream",
     "text": [
      "C:\\Users\\wodar\\miniconda3\\envs\\conda-env\\lib\\site-packages\\statsmodels\\base\\model.py:566: ConvergenceWarning: Maximum Likelihood optimization failed to converge. Check mle_retvals\n",
      "  warnings.warn(\"Maximum Likelihood optimization failed to \"\n"
     ]
    },
    {
     "name": "stdout",
     "output_type": "stream",
     "text": [
      "Score for (p, d, q) = (0, 0, 1), (P, D, Q, m) = (2, 1, 2, 12): 0.006860096041712064\n",
      "Score for (p, d, q) = (0, 0, 1), (P, D, Q, m) = (2, 2, 0, 12): 0.009249936828013599\n",
      "Score for (p, d, q) = (0, 0, 1), (P, D, Q, m) = (2, 2, 1, 12): 0.011939618446184868\n"
     ]
    },
    {
     "name": "stderr",
     "output_type": "stream",
     "text": [
      "C:\\Users\\wodar\\miniconda3\\envs\\conda-env\\lib\\site-packages\\statsmodels\\tsa\\statespace\\sarimax.py:1009: UserWarning: Non-invertible starting seasonal moving average Using zeros as starting parameters.\n",
      "  warn('Non-invertible starting seasonal moving average'\n",
      "C:\\Users\\wodar\\miniconda3\\envs\\conda-env\\lib\\site-packages\\statsmodels\\base\\model.py:566: ConvergenceWarning: Maximum Likelihood optimization failed to converge. Check mle_retvals\n",
      "  warnings.warn(\"Maximum Likelihood optimization failed to \"\n",
      "C:\\Users\\wodar\\miniconda3\\envs\\conda-env\\lib\\site-packages\\statsmodels\\tsa\\statespace\\sarimax.py:1009: UserWarning: Non-invertible starting seasonal moving average Using zeros as starting parameters.\n",
      "  warn('Non-invertible starting seasonal moving average'\n"
     ]
    },
    {
     "name": "stdout",
     "output_type": "stream",
     "text": [
      "Score for (p, d, q) = (0, 0, 1), (P, D, Q, m) = (2, 2, 2, 12): 0.0075068268306308005\n",
      "Score for (p, d, q) = (0, 0, 2), (P, D, Q, m) = (0, 0, 0, 12): 0.44749552340335497\n"
     ]
    },
    {
     "name": "stderr",
     "output_type": "stream",
     "text": [
      "C:\\Users\\wodar\\miniconda3\\envs\\conda-env\\lib\\site-packages\\statsmodels\\base\\model.py:566: ConvergenceWarning: Maximum Likelihood optimization failed to converge. Check mle_retvals\n",
      "  warnings.warn(\"Maximum Likelihood optimization failed to \"\n",
      "C:\\Users\\wodar\\miniconda3\\envs\\conda-env\\lib\\site-packages\\statsmodels\\tsa\\statespace\\sarimax.py:1009: UserWarning: Non-invertible starting seasonal moving average Using zeros as starting parameters.\n",
      "  warn('Non-invertible starting seasonal moving average'\n"
     ]
    },
    {
     "name": "stdout",
     "output_type": "stream",
     "text": [
      "Score for (p, d, q) = (0, 0, 2), (P, D, Q, m) = (0, 0, 1, 12): 0.35636756882049286\n"
     ]
    },
    {
     "name": "stderr",
     "output_type": "stream",
     "text": [
      "C:\\Users\\wodar\\miniconda3\\envs\\conda-env\\lib\\site-packages\\statsmodels\\base\\model.py:566: ConvergenceWarning: Maximum Likelihood optimization failed to converge. Check mle_retvals\n",
      "  warnings.warn(\"Maximum Likelihood optimization failed to \"\n"
     ]
    },
    {
     "name": "stdout",
     "output_type": "stream",
     "text": [
      "Score for (p, d, q) = (0, 0, 2), (P, D, Q, m) = (0, 0, 2, 12): 0.23170110315121004\n",
      "Score for (p, d, q) = (0, 0, 2), (P, D, Q, m) = (0, 1, 0, 12): 0.030046512456597903\n",
      "Score for (p, d, q) = (0, 0, 2), (P, D, Q, m) = (0, 1, 1, 12): 0.026405496433001857\n"
     ]
    },
    {
     "name": "stderr",
     "output_type": "stream",
     "text": [
      "C:\\Users\\wodar\\miniconda3\\envs\\conda-env\\lib\\site-packages\\statsmodels\\tsa\\statespace\\sarimax.py:1009: UserWarning: Non-invertible starting seasonal moving average Using zeros as starting parameters.\n",
      "  warn('Non-invertible starting seasonal moving average'\n"
     ]
    },
    {
     "name": "stdout",
     "output_type": "stream",
     "text": [
      "Score for (p, d, q) = (0, 0, 2), (P, D, Q, m) = (0, 1, 2, 12): 0.023535936691455567\n",
      "Score for (p, d, q) = (0, 0, 2), (P, D, Q, m) = (0, 2, 0, 12): 0.011745638831763239\n",
      "Score for (p, d, q) = (0, 0, 2), (P, D, Q, m) = (0, 2, 1, 12): 0.006888598346228852\n"
     ]
    },
    {
     "name": "stderr",
     "output_type": "stream",
     "text": [
      "C:\\Users\\wodar\\miniconda3\\envs\\conda-env\\lib\\site-packages\\statsmodels\\tsa\\statespace\\sarimax.py:1009: UserWarning: Non-invertible starting seasonal moving average Using zeros as starting parameters.\n",
      "  warn('Non-invertible starting seasonal moving average'\n",
      "C:\\Users\\wodar\\miniconda3\\envs\\conda-env\\lib\\site-packages\\statsmodels\\base\\model.py:566: ConvergenceWarning: Maximum Likelihood optimization failed to converge. Check mle_retvals\n",
      "  warnings.warn(\"Maximum Likelihood optimization failed to \"\n"
     ]
    },
    {
     "name": "stdout",
     "output_type": "stream",
     "text": [
      "Score for (p, d, q) = (0, 0, 2), (P, D, Q, m) = (0, 2, 2, 12): 0.010660388724097632\n",
      "Score for (p, d, q) = (0, 0, 2), (P, D, Q, m) = (1, 0, 0, 12): 0.04491952724982453\n"
     ]
    },
    {
     "name": "stderr",
     "output_type": "stream",
     "text": [
      "C:\\Users\\wodar\\miniconda3\\envs\\conda-env\\lib\\site-packages\\statsmodels\\tsa\\statespace\\sarimax.py:997: UserWarning: Non-stationary starting seasonal autoregressive Using zeros as starting parameters.\n",
      "  warn('Non-stationary starting seasonal autoregressive'\n"
     ]
    },
    {
     "name": "stdout",
     "output_type": "stream",
     "text": [
      "Score for (p, d, q) = (0, 0, 2), (P, D, Q, m) = (1, 0, 1, 12): 0.04625179350971422\n"
     ]
    },
    {
     "name": "stderr",
     "output_type": "stream",
     "text": [
      "C:\\Users\\wodar\\miniconda3\\envs\\conda-env\\lib\\site-packages\\statsmodels\\tsa\\statespace\\sarimax.py:997: UserWarning: Non-stationary starting seasonal autoregressive Using zeros as starting parameters.\n",
      "  warn('Non-stationary starting seasonal autoregressive'\n",
      "C:\\Users\\wodar\\miniconda3\\envs\\conda-env\\lib\\site-packages\\statsmodels\\tsa\\statespace\\sarimax.py:1009: UserWarning: Non-invertible starting seasonal moving average Using zeros as starting parameters.\n",
      "  warn('Non-invertible starting seasonal moving average'\n"
     ]
    },
    {
     "name": "stdout",
     "output_type": "stream",
     "text": [
      "Score for (p, d, q) = (0, 0, 2), (P, D, Q, m) = (1, 0, 2, 12): 0.04740856655160286\n",
      "Score for (p, d, q) = (0, 0, 2), (P, D, Q, m) = (1, 1, 0, 12): 0.01955972563865501\n"
     ]
    },
    {
     "name": "stderr",
     "output_type": "stream",
     "text": [
      "C:\\Users\\wodar\\miniconda3\\envs\\conda-env\\lib\\site-packages\\statsmodels\\base\\model.py:566: ConvergenceWarning: Maximum Likelihood optimization failed to converge. Check mle_retvals\n",
      "  warnings.warn(\"Maximum Likelihood optimization failed to \"\n",
      "C:\\Users\\wodar\\miniconda3\\envs\\conda-env\\lib\\site-packages\\statsmodels\\tsa\\statespace\\sarimax.py:1009: UserWarning: Non-invertible starting seasonal moving average Using zeros as starting parameters.\n",
      "  warn('Non-invertible starting seasonal moving average'\n"
     ]
    },
    {
     "name": "stdout",
     "output_type": "stream",
     "text": [
      "Score for (p, d, q) = (0, 0, 2), (P, D, Q, m) = (1, 1, 1, 12): 0.00436826414953307\n"
     ]
    },
    {
     "name": "stderr",
     "output_type": "stream",
     "text": [
      "C:\\Users\\wodar\\miniconda3\\envs\\conda-env\\lib\\site-packages\\statsmodels\\base\\model.py:566: ConvergenceWarning: Maximum Likelihood optimization failed to converge. Check mle_retvals\n",
      "  warnings.warn(\"Maximum Likelihood optimization failed to \"\n"
     ]
    },
    {
     "name": "stdout",
     "output_type": "stream",
     "text": [
      "Score for (p, d, q) = (0, 0, 2), (P, D, Q, m) = (1, 1, 2, 12): 0.009340605475836516\n",
      "Score for (p, d, q) = (0, 0, 2), (P, D, Q, m) = (1, 2, 0, 12): 0.007458946625765283\n",
      "Score for (p, d, q) = (0, 0, 2), (P, D, Q, m) = (1, 2, 1, 12): 0.008477658840604075\n"
     ]
    },
    {
     "name": "stderr",
     "output_type": "stream",
     "text": [
      "C:\\Users\\wodar\\miniconda3\\envs\\conda-env\\lib\\site-packages\\statsmodels\\tsa\\statespace\\sarimax.py:1009: UserWarning: Non-invertible starting seasonal moving average Using zeros as starting parameters.\n",
      "  warn('Non-invertible starting seasonal moving average'\n",
      "C:\\Users\\wodar\\miniconda3\\envs\\conda-env\\lib\\site-packages\\statsmodels\\base\\model.py:566: ConvergenceWarning: Maximum Likelihood optimization failed to converge. Check mle_retvals\n",
      "  warnings.warn(\"Maximum Likelihood optimization failed to \"\n"
     ]
    },
    {
     "name": "stdout",
     "output_type": "stream",
     "text": [
      "Score for (p, d, q) = (0, 0, 2), (P, D, Q, m) = (1, 2, 2, 12): 0.010760838921313395\n",
      "Score for (p, d, q) = (0, 0, 2), (P, D, Q, m) = (2, 0, 0, 12): 0.04580855775977143\n"
     ]
    },
    {
     "name": "stderr",
     "output_type": "stream",
     "text": [
      "C:\\Users\\wodar\\miniconda3\\envs\\conda-env\\lib\\site-packages\\statsmodels\\base\\model.py:566: ConvergenceWarning: Maximum Likelihood optimization failed to converge. Check mle_retvals\n",
      "  warnings.warn(\"Maximum Likelihood optimization failed to \"\n",
      "C:\\Users\\wodar\\miniconda3\\envs\\conda-env\\lib\\site-packages\\statsmodels\\tsa\\statespace\\sarimax.py:997: UserWarning: Non-stationary starting seasonal autoregressive Using zeros as starting parameters.\n",
      "  warn('Non-stationary starting seasonal autoregressive'\n"
     ]
    },
    {
     "name": "stdout",
     "output_type": "stream",
     "text": [
      "Score for (p, d, q) = (0, 0, 2), (P, D, Q, m) = (2, 0, 1, 12): 0.002451514564160782\n",
      "New best score!\n"
     ]
    },
    {
     "name": "stderr",
     "output_type": "stream",
     "text": [
      "C:\\Users\\wodar\\miniconda3\\envs\\conda-env\\lib\\site-packages\\statsmodels\\base\\model.py:566: ConvergenceWarning: Maximum Likelihood optimization failed to converge. Check mle_retvals\n",
      "  warnings.warn(\"Maximum Likelihood optimization failed to \"\n"
     ]
    },
    {
     "name": "stdout",
     "output_type": "stream",
     "text": [
      "Score for (p, d, q) = (0, 0, 2), (P, D, Q, m) = (2, 0, 2, 12): 0.012446385728680606\n",
      "Score for (p, d, q) = (0, 0, 2), (P, D, Q, m) = (2, 1, 0, 12): 0.007332186124049443\n"
     ]
    },
    {
     "name": "stderr",
     "output_type": "stream",
     "text": [
      "C:\\Users\\wodar\\miniconda3\\envs\\conda-env\\lib\\site-packages\\statsmodels\\base\\model.py:566: ConvergenceWarning: Maximum Likelihood optimization failed to converge. Check mle_retvals\n",
      "  warnings.warn(\"Maximum Likelihood optimization failed to \"\n"
     ]
    },
    {
     "name": "stdout",
     "output_type": "stream",
     "text": [
      "Score for (p, d, q) = (0, 0, 2), (P, D, Q, m) = (2, 1, 1, 12): 0.005977286277724701\n"
     ]
    },
    {
     "name": "stderr",
     "output_type": "stream",
     "text": [
      "C:\\Users\\wodar\\miniconda3\\envs\\conda-env\\lib\\site-packages\\statsmodels\\base\\model.py:566: ConvergenceWarning: Maximum Likelihood optimization failed to converge. Check mle_retvals\n",
      "  warnings.warn(\"Maximum Likelihood optimization failed to \"\n"
     ]
    },
    {
     "name": "stdout",
     "output_type": "stream",
     "text": [
      "Score for (p, d, q) = (0, 0, 2), (P, D, Q, m) = (2, 1, 2, 12): 0.004930152030244748\n",
      "Score for (p, d, q) = (0, 0, 2), (P, D, Q, m) = (2, 2, 0, 12): 0.007717754971493978\n"
     ]
    },
    {
     "name": "stderr",
     "output_type": "stream",
     "text": [
      "C:\\Users\\wodar\\miniconda3\\envs\\conda-env\\lib\\site-packages\\statsmodels\\base\\model.py:566: ConvergenceWarning: Maximum Likelihood optimization failed to converge. Check mle_retvals\n",
      "  warnings.warn(\"Maximum Likelihood optimization failed to \"\n",
      "C:\\Users\\wodar\\miniconda3\\envs\\conda-env\\lib\\site-packages\\statsmodels\\tsa\\statespace\\sarimax.py:1009: UserWarning: Non-invertible starting seasonal moving average Using zeros as starting parameters.\n",
      "  warn('Non-invertible starting seasonal moving average'\n"
     ]
    },
    {
     "name": "stdout",
     "output_type": "stream",
     "text": [
      "Score for (p, d, q) = (0, 0, 2), (P, D, Q, m) = (2, 2, 1, 12): 0.010019949086600179\n"
     ]
    },
    {
     "name": "stderr",
     "output_type": "stream",
     "text": [
      "C:\\Users\\wodar\\miniconda3\\envs\\conda-env\\lib\\site-packages\\statsmodels\\base\\model.py:566: ConvergenceWarning: Maximum Likelihood optimization failed to converge. Check mle_retvals\n",
      "  warnings.warn(\"Maximum Likelihood optimization failed to \"\n"
     ]
    },
    {
     "name": "stdout",
     "output_type": "stream",
     "text": [
      "Score for (p, d, q) = (0, 0, 2), (P, D, Q, m) = (2, 2, 2, 12): 0.011351024533132638\n",
      "Score for (p, d, q) = (0, 1, 0), (P, D, Q, m) = (0, 0, 0, 12): 0.04532078978801865\n",
      "Score for (p, d, q) = (0, 1, 0), (P, D, Q, m) = (0, 0, 1, 12): 0.02407127336810913\n"
     ]
    },
    {
     "name": "stderr",
     "output_type": "stream",
     "text": [
      "C:\\Users\\wodar\\miniconda3\\envs\\conda-env\\lib\\site-packages\\statsmodels\\tsa\\statespace\\sarimax.py:1009: UserWarning: Non-invertible starting seasonal moving average Using zeros as starting parameters.\n",
      "  warn('Non-invertible starting seasonal moving average'\n"
     ]
    },
    {
     "name": "stdout",
     "output_type": "stream",
     "text": [
      "Score for (p, d, q) = (0, 1, 0), (P, D, Q, m) = (0, 0, 2, 12): 0.018112067884967487\n",
      "Score for (p, d, q) = (0, 1, 0), (P, D, Q, m) = (0, 1, 0, 12): 0.006568844645639373\n"
     ]
    },
    {
     "name": "stderr",
     "output_type": "stream",
     "text": [
      "C:\\Users\\wodar\\miniconda3\\envs\\conda-env\\lib\\site-packages\\statsmodels\\base\\model.py:566: ConvergenceWarning: Maximum Likelihood optimization failed to converge. Check mle_retvals\n",
      "  warnings.warn(\"Maximum Likelihood optimization failed to \"\n",
      "C:\\Users\\wodar\\miniconda3\\envs\\conda-env\\lib\\site-packages\\statsmodels\\base\\model.py:566: ConvergenceWarning: Maximum Likelihood optimization failed to converge. Check mle_retvals\n",
      "  warnings.warn(\"Maximum Likelihood optimization failed to \"\n",
      "C:\\Users\\wodar\\miniconda3\\envs\\conda-env\\lib\\site-packages\\statsmodels\\tsa\\statespace\\sarimax.py:1009: UserWarning: Non-invertible starting seasonal moving average Using zeros as starting parameters.\n",
      "  warn('Non-invertible starting seasonal moving average'\n"
     ]
    },
    {
     "name": "stdout",
     "output_type": "stream",
     "text": [
      "Score for (p, d, q) = (0, 1, 0), (P, D, Q, m) = (0, 1, 1, 12): 0.0013232993257573324\n",
      "New best score!\n",
      "Score for (p, d, q) = (0, 1, 0), (P, D, Q, m) = (0, 1, 2, 12): 0.001310231726518932\n",
      "New best score!\n",
      "Score for (p, d, q) = (0, 1, 0), (P, D, Q, m) = (0, 2, 0, 12): 0.0500775606736254\n",
      "Score for (p, d, q) = (0, 1, 0), (P, D, Q, m) = (0, 2, 1, 12): 0.009013874663845992\n"
     ]
    },
    {
     "name": "stderr",
     "output_type": "stream",
     "text": [
      "C:\\Users\\wodar\\miniconda3\\envs\\conda-env\\lib\\site-packages\\statsmodels\\tsa\\statespace\\sarimax.py:1009: UserWarning: Non-invertible starting seasonal moving average Using zeros as starting parameters.\n",
      "  warn('Non-invertible starting seasonal moving average'\n"
     ]
    },
    {
     "name": "stdout",
     "output_type": "stream",
     "text": [
      "Score for (p, d, q) = (0, 1, 0), (P, D, Q, m) = (0, 2, 2, 12): 0.0014061964249463424\n",
      "Score for (p, d, q) = (0, 1, 0), (P, D, Q, m) = (1, 0, 0, 12): 0.004093303802480765\n",
      "Score for (p, d, q) = (0, 1, 0), (P, D, Q, m) = (1, 0, 1, 12): 0.001632325704883964\n",
      "Score for (p, d, q) = (0, 1, 0), (P, D, Q, m) = (1, 0, 2, 12): 0.0016349220599084276\n",
      "Score for (p, d, q) = (0, 1, 0), (P, D, Q, m) = (1, 1, 0, 12): 0.0025397583363190295\n",
      "Score for (p, d, q) = (0, 1, 0), (P, D, Q, m) = (1, 1, 1, 12): 0.0013136377531684105\n"
     ]
    },
    {
     "name": "stderr",
     "output_type": "stream",
     "text": [
      "C:\\Users\\wodar\\miniconda3\\envs\\conda-env\\lib\\site-packages\\statsmodels\\tsa\\statespace\\sarimax.py:1009: UserWarning: Non-invertible starting seasonal moving average Using zeros as starting parameters.\n",
      "  warn('Non-invertible starting seasonal moving average'\n"
     ]
    },
    {
     "name": "stdout",
     "output_type": "stream",
     "text": [
      "Score for (p, d, q) = (0, 1, 0), (P, D, Q, m) = (1, 1, 2, 12): 0.0013680341352714466\n",
      "Score for (p, d, q) = (0, 1, 0), (P, D, Q, m) = (1, 2, 0, 12): 0.02656466898090678\n",
      "Score for (p, d, q) = (0, 1, 0), (P, D, Q, m) = (1, 2, 1, 12): 0.0055745409924345705\n"
     ]
    },
    {
     "name": "stderr",
     "output_type": "stream",
     "text": [
      "C:\\Users\\wodar\\miniconda3\\envs\\conda-env\\lib\\site-packages\\statsmodels\\tsa\\statespace\\sarimax.py:1009: UserWarning: Non-invertible starting seasonal moving average Using zeros as starting parameters.\n",
      "  warn('Non-invertible starting seasonal moving average'\n",
      "C:\\Users\\wodar\\miniconda3\\envs\\conda-env\\lib\\site-packages\\statsmodels\\base\\model.py:566: ConvergenceWarning: Maximum Likelihood optimization failed to converge. Check mle_retvals\n",
      "  warnings.warn(\"Maximum Likelihood optimization failed to \"\n"
     ]
    },
    {
     "name": "stdout",
     "output_type": "stream",
     "text": [
      "Score for (p, d, q) = (0, 1, 0), (P, D, Q, m) = (1, 2, 2, 12): 0.0015238198752237013\n",
      "Score for (p, d, q) = (0, 1, 0), (P, D, Q, m) = (2, 0, 0, 12): 0.002252595037973892\n",
      "Score for (p, d, q) = (0, 1, 0), (P, D, Q, m) = (2, 0, 1, 12): 0.0015851915959734111\n",
      "Score for (p, d, q) = (0, 1, 0), (P, D, Q, m) = (2, 0, 2, 12): 0.0015988625519007442\n",
      "Score for (p, d, q) = (0, 1, 0), (P, D, Q, m) = (2, 1, 0, 12): 0.0013116341849848299\n",
      "Score for (p, d, q) = (0, 1, 0), (P, D, Q, m) = (2, 1, 1, 12): 0.0012157501236164533\n",
      "New best score!\n"
     ]
    },
    {
     "name": "stderr",
     "output_type": "stream",
     "text": [
      "C:\\Users\\wodar\\miniconda3\\envs\\conda-env\\lib\\site-packages\\statsmodels\\tsa\\statespace\\sarimax.py:1009: UserWarning: Non-invertible starting seasonal moving average Using zeros as starting parameters.\n",
      "  warn('Non-invertible starting seasonal moving average'\n",
      "C:\\Users\\wodar\\miniconda3\\envs\\conda-env\\lib\\site-packages\\statsmodels\\base\\model.py:566: ConvergenceWarning: Maximum Likelihood optimization failed to converge. Check mle_retvals\n",
      "  warnings.warn(\"Maximum Likelihood optimization failed to \"\n"
     ]
    },
    {
     "name": "stdout",
     "output_type": "stream",
     "text": [
      "Score for (p, d, q) = (0, 1, 0), (P, D, Q, m) = (2, 1, 2, 12): 0.0012304192584395909\n",
      "Score for (p, d, q) = (0, 1, 0), (P, D, Q, m) = (2, 2, 0, 12): 0.023668644297758848\n",
      "Score for (p, d, q) = (0, 1, 0), (P, D, Q, m) = (2, 2, 1, 12): 0.003989646661296507\n"
     ]
    },
    {
     "name": "stderr",
     "output_type": "stream",
     "text": [
      "C:\\Users\\wodar\\miniconda3\\envs\\conda-env\\lib\\site-packages\\statsmodels\\tsa\\statespace\\sarimax.py:1009: UserWarning: Non-invertible starting seasonal moving average Using zeros as starting parameters.\n",
      "  warn('Non-invertible starting seasonal moving average'\n",
      "C:\\Users\\wodar\\miniconda3\\envs\\conda-env\\lib\\site-packages\\statsmodels\\base\\model.py:566: ConvergenceWarning: Maximum Likelihood optimization failed to converge. Check mle_retvals\n",
      "  warnings.warn(\"Maximum Likelihood optimization failed to \"\n"
     ]
    },
    {
     "name": "stdout",
     "output_type": "stream",
     "text": [
      "Score for (p, d, q) = (0, 1, 0), (P, D, Q, m) = (2, 2, 2, 12): 0.005999121528247745\n",
      "Score for (p, d, q) = (0, 1, 1), (P, D, Q, m) = (0, 0, 0, 12): 0.05084611547388001\n",
      "Score for (p, d, q) = (0, 1, 1), (P, D, Q, m) = (0, 0, 1, 12): 0.025403195372330562\n"
     ]
    },
    {
     "name": "stderr",
     "output_type": "stream",
     "text": [
      "C:\\Users\\wodar\\miniconda3\\envs\\conda-env\\lib\\site-packages\\statsmodels\\tsa\\statespace\\sarimax.py:1009: UserWarning: Non-invertible starting seasonal moving average Using zeros as starting parameters.\n",
      "  warn('Non-invertible starting seasonal moving average'\n"
     ]
    },
    {
     "name": "stdout",
     "output_type": "stream",
     "text": [
      "Score for (p, d, q) = (0, 1, 1), (P, D, Q, m) = (0, 0, 2, 12): 0.017161417295526303\n",
      "Score for (p, d, q) = (0, 1, 1), (P, D, Q, m) = (0, 1, 0, 12): 0.00954094443049876\n",
      "Score for (p, d, q) = (0, 1, 1), (P, D, Q, m) = (0, 1, 1, 12): 0.0011995440418041533\n",
      "New best score!\n"
     ]
    },
    {
     "name": "stderr",
     "output_type": "stream",
     "text": [
      "C:\\Users\\wodar\\miniconda3\\envs\\conda-env\\lib\\site-packages\\statsmodels\\tsa\\statespace\\sarimax.py:1009: UserWarning: Non-invertible starting seasonal moving average Using zeros as starting parameters.\n",
      "  warn('Non-invertible starting seasonal moving average'\n"
     ]
    },
    {
     "name": "stdout",
     "output_type": "stream",
     "text": [
      "Score for (p, d, q) = (0, 1, 1), (P, D, Q, m) = (0, 1, 2, 12): 0.0012439013284982602\n",
      "Score for (p, d, q) = (0, 1, 1), (P, D, Q, m) = (0, 2, 0, 12): 0.06335553814322678\n"
     ]
    },
    {
     "name": "stderr",
     "output_type": "stream",
     "text": [
      "C:\\Users\\wodar\\miniconda3\\envs\\conda-env\\lib\\site-packages\\statsmodels\\base\\model.py:566: ConvergenceWarning: Maximum Likelihood optimization failed to converge. Check mle_retvals\n",
      "  warnings.warn(\"Maximum Likelihood optimization failed to \"\n",
      "C:\\Users\\wodar\\miniconda3\\envs\\conda-env\\lib\\site-packages\\statsmodels\\tsa\\statespace\\sarimax.py:1009: UserWarning: Non-invertible starting seasonal moving average Using zeros as starting parameters.\n",
      "  warn('Non-invertible starting seasonal moving average'\n"
     ]
    },
    {
     "name": "stdout",
     "output_type": "stream",
     "text": [
      "Score for (p, d, q) = (0, 1, 1), (P, D, Q, m) = (0, 2, 1, 12): 0.013136633222053508\n",
      "Score for (p, d, q) = (0, 1, 1), (P, D, Q, m) = (0, 2, 2, 12): 0.0023586135793336512\n",
      "Score for (p, d, q) = (0, 1, 1), (P, D, Q, m) = (1, 0, 0, 12): 0.006404868542893491\n",
      "Score for (p, d, q) = (0, 1, 1), (P, D, Q, m) = (1, 0, 1, 12): 0.001308591030495231\n",
      "Score for (p, d, q) = (0, 1, 1), (P, D, Q, m) = (1, 0, 2, 12): 0.0013082006298185756\n",
      "Score for (p, d, q) = (0, 1, 1), (P, D, Q, m) = (1, 1, 0, 12): 0.0038035309492390488\n",
      "Score for (p, d, q) = (0, 1, 1), (P, D, Q, m) = (1, 1, 1, 12): 0.001235451796118174\n"
     ]
    },
    {
     "name": "stderr",
     "output_type": "stream",
     "text": [
      "C:\\Users\\wodar\\miniconda3\\envs\\conda-env\\lib\\site-packages\\statsmodels\\tsa\\statespace\\sarimax.py:1009: UserWarning: Non-invertible starting seasonal moving average Using zeros as starting parameters.\n",
      "  warn('Non-invertible starting seasonal moving average'\n"
     ]
    },
    {
     "name": "stdout",
     "output_type": "stream",
     "text": [
      "Score for (p, d, q) = (0, 1, 1), (P, D, Q, m) = (1, 1, 2, 12): 0.0012343077718329654\n"
     ]
    },
    {
     "name": "stderr",
     "output_type": "stream",
     "text": [
      "C:\\Users\\wodar\\miniconda3\\envs\\conda-env\\lib\\site-packages\\statsmodels\\base\\model.py:566: ConvergenceWarning: Maximum Likelihood optimization failed to converge. Check mle_retvals\n",
      "  warnings.warn(\"Maximum Likelihood optimization failed to \"\n"
     ]
    },
    {
     "name": "stdout",
     "output_type": "stream",
     "text": [
      "Score for (p, d, q) = (0, 1, 1), (P, D, Q, m) = (1, 2, 0, 12): 0.04568775992362769\n",
      "Score for (p, d, q) = (0, 1, 1), (P, D, Q, m) = (1, 2, 1, 12): 0.008197151291957836\n"
     ]
    },
    {
     "name": "stderr",
     "output_type": "stream",
     "text": [
      "C:\\Users\\wodar\\miniconda3\\envs\\conda-env\\lib\\site-packages\\statsmodels\\tsa\\statespace\\sarimax.py:1009: UserWarning: Non-invertible starting seasonal moving average Using zeros as starting parameters.\n",
      "  warn('Non-invertible starting seasonal moving average'\n",
      "C:\\Users\\wodar\\miniconda3\\envs\\conda-env\\lib\\site-packages\\statsmodels\\base\\model.py:566: ConvergenceWarning: Maximum Likelihood optimization failed to converge. Check mle_retvals\n",
      "  warnings.warn(\"Maximum Likelihood optimization failed to \"\n"
     ]
    },
    {
     "name": "stdout",
     "output_type": "stream",
     "text": [
      "Score for (p, d, q) = (0, 1, 1), (P, D, Q, m) = (1, 2, 2, 12): 0.002167615477482576\n",
      "Score for (p, d, q) = (0, 1, 1), (P, D, Q, m) = (2, 0, 0, 12): 0.0032619615681618867\n",
      "Score for (p, d, q) = (0, 1, 1), (P, D, Q, m) = (2, 0, 1, 12): 0.0013057129092395408\n",
      "Score for (p, d, q) = (0, 1, 1), (P, D, Q, m) = (2, 0, 2, 12): 0.001328914745449033\n",
      "Score for (p, d, q) = (0, 1, 1), (P, D, Q, m) = (2, 1, 0, 12): 0.0017321676994823782\n"
     ]
    },
    {
     "name": "stderr",
     "output_type": "stream",
     "text": [
      "C:\\Users\\wodar\\miniconda3\\envs\\conda-env\\lib\\site-packages\\statsmodels\\base\\model.py:566: ConvergenceWarning: Maximum Likelihood optimization failed to converge. Check mle_retvals\n",
      "  warnings.warn(\"Maximum Likelihood optimization failed to \"\n",
      "C:\\Users\\wodar\\miniconda3\\envs\\conda-env\\lib\\site-packages\\statsmodels\\tsa\\statespace\\sarimax.py:1009: UserWarning: Non-invertible starting seasonal moving average Using zeros as starting parameters.\n",
      "  warn('Non-invertible starting seasonal moving average'\n"
     ]
    },
    {
     "name": "stdout",
     "output_type": "stream",
     "text": [
      "Score for (p, d, q) = (0, 1, 1), (P, D, Q, m) = (2, 1, 1, 12): 0.0012004332841626087\n",
      "Score for (p, d, q) = (0, 1, 1), (P, D, Q, m) = (2, 1, 2, 12): 0.001221966179933127\n",
      "Score for (p, d, q) = (0, 1, 1), (P, D, Q, m) = (2, 2, 0, 12): 0.03236768856866256\n"
     ]
    },
    {
     "name": "stderr",
     "output_type": "stream",
     "text": [
      "C:\\Users\\wodar\\miniconda3\\envs\\conda-env\\lib\\site-packages\\statsmodels\\base\\model.py:566: ConvergenceWarning: Maximum Likelihood optimization failed to converge. Check mle_retvals\n",
      "  warnings.warn(\"Maximum Likelihood optimization failed to \"\n",
      "C:\\Users\\wodar\\miniconda3\\envs\\conda-env\\lib\\site-packages\\statsmodels\\tsa\\statespace\\sarimax.py:1009: UserWarning: Non-invertible starting seasonal moving average Using zeros as starting parameters.\n",
      "  warn('Non-invertible starting seasonal moving average'\n"
     ]
    },
    {
     "name": "stdout",
     "output_type": "stream",
     "text": [
      "Score for (p, d, q) = (0, 1, 1), (P, D, Q, m) = (2, 2, 1, 12): 0.0055769404063137715\n"
     ]
    },
    {
     "name": "stderr",
     "output_type": "stream",
     "text": [
      "C:\\Users\\wodar\\miniconda3\\envs\\conda-env\\lib\\site-packages\\statsmodels\\base\\model.py:566: ConvergenceWarning: Maximum Likelihood optimization failed to converge. Check mle_retvals\n",
      "  warnings.warn(\"Maximum Likelihood optimization failed to \"\n"
     ]
    },
    {
     "name": "stdout",
     "output_type": "stream",
     "text": [
      "Score for (p, d, q) = (0, 1, 1), (P, D, Q, m) = (2, 2, 2, 12): 0.0054398567675710005\n",
      "Score for (p, d, q) = (0, 1, 2), (P, D, Q, m) = (0, 0, 0, 12): 0.03506063641190179\n",
      "Score for (p, d, q) = (0, 1, 2), (P, D, Q, m) = (0, 0, 1, 12): 0.02200328733504829\n"
     ]
    },
    {
     "name": "stderr",
     "output_type": "stream",
     "text": [
      "C:\\Users\\wodar\\miniconda3\\envs\\conda-env\\lib\\site-packages\\statsmodels\\tsa\\statespace\\sarimax.py:1009: UserWarning: Non-invertible starting seasonal moving average Using zeros as starting parameters.\n",
      "  warn('Non-invertible starting seasonal moving average'\n"
     ]
    },
    {
     "name": "stdout",
     "output_type": "stream",
     "text": [
      "Score for (p, d, q) = (0, 1, 2), (P, D, Q, m) = (0, 0, 2, 12): 0.015835987946977038\n",
      "Score for (p, d, q) = (0, 1, 2), (P, D, Q, m) = (0, 1, 0, 12): 0.009786738215564413\n",
      "Score for (p, d, q) = (0, 1, 2), (P, D, Q, m) = (0, 1, 1, 12): 0.0012288062480119487\n"
     ]
    },
    {
     "name": "stderr",
     "output_type": "stream",
     "text": [
      "C:\\Users\\wodar\\miniconda3\\envs\\conda-env\\lib\\site-packages\\statsmodels\\tsa\\statespace\\sarimax.py:1009: UserWarning: Non-invertible starting seasonal moving average Using zeros as starting parameters.\n",
      "  warn('Non-invertible starting seasonal moving average'\n"
     ]
    },
    {
     "name": "stdout",
     "output_type": "stream",
     "text": [
      "Score for (p, d, q) = (0, 1, 2), (P, D, Q, m) = (0, 1, 2, 12): 0.0012766064562708495\n",
      "Score for (p, d, q) = (0, 1, 2), (P, D, Q, m) = (0, 2, 0, 12): 0.06383835601930933\n",
      "Score for (p, d, q) = (0, 1, 2), (P, D, Q, m) = (0, 2, 1, 12): 0.013182221424924971\n"
     ]
    },
    {
     "name": "stderr",
     "output_type": "stream",
     "text": [
      "C:\\Users\\wodar\\miniconda3\\envs\\conda-env\\lib\\site-packages\\statsmodels\\tsa\\statespace\\sarimax.py:1009: UserWarning: Non-invertible starting seasonal moving average Using zeros as starting parameters.\n",
      "  warn('Non-invertible starting seasonal moving average'\n"
     ]
    },
    {
     "name": "stdout",
     "output_type": "stream",
     "text": [
      "Score for (p, d, q) = (0, 1, 2), (P, D, Q, m) = (0, 2, 2, 12): 0.002072726834570057\n",
      "Score for (p, d, q) = (0, 1, 2), (P, D, Q, m) = (1, 0, 0, 12): 0.007070311508915899\n"
     ]
    },
    {
     "name": "stderr",
     "output_type": "stream",
     "text": [
      "C:\\Users\\wodar\\miniconda3\\envs\\conda-env\\lib\\site-packages\\statsmodels\\base\\model.py:566: ConvergenceWarning: Maximum Likelihood optimization failed to converge. Check mle_retvals\n",
      "  warnings.warn(\"Maximum Likelihood optimization failed to \"\n"
     ]
    },
    {
     "name": "stdout",
     "output_type": "stream",
     "text": [
      "Score for (p, d, q) = (0, 1, 2), (P, D, Q, m) = (1, 0, 1, 12): 0.0013231570062164312\n"
     ]
    },
    {
     "name": "stderr",
     "output_type": "stream",
     "text": [
      "C:\\Users\\wodar\\miniconda3\\envs\\conda-env\\lib\\site-packages\\statsmodels\\base\\model.py:566: ConvergenceWarning: Maximum Likelihood optimization failed to converge. Check mle_retvals\n",
      "  warnings.warn(\"Maximum Likelihood optimization failed to \"\n"
     ]
    },
    {
     "name": "stdout",
     "output_type": "stream",
     "text": [
      "Score for (p, d, q) = (0, 1, 2), (P, D, Q, m) = (1, 0, 2, 12): 0.0013464332034461906\n",
      "Score for (p, d, q) = (0, 1, 2), (P, D, Q, m) = (1, 1, 0, 12): 0.0038585722965876136\n",
      "Score for (p, d, q) = (0, 1, 2), (P, D, Q, m) = (1, 1, 1, 12): 0.0012702121756845053\n"
     ]
    },
    {
     "name": "stderr",
     "output_type": "stream",
     "text": [
      "C:\\Users\\wodar\\miniconda3\\envs\\conda-env\\lib\\site-packages\\statsmodels\\tsa\\statespace\\sarimax.py:1009: UserWarning: Non-invertible starting seasonal moving average Using zeros as starting parameters.\n",
      "  warn('Non-invertible starting seasonal moving average'\n"
     ]
    },
    {
     "name": "stdout",
     "output_type": "stream",
     "text": [
      "Score for (p, d, q) = (0, 1, 2), (P, D, Q, m) = (1, 1, 2, 12): 0.0012615796618091466\n",
      "Score for (p, d, q) = (0, 1, 2), (P, D, Q, m) = (1, 2, 0, 12): 0.04609140739211275\n"
     ]
    },
    {
     "name": "stderr",
     "output_type": "stream",
     "text": [
      "C:\\Users\\wodar\\miniconda3\\envs\\conda-env\\lib\\site-packages\\statsmodels\\base\\model.py:566: ConvergenceWarning: Maximum Likelihood optimization failed to converge. Check mle_retvals\n",
      "  warnings.warn(\"Maximum Likelihood optimization failed to \"\n",
      "C:\\Users\\wodar\\miniconda3\\envs\\conda-env\\lib\\site-packages\\statsmodels\\tsa\\statespace\\sarimax.py:1009: UserWarning: Non-invertible starting seasonal moving average Using zeros as starting parameters.\n",
      "  warn('Non-invertible starting seasonal moving average'\n"
     ]
    },
    {
     "name": "stdout",
     "output_type": "stream",
     "text": [
      "Score for (p, d, q) = (0, 1, 2), (P, D, Q, m) = (1, 2, 1, 12): 0.008316473323485011\n"
     ]
    },
    {
     "name": "stderr",
     "output_type": "stream",
     "text": [
      "C:\\Users\\wodar\\miniconda3\\envs\\conda-env\\lib\\site-packages\\statsmodels\\base\\model.py:566: ConvergenceWarning: Maximum Likelihood optimization failed to converge. Check mle_retvals\n",
      "  warnings.warn(\"Maximum Likelihood optimization failed to \"\n"
     ]
    },
    {
     "name": "stdout",
     "output_type": "stream",
     "text": [
      "Score for (p, d, q) = (0, 1, 2), (P, D, Q, m) = (1, 2, 2, 12): 0.002214868115326557\n",
      "Score for (p, d, q) = (0, 1, 2), (P, D, Q, m) = (2, 0, 0, 12): 0.0034975022102984093\n",
      "Score for (p, d, q) = (0, 1, 2), (P, D, Q, m) = (2, 0, 1, 12): 0.0013293419502968364\n"
     ]
    },
    {
     "name": "stderr",
     "output_type": "stream",
     "text": [
      "C:\\Users\\wodar\\miniconda3\\envs\\conda-env\\lib\\site-packages\\statsmodels\\base\\model.py:566: ConvergenceWarning: Maximum Likelihood optimization failed to converge. Check mle_retvals\n",
      "  warnings.warn(\"Maximum Likelihood optimization failed to \"\n"
     ]
    },
    {
     "name": "stdout",
     "output_type": "stream",
     "text": [
      "Score for (p, d, q) = (0, 1, 2), (P, D, Q, m) = (2, 0, 2, 12): 0.0013903603262653374\n",
      "Score for (p, d, q) = (0, 1, 2), (P, D, Q, m) = (2, 1, 0, 12): 0.0017775125292385538\n",
      "Score for (p, d, q) = (0, 1, 2), (P, D, Q, m) = (2, 1, 1, 12): 0.0012231344654433569\n"
     ]
    },
    {
     "name": "stderr",
     "output_type": "stream",
     "text": [
      "C:\\Users\\wodar\\miniconda3\\envs\\conda-env\\lib\\site-packages\\statsmodels\\tsa\\statespace\\sarimax.py:1009: UserWarning: Non-invertible starting seasonal moving average Using zeros as starting parameters.\n",
      "  warn('Non-invertible starting seasonal moving average'\n"
     ]
    },
    {
     "name": "stdout",
     "output_type": "stream",
     "text": [
      "Score for (p, d, q) = (0, 1, 2), (P, D, Q, m) = (2, 1, 2, 12): 0.001247877082452988\n",
      "Score for (p, d, q) = (0, 1, 2), (P, D, Q, m) = (2, 2, 0, 12): 0.03274280630510753\n"
     ]
    },
    {
     "name": "stderr",
     "output_type": "stream",
     "text": [
      "C:\\Users\\wodar\\miniconda3\\envs\\conda-env\\lib\\site-packages\\statsmodels\\base\\model.py:566: ConvergenceWarning: Maximum Likelihood optimization failed to converge. Check mle_retvals\n",
      "  warnings.warn(\"Maximum Likelihood optimization failed to \"\n",
      "C:\\Users\\wodar\\miniconda3\\envs\\conda-env\\lib\\site-packages\\statsmodels\\tsa\\statespace\\sarimax.py:1009: UserWarning: Non-invertible starting seasonal moving average Using zeros as starting parameters.\n",
      "  warn('Non-invertible starting seasonal moving average'\n"
     ]
    },
    {
     "name": "stdout",
     "output_type": "stream",
     "text": [
      "Score for (p, d, q) = (0, 1, 2), (P, D, Q, m) = (2, 2, 1, 12): 0.005544563499907555\n"
     ]
    },
    {
     "name": "stderr",
     "output_type": "stream",
     "text": [
      "C:\\Users\\wodar\\miniconda3\\envs\\conda-env\\lib\\site-packages\\statsmodels\\base\\model.py:566: ConvergenceWarning: Maximum Likelihood optimization failed to converge. Check mle_retvals\n",
      "  warnings.warn(\"Maximum Likelihood optimization failed to \"\n",
      "C:\\Users\\wodar\\miniconda3\\envs\\conda-env\\lib\\site-packages\\statsmodels\\base\\model.py:566: ConvergenceWarning: Maximum Likelihood optimization failed to converge. Check mle_retvals\n",
      "  warnings.warn(\"Maximum Likelihood optimization failed to \"\n"
     ]
    },
    {
     "name": "stdout",
     "output_type": "stream",
     "text": [
      "Score for (p, d, q) = (0, 1, 2), (P, D, Q, m) = (2, 2, 2, 12): 0.002579782300518218\n",
      "Score for (p, d, q) = (0, 2, 0), (P, D, Q, m) = (0, 0, 0, 12): 4.658292589730426\n",
      "Score for (p, d, q) = (0, 2, 0), (P, D, Q, m) = (0, 0, 1, 12): 2.801396682117189\n",
      "Score for (p, d, q) = (0, 2, 0), (P, D, Q, m) = (0, 0, 2, 12): 2.7615542116570526\n",
      "Score for (p, d, q) = (0, 2, 0), (P, D, Q, m) = (0, 1, 0, 12): 0.2979698559417509\n"
     ]
    },
    {
     "name": "stderr",
     "output_type": "stream",
     "text": [
      "C:\\Users\\wodar\\miniconda3\\envs\\conda-env\\lib\\site-packages\\statsmodels\\base\\model.py:566: ConvergenceWarning: Maximum Likelihood optimization failed to converge. Check mle_retvals\n",
      "  warnings.warn(\"Maximum Likelihood optimization failed to \"\n",
      "C:\\Users\\wodar\\miniconda3\\envs\\conda-env\\lib\\site-packages\\statsmodels\\tsa\\statespace\\sarimax.py:1009: UserWarning: Non-invertible starting seasonal moving average Using zeros as starting parameters.\n",
      "  warn('Non-invertible starting seasonal moving average'\n"
     ]
    },
    {
     "name": "stdout",
     "output_type": "stream",
     "text": [
      "Score for (p, d, q) = (0, 2, 0), (P, D, Q, m) = (0, 1, 1, 12): 0.09276531053602927\n"
     ]
    },
    {
     "name": "stderr",
     "output_type": "stream",
     "text": [
      "C:\\Users\\wodar\\miniconda3\\envs\\conda-env\\lib\\site-packages\\statsmodels\\base\\model.py:566: ConvergenceWarning: Maximum Likelihood optimization failed to converge. Check mle_retvals\n",
      "  warnings.warn(\"Maximum Likelihood optimization failed to \"\n"
     ]
    },
    {
     "name": "stdout",
     "output_type": "stream",
     "text": [
      "Score for (p, d, q) = (0, 2, 0), (P, D, Q, m) = (0, 1, 2, 12): 0.10746291005090594\n",
      "Score for (p, d, q) = (0, 2, 0), (P, D, Q, m) = (0, 2, 0, 12): 0.5284018159322673\n"
     ]
    },
    {
     "name": "stderr",
     "output_type": "stream",
     "text": [
      "C:\\Users\\wodar\\miniconda3\\envs\\conda-env\\lib\\site-packages\\statsmodels\\base\\model.py:566: ConvergenceWarning: Maximum Likelihood optimization failed to converge. Check mle_retvals\n",
      "  warnings.warn(\"Maximum Likelihood optimization failed to \"\n",
      "C:\\Users\\wodar\\miniconda3\\envs\\conda-env\\lib\\site-packages\\statsmodels\\tsa\\statespace\\sarimax.py:1009: UserWarning: Non-invertible starting seasonal moving average Using zeros as starting parameters.\n",
      "  warn('Non-invertible starting seasonal moving average'\n"
     ]
    },
    {
     "name": "stdout",
     "output_type": "stream",
     "text": [
      "Score for (p, d, q) = (0, 2, 0), (P, D, Q, m) = (0, 2, 1, 12): 0.1755542186675619\n",
      "Score for (p, d, q) = (0, 2, 0), (P, D, Q, m) = (0, 2, 2, 12): 0.013292126482577476\n",
      "Score for (p, d, q) = (0, 2, 0), (P, D, Q, m) = (1, 0, 0, 12): 0.8950139890774378\n",
      "Score for (p, d, q) = (0, 2, 0), (P, D, Q, m) = (1, 0, 1, 12): 0.15525520201605708\n"
     ]
    },
    {
     "name": "stderr",
     "output_type": "stream",
     "text": [
      "C:\\Users\\wodar\\miniconda3\\envs\\conda-env\\lib\\site-packages\\statsmodels\\tsa\\statespace\\sarimax.py:1009: UserWarning: Non-invertible starting seasonal moving average Using zeros as starting parameters.\n",
      "  warn('Non-invertible starting seasonal moving average'\n"
     ]
    },
    {
     "name": "stdout",
     "output_type": "stream",
     "text": [
      "Score for (p, d, q) = (0, 2, 0), (P, D, Q, m) = (1, 0, 2, 12): 0.1697777921010435\n",
      "Score for (p, d, q) = (0, 2, 0), (P, D, Q, m) = (1, 1, 0, 12): 0.228564518773832\n"
     ]
    },
    {
     "name": "stderr",
     "output_type": "stream",
     "text": [
      "C:\\Users\\wodar\\miniconda3\\envs\\conda-env\\lib\\site-packages\\statsmodels\\base\\model.py:566: ConvergenceWarning: Maximum Likelihood optimization failed to converge. Check mle_retvals\n",
      "  warnings.warn(\"Maximum Likelihood optimization failed to \"\n",
      "C:\\Users\\wodar\\miniconda3\\envs\\conda-env\\lib\\site-packages\\statsmodels\\tsa\\statespace\\sarimax.py:1009: UserWarning: Non-invertible starting seasonal moving average Using zeros as starting parameters.\n",
      "  warn('Non-invertible starting seasonal moving average'\n"
     ]
    },
    {
     "name": "stdout",
     "output_type": "stream",
     "text": [
      "Score for (p, d, q) = (0, 2, 0), (P, D, Q, m) = (1, 1, 1, 12): 0.1046024590912878\n"
     ]
    },
    {
     "name": "stderr",
     "output_type": "stream",
     "text": [
      "C:\\Users\\wodar\\miniconda3\\envs\\conda-env\\lib\\site-packages\\statsmodels\\base\\model.py:566: ConvergenceWarning: Maximum Likelihood optimization failed to converge. Check mle_retvals\n",
      "  warnings.warn(\"Maximum Likelihood optimization failed to \"\n"
     ]
    },
    {
     "name": "stdout",
     "output_type": "stream",
     "text": [
      "Score for (p, d, q) = (0, 2, 0), (P, D, Q, m) = (1, 1, 2, 12): 0.08515686178586175\n",
      "Score for (p, d, q) = (0, 2, 0), (P, D, Q, m) = (1, 2, 0, 12): 2.0305636634721758\n",
      "Score for (p, d, q) = (0, 2, 0), (P, D, Q, m) = (1, 2, 1, 12): 0.17360897009010967\n"
     ]
    },
    {
     "name": "stderr",
     "output_type": "stream",
     "text": [
      "C:\\Users\\wodar\\miniconda3\\envs\\conda-env\\lib\\site-packages\\statsmodels\\tsa\\statespace\\sarimax.py:1009: UserWarning: Non-invertible starting seasonal moving average Using zeros as starting parameters.\n",
      "  warn('Non-invertible starting seasonal moving average'\n"
     ]
    },
    {
     "name": "stdout",
     "output_type": "stream",
     "text": [
      "Score for (p, d, q) = (0, 2, 0), (P, D, Q, m) = (1, 2, 2, 12): 0.014271557826625775\n",
      "Score for (p, d, q) = (0, 2, 0), (P, D, Q, m) = (2, 0, 0, 12): 0.49596669360054557\n",
      "Score for (p, d, q) = (0, 2, 0), (P, D, Q, m) = (2, 0, 1, 12): 0.16779060178835817\n"
     ]
    },
    {
     "name": "stderr",
     "output_type": "stream",
     "text": [
      "C:\\Users\\wodar\\miniconda3\\envs\\conda-env\\lib\\site-packages\\statsmodels\\tsa\\statespace\\sarimax.py:1009: UserWarning: Non-invertible starting seasonal moving average Using zeros as starting parameters.\n",
      "  warn('Non-invertible starting seasonal moving average'\n"
     ]
    },
    {
     "name": "stdout",
     "output_type": "stream",
     "text": [
      "Score for (p, d, q) = (0, 2, 0), (P, D, Q, m) = (2, 0, 2, 12): 0.14019094365711052\n",
      "Score for (p, d, q) = (0, 2, 0), (P, D, Q, m) = (2, 1, 0, 12): 0.011740447376496847\n",
      "Score for (p, d, q) = (0, 2, 0), (P, D, Q, m) = (2, 1, 1, 12): 0.045754995362195634\n"
     ]
    },
    {
     "name": "stderr",
     "output_type": "stream",
     "text": [
      "C:\\Users\\wodar\\miniconda3\\envs\\conda-env\\lib\\site-packages\\statsmodels\\tsa\\statespace\\sarimax.py:1009: UserWarning: Non-invertible starting seasonal moving average Using zeros as starting parameters.\n",
      "  warn('Non-invertible starting seasonal moving average'\n"
     ]
    },
    {
     "name": "stdout",
     "output_type": "stream",
     "text": [
      "Score for (p, d, q) = (0, 2, 0), (P, D, Q, m) = (2, 1, 2, 12): 0.048285914596286415\n",
      "Score for (p, d, q) = (0, 2, 0), (P, D, Q, m) = (2, 2, 0, 12): 0.6005787868661291\n",
      "Score for (p, d, q) = (0, 2, 0), (P, D, Q, m) = (2, 2, 1, 12): 0.002177512524496618\n"
     ]
    },
    {
     "name": "stderr",
     "output_type": "stream",
     "text": [
      "C:\\Users\\wodar\\miniconda3\\envs\\conda-env\\lib\\site-packages\\statsmodels\\tsa\\statespace\\sarimax.py:1009: UserWarning: Non-invertible starting seasonal moving average Using zeros as starting parameters.\n",
      "  warn('Non-invertible starting seasonal moving average'\n",
      "C:\\Users\\wodar\\miniconda3\\envs\\conda-env\\lib\\site-packages\\statsmodels\\base\\model.py:566: ConvergenceWarning: Maximum Likelihood optimization failed to converge. Check mle_retvals\n",
      "  warnings.warn(\"Maximum Likelihood optimization failed to \"\n"
     ]
    },
    {
     "name": "stdout",
     "output_type": "stream",
     "text": [
      "Score for (p, d, q) = (0, 2, 0), (P, D, Q, m) = (2, 2, 2, 12): 0.0103931713759202\n",
      "Score for (p, d, q) = (0, 2, 1), (P, D, Q, m) = (0, 0, 0, 12): 0.12561502417294299\n",
      "Score for (p, d, q) = (0, 2, 1), (P, D, Q, m) = (0, 0, 1, 12): 0.0414843715231142\n",
      "Score for (p, d, q) = (0, 2, 1), (P, D, Q, m) = (0, 0, 2, 12): 0.038045589947479364\n",
      "Score for (p, d, q) = (0, 2, 1), (P, D, Q, m) = (0, 1, 0, 12): 0.005716761071108063\n",
      "Score for (p, d, q) = (0, 2, 1), (P, D, Q, m) = (0, 1, 1, 12): 0.0012451938973220315\n"
     ]
    },
    {
     "name": "stderr",
     "output_type": "stream",
     "text": [
      "C:\\Users\\wodar\\miniconda3\\envs\\conda-env\\lib\\site-packages\\statsmodels\\tsa\\statespace\\sarimax.py:1009: UserWarning: Non-invertible starting seasonal moving average Using zeros as starting parameters.\n",
      "  warn('Non-invertible starting seasonal moving average'\n"
     ]
    },
    {
     "name": "stdout",
     "output_type": "stream",
     "text": [
      "Score for (p, d, q) = (0, 2, 1), (P, D, Q, m) = (0, 1, 2, 12): 0.0012777129735955628\n",
      "Score for (p, d, q) = (0, 2, 1), (P, D, Q, m) = (0, 2, 0, 12): 0.09041882809866164\n",
      "Score for (p, d, q) = (0, 2, 1), (P, D, Q, m) = (0, 2, 1, 12): 0.06609651194535866\n"
     ]
    },
    {
     "name": "stderr",
     "output_type": "stream",
     "text": [
      "C:\\Users\\wodar\\miniconda3\\envs\\conda-env\\lib\\site-packages\\statsmodels\\tsa\\statespace\\sarimax.py:1009: UserWarning: Non-invertible starting seasonal moving average Using zeros as starting parameters.\n",
      "  warn('Non-invertible starting seasonal moving average'\n"
     ]
    },
    {
     "name": "stdout",
     "output_type": "stream",
     "text": [
      "Score for (p, d, q) = (0, 2, 1), (P, D, Q, m) = (0, 2, 2, 12): 0.029259873286839357\n"
     ]
    },
    {
     "name": "stderr",
     "output_type": "stream",
     "text": [
      "C:\\Users\\wodar\\miniconda3\\envs\\conda-env\\lib\\site-packages\\statsmodels\\base\\model.py:566: ConvergenceWarning: Maximum Likelihood optimization failed to converge. Check mle_retvals\n",
      "  warnings.warn(\"Maximum Likelihood optimization failed to \"\n"
     ]
    },
    {
     "name": "stdout",
     "output_type": "stream",
     "text": [
      "Score for (p, d, q) = (0, 2, 1), (P, D, Q, m) = (1, 0, 0, 12): 0.0031229009246140416\n",
      "Score for (p, d, q) = (0, 2, 1), (P, D, Q, m) = (1, 0, 1, 12): 0.0017375005564082863\n"
     ]
    },
    {
     "name": "stderr",
     "output_type": "stream",
     "text": [
      "C:\\Users\\wodar\\miniconda3\\envs\\conda-env\\lib\\site-packages\\statsmodels\\tsa\\statespace\\sarimax.py:1009: UserWarning: Non-invertible starting seasonal moving average Using zeros as starting parameters.\n",
      "  warn('Non-invertible starting seasonal moving average'\n"
     ]
    },
    {
     "name": "stdout",
     "output_type": "stream",
     "text": [
      "Score for (p, d, q) = (0, 2, 1), (P, D, Q, m) = (1, 0, 2, 12): 0.0016874451356944638\n",
      "Score for (p, d, q) = (0, 2, 1), (P, D, Q, m) = (1, 1, 0, 12): 0.0031059251131053916\n",
      "Score for (p, d, q) = (0, 2, 1), (P, D, Q, m) = (1, 1, 1, 12): 0.0012503519383980127\n"
     ]
    },
    {
     "name": "stderr",
     "output_type": "stream",
     "text": [
      "C:\\Users\\wodar\\miniconda3\\envs\\conda-env\\lib\\site-packages\\statsmodels\\tsa\\statespace\\sarimax.py:1009: UserWarning: Non-invertible starting seasonal moving average Using zeros as starting parameters.\n",
      "  warn('Non-invertible starting seasonal moving average'\n"
     ]
    },
    {
     "name": "stdout",
     "output_type": "stream",
     "text": [
      "Score for (p, d, q) = (0, 2, 1), (P, D, Q, m) = (1, 1, 2, 12): 0.0012566048302704925\n",
      "Score for (p, d, q) = (0, 2, 1), (P, D, Q, m) = (1, 2, 0, 12): 0.05716731046757192\n",
      "Score for (p, d, q) = (0, 2, 1), (P, D, Q, m) = (1, 2, 1, 12): 0.04682084345275869\n"
     ]
    },
    {
     "name": "stderr",
     "output_type": "stream",
     "text": [
      "C:\\Users\\wodar\\miniconda3\\envs\\conda-env\\lib\\site-packages\\statsmodels\\tsa\\statespace\\sarimax.py:1009: UserWarning: Non-invertible starting seasonal moving average Using zeros as starting parameters.\n",
      "  warn('Non-invertible starting seasonal moving average'\n",
      "C:\\Users\\wodar\\miniconda3\\envs\\conda-env\\lib\\site-packages\\statsmodels\\base\\model.py:566: ConvergenceWarning: Maximum Likelihood optimization failed to converge. Check mle_retvals\n",
      "  warnings.warn(\"Maximum Likelihood optimization failed to \"\n"
     ]
    },
    {
     "name": "stdout",
     "output_type": "stream",
     "text": [
      "Score for (p, d, q) = (0, 2, 1), (P, D, Q, m) = (1, 2, 2, 12): 0.031976251811477986\n",
      "Score for (p, d, q) = (0, 2, 1), (P, D, Q, m) = (2, 0, 0, 12): 0.0018925390202271086\n",
      "Score for (p, d, q) = (0, 2, 1), (P, D, Q, m) = (2, 0, 1, 12): 0.0019204428125766274\n"
     ]
    },
    {
     "name": "stderr",
     "output_type": "stream",
     "text": [
      "C:\\Users\\wodar\\miniconda3\\envs\\conda-env\\lib\\site-packages\\statsmodels\\tsa\\statespace\\sarimax.py:1009: UserWarning: Non-invertible starting seasonal moving average Using zeros as starting parameters.\n",
      "  warn('Non-invertible starting seasonal moving average'\n"
     ]
    },
    {
     "name": "stdout",
     "output_type": "stream",
     "text": [
      "Score for (p, d, q) = (0, 2, 1), (P, D, Q, m) = (2, 0, 2, 12): 0.0017249185696863998\n",
      "Score for (p, d, q) = (0, 2, 1), (P, D, Q, m) = (2, 1, 0, 12): 0.0019309448590473363\n",
      "Score for (p, d, q) = (0, 2, 1), (P, D, Q, m) = (2, 1, 1, 12): 0.0012826283655179873\n"
     ]
    },
    {
     "name": "stderr",
     "output_type": "stream",
     "text": [
      "C:\\Users\\wodar\\miniconda3\\envs\\conda-env\\lib\\site-packages\\statsmodels\\tsa\\statespace\\sarimax.py:1009: UserWarning: Non-invertible starting seasonal moving average Using zeros as starting parameters.\n",
      "  warn('Non-invertible starting seasonal moving average'\n",
      "C:\\Users\\wodar\\miniconda3\\envs\\conda-env\\lib\\site-packages\\statsmodels\\base\\model.py:566: ConvergenceWarning: Maximum Likelihood optimization failed to converge. Check mle_retvals\n",
      "  warnings.warn(\"Maximum Likelihood optimization failed to \"\n"
     ]
    },
    {
     "name": "stdout",
     "output_type": "stream",
     "text": [
      "Score for (p, d, q) = (0, 2, 1), (P, D, Q, m) = (2, 1, 2, 12): 0.0012770548294397824\n",
      "Score for (p, d, q) = (0, 2, 1), (P, D, Q, m) = (2, 2, 0, 12): 0.05653657479264865\n"
     ]
    },
    {
     "name": "stderr",
     "output_type": "stream",
     "text": [
      "C:\\Users\\wodar\\miniconda3\\envs\\conda-env\\lib\\site-packages\\statsmodels\\base\\model.py:566: ConvergenceWarning: Maximum Likelihood optimization failed to converge. Check mle_retvals\n",
      "  warnings.warn(\"Maximum Likelihood optimization failed to \"\n",
      "C:\\Users\\wodar\\miniconda3\\envs\\conda-env\\lib\\site-packages\\statsmodels\\tsa\\statespace\\sarimax.py:1009: UserWarning: Non-invertible starting seasonal moving average Using zeros as starting parameters.\n",
      "  warn('Non-invertible starting seasonal moving average'\n"
     ]
    },
    {
     "name": "stdout",
     "output_type": "stream",
     "text": [
      "Score for (p, d, q) = (0, 2, 1), (P, D, Q, m) = (2, 2, 1, 12): 0.04239672332201211\n"
     ]
    },
    {
     "name": "stderr",
     "output_type": "stream",
     "text": [
      "C:\\Users\\wodar\\miniconda3\\envs\\conda-env\\lib\\site-packages\\statsmodels\\base\\model.py:566: ConvergenceWarning: Maximum Likelihood optimization failed to converge. Check mle_retvals\n",
      "  warnings.warn(\"Maximum Likelihood optimization failed to \"\n"
     ]
    },
    {
     "name": "stdout",
     "output_type": "stream",
     "text": [
      "Score for (p, d, q) = (0, 2, 1), (P, D, Q, m) = (2, 2, 2, 12): 0.03044955892505033\n",
      "Score for (p, d, q) = (0, 2, 2), (P, D, Q, m) = (0, 0, 0, 12): 0.13919064910679213\n"
     ]
    },
    {
     "name": "stderr",
     "output_type": "stream",
     "text": [
      "C:\\Users\\wodar\\miniconda3\\envs\\conda-env\\lib\\site-packages\\statsmodels\\base\\model.py:566: ConvergenceWarning: Maximum Likelihood optimization failed to converge. Check mle_retvals\n",
      "  warnings.warn(\"Maximum Likelihood optimization failed to \"\n"
     ]
    },
    {
     "name": "stdout",
     "output_type": "stream",
     "text": [
      "Score for (p, d, q) = (0, 2, 2), (P, D, Q, m) = (0, 0, 1, 12): 0.059297108266062104\n"
     ]
    },
    {
     "name": "stderr",
     "output_type": "stream",
     "text": [
      "C:\\Users\\wodar\\miniconda3\\envs\\conda-env\\lib\\site-packages\\statsmodels\\base\\model.py:566: ConvergenceWarning: Maximum Likelihood optimization failed to converge. Check mle_retvals\n",
      "  warnings.warn(\"Maximum Likelihood optimization failed to \"\n"
     ]
    },
    {
     "name": "stdout",
     "output_type": "stream",
     "text": [
      "Score for (p, d, q) = (0, 2, 2), (P, D, Q, m) = (0, 0, 2, 12): 0.03344862919435483\n",
      "Score for (p, d, q) = (0, 2, 2), (P, D, Q, m) = (0, 1, 0, 12): 0.011505967436218874\n",
      "Score for (p, d, q) = (0, 2, 2), (P, D, Q, m) = (0, 1, 1, 12): 0.0017799582290362796\n"
     ]
    },
    {
     "name": "stderr",
     "output_type": "stream",
     "text": [
      "C:\\Users\\wodar\\miniconda3\\envs\\conda-env\\lib\\site-packages\\statsmodels\\tsa\\statespace\\sarimax.py:1009: UserWarning: Non-invertible starting seasonal moving average Using zeros as starting parameters.\n",
      "  warn('Non-invertible starting seasonal moving average'\n",
      "C:\\Users\\wodar\\miniconda3\\envs\\conda-env\\lib\\site-packages\\statsmodels\\base\\model.py:566: ConvergenceWarning: Maximum Likelihood optimization failed to converge. Check mle_retvals\n",
      "  warnings.warn(\"Maximum Likelihood optimization failed to \"\n"
     ]
    },
    {
     "name": "stdout",
     "output_type": "stream",
     "text": [
      "Score for (p, d, q) = (0, 2, 2), (P, D, Q, m) = (0, 1, 2, 12): 0.0023210998203448082\n",
      "Score for (p, d, q) = (0, 2, 2), (P, D, Q, m) = (0, 2, 0, 12): 0.11746522760422112\n",
      "Score for (p, d, q) = (0, 2, 2), (P, D, Q, m) = (0, 2, 1, 12): 0.08695132663055945\n"
     ]
    },
    {
     "name": "stderr",
     "output_type": "stream",
     "text": [
      "C:\\Users\\wodar\\miniconda3\\envs\\conda-env\\lib\\site-packages\\statsmodels\\tsa\\statespace\\sarimax.py:1009: UserWarning: Non-invertible starting seasonal moving average Using zeros as starting parameters.\n",
      "  warn('Non-invertible starting seasonal moving average'\n",
      "C:\\Users\\wodar\\miniconda3\\envs\\conda-env\\lib\\site-packages\\statsmodels\\base\\model.py:566: ConvergenceWarning: Maximum Likelihood optimization failed to converge. Check mle_retvals\n",
      "  warnings.warn(\"Maximum Likelihood optimization failed to \"\n"
     ]
    },
    {
     "name": "stdout",
     "output_type": "stream",
     "text": [
      "Score for (p, d, q) = (0, 2, 2), (P, D, Q, m) = (0, 2, 2, 12): 0.05125779937813005\n"
     ]
    },
    {
     "name": "stderr",
     "output_type": "stream",
     "text": [
      "C:\\Users\\wodar\\miniconda3\\envs\\conda-env\\lib\\site-packages\\statsmodels\\base\\model.py:566: ConvergenceWarning: Maximum Likelihood optimization failed to converge. Check mle_retvals\n",
      "  warnings.warn(\"Maximum Likelihood optimization failed to \"\n"
     ]
    },
    {
     "name": "stdout",
     "output_type": "stream",
     "text": [
      "Score for (p, d, q) = (0, 2, 2), (P, D, Q, m) = (1, 0, 0, 12): 0.0050434102604427\n",
      "Score for (p, d, q) = (0, 2, 2), (P, D, Q, m) = (1, 0, 1, 12): 0.0014274175286034237\n"
     ]
    },
    {
     "name": "stderr",
     "output_type": "stream",
     "text": [
      "C:\\Users\\wodar\\miniconda3\\envs\\conda-env\\lib\\site-packages\\statsmodels\\tsa\\statespace\\sarimax.py:1009: UserWarning: Non-invertible starting seasonal moving average Using zeros as starting parameters.\n",
      "  warn('Non-invertible starting seasonal moving average'\n"
     ]
    },
    {
     "name": "stdout",
     "output_type": "stream",
     "text": [
      "Score for (p, d, q) = (0, 2, 2), (P, D, Q, m) = (1, 0, 2, 12): 0.0014527758704768337\n",
      "Score for (p, d, q) = (0, 2, 2), (P, D, Q, m) = (1, 1, 0, 12): 0.00579848660244267\n"
     ]
    },
    {
     "name": "stderr",
     "output_type": "stream",
     "text": [
      "C:\\Users\\wodar\\miniconda3\\envs\\conda-env\\lib\\site-packages\\statsmodels\\base\\model.py:566: ConvergenceWarning: Maximum Likelihood optimization failed to converge. Check mle_retvals\n",
      "  warnings.warn(\"Maximum Likelihood optimization failed to \"\n",
      "C:\\Users\\wodar\\miniconda3\\envs\\conda-env\\lib\\site-packages\\statsmodels\\tsa\\statespace\\sarimax.py:1009: UserWarning: Non-invertible starting seasonal moving average Using zeros as starting parameters.\n",
      "  warn('Non-invertible starting seasonal moving average'\n"
     ]
    },
    {
     "name": "stdout",
     "output_type": "stream",
     "text": [
      "Score for (p, d, q) = (0, 2, 2), (P, D, Q, m) = (1, 1, 1, 12): 0.003220506097702415\n",
      "Score for (p, d, q) = (0, 2, 2), (P, D, Q, m) = (1, 1, 2, 12): 0.0022944178354030943\n",
      "Score for (p, d, q) = (0, 2, 2), (P, D, Q, m) = (1, 2, 0, 12): 0.0895557790077555\n",
      "Score for (p, d, q) = (0, 2, 2), (P, D, Q, m) = (1, 2, 1, 12): 0.06674543230119712\n"
     ]
    },
    {
     "name": "stderr",
     "output_type": "stream",
     "text": [
      "C:\\Users\\wodar\\miniconda3\\envs\\conda-env\\lib\\site-packages\\statsmodels\\tsa\\statespace\\sarimax.py:1009: UserWarning: Non-invertible starting seasonal moving average Using zeros as starting parameters.\n",
      "  warn('Non-invertible starting seasonal moving average'\n",
      "C:\\Users\\wodar\\miniconda3\\envs\\conda-env\\lib\\site-packages\\statsmodels\\base\\model.py:566: ConvergenceWarning: Maximum Likelihood optimization failed to converge. Check mle_retvals\n",
      "  warnings.warn(\"Maximum Likelihood optimization failed to \"\n"
     ]
    },
    {
     "name": "stdout",
     "output_type": "stream",
     "text": [
      "Score for (p, d, q) = (0, 2, 2), (P, D, Q, m) = (1, 2, 2, 12): 0.038254438149793506\n"
     ]
    },
    {
     "name": "stderr",
     "output_type": "stream",
     "text": [
      "C:\\Users\\wodar\\miniconda3\\envs\\conda-env\\lib\\site-packages\\statsmodels\\base\\model.py:566: ConvergenceWarning: Maximum Likelihood optimization failed to converge. Check mle_retvals\n",
      "  warnings.warn(\"Maximum Likelihood optimization failed to \"\n"
     ]
    },
    {
     "name": "stdout",
     "output_type": "stream",
     "text": [
      "Score for (p, d, q) = (0, 2, 2), (P, D, Q, m) = (2, 0, 0, 12): 0.0032973458752054447\n",
      "Score for (p, d, q) = (0, 2, 2), (P, D, Q, m) = (2, 0, 1, 12): 0.0013521561419399227\n"
     ]
    },
    {
     "name": "stderr",
     "output_type": "stream",
     "text": [
      "C:\\Users\\wodar\\miniconda3\\envs\\conda-env\\lib\\site-packages\\statsmodels\\tsa\\statespace\\sarimax.py:1009: UserWarning: Non-invertible starting seasonal moving average Using zeros as starting parameters.\n",
      "  warn('Non-invertible starting seasonal moving average'\n",
      "C:\\Users\\wodar\\miniconda3\\envs\\conda-env\\lib\\site-packages\\statsmodels\\base\\model.py:566: ConvergenceWarning: Maximum Likelihood optimization failed to converge. Check mle_retvals\n",
      "  warnings.warn(\"Maximum Likelihood optimization failed to \"\n"
     ]
    },
    {
     "name": "stdout",
     "output_type": "stream",
     "text": [
      "Score for (p, d, q) = (0, 2, 2), (P, D, Q, m) = (2, 0, 2, 12): 0.0013129221662744517\n",
      "Score for (p, d, q) = (0, 2, 2), (P, D, Q, m) = (2, 1, 0, 12): 0.0033478891671342836\n"
     ]
    },
    {
     "name": "stderr",
     "output_type": "stream",
     "text": [
      "C:\\Users\\wodar\\miniconda3\\envs\\conda-env\\lib\\site-packages\\statsmodels\\base\\model.py:566: ConvergenceWarning: Maximum Likelihood optimization failed to converge. Check mle_retvals\n",
      "  warnings.warn(\"Maximum Likelihood optimization failed to \"\n",
      "C:\\Users\\wodar\\miniconda3\\envs\\conda-env\\lib\\site-packages\\statsmodels\\tsa\\statespace\\sarimax.py:1009: UserWarning: Non-invertible starting seasonal moving average Using zeros as starting parameters.\n",
      "  warn('Non-invertible starting seasonal moving average'\n"
     ]
    },
    {
     "name": "stdout",
     "output_type": "stream",
     "text": [
      "Score for (p, d, q) = (0, 2, 2), (P, D, Q, m) = (2, 1, 1, 12): 0.003578480777438363\n"
     ]
    },
    {
     "name": "stderr",
     "output_type": "stream",
     "text": [
      "C:\\Users\\wodar\\miniconda3\\envs\\conda-env\\lib\\site-packages\\statsmodels\\base\\model.py:566: ConvergenceWarning: Maximum Likelihood optimization failed to converge. Check mle_retvals\n",
      "  warnings.warn(\"Maximum Likelihood optimization failed to \"\n"
     ]
    },
    {
     "name": "stdout",
     "output_type": "stream",
     "text": [
      "Score for (p, d, q) = (0, 2, 2), (P, D, Q, m) = (2, 1, 2, 12): 0.0019821976218683114\n",
      "Score for (p, d, q) = (0, 2, 2), (P, D, Q, m) = (2, 2, 0, 12): 0.0990467683526807\n",
      "Score for (p, d, q) = (0, 2, 2), (P, D, Q, m) = (2, 2, 1, 12): 0.06259375078447178\n"
     ]
    },
    {
     "name": "stderr",
     "output_type": "stream",
     "text": [
      "C:\\Users\\wodar\\miniconda3\\envs\\conda-env\\lib\\site-packages\\statsmodels\\tsa\\statespace\\sarimax.py:1009: UserWarning: Non-invertible starting seasonal moving average Using zeros as starting parameters.\n",
      "  warn('Non-invertible starting seasonal moving average'\n"
     ]
    },
    {
     "name": "stdout",
     "output_type": "stream",
     "text": [
      "Score for (p, d, q) = (0, 2, 2), (P, D, Q, m) = (2, 2, 2, 12): 0.0727579339659823\n",
      "Score for (p, d, q) = (1, 0, 0), (P, D, Q, m) = (0, 0, 0, 12): 0.06171552049162201\n",
      "Score for (p, d, q) = (1, 0, 0), (P, D, Q, m) = (0, 0, 1, 12): 0.06430775281037296\n"
     ]
    },
    {
     "name": "stderr",
     "output_type": "stream",
     "text": [
      "C:\\Users\\wodar\\miniconda3\\envs\\conda-env\\lib\\site-packages\\statsmodels\\tsa\\statespace\\sarimax.py:1009: UserWarning: Non-invertible starting seasonal moving average Using zeros as starting parameters.\n",
      "  warn('Non-invertible starting seasonal moving average'\n",
      "C:\\Users\\wodar\\miniconda3\\envs\\conda-env\\lib\\site-packages\\statsmodels\\tsa\\statespace\\sarimax.py:1009: UserWarning: Non-invertible starting seasonal moving average Using zeros as starting parameters.\n",
      "  warn('Non-invertible starting seasonal moving average'\n"
     ]
    },
    {
     "name": "stdout",
     "output_type": "stream",
     "text": [
      "Score for (p, d, q) = (1, 0, 0), (P, D, Q, m) = (0, 0, 2, 12): 0.051625072794827545\n",
      "Score for (p, d, q) = (1, 0, 0), (P, D, Q, m) = (0, 1, 0, 12): 0.016640455234256103\n",
      "Score for (p, d, q) = (1, 0, 0), (P, D, Q, m) = (0, 1, 1, 12): 0.0026030853575879902\n"
     ]
    },
    {
     "name": "stderr",
     "output_type": "stream",
     "text": [
      "C:\\Users\\wodar\\miniconda3\\envs\\conda-env\\lib\\site-packages\\statsmodels\\tsa\\statespace\\sarimax.py:1009: UserWarning: Non-invertible starting seasonal moving average Using zeros as starting parameters.\n",
      "  warn('Non-invertible starting seasonal moving average'\n"
     ]
    },
    {
     "name": "stdout",
     "output_type": "stream",
     "text": [
      "Score for (p, d, q) = (1, 0, 0), (P, D, Q, m) = (0, 1, 2, 12): 0.0027183151932774177\n",
      "Score for (p, d, q) = (1, 0, 0), (P, D, Q, m) = (0, 2, 0, 12): 0.010230727465755813\n",
      "Score for (p, d, q) = (1, 0, 0), (P, D, Q, m) = (0, 2, 1, 12): 0.0035942405481269113\n"
     ]
    },
    {
     "name": "stderr",
     "output_type": "stream",
     "text": [
      "C:\\Users\\wodar\\miniconda3\\envs\\conda-env\\lib\\site-packages\\statsmodels\\tsa\\statespace\\sarimax.py:1009: UserWarning: Non-invertible starting seasonal moving average Using zeros as starting parameters.\n",
      "  warn('Non-invertible starting seasonal moving average'\n"
     ]
    },
    {
     "name": "stdout",
     "output_type": "stream",
     "text": [
      "Score for (p, d, q) = (1, 0, 0), (P, D, Q, m) = (0, 2, 2, 12): 0.008740380839004316\n",
      "Score for (p, d, q) = (1, 0, 0), (P, D, Q, m) = (1, 0, 0, 12): 0.024050081659460838\n"
     ]
    },
    {
     "name": "stderr",
     "output_type": "stream",
     "text": [
      "C:\\Users\\wodar\\miniconda3\\envs\\conda-env\\lib\\site-packages\\statsmodels\\tsa\\statespace\\sarimax.py:997: UserWarning: Non-stationary starting seasonal autoregressive Using zeros as starting parameters.\n",
      "  warn('Non-stationary starting seasonal autoregressive'\n"
     ]
    },
    {
     "name": "stdout",
     "output_type": "stream",
     "text": [
      "Score for (p, d, q) = (1, 0, 0), (P, D, Q, m) = (1, 0, 1, 12): 0.0065290722566786405\n"
     ]
    },
    {
     "name": "stderr",
     "output_type": "stream",
     "text": [
      "C:\\Users\\wodar\\miniconda3\\envs\\conda-env\\lib\\site-packages\\statsmodels\\tsa\\statespace\\sarimax.py:997: UserWarning: Non-stationary starting seasonal autoregressive Using zeros as starting parameters.\n",
      "  warn('Non-stationary starting seasonal autoregressive'\n",
      "C:\\Users\\wodar\\miniconda3\\envs\\conda-env\\lib\\site-packages\\statsmodels\\tsa\\statespace\\sarimax.py:1009: UserWarning: Non-invertible starting seasonal moving average Using zeros as starting parameters.\n",
      "  warn('Non-invertible starting seasonal moving average'\n",
      "C:\\Users\\wodar\\miniconda3\\envs\\conda-env\\lib\\site-packages\\statsmodels\\base\\model.py:566: ConvergenceWarning: Maximum Likelihood optimization failed to converge. Check mle_retvals\n",
      "  warnings.warn(\"Maximum Likelihood optimization failed to \"\n"
     ]
    },
    {
     "name": "stdout",
     "output_type": "stream",
     "text": [
      "Score for (p, d, q) = (1, 0, 0), (P, D, Q, m) = (1, 0, 2, 12): 0.007046846717487132\n",
      "Score for (p, d, q) = (1, 0, 0), (P, D, Q, m) = (1, 1, 0, 12): 0.008814040118028011\n",
      "Score for (p, d, q) = (1, 0, 0), (P, D, Q, m) = (1, 1, 1, 12): 0.002825842482436333\n"
     ]
    },
    {
     "name": "stderr",
     "output_type": "stream",
     "text": [
      "C:\\Users\\wodar\\miniconda3\\envs\\conda-env\\lib\\site-packages\\statsmodels\\tsa\\statespace\\sarimax.py:1009: UserWarning: Non-invertible starting seasonal moving average Using zeros as starting parameters.\n",
      "  warn('Non-invertible starting seasonal moving average'\n"
     ]
    },
    {
     "name": "stdout",
     "output_type": "stream",
     "text": [
      "Score for (p, d, q) = (1, 0, 0), (P, D, Q, m) = (1, 1, 2, 12): 0.0015190442120779418\n",
      "Score for (p, d, q) = (1, 0, 0), (P, D, Q, m) = (1, 2, 0, 12): 0.005104216542126487\n",
      "Score for (p, d, q) = (1, 0, 0), (P, D, Q, m) = (1, 2, 1, 12): 0.005057471714456413\n"
     ]
    },
    {
     "name": "stderr",
     "output_type": "stream",
     "text": [
      "C:\\Users\\wodar\\miniconda3\\envs\\conda-env\\lib\\site-packages\\statsmodels\\tsa\\statespace\\sarimax.py:1009: UserWarning: Non-invertible starting seasonal moving average Using zeros as starting parameters.\n",
      "  warn('Non-invertible starting seasonal moving average'\n"
     ]
    },
    {
     "name": "stdout",
     "output_type": "stream",
     "text": [
      "Score for (p, d, q) = (1, 0, 0), (P, D, Q, m) = (1, 2, 2, 12): 0.009148494743211123\n",
      "Score for (p, d, q) = (1, 0, 0), (P, D, Q, m) = (2, 0, 0, 12): 0.012821868487341683\n"
     ]
    },
    {
     "name": "stderr",
     "output_type": "stream",
     "text": [
      "C:\\Users\\wodar\\miniconda3\\envs\\conda-env\\lib\\site-packages\\statsmodels\\base\\model.py:566: ConvergenceWarning: Maximum Likelihood optimization failed to converge. Check mle_retvals\n",
      "  warnings.warn(\"Maximum Likelihood optimization failed to \"\n",
      "C:\\Users\\wodar\\miniconda3\\envs\\conda-env\\lib\\site-packages\\statsmodels\\tsa\\statespace\\sarimax.py:997: UserWarning: Non-stationary starting seasonal autoregressive Using zeros as starting parameters.\n",
      "  warn('Non-stationary starting seasonal autoregressive'\n"
     ]
    },
    {
     "name": "stdout",
     "output_type": "stream",
     "text": [
      "Score for (p, d, q) = (1, 0, 0), (P, D, Q, m) = (2, 0, 1, 12): 0.029607758114438866\n"
     ]
    },
    {
     "name": "stderr",
     "output_type": "stream",
     "text": [
      "C:\\Users\\wodar\\miniconda3\\envs\\conda-env\\lib\\site-packages\\statsmodels\\base\\model.py:566: ConvergenceWarning: Maximum Likelihood optimization failed to converge. Check mle_retvals\n",
      "  warnings.warn(\"Maximum Likelihood optimization failed to \"\n"
     ]
    },
    {
     "name": "stdout",
     "output_type": "stream",
     "text": [
      "Score for (p, d, q) = (1, 0, 0), (P, D, Q, m) = (2, 0, 2, 12): 0.01002358004176488\n",
      "Score for (p, d, q) = (1, 0, 0), (P, D, Q, m) = (2, 1, 0, 12): 0.004672008086744697\n",
      "Score for (p, d, q) = (1, 0, 0), (P, D, Q, m) = (2, 1, 1, 12): 0.0035493536733169316\n"
     ]
    },
    {
     "name": "stderr",
     "output_type": "stream",
     "text": [
      "C:\\Users\\wodar\\miniconda3\\envs\\conda-env\\lib\\site-packages\\statsmodels\\base\\model.py:566: ConvergenceWarning: Maximum Likelihood optimization failed to converge. Check mle_retvals\n",
      "  warnings.warn(\"Maximum Likelihood optimization failed to \"\n"
     ]
    },
    {
     "name": "stdout",
     "output_type": "stream",
     "text": [
      "Score for (p, d, q) = (1, 0, 0), (P, D, Q, m) = (2, 1, 2, 12): 0.0009170877573067672\n",
      "New best score!\n",
      "Score for (p, d, q) = (1, 0, 0), (P, D, Q, m) = (2, 2, 0, 12): 0.0035436144446171565\n"
     ]
    },
    {
     "name": "stderr",
     "output_type": "stream",
     "text": [
      "C:\\Users\\wodar\\miniconda3\\envs\\conda-env\\lib\\site-packages\\statsmodels\\base\\model.py:566: ConvergenceWarning: Maximum Likelihood optimization failed to converge. Check mle_retvals\n",
      "  warnings.warn(\"Maximum Likelihood optimization failed to \"\n",
      "C:\\Users\\wodar\\miniconda3\\envs\\conda-env\\lib\\site-packages\\statsmodels\\tsa\\statespace\\sarimax.py:1009: UserWarning: Non-invertible starting seasonal moving average Using zeros as starting parameters.\n",
      "  warn('Non-invertible starting seasonal moving average'\n"
     ]
    },
    {
     "name": "stdout",
     "output_type": "stream",
     "text": [
      "Score for (p, d, q) = (1, 0, 0), (P, D, Q, m) = (2, 2, 1, 12): 0.007015272935393088\n"
     ]
    },
    {
     "name": "stderr",
     "output_type": "stream",
     "text": [
      "C:\\Users\\wodar\\miniconda3\\envs\\conda-env\\lib\\site-packages\\statsmodels\\base\\model.py:566: ConvergenceWarning: Maximum Likelihood optimization failed to converge. Check mle_retvals\n",
      "  warnings.warn(\"Maximum Likelihood optimization failed to \"\n"
     ]
    },
    {
     "name": "stdout",
     "output_type": "stream",
     "text": [
      "Score for (p, d, q) = (1, 0, 0), (P, D, Q, m) = (2, 2, 2, 12): 0.009473014579561087\n",
      "Score for (p, d, q) = (1, 0, 1), (P, D, Q, m) = (0, 0, 0, 12): 0.111736405257072\n"
     ]
    },
    {
     "name": "stderr",
     "output_type": "stream",
     "text": [
      "C:\\Users\\wodar\\miniconda3\\envs\\conda-env\\lib\\site-packages\\statsmodels\\tsa\\statespace\\sarimax.py:1009: UserWarning: Non-invertible starting seasonal moving average Using zeros as starting parameters.\n",
      "  warn('Non-invertible starting seasonal moving average'\n"
     ]
    },
    {
     "name": "stdout",
     "output_type": "stream",
     "text": [
      "Score for (p, d, q) = (1, 0, 1), (P, D, Q, m) = (0, 0, 1, 12): 0.08561626851432272\n"
     ]
    },
    {
     "name": "stderr",
     "output_type": "stream",
     "text": [
      "C:\\Users\\wodar\\miniconda3\\envs\\conda-env\\lib\\site-packages\\statsmodels\\tsa\\statespace\\sarimax.py:1009: UserWarning: Non-invertible starting seasonal moving average Using zeros as starting parameters.\n",
      "  warn('Non-invertible starting seasonal moving average'\n"
     ]
    },
    {
     "name": "stdout",
     "output_type": "stream",
     "text": [
      "Score for (p, d, q) = (1, 0, 1), (P, D, Q, m) = (0, 0, 2, 12): 0.04747029790219425\n",
      "Score for (p, d, q) = (1, 0, 1), (P, D, Q, m) = (0, 1, 0, 12): 0.014083612895526681\n",
      "Score for (p, d, q) = (1, 0, 1), (P, D, Q, m) = (0, 1, 1, 12): 0.0022436831635243635\n"
     ]
    },
    {
     "name": "stderr",
     "output_type": "stream",
     "text": [
      "C:\\Users\\wodar\\miniconda3\\envs\\conda-env\\lib\\site-packages\\statsmodels\\tsa\\statespace\\sarimax.py:1009: UserWarning: Non-invertible starting seasonal moving average Using zeros as starting parameters.\n",
      "  warn('Non-invertible starting seasonal moving average'\n",
      "C:\\Users\\wodar\\miniconda3\\envs\\conda-env\\lib\\site-packages\\statsmodels\\base\\model.py:566: ConvergenceWarning: Maximum Likelihood optimization failed to converge. Check mle_retvals\n",
      "  warnings.warn(\"Maximum Likelihood optimization failed to \"\n"
     ]
    },
    {
     "name": "stdout",
     "output_type": "stream",
     "text": [
      "Score for (p, d, q) = (1, 0, 1), (P, D, Q, m) = (0, 1, 2, 12): 0.002346632724046318\n",
      "Score for (p, d, q) = (1, 0, 1), (P, D, Q, m) = (0, 2, 0, 12): 0.011330525124576048\n",
      "Score for (p, d, q) = (1, 0, 1), (P, D, Q, m) = (0, 2, 1, 12): 0.0017162215727124675\n"
     ]
    },
    {
     "name": "stderr",
     "output_type": "stream",
     "text": [
      "C:\\Users\\wodar\\miniconda3\\envs\\conda-env\\lib\\site-packages\\statsmodels\\tsa\\statespace\\sarimax.py:1009: UserWarning: Non-invertible starting seasonal moving average Using zeros as starting parameters.\n",
      "  warn('Non-invertible starting seasonal moving average'\n",
      "C:\\Users\\wodar\\miniconda3\\envs\\conda-env\\lib\\site-packages\\statsmodels\\base\\model.py:566: ConvergenceWarning: Maximum Likelihood optimization failed to converge. Check mle_retvals\n",
      "  warnings.warn(\"Maximum Likelihood optimization failed to \"\n"
     ]
    },
    {
     "name": "stdout",
     "output_type": "stream",
     "text": [
      "Score for (p, d, q) = (1, 0, 1), (P, D, Q, m) = (0, 2, 2, 12): 0.003739803686836585\n",
      "Score for (p, d, q) = (1, 0, 1), (P, D, Q, m) = (1, 0, 0, 12): 0.01859733199070216\n"
     ]
    },
    {
     "name": "stderr",
     "output_type": "stream",
     "text": [
      "C:\\Users\\wodar\\miniconda3\\envs\\conda-env\\lib\\site-packages\\statsmodels\\tsa\\statespace\\sarimax.py:997: UserWarning: Non-stationary starting seasonal autoregressive Using zeros as starting parameters.\n",
      "  warn('Non-stationary starting seasonal autoregressive'\n"
     ]
    },
    {
     "name": "stdout",
     "output_type": "stream",
     "text": [
      "Score for (p, d, q) = (1, 0, 1), (P, D, Q, m) = (1, 0, 1, 12): 0.004622692009178571\n"
     ]
    },
    {
     "name": "stderr",
     "output_type": "stream",
     "text": [
      "C:\\Users\\wodar\\miniconda3\\envs\\conda-env\\lib\\site-packages\\statsmodels\\tsa\\statespace\\sarimax.py:997: UserWarning: Non-stationary starting seasonal autoregressive Using zeros as starting parameters.\n",
      "  warn('Non-stationary starting seasonal autoregressive'\n",
      "C:\\Users\\wodar\\miniconda3\\envs\\conda-env\\lib\\site-packages\\statsmodels\\tsa\\statespace\\sarimax.py:1009: UserWarning: Non-invertible starting seasonal moving average Using zeros as starting parameters.\n",
      "  warn('Non-invertible starting seasonal moving average'\n",
      "C:\\Users\\wodar\\miniconda3\\envs\\conda-env\\lib\\site-packages\\statsmodels\\base\\model.py:566: ConvergenceWarning: Maximum Likelihood optimization failed to converge. Check mle_retvals\n",
      "  warnings.warn(\"Maximum Likelihood optimization failed to \"\n"
     ]
    },
    {
     "name": "stdout",
     "output_type": "stream",
     "text": [
      "Score for (p, d, q) = (1, 0, 1), (P, D, Q, m) = (1, 0, 2, 12): 0.0123242733901606\n",
      "Score for (p, d, q) = (1, 0, 1), (P, D, Q, m) = (1, 1, 0, 12): 0.0065773353128845006\n",
      "Score for (p, d, q) = (1, 0, 1), (P, D, Q, m) = (1, 1, 1, 12): 0.0024454134799174604\n"
     ]
    },
    {
     "name": "stderr",
     "output_type": "stream",
     "text": [
      "C:\\Users\\wodar\\miniconda3\\envs\\conda-env\\lib\\site-packages\\statsmodels\\tsa\\statespace\\sarimax.py:1009: UserWarning: Non-invertible starting seasonal moving average Using zeros as starting parameters.\n",
      "  warn('Non-invertible starting seasonal moving average'\n",
      "C:\\Users\\wodar\\miniconda3\\envs\\conda-env\\lib\\site-packages\\statsmodels\\base\\model.py:566: ConvergenceWarning: Maximum Likelihood optimization failed to converge. Check mle_retvals\n",
      "  warnings.warn(\"Maximum Likelihood optimization failed to \"\n"
     ]
    },
    {
     "name": "stdout",
     "output_type": "stream",
     "text": [
      "Score for (p, d, q) = (1, 0, 1), (P, D, Q, m) = (1, 1, 2, 12): 0.001017451608327876\n"
     ]
    },
    {
     "name": "stderr",
     "output_type": "stream",
     "text": [
      "C:\\Users\\wodar\\miniconda3\\envs\\conda-env\\lib\\site-packages\\statsmodels\\base\\model.py:566: ConvergenceWarning: Maximum Likelihood optimization failed to converge. Check mle_retvals\n",
      "  warnings.warn(\"Maximum Likelihood optimization failed to \"\n"
     ]
    },
    {
     "name": "stdout",
     "output_type": "stream",
     "text": [
      "Score for (p, d, q) = (1, 0, 1), (P, D, Q, m) = (1, 2, 0, 12): 0.007732049058955824\n",
      "Score for (p, d, q) = (1, 0, 1), (P, D, Q, m) = (1, 2, 1, 12): 0.0013948729688161893\n"
     ]
    },
    {
     "name": "stderr",
     "output_type": "stream",
     "text": [
      "C:\\Users\\wodar\\miniconda3\\envs\\conda-env\\lib\\site-packages\\statsmodels\\tsa\\statespace\\sarimax.py:1009: UserWarning: Non-invertible starting seasonal moving average Using zeros as starting parameters.\n",
      "  warn('Non-invertible starting seasonal moving average'\n",
      "C:\\Users\\wodar\\miniconda3\\envs\\conda-env\\lib\\site-packages\\statsmodels\\base\\model.py:566: ConvergenceWarning: Maximum Likelihood optimization failed to converge. Check mle_retvals\n",
      "  warnings.warn(\"Maximum Likelihood optimization failed to \"\n"
     ]
    },
    {
     "name": "stdout",
     "output_type": "stream",
     "text": [
      "Score for (p, d, q) = (1, 0, 1), (P, D, Q, m) = (1, 2, 2, 12): 0.00272707455317387\n"
     ]
    },
    {
     "name": "stderr",
     "output_type": "stream",
     "text": [
      "C:\\Users\\wodar\\miniconda3\\envs\\conda-env\\lib\\site-packages\\statsmodels\\base\\model.py:566: ConvergenceWarning: Maximum Likelihood optimization failed to converge. Check mle_retvals\n",
      "  warnings.warn(\"Maximum Likelihood optimization failed to \"\n"
     ]
    },
    {
     "name": "stdout",
     "output_type": "stream",
     "text": [
      "Score for (p, d, q) = (1, 0, 1), (P, D, Q, m) = (2, 0, 0, 12): 0.00906614229603622\n",
      "Score for (p, d, q) = (1, 0, 1), (P, D, Q, m) = (2, 0, 1, 12): 0.04401451150147737\n"
     ]
    },
    {
     "name": "stderr",
     "output_type": "stream",
     "text": [
      "C:\\Users\\wodar\\miniconda3\\envs\\conda-env\\lib\\site-packages\\statsmodels\\tsa\\statespace\\sarimax.py:997: UserWarning: Non-stationary starting seasonal autoregressive Using zeros as starting parameters.\n",
      "  warn('Non-stationary starting seasonal autoregressive'\n"
     ]
    },
    {
     "name": "stdout",
     "output_type": "stream",
     "text": [
      "Score for (p, d, q) = (1, 0, 1), (P, D, Q, m) = (2, 0, 2, 12): 0.004500345492890821\n",
      "Score for (p, d, q) = (1, 0, 1), (P, D, Q, m) = (2, 1, 0, 12): 0.003511141752688427\n",
      "Score for (p, d, q) = (1, 0, 1), (P, D, Q, m) = (2, 1, 1, 12): 0.0022115290709811245\n"
     ]
    },
    {
     "name": "stderr",
     "output_type": "stream",
     "text": [
      "C:\\Users\\wodar\\miniconda3\\envs\\conda-env\\lib\\site-packages\\statsmodels\\base\\model.py:566: ConvergenceWarning: Maximum Likelihood optimization failed to converge. Check mle_retvals\n",
      "  warnings.warn(\"Maximum Likelihood optimization failed to \"\n"
     ]
    },
    {
     "name": "stdout",
     "output_type": "stream",
     "text": [
      "Score for (p, d, q) = (1, 0, 1), (P, D, Q, m) = (2, 1, 2, 12): 0.0056152270184942985\n",
      "Score for (p, d, q) = (1, 0, 1), (P, D, Q, m) = (2, 2, 0, 12): 0.00293400866416892\n"
     ]
    },
    {
     "name": "stderr",
     "output_type": "stream",
     "text": [
      "C:\\Users\\wodar\\miniconda3\\envs\\conda-env\\lib\\site-packages\\statsmodels\\base\\model.py:566: ConvergenceWarning: Maximum Likelihood optimization failed to converge. Check mle_retvals\n",
      "  warnings.warn(\"Maximum Likelihood optimization failed to \"\n",
      "C:\\Users\\wodar\\miniconda3\\envs\\conda-env\\lib\\site-packages\\statsmodels\\tsa\\statespace\\sarimax.py:1009: UserWarning: Non-invertible starting seasonal moving average Using zeros as starting parameters.\n",
      "  warn('Non-invertible starting seasonal moving average'\n"
     ]
    },
    {
     "name": "stdout",
     "output_type": "stream",
     "text": [
      "Score for (p, d, q) = (1, 0, 1), (P, D, Q, m) = (2, 2, 1, 12): 0.0018112852800371458\n"
     ]
    },
    {
     "name": "stderr",
     "output_type": "stream",
     "text": [
      "C:\\Users\\wodar\\miniconda3\\envs\\conda-env\\lib\\site-packages\\statsmodels\\base\\model.py:566: ConvergenceWarning: Maximum Likelihood optimization failed to converge. Check mle_retvals\n",
      "  warnings.warn(\"Maximum Likelihood optimization failed to \"\n"
     ]
    },
    {
     "name": "stdout",
     "output_type": "stream",
     "text": [
      "Score for (p, d, q) = (1, 0, 1), (P, D, Q, m) = (2, 2, 2, 12): 0.0023663519208126363\n",
      "Score for (p, d, q) = (1, 0, 2), (P, D, Q, m) = (0, 0, 0, 12): 0.05857296468192992\n"
     ]
    },
    {
     "name": "stderr",
     "output_type": "stream",
     "text": [
      "C:\\Users\\wodar\\miniconda3\\envs\\conda-env\\lib\\site-packages\\statsmodels\\tsa\\statespace\\sarimax.py:1009: UserWarning: Non-invertible starting seasonal moving average Using zeros as starting parameters.\n",
      "  warn('Non-invertible starting seasonal moving average'\n"
     ]
    },
    {
     "name": "stdout",
     "output_type": "stream",
     "text": [
      "Score for (p, d, q) = (1, 0, 2), (P, D, Q, m) = (0, 0, 1, 12): 0.07472084849085682\n"
     ]
    },
    {
     "name": "stderr",
     "output_type": "stream",
     "text": [
      "C:\\Users\\wodar\\miniconda3\\envs\\conda-env\\lib\\site-packages\\statsmodels\\tsa\\statespace\\sarimax.py:1009: UserWarning: Non-invertible starting seasonal moving average Using zeros as starting parameters.\n",
      "  warn('Non-invertible starting seasonal moving average'\n",
      "C:\\Users\\wodar\\miniconda3\\envs\\conda-env\\lib\\site-packages\\statsmodels\\base\\model.py:566: ConvergenceWarning: Maximum Likelihood optimization failed to converge. Check mle_retvals\n",
      "  warnings.warn(\"Maximum Likelihood optimization failed to \"\n"
     ]
    },
    {
     "name": "stdout",
     "output_type": "stream",
     "text": [
      "Score for (p, d, q) = (1, 0, 2), (P, D, Q, m) = (0, 0, 2, 12): 0.03824830918629679\n",
      "Score for (p, d, q) = (1, 0, 2), (P, D, Q, m) = (0, 1, 0, 12): 0.014603916565644411\n"
     ]
    },
    {
     "name": "stderr",
     "output_type": "stream",
     "text": [
      "C:\\Users\\wodar\\miniconda3\\envs\\conda-env\\lib\\site-packages\\statsmodels\\base\\model.py:566: ConvergenceWarning: Maximum Likelihood optimization failed to converge. Check mle_retvals\n",
      "  warnings.warn(\"Maximum Likelihood optimization failed to \"\n",
      "C:\\Users\\wodar\\miniconda3\\envs\\conda-env\\lib\\site-packages\\statsmodels\\tsa\\statespace\\sarimax.py:1009: UserWarning: Non-invertible starting seasonal moving average Using zeros as starting parameters.\n",
      "  warn('Non-invertible starting seasonal moving average'\n"
     ]
    },
    {
     "name": "stdout",
     "output_type": "stream",
     "text": [
      "Score for (p, d, q) = (1, 0, 2), (P, D, Q, m) = (0, 1, 1, 12): 0.002202825206013149\n"
     ]
    },
    {
     "name": "stderr",
     "output_type": "stream",
     "text": [
      "C:\\Users\\wodar\\miniconda3\\envs\\conda-env\\lib\\site-packages\\statsmodels\\base\\model.py:566: ConvergenceWarning: Maximum Likelihood optimization failed to converge. Check mle_retvals\n",
      "  warnings.warn(\"Maximum Likelihood optimization failed to \"\n"
     ]
    },
    {
     "name": "stdout",
     "output_type": "stream",
     "text": [
      "Score for (p, d, q) = (1, 0, 2), (P, D, Q, m) = (0, 1, 2, 12): 0.00240080464304763\n",
      "Score for (p, d, q) = (1, 0, 2), (P, D, Q, m) = (0, 2, 0, 12): 0.01012804318793924\n"
     ]
    },
    {
     "name": "stderr",
     "output_type": "stream",
     "text": [
      "C:\\Users\\wodar\\miniconda3\\envs\\conda-env\\lib\\site-packages\\statsmodels\\base\\model.py:566: ConvergenceWarning: Maximum Likelihood optimization failed to converge. Check mle_retvals\n",
      "  warnings.warn(\"Maximum Likelihood optimization failed to \"\n",
      "C:\\Users\\wodar\\miniconda3\\envs\\conda-env\\lib\\site-packages\\statsmodels\\tsa\\statespace\\sarimax.py:1009: UserWarning: Non-invertible starting seasonal moving average Using zeros as starting parameters.\n",
      "  warn('Non-invertible starting seasonal moving average'\n"
     ]
    },
    {
     "name": "stdout",
     "output_type": "stream",
     "text": [
      "Score for (p, d, q) = (1, 0, 2), (P, D, Q, m) = (0, 2, 1, 12): 0.0017606302320872004\n"
     ]
    },
    {
     "name": "stderr",
     "output_type": "stream",
     "text": [
      "C:\\Users\\wodar\\miniconda3\\envs\\conda-env\\lib\\site-packages\\statsmodels\\base\\model.py:566: ConvergenceWarning: Maximum Likelihood optimization failed to converge. Check mle_retvals\n",
      "  warnings.warn(\"Maximum Likelihood optimization failed to \"\n"
     ]
    },
    {
     "name": "stdout",
     "output_type": "stream",
     "text": [
      "Score for (p, d, q) = (1, 0, 2), (P, D, Q, m) = (0, 2, 2, 12): 0.0053167122668540245\n",
      "Score for (p, d, q) = (1, 0, 2), (P, D, Q, m) = (1, 0, 0, 12): 0.018566647751066378\n"
     ]
    },
    {
     "name": "stderr",
     "output_type": "stream",
     "text": [
      "C:\\Users\\wodar\\miniconda3\\envs\\conda-env\\lib\\site-packages\\statsmodels\\tsa\\statespace\\sarimax.py:997: UserWarning: Non-stationary starting seasonal autoregressive Using zeros as starting parameters.\n",
      "  warn('Non-stationary starting seasonal autoregressive'\n"
     ]
    },
    {
     "name": "stdout",
     "output_type": "stream",
     "text": [
      "Score for (p, d, q) = (1, 0, 2), (P, D, Q, m) = (1, 0, 1, 12): 0.004552812262370025\n"
     ]
    },
    {
     "name": "stderr",
     "output_type": "stream",
     "text": [
      "C:\\Users\\wodar\\miniconda3\\envs\\conda-env\\lib\\site-packages\\statsmodels\\tsa\\statespace\\sarimax.py:997: UserWarning: Non-stationary starting seasonal autoregressive Using zeros as starting parameters.\n",
      "  warn('Non-stationary starting seasonal autoregressive'\n",
      "C:\\Users\\wodar\\miniconda3\\envs\\conda-env\\lib\\site-packages\\statsmodels\\tsa\\statespace\\sarimax.py:1009: UserWarning: Non-invertible starting seasonal moving average Using zeros as starting parameters.\n",
      "  warn('Non-invertible starting seasonal moving average'\n",
      "C:\\Users\\wodar\\miniconda3\\envs\\conda-env\\lib\\site-packages\\statsmodels\\base\\model.py:566: ConvergenceWarning: Maximum Likelihood optimization failed to converge. Check mle_retvals\n",
      "  warnings.warn(\"Maximum Likelihood optimization failed to \"\n"
     ]
    },
    {
     "name": "stdout",
     "output_type": "stream",
     "text": [
      "Score for (p, d, q) = (1, 0, 2), (P, D, Q, m) = (1, 0, 2, 12): 0.0053804139323114985\n",
      "Score for (p, d, q) = (1, 0, 2), (P, D, Q, m) = (1, 1, 0, 12): 0.006516171577710628\n"
     ]
    },
    {
     "name": "stderr",
     "output_type": "stream",
     "text": [
      "C:\\Users\\wodar\\miniconda3\\envs\\conda-env\\lib\\site-packages\\statsmodels\\base\\model.py:566: ConvergenceWarning: Maximum Likelihood optimization failed to converge. Check mle_retvals\n",
      "  warnings.warn(\"Maximum Likelihood optimization failed to \"\n",
      "C:\\Users\\wodar\\miniconda3\\envs\\conda-env\\lib\\site-packages\\statsmodels\\tsa\\statespace\\sarimax.py:1009: UserWarning: Non-invertible starting seasonal moving average Using zeros as starting parameters.\n",
      "  warn('Non-invertible starting seasonal moving average'\n"
     ]
    },
    {
     "name": "stdout",
     "output_type": "stream",
     "text": [
      "Score for (p, d, q) = (1, 0, 2), (P, D, Q, m) = (1, 1, 1, 12): 0.005020644358364239\n",
      "Score for (p, d, q) = (1, 0, 2), (P, D, Q, m) = (1, 1, 2, 12): 0.0008178663229241269\n",
      "New best score!\n",
      "Score for (p, d, q) = (1, 0, 2), (P, D, Q, m) = (1, 2, 0, 12): 0.007371502154906735\n",
      "Score for (p, d, q) = (1, 0, 2), (P, D, Q, m) = (1, 2, 1, 12): 0.0012409260657235785\n"
     ]
    },
    {
     "name": "stderr",
     "output_type": "stream",
     "text": [
      "C:\\Users\\wodar\\miniconda3\\envs\\conda-env\\lib\\site-packages\\statsmodels\\tsa\\statespace\\sarimax.py:1009: UserWarning: Non-invertible starting seasonal moving average Using zeros as starting parameters.\n",
      "  warn('Non-invertible starting seasonal moving average'\n",
      "C:\\Users\\wodar\\miniconda3\\envs\\conda-env\\lib\\site-packages\\statsmodels\\base\\model.py:566: ConvergenceWarning: Maximum Likelihood optimization failed to converge. Check mle_retvals\n",
      "  warnings.warn(\"Maximum Likelihood optimization failed to \"\n"
     ]
    },
    {
     "name": "stdout",
     "output_type": "stream",
     "text": [
      "Score for (p, d, q) = (1, 0, 2), (P, D, Q, m) = (1, 2, 2, 12): 0.003733496590323241\n"
     ]
    },
    {
     "name": "stderr",
     "output_type": "stream",
     "text": [
      "C:\\Users\\wodar\\miniconda3\\envs\\conda-env\\lib\\site-packages\\statsmodels\\base\\model.py:566: ConvergenceWarning: Maximum Likelihood optimization failed to converge. Check mle_retvals\n",
      "  warnings.warn(\"Maximum Likelihood optimization failed to \"\n"
     ]
    },
    {
     "name": "stdout",
     "output_type": "stream",
     "text": [
      "Score for (p, d, q) = (1, 0, 2), (P, D, Q, m) = (2, 0, 0, 12): 0.009928311790938331\n"
     ]
    },
    {
     "name": "stderr",
     "output_type": "stream",
     "text": [
      "C:\\Users\\wodar\\miniconda3\\envs\\conda-env\\lib\\site-packages\\statsmodels\\base\\model.py:566: ConvergenceWarning: Maximum Likelihood optimization failed to converge. Check mle_retvals\n",
      "  warnings.warn(\"Maximum Likelihood optimization failed to \"\n",
      "C:\\Users\\wodar\\miniconda3\\envs\\conda-env\\lib\\site-packages\\statsmodels\\tsa\\statespace\\sarimax.py:997: UserWarning: Non-stationary starting seasonal autoregressive Using zeros as starting parameters.\n",
      "  warn('Non-stationary starting seasonal autoregressive'\n"
     ]
    },
    {
     "name": "stdout",
     "output_type": "stream",
     "text": [
      "Score for (p, d, q) = (1, 0, 2), (P, D, Q, m) = (2, 0, 1, 12): 0.047280168098057546\n"
     ]
    },
    {
     "name": "stderr",
     "output_type": "stream",
     "text": [
      "C:\\Users\\wodar\\miniconda3\\envs\\conda-env\\lib\\site-packages\\statsmodels\\base\\model.py:566: ConvergenceWarning: Maximum Likelihood optimization failed to converge. Check mle_retvals\n",
      "  warnings.warn(\"Maximum Likelihood optimization failed to \"\n"
     ]
    },
    {
     "name": "stdout",
     "output_type": "stream",
     "text": [
      "Score for (p, d, q) = (1, 0, 2), (P, D, Q, m) = (2, 0, 2, 12): 0.00539721842941828\n"
     ]
    },
    {
     "name": "stderr",
     "output_type": "stream",
     "text": [
      "C:\\Users\\wodar\\miniconda3\\envs\\conda-env\\lib\\site-packages\\statsmodels\\base\\model.py:566: ConvergenceWarning: Maximum Likelihood optimization failed to converge. Check mle_retvals\n",
      "  warnings.warn(\"Maximum Likelihood optimization failed to \"\n"
     ]
    },
    {
     "name": "stdout",
     "output_type": "stream",
     "text": [
      "Score for (p, d, q) = (1, 0, 2), (P, D, Q, m) = (2, 1, 0, 12): 0.0055368959167815925\n"
     ]
    },
    {
     "name": "stderr",
     "output_type": "stream",
     "text": [
      "C:\\Users\\wodar\\miniconda3\\envs\\conda-env\\lib\\site-packages\\statsmodels\\base\\model.py:566: ConvergenceWarning: Maximum Likelihood optimization failed to converge. Check mle_retvals\n",
      "  warnings.warn(\"Maximum Likelihood optimization failed to \"\n"
     ]
    },
    {
     "name": "stdout",
     "output_type": "stream",
     "text": [
      "Score for (p, d, q) = (1, 0, 2), (P, D, Q, m) = (2, 1, 1, 12): 0.002053127228426606\n"
     ]
    },
    {
     "name": "stderr",
     "output_type": "stream",
     "text": [
      "C:\\Users\\wodar\\miniconda3\\envs\\conda-env\\lib\\site-packages\\statsmodels\\base\\model.py:566: ConvergenceWarning: Maximum Likelihood optimization failed to converge. Check mle_retvals\n",
      "  warnings.warn(\"Maximum Likelihood optimization failed to \"\n"
     ]
    },
    {
     "name": "stdout",
     "output_type": "stream",
     "text": [
      "Score for (p, d, q) = (1, 0, 2), (P, D, Q, m) = (2, 1, 2, 12): 0.0008378080513334863\n"
     ]
    },
    {
     "name": "stderr",
     "output_type": "stream",
     "text": [
      "C:\\Users\\wodar\\miniconda3\\envs\\conda-env\\lib\\site-packages\\statsmodels\\base\\model.py:566: ConvergenceWarning: Maximum Likelihood optimization failed to converge. Check mle_retvals\n",
      "  warnings.warn(\"Maximum Likelihood optimization failed to \"\n"
     ]
    },
    {
     "name": "stdout",
     "output_type": "stream",
     "text": [
      "Score for (p, d, q) = (1, 0, 2), (P, D, Q, m) = (2, 2, 0, 12): 0.002819972693639959\n"
     ]
    },
    {
     "name": "stderr",
     "output_type": "stream",
     "text": [
      "C:\\Users\\wodar\\miniconda3\\envs\\conda-env\\lib\\site-packages\\statsmodels\\base\\model.py:566: ConvergenceWarning: Maximum Likelihood optimization failed to converge. Check mle_retvals\n",
      "  warnings.warn(\"Maximum Likelihood optimization failed to \"\n",
      "C:\\Users\\wodar\\miniconda3\\envs\\conda-env\\lib\\site-packages\\statsmodels\\tsa\\statespace\\sarimax.py:1009: UserWarning: Non-invertible starting seasonal moving average Using zeros as starting parameters.\n",
      "  warn('Non-invertible starting seasonal moving average'\n"
     ]
    },
    {
     "name": "stdout",
     "output_type": "stream",
     "text": [
      "Score for (p, d, q) = (1, 0, 2), (P, D, Q, m) = (2, 2, 1, 12): 0.0024631107058697738\n"
     ]
    },
    {
     "name": "stderr",
     "output_type": "stream",
     "text": [
      "C:\\Users\\wodar\\miniconda3\\envs\\conda-env\\lib\\site-packages\\statsmodels\\base\\model.py:566: ConvergenceWarning: Maximum Likelihood optimization failed to converge. Check mle_retvals\n",
      "  warnings.warn(\"Maximum Likelihood optimization failed to \"\n"
     ]
    },
    {
     "name": "stdout",
     "output_type": "stream",
     "text": [
      "Score for (p, d, q) = (1, 0, 2), (P, D, Q, m) = (2, 2, 2, 12): 0.0030484594123960833\n",
      "Score for (p, d, q) = (1, 1, 0), (P, D, Q, m) = (0, 0, 0, 12): 0.05265835064365156\n",
      "Score for (p, d, q) = (1, 1, 0), (P, D, Q, m) = (0, 0, 1, 12): 0.0255872705902563\n"
     ]
    },
    {
     "name": "stderr",
     "output_type": "stream",
     "text": [
      "C:\\Users\\wodar\\miniconda3\\envs\\conda-env\\lib\\site-packages\\statsmodels\\tsa\\statespace\\sarimax.py:1009: UserWarning: Non-invertible starting seasonal moving average Using zeros as starting parameters.\n",
      "  warn('Non-invertible starting seasonal moving average'\n"
     ]
    },
    {
     "name": "stdout",
     "output_type": "stream",
     "text": [
      "Score for (p, d, q) = (1, 1, 0), (P, D, Q, m) = (0, 0, 2, 12): 0.017321119079869118\n",
      "Score for (p, d, q) = (1, 1, 0), (P, D, Q, m) = (0, 1, 0, 12): 0.008215438302733183\n",
      "Score for (p, d, q) = (1, 1, 0), (P, D, Q, m) = (0, 1, 1, 12): 0.0011585206073396143\n"
     ]
    },
    {
     "name": "stderr",
     "output_type": "stream",
     "text": [
      "C:\\Users\\wodar\\miniconda3\\envs\\conda-env\\lib\\site-packages\\statsmodels\\tsa\\statespace\\sarimax.py:1009: UserWarning: Non-invertible starting seasonal moving average Using zeros as starting parameters.\n",
      "  warn('Non-invertible starting seasonal moving average'\n"
     ]
    },
    {
     "name": "stdout",
     "output_type": "stream",
     "text": [
      "Score for (p, d, q) = (1, 1, 0), (P, D, Q, m) = (0, 1, 2, 12): 0.001151239715803589\n",
      "Score for (p, d, q) = (1, 1, 0), (P, D, Q, m) = (0, 2, 0, 12): 0.05879271670435109\n",
      "Score for (p, d, q) = (1, 1, 0), (P, D, Q, m) = (0, 2, 1, 12): 0.011650165654444235\n"
     ]
    },
    {
     "name": "stderr",
     "output_type": "stream",
     "text": [
      "C:\\Users\\wodar\\miniconda3\\envs\\conda-env\\lib\\site-packages\\statsmodels\\tsa\\statespace\\sarimax.py:1009: UserWarning: Non-invertible starting seasonal moving average Using zeros as starting parameters.\n",
      "  warn('Non-invertible starting seasonal moving average'\n",
      "C:\\Users\\wodar\\miniconda3\\envs\\conda-env\\lib\\site-packages\\statsmodels\\base\\model.py:566: ConvergenceWarning: Maximum Likelihood optimization failed to converge. Check mle_retvals\n",
      "  warnings.warn(\"Maximum Likelihood optimization failed to \"\n"
     ]
    },
    {
     "name": "stdout",
     "output_type": "stream",
     "text": [
      "Score for (p, d, q) = (1, 1, 0), (P, D, Q, m) = (0, 2, 2, 12): 0.002140261377849154\n",
      "Score for (p, d, q) = (1, 1, 0), (P, D, Q, m) = (1, 0, 0, 12): 0.005414747206039944\n",
      "Score for (p, d, q) = (1, 1, 0), (P, D, Q, m) = (1, 0, 1, 12): 0.0013407570255774856\n"
     ]
    },
    {
     "name": "stderr",
     "output_type": "stream",
     "text": [
      "C:\\Users\\wodar\\miniconda3\\envs\\conda-env\\lib\\site-packages\\statsmodels\\base\\model.py:566: ConvergenceWarning: Maximum Likelihood optimization failed to converge. Check mle_retvals\n",
      "  warnings.warn(\"Maximum Likelihood optimization failed to \"\n"
     ]
    },
    {
     "name": "stdout",
     "output_type": "stream",
     "text": [
      "Score for (p, d, q) = (1, 1, 0), (P, D, Q, m) = (1, 0, 2, 12): 0.0013236318672418135\n",
      "Score for (p, d, q) = (1, 1, 0), (P, D, Q, m) = (1, 1, 0, 12): 0.003091767175207051\n",
      "Score for (p, d, q) = (1, 1, 0), (P, D, Q, m) = (1, 1, 1, 12): 0.0011529338600257415\n"
     ]
    },
    {
     "name": "stderr",
     "output_type": "stream",
     "text": [
      "C:\\Users\\wodar\\miniconda3\\envs\\conda-env\\lib\\site-packages\\statsmodels\\tsa\\statespace\\sarimax.py:1009: UserWarning: Non-invertible starting seasonal moving average Using zeros as starting parameters.\n",
      "  warn('Non-invertible starting seasonal moving average'\n"
     ]
    },
    {
     "name": "stdout",
     "output_type": "stream",
     "text": [
      "Score for (p, d, q) = (1, 1, 0), (P, D, Q, m) = (1, 1, 2, 12): 0.001155623634603847\n",
      "Score for (p, d, q) = (1, 1, 0), (P, D, Q, m) = (1, 2, 0, 12): 0.03762589050530464\n"
     ]
    },
    {
     "name": "stderr",
     "output_type": "stream",
     "text": [
      "C:\\Users\\wodar\\miniconda3\\envs\\conda-env\\lib\\site-packages\\statsmodels\\base\\model.py:566: ConvergenceWarning: Maximum Likelihood optimization failed to converge. Check mle_retvals\n",
      "  warnings.warn(\"Maximum Likelihood optimization failed to \"\n",
      "C:\\Users\\wodar\\miniconda3\\envs\\conda-env\\lib\\site-packages\\statsmodels\\tsa\\statespace\\sarimax.py:1009: UserWarning: Non-invertible starting seasonal moving average Using zeros as starting parameters.\n",
      "  warn('Non-invertible starting seasonal moving average'\n"
     ]
    },
    {
     "name": "stdout",
     "output_type": "stream",
     "text": [
      "Score for (p, d, q) = (1, 1, 0), (P, D, Q, m) = (1, 2, 1, 12): 0.007183519847945128\n"
     ]
    },
    {
     "name": "stderr",
     "output_type": "stream",
     "text": [
      "C:\\Users\\wodar\\miniconda3\\envs\\conda-env\\lib\\site-packages\\statsmodels\\base\\model.py:566: ConvergenceWarning: Maximum Likelihood optimization failed to converge. Check mle_retvals\n",
      "  warnings.warn(\"Maximum Likelihood optimization failed to \"\n"
     ]
    },
    {
     "name": "stdout",
     "output_type": "stream",
     "text": [
      "Score for (p, d, q) = (1, 1, 0), (P, D, Q, m) = (1, 2, 2, 12): 0.0020061824136847132\n",
      "Score for (p, d, q) = (1, 1, 0), (P, D, Q, m) = (2, 0, 0, 12): 0.0027171535693466062\n",
      "Score for (p, d, q) = (1, 1, 0), (P, D, Q, m) = (2, 0, 1, 12): 0.0013198325200834509\n",
      "Score for (p, d, q) = (1, 1, 0), (P, D, Q, m) = (2, 0, 2, 12): 0.0013072480920810858\n",
      "Score for (p, d, q) = (1, 1, 0), (P, D, Q, m) = (2, 1, 0, 12): 0.0015432083028021231\n",
      "Score for (p, d, q) = (1, 1, 0), (P, D, Q, m) = (2, 1, 1, 12): 0.0011327596304468238\n"
     ]
    },
    {
     "name": "stderr",
     "output_type": "stream",
     "text": [
      "C:\\Users\\wodar\\miniconda3\\envs\\conda-env\\lib\\site-packages\\statsmodels\\tsa\\statespace\\sarimax.py:1009: UserWarning: Non-invertible starting seasonal moving average Using zeros as starting parameters.\n",
      "  warn('Non-invertible starting seasonal moving average'\n",
      "C:\\Users\\wodar\\miniconda3\\envs\\conda-env\\lib\\site-packages\\statsmodels\\base\\model.py:566: ConvergenceWarning: Maximum Likelihood optimization failed to converge. Check mle_retvals\n",
      "  warnings.warn(\"Maximum Likelihood optimization failed to \"\n"
     ]
    },
    {
     "name": "stdout",
     "output_type": "stream",
     "text": [
      "Score for (p, d, q) = (1, 1, 0), (P, D, Q, m) = (2, 1, 2, 12): 0.0011460933378694559\n",
      "Score for (p, d, q) = (1, 1, 0), (P, D, Q, m) = (2, 2, 0, 12): 0.029541298345413938\n"
     ]
    },
    {
     "name": "stderr",
     "output_type": "stream",
     "text": [
      "C:\\Users\\wodar\\miniconda3\\envs\\conda-env\\lib\\site-packages\\statsmodels\\base\\model.py:566: ConvergenceWarning: Maximum Likelihood optimization failed to converge. Check mle_retvals\n",
      "  warnings.warn(\"Maximum Likelihood optimization failed to \"\n",
      "C:\\Users\\wodar\\miniconda3\\envs\\conda-env\\lib\\site-packages\\statsmodels\\tsa\\statespace\\sarimax.py:1009: UserWarning: Non-invertible starting seasonal moving average Using zeros as starting parameters.\n",
      "  warn('Non-invertible starting seasonal moving average'\n"
     ]
    },
    {
     "name": "stdout",
     "output_type": "stream",
     "text": [
      "Score for (p, d, q) = (1, 1, 0), (P, D, Q, m) = (2, 2, 1, 12): 0.005066538761408545\n",
      "Score for (p, d, q) = (1, 1, 0), (P, D, Q, m) = (2, 2, 2, 12): 0.007006266360111498\n",
      "Score for (p, d, q) = (1, 1, 1), (P, D, Q, m) = (0, 0, 0, 12): 0.0482970600800163\n",
      "Score for (p, d, q) = (1, 1, 1), (P, D, Q, m) = (0, 0, 1, 12): 0.024075755856768733\n"
     ]
    },
    {
     "name": "stderr",
     "output_type": "stream",
     "text": [
      "C:\\Users\\wodar\\miniconda3\\envs\\conda-env\\lib\\site-packages\\statsmodels\\tsa\\statespace\\sarimax.py:1009: UserWarning: Non-invertible starting seasonal moving average Using zeros as starting parameters.\n",
      "  warn('Non-invertible starting seasonal moving average'\n"
     ]
    },
    {
     "name": "stdout",
     "output_type": "stream",
     "text": [
      "Score for (p, d, q) = (1, 1, 1), (P, D, Q, m) = (0, 0, 2, 12): 0.018051401764211668\n",
      "Score for (p, d, q) = (1, 1, 1), (P, D, Q, m) = (0, 1, 0, 12): 0.008207936393108243\n",
      "Score for (p, d, q) = (1, 1, 1), (P, D, Q, m) = (0, 1, 1, 12): 0.0011588609209412148\n"
     ]
    },
    {
     "name": "stderr",
     "output_type": "stream",
     "text": [
      "C:\\Users\\wodar\\miniconda3\\envs\\conda-env\\lib\\site-packages\\statsmodels\\tsa\\statespace\\sarimax.py:1009: UserWarning: Non-invertible starting seasonal moving average Using zeros as starting parameters.\n",
      "  warn('Non-invertible starting seasonal moving average'\n",
      "C:\\Users\\wodar\\miniconda3\\envs\\conda-env\\lib\\site-packages\\statsmodels\\base\\model.py:566: ConvergenceWarning: Maximum Likelihood optimization failed to converge. Check mle_retvals\n",
      "  warnings.warn(\"Maximum Likelihood optimization failed to \"\n"
     ]
    },
    {
     "name": "stdout",
     "output_type": "stream",
     "text": [
      "Score for (p, d, q) = (1, 1, 1), (P, D, Q, m) = (0, 1, 2, 12): 0.0012874419424035773\n",
      "Score for (p, d, q) = (1, 1, 1), (P, D, Q, m) = (0, 2, 0, 12): 0.05637161609198501\n",
      "Score for (p, d, q) = (1, 1, 1), (P, D, Q, m) = (0, 2, 1, 12): 0.011393185495166448\n"
     ]
    },
    {
     "name": "stderr",
     "output_type": "stream",
     "text": [
      "C:\\Users\\wodar\\miniconda3\\envs\\conda-env\\lib\\site-packages\\statsmodels\\tsa\\statespace\\sarimax.py:1009: UserWarning: Non-invertible starting seasonal moving average Using zeros as starting parameters.\n",
      "  warn('Non-invertible starting seasonal moving average'\n"
     ]
    },
    {
     "name": "stdout",
     "output_type": "stream",
     "text": [
      "Score for (p, d, q) = (1, 1, 1), (P, D, Q, m) = (0, 2, 2, 12): 0.0019957047600216394\n",
      "Score for (p, d, q) = (1, 1, 1), (P, D, Q, m) = (1, 0, 0, 12): 0.004908039348930074\n"
     ]
    },
    {
     "name": "stderr",
     "output_type": "stream",
     "text": [
      "C:\\Users\\wodar\\miniconda3\\envs\\conda-env\\lib\\site-packages\\statsmodels\\base\\model.py:566: ConvergenceWarning: Maximum Likelihood optimization failed to converge. Check mle_retvals\n",
      "  warnings.warn(\"Maximum Likelihood optimization failed to \"\n"
     ]
    },
    {
     "name": "stdout",
     "output_type": "stream",
     "text": [
      "Score for (p, d, q) = (1, 1, 1), (P, D, Q, m) = (1, 0, 1, 12): 0.0014585512178889952\n"
     ]
    },
    {
     "name": "stderr",
     "output_type": "stream",
     "text": [
      "C:\\Users\\wodar\\miniconda3\\envs\\conda-env\\lib\\site-packages\\statsmodels\\base\\model.py:566: ConvergenceWarning: Maximum Likelihood optimization failed to converge. Check mle_retvals\n",
      "  warnings.warn(\"Maximum Likelihood optimization failed to \"\n"
     ]
    },
    {
     "name": "stdout",
     "output_type": "stream",
     "text": [
      "Score for (p, d, q) = (1, 1, 1), (P, D, Q, m) = (1, 0, 2, 12): 0.001290957983697117\n",
      "Score for (p, d, q) = (1, 1, 1), (P, D, Q, m) = (1, 1, 0, 12): 0.003909334182073346\n"
     ]
    },
    {
     "name": "stderr",
     "output_type": "stream",
     "text": [
      "C:\\Users\\wodar\\miniconda3\\envs\\conda-env\\lib\\site-packages\\statsmodels\\base\\model.py:566: ConvergenceWarning: Maximum Likelihood optimization failed to converge. Check mle_retvals\n",
      "  warnings.warn(\"Maximum Likelihood optimization failed to \"\n",
      "C:\\Users\\wodar\\miniconda3\\envs\\conda-env\\lib\\site-packages\\statsmodels\\tsa\\statespace\\sarimax.py:1009: UserWarning: Non-invertible starting seasonal moving average Using zeros as starting parameters.\n",
      "  warn('Non-invertible starting seasonal moving average'\n"
     ]
    },
    {
     "name": "stdout",
     "output_type": "stream",
     "text": [
      "Score for (p, d, q) = (1, 1, 1), (P, D, Q, m) = (1, 1, 1, 12): 0.00127798732815065\n",
      "Score for (p, d, q) = (1, 1, 1), (P, D, Q, m) = (1, 1, 2, 12): 0.001155838851821116\n",
      "Score for (p, d, q) = (1, 1, 1), (P, D, Q, m) = (1, 2, 0, 12): 0.0462326750923992\n"
     ]
    },
    {
     "name": "stderr",
     "output_type": "stream",
     "text": [
      "C:\\Users\\wodar\\miniconda3\\envs\\conda-env\\lib\\site-packages\\statsmodels\\base\\model.py:566: ConvergenceWarning: Maximum Likelihood optimization failed to converge. Check mle_retvals\n",
      "  warnings.warn(\"Maximum Likelihood optimization failed to \"\n",
      "C:\\Users\\wodar\\miniconda3\\envs\\conda-env\\lib\\site-packages\\statsmodels\\tsa\\statespace\\sarimax.py:1009: UserWarning: Non-invertible starting seasonal moving average Using zeros as starting parameters.\n",
      "  warn('Non-invertible starting seasonal moving average'\n"
     ]
    },
    {
     "name": "stdout",
     "output_type": "stream",
     "text": [
      "Score for (p, d, q) = (1, 1, 1), (P, D, Q, m) = (1, 2, 1, 12): 0.008180598618282128\n",
      "Score for (p, d, q) = (1, 1, 1), (P, D, Q, m) = (1, 2, 2, 12): 0.002013284980169477\n"
     ]
    },
    {
     "name": "stderr",
     "output_type": "stream",
     "text": [
      "C:\\Users\\wodar\\miniconda3\\envs\\conda-env\\lib\\site-packages\\statsmodels\\base\\model.py:566: ConvergenceWarning: Maximum Likelihood optimization failed to converge. Check mle_retvals\n",
      "  warnings.warn(\"Maximum Likelihood optimization failed to \"\n"
     ]
    },
    {
     "name": "stdout",
     "output_type": "stream",
     "text": [
      "Score for (p, d, q) = (1, 1, 1), (P, D, Q, m) = (2, 0, 0, 12): 0.003744042016016157\n",
      "Score for (p, d, q) = (1, 1, 1), (P, D, Q, m) = (2, 0, 1, 12): 0.0014152896642279744\n"
     ]
    },
    {
     "name": "stderr",
     "output_type": "stream",
     "text": [
      "C:\\Users\\wodar\\miniconda3\\envs\\conda-env\\lib\\site-packages\\statsmodels\\base\\model.py:566: ConvergenceWarning: Maximum Likelihood optimization failed to converge. Check mle_retvals\n",
      "  warnings.warn(\"Maximum Likelihood optimization failed to \"\n"
     ]
    },
    {
     "name": "stdout",
     "output_type": "stream",
     "text": [
      "Score for (p, d, q) = (1, 1, 1), (P, D, Q, m) = (2, 0, 2, 12): 0.0013411054270702119\n",
      "Score for (p, d, q) = (1, 1, 1), (P, D, Q, m) = (2, 1, 0, 12): 0.0017989809428397127\n"
     ]
    },
    {
     "name": "stderr",
     "output_type": "stream",
     "text": [
      "C:\\Users\\wodar\\miniconda3\\envs\\conda-env\\lib\\site-packages\\statsmodels\\base\\model.py:566: ConvergenceWarning: Maximum Likelihood optimization failed to converge. Check mle_retvals\n",
      "  warnings.warn(\"Maximum Likelihood optimization failed to \"\n",
      "C:\\Users\\wodar\\miniconda3\\envs\\conda-env\\lib\\site-packages\\statsmodels\\tsa\\statespace\\sarimax.py:1009: UserWarning: Non-invertible starting seasonal moving average Using zeros as starting parameters.\n",
      "  warn('Non-invertible starting seasonal moving average'\n"
     ]
    },
    {
     "name": "stdout",
     "output_type": "stream",
     "text": [
      "Score for (p, d, q) = (1, 1, 1), (P, D, Q, m) = (2, 1, 1, 12): 0.001219151336567262\n"
     ]
    },
    {
     "name": "stderr",
     "output_type": "stream",
     "text": [
      "C:\\Users\\wodar\\miniconda3\\envs\\conda-env\\lib\\site-packages\\statsmodels\\base\\model.py:566: ConvergenceWarning: Maximum Likelihood optimization failed to converge. Check mle_retvals\n",
      "  warnings.warn(\"Maximum Likelihood optimization failed to \"\n"
     ]
    },
    {
     "name": "stdout",
     "output_type": "stream",
     "text": [
      "Score for (p, d, q) = (1, 1, 1), (P, D, Q, m) = (2, 1, 2, 12): 0.0011716466043156615\n"
     ]
    },
    {
     "name": "stderr",
     "output_type": "stream",
     "text": [
      "C:\\Users\\wodar\\miniconda3\\envs\\conda-env\\lib\\site-packages\\statsmodels\\base\\model.py:566: ConvergenceWarning: Maximum Likelihood optimization failed to converge. Check mle_retvals\n",
      "  warnings.warn(\"Maximum Likelihood optimization failed to \"\n"
     ]
    },
    {
     "name": "stdout",
     "output_type": "stream",
     "text": [
      "Score for (p, d, q) = (1, 1, 1), (P, D, Q, m) = (2, 2, 0, 12): 0.0329399466912185\n"
     ]
    },
    {
     "name": "stderr",
     "output_type": "stream",
     "text": [
      "C:\\Users\\wodar\\miniconda3\\envs\\conda-env\\lib\\site-packages\\statsmodels\\base\\model.py:566: ConvergenceWarning: Maximum Likelihood optimization failed to converge. Check mle_retvals\n",
      "  warnings.warn(\"Maximum Likelihood optimization failed to \"\n",
      "C:\\Users\\wodar\\miniconda3\\envs\\conda-env\\lib\\site-packages\\statsmodels\\tsa\\statespace\\sarimax.py:1009: UserWarning: Non-invertible starting seasonal moving average Using zeros as starting parameters.\n",
      "  warn('Non-invertible starting seasonal moving average'\n"
     ]
    },
    {
     "name": "stdout",
     "output_type": "stream",
     "text": [
      "Score for (p, d, q) = (1, 1, 1), (P, D, Q, m) = (2, 2, 1, 12): 0.005470089992918826\n"
     ]
    },
    {
     "name": "stderr",
     "output_type": "stream",
     "text": [
      "C:\\Users\\wodar\\miniconda3\\envs\\conda-env\\lib\\site-packages\\statsmodels\\base\\model.py:566: ConvergenceWarning: Maximum Likelihood optimization failed to converge. Check mle_retvals\n",
      "  warnings.warn(\"Maximum Likelihood optimization failed to \"\n"
     ]
    },
    {
     "name": "stdout",
     "output_type": "stream",
     "text": [
      "Score for (p, d, q) = (1, 1, 1), (P, D, Q, m) = (2, 2, 2, 12): 0.007056452589033165\n",
      "Score for (p, d, q) = (1, 1, 2), (P, D, Q, m) = (0, 0, 0, 12): 0.033065928833673784\n",
      "Score for (p, d, q) = (1, 1, 2), (P, D, Q, m) = (0, 0, 1, 12): 0.02765282754130508\n"
     ]
    },
    {
     "name": "stderr",
     "output_type": "stream",
     "text": [
      "C:\\Users\\wodar\\miniconda3\\envs\\conda-env\\lib\\site-packages\\statsmodels\\tsa\\statespace\\sarimax.py:1009: UserWarning: Non-invertible starting seasonal moving average Using zeros as starting parameters.\n",
      "  warn('Non-invertible starting seasonal moving average'\n"
     ]
    },
    {
     "name": "stdout",
     "output_type": "stream",
     "text": [
      "Score for (p, d, q) = (1, 1, 2), (P, D, Q, m) = (0, 0, 2, 12): 0.01847195763144259\n",
      "Score for (p, d, q) = (1, 1, 2), (P, D, Q, m) = (0, 1, 0, 12): 0.00897361620142861\n",
      "Score for (p, d, q) = (1, 1, 2), (P, D, Q, m) = (0, 1, 1, 12): 0.0011784351774186909\n"
     ]
    },
    {
     "name": "stderr",
     "output_type": "stream",
     "text": [
      "C:\\Users\\wodar\\miniconda3\\envs\\conda-env\\lib\\site-packages\\statsmodels\\tsa\\statespace\\sarimax.py:1009: UserWarning: Non-invertible starting seasonal moving average Using zeros as starting parameters.\n",
      "  warn('Non-invertible starting seasonal moving average'\n"
     ]
    },
    {
     "name": "stdout",
     "output_type": "stream",
     "text": [
      "Score for (p, d, q) = (1, 1, 2), (P, D, Q, m) = (0, 1, 2, 12): 0.001213299051605822\n",
      "Score for (p, d, q) = (1, 1, 2), (P, D, Q, m) = (0, 2, 0, 12): 0.06037237839928743\n",
      "Score for (p, d, q) = (1, 1, 2), (P, D, Q, m) = (0, 2, 1, 12): 0.012435853923244707\n"
     ]
    },
    {
     "name": "stderr",
     "output_type": "stream",
     "text": [
      "C:\\Users\\wodar\\miniconda3\\envs\\conda-env\\lib\\site-packages\\statsmodels\\tsa\\statespace\\sarimax.py:1009: UserWarning: Non-invertible starting seasonal moving average Using zeros as starting parameters.\n",
      "  warn('Non-invertible starting seasonal moving average'\n"
     ]
    },
    {
     "name": "stdout",
     "output_type": "stream",
     "text": [
      "Score for (p, d, q) = (1, 1, 2), (P, D, Q, m) = (0, 2, 2, 12): 0.002474996051359925\n"
     ]
    },
    {
     "name": "stderr",
     "output_type": "stream",
     "text": [
      "C:\\Users\\wodar\\miniconda3\\envs\\conda-env\\lib\\site-packages\\statsmodels\\base\\model.py:566: ConvergenceWarning: Maximum Likelihood optimization failed to converge. Check mle_retvals\n",
      "  warnings.warn(\"Maximum Likelihood optimization failed to \"\n"
     ]
    },
    {
     "name": "stdout",
     "output_type": "stream",
     "text": [
      "Score for (p, d, q) = (1, 1, 2), (P, D, Q, m) = (1, 0, 0, 12): 0.0037473970800945724\n"
     ]
    },
    {
     "name": "stderr",
     "output_type": "stream",
     "text": [
      "C:\\Users\\wodar\\miniconda3\\envs\\conda-env\\lib\\site-packages\\statsmodels\\base\\model.py:566: ConvergenceWarning: Maximum Likelihood optimization failed to converge. Check mle_retvals\n",
      "  warnings.warn(\"Maximum Likelihood optimization failed to \"\n"
     ]
    },
    {
     "name": "stdout",
     "output_type": "stream",
     "text": [
      "Score for (p, d, q) = (1, 1, 2), (P, D, Q, m) = (1, 0, 1, 12): 0.002987711431501886\n"
     ]
    },
    {
     "name": "stderr",
     "output_type": "stream",
     "text": [
      "C:\\Users\\wodar\\miniconda3\\envs\\conda-env\\lib\\site-packages\\statsmodels\\base\\model.py:566: ConvergenceWarning: Maximum Likelihood optimization failed to converge. Check mle_retvals\n",
      "  warnings.warn(\"Maximum Likelihood optimization failed to \"\n"
     ]
    },
    {
     "name": "stdout",
     "output_type": "stream",
     "text": [
      "Score for (p, d, q) = (1, 1, 2), (P, D, Q, m) = (1, 0, 2, 12): 0.0016192640434115886\n"
     ]
    },
    {
     "name": "stderr",
     "output_type": "stream",
     "text": [
      "C:\\Users\\wodar\\miniconda3\\envs\\conda-env\\lib\\site-packages\\statsmodels\\base\\model.py:566: ConvergenceWarning: Maximum Likelihood optimization failed to converge. Check mle_retvals\n",
      "  warnings.warn(\"Maximum Likelihood optimization failed to \"\n"
     ]
    },
    {
     "name": "stdout",
     "output_type": "stream",
     "text": [
      "Score for (p, d, q) = (1, 1, 2), (P, D, Q, m) = (1, 1, 0, 12): 0.0036236164899964025\n",
      "Score for (p, d, q) = (1, 1, 2), (P, D, Q, m) = (1, 1, 1, 12): 0.0012053680607775105\n"
     ]
    },
    {
     "name": "stderr",
     "output_type": "stream",
     "text": [
      "C:\\Users\\wodar\\miniconda3\\envs\\conda-env\\lib\\site-packages\\statsmodels\\tsa\\statespace\\sarimax.py:1009: UserWarning: Non-invertible starting seasonal moving average Using zeros as starting parameters.\n",
      "  warn('Non-invertible starting seasonal moving average'\n"
     ]
    },
    {
     "name": "stdout",
     "output_type": "stream",
     "text": [
      "Score for (p, d, q) = (1, 1, 2), (P, D, Q, m) = (1, 1, 2, 12): 0.001202737797158318\n"
     ]
    },
    {
     "name": "stderr",
     "output_type": "stream",
     "text": [
      "C:\\Users\\wodar\\miniconda3\\envs\\conda-env\\lib\\site-packages\\statsmodels\\base\\model.py:566: ConvergenceWarning: Maximum Likelihood optimization failed to converge. Check mle_retvals\n",
      "  warnings.warn(\"Maximum Likelihood optimization failed to \"\n"
     ]
    },
    {
     "name": "stdout",
     "output_type": "stream",
     "text": [
      "Score for (p, d, q) = (1, 1, 2), (P, D, Q, m) = (1, 2, 0, 12): 0.04338680685596941\n",
      "Score for (p, d, q) = (1, 1, 2), (P, D, Q, m) = (1, 2, 1, 12): 0.008145827201904616\n"
     ]
    },
    {
     "name": "stderr",
     "output_type": "stream",
     "text": [
      "C:\\Users\\wodar\\miniconda3\\envs\\conda-env\\lib\\site-packages\\statsmodels\\tsa\\statespace\\sarimax.py:1009: UserWarning: Non-invertible starting seasonal moving average Using zeros as starting parameters.\n",
      "  warn('Non-invertible starting seasonal moving average'\n",
      "C:\\Users\\wodar\\miniconda3\\envs\\conda-env\\lib\\site-packages\\statsmodels\\base\\model.py:566: ConvergenceWarning: Maximum Likelihood optimization failed to converge. Check mle_retvals\n",
      "  warnings.warn(\"Maximum Likelihood optimization failed to \"\n"
     ]
    },
    {
     "name": "stdout",
     "output_type": "stream",
     "text": [
      "Score for (p, d, q) = (1, 1, 2), (P, D, Q, m) = (1, 2, 2, 12): 0.0022843341564309683\n"
     ]
    },
    {
     "name": "stderr",
     "output_type": "stream",
     "text": [
      "C:\\Users\\wodar\\miniconda3\\envs\\conda-env\\lib\\site-packages\\statsmodels\\base\\model.py:566: ConvergenceWarning: Maximum Likelihood optimization failed to converge. Check mle_retvals\n",
      "  warnings.warn(\"Maximum Likelihood optimization failed to \"\n"
     ]
    },
    {
     "name": "stdout",
     "output_type": "stream",
     "text": [
      "Score for (p, d, q) = (1, 1, 2), (P, D, Q, m) = (2, 0, 0, 12): 0.0036103172076226786\n"
     ]
    },
    {
     "name": "stderr",
     "output_type": "stream",
     "text": [
      "C:\\Users\\wodar\\miniconda3\\envs\\conda-env\\lib\\site-packages\\statsmodels\\base\\model.py:566: ConvergenceWarning: Maximum Likelihood optimization failed to converge. Check mle_retvals\n",
      "  warnings.warn(\"Maximum Likelihood optimization failed to \"\n"
     ]
    },
    {
     "name": "stdout",
     "output_type": "stream",
     "text": [
      "Score for (p, d, q) = (1, 1, 2), (P, D, Q, m) = (2, 0, 1, 12): 0.0021776289358534113\n"
     ]
    },
    {
     "name": "stderr",
     "output_type": "stream",
     "text": [
      "C:\\Users\\wodar\\miniconda3\\envs\\conda-env\\lib\\site-packages\\statsmodels\\base\\model.py:566: ConvergenceWarning: Maximum Likelihood optimization failed to converge. Check mle_retvals\n",
      "  warnings.warn(\"Maximum Likelihood optimization failed to \"\n"
     ]
    },
    {
     "name": "stdout",
     "output_type": "stream",
     "text": [
      "Score for (p, d, q) = (1, 1, 2), (P, D, Q, m) = (2, 0, 2, 12): 0.0013409909419381041\n"
     ]
    },
    {
     "name": "stderr",
     "output_type": "stream",
     "text": [
      "C:\\Users\\wodar\\miniconda3\\envs\\conda-env\\lib\\site-packages\\statsmodels\\base\\model.py:566: ConvergenceWarning: Maximum Likelihood optimization failed to converge. Check mle_retvals\n",
      "  warnings.warn(\"Maximum Likelihood optimization failed to \"\n"
     ]
    },
    {
     "name": "stdout",
     "output_type": "stream",
     "text": [
      "Score for (p, d, q) = (1, 1, 2), (P, D, Q, m) = (2, 1, 0, 12): 0.0017159255832186393\n",
      "Score for (p, d, q) = (1, 1, 2), (P, D, Q, m) = (2, 1, 1, 12): 0.0011750009905959176\n"
     ]
    },
    {
     "name": "stderr",
     "output_type": "stream",
     "text": [
      "C:\\Users\\wodar\\miniconda3\\envs\\conda-env\\lib\\site-packages\\statsmodels\\tsa\\statespace\\sarimax.py:1009: UserWarning: Non-invertible starting seasonal moving average Using zeros as starting parameters.\n",
      "  warn('Non-invertible starting seasonal moving average'\n",
      "C:\\Users\\wodar\\miniconda3\\envs\\conda-env\\lib\\site-packages\\statsmodels\\base\\model.py:566: ConvergenceWarning: Maximum Likelihood optimization failed to converge. Check mle_retvals\n",
      "  warnings.warn(\"Maximum Likelihood optimization failed to \"\n"
     ]
    },
    {
     "name": "stdout",
     "output_type": "stream",
     "text": [
      "Score for (p, d, q) = (1, 1, 2), (P, D, Q, m) = (2, 1, 2, 12): 0.0012043060452367523\n",
      "Score for (p, d, q) = (1, 1, 2), (P, D, Q, m) = (2, 2, 0, 12): 0.03227353793208212\n",
      "Score for (p, d, q) = (1, 1, 2), (P, D, Q, m) = (2, 2, 1, 12): 0.005502237454515065\n"
     ]
    },
    {
     "name": "stderr",
     "output_type": "stream",
     "text": [
      "C:\\Users\\wodar\\miniconda3\\envs\\conda-env\\lib\\site-packages\\statsmodels\\tsa\\statespace\\sarimax.py:1009: UserWarning: Non-invertible starting seasonal moving average Using zeros as starting parameters.\n",
      "  warn('Non-invertible starting seasonal moving average'\n",
      "C:\\Users\\wodar\\miniconda3\\envs\\conda-env\\lib\\site-packages\\statsmodels\\base\\model.py:566: ConvergenceWarning: Maximum Likelihood optimization failed to converge. Check mle_retvals\n",
      "  warnings.warn(\"Maximum Likelihood optimization failed to \"\n"
     ]
    },
    {
     "name": "stdout",
     "output_type": "stream",
     "text": [
      "Score for (p, d, q) = (1, 1, 2), (P, D, Q, m) = (2, 2, 2, 12): 0.003342935069099728\n",
      "Score for (p, d, q) = (1, 2, 0), (P, D, Q, m) = (0, 0, 0, 12): 5.78871767023972\n",
      "Score for (p, d, q) = (1, 2, 0), (P, D, Q, m) = (0, 0, 1, 12): 4.223980761874356\n",
      "Score for (p, d, q) = (1, 2, 0), (P, D, Q, m) = (0, 0, 2, 12): 3.440257787639543\n",
      "Score for (p, d, q) = (1, 2, 0), (P, D, Q, m) = (0, 1, 0, 12): 0.14382683955182965\n"
     ]
    },
    {
     "name": "stderr",
     "output_type": "stream",
     "text": [
      "C:\\Users\\wodar\\miniconda3\\envs\\conda-env\\lib\\site-packages\\statsmodels\\base\\model.py:566: ConvergenceWarning: Maximum Likelihood optimization failed to converge. Check mle_retvals\n",
      "  warnings.warn(\"Maximum Likelihood optimization failed to \"\n",
      "C:\\Users\\wodar\\miniconda3\\envs\\conda-env\\lib\\site-packages\\statsmodels\\tsa\\statespace\\sarimax.py:1009: UserWarning: Non-invertible starting seasonal moving average Using zeros as starting parameters.\n",
      "  warn('Non-invertible starting seasonal moving average'\n"
     ]
    },
    {
     "name": "stdout",
     "output_type": "stream",
     "text": [
      "Score for (p, d, q) = (1, 2, 0), (P, D, Q, m) = (0, 1, 1, 12): 0.1836507796148422\n",
      "Score for (p, d, q) = (1, 2, 0), (P, D, Q, m) = (0, 1, 2, 12): 0.2043020884429468\n",
      "Score for (p, d, q) = (1, 2, 0), (P, D, Q, m) = (0, 2, 0, 12): 0.09803036391581398\n",
      "Score for (p, d, q) = (1, 2, 0), (P, D, Q, m) = (0, 2, 1, 12): 0.04650153470107397\n"
     ]
    },
    {
     "name": "stderr",
     "output_type": "stream",
     "text": [
      "C:\\Users\\wodar\\miniconda3\\envs\\conda-env\\lib\\site-packages\\statsmodels\\tsa\\statespace\\sarimax.py:1009: UserWarning: Non-invertible starting seasonal moving average Using zeros as starting parameters.\n",
      "  warn('Non-invertible starting seasonal moving average'\n"
     ]
    },
    {
     "name": "stdout",
     "output_type": "stream",
     "text": [
      "Score for (p, d, q) = (1, 2, 0), (P, D, Q, m) = (0, 2, 2, 12): 0.024590055495121842\n",
      "Score for (p, d, q) = (1, 2, 0), (P, D, Q, m) = (1, 0, 0, 12): 0.48270728503810867\n",
      "Score for (p, d, q) = (1, 2, 0), (P, D, Q, m) = (1, 0, 1, 12): 0.23953821926105312\n"
     ]
    },
    {
     "name": "stderr",
     "output_type": "stream",
     "text": [
      "C:\\Users\\wodar\\miniconda3\\envs\\conda-env\\lib\\site-packages\\statsmodels\\tsa\\statespace\\sarimax.py:1009: UserWarning: Non-invertible starting seasonal moving average Using zeros as starting parameters.\n",
      "  warn('Non-invertible starting seasonal moving average'\n",
      "C:\\Users\\wodar\\miniconda3\\envs\\conda-env\\lib\\site-packages\\statsmodels\\base\\model.py:566: ConvergenceWarning: Maximum Likelihood optimization failed to converge. Check mle_retvals\n",
      "  warnings.warn(\"Maximum Likelihood optimization failed to \"\n",
      "C:\\Users\\wodar\\miniconda3\\envs\\conda-env\\lib\\site-packages\\statsmodels\\base\\model.py:566: ConvergenceWarning: Maximum Likelihood optimization failed to converge. Check mle_retvals\n",
      "  warnings.warn(\"Maximum Likelihood optimization failed to \"\n"
     ]
    },
    {
     "name": "stdout",
     "output_type": "stream",
     "text": [
      "Score for (p, d, q) = (1, 2, 0), (P, D, Q, m) = (1, 0, 2, 12): 0.27791492186346073\n",
      "Score for (p, d, q) = (1, 2, 0), (P, D, Q, m) = (1, 1, 0, 12): 0.14443864395557543\n",
      "Score for (p, d, q) = (1, 2, 0), (P, D, Q, m) = (1, 1, 1, 12): 0.2062067838691205\n"
     ]
    },
    {
     "name": "stderr",
     "output_type": "stream",
     "text": [
      "C:\\Users\\wodar\\miniconda3\\envs\\conda-env\\lib\\site-packages\\statsmodels\\tsa\\statespace\\sarimax.py:1009: UserWarning: Non-invertible starting seasonal moving average Using zeros as starting parameters.\n",
      "  warn('Non-invertible starting seasonal moving average'\n"
     ]
    },
    {
     "name": "stdout",
     "output_type": "stream",
     "text": [
      "Score for (p, d, q) = (1, 2, 0), (P, D, Q, m) = (1, 1, 2, 12): 0.19468486747179575\n",
      "Score for (p, d, q) = (1, 2, 0), (P, D, Q, m) = (1, 2, 0, 12): 0.6004733897719352\n",
      "Score for (p, d, q) = (1, 2, 0), (P, D, Q, m) = (1, 2, 1, 12): 0.05957198760721055\n"
     ]
    },
    {
     "name": "stderr",
     "output_type": "stream",
     "text": [
      "C:\\Users\\wodar\\miniconda3\\envs\\conda-env\\lib\\site-packages\\statsmodels\\tsa\\statespace\\sarimax.py:1009: UserWarning: Non-invertible starting seasonal moving average Using zeros as starting parameters.\n",
      "  warn('Non-invertible starting seasonal moving average'\n",
      "C:\\Users\\wodar\\miniconda3\\envs\\conda-env\\lib\\site-packages\\statsmodels\\base\\model.py:566: ConvergenceWarning: Maximum Likelihood optimization failed to converge. Check mle_retvals\n",
      "  warnings.warn(\"Maximum Likelihood optimization failed to \"\n"
     ]
    },
    {
     "name": "stdout",
     "output_type": "stream",
     "text": [
      "Score for (p, d, q) = (1, 2, 0), (P, D, Q, m) = (1, 2, 2, 12): 0.03361383218915618\n"
     ]
    },
    {
     "name": "stderr",
     "output_type": "stream",
     "text": [
      "C:\\Users\\wodar\\miniconda3\\envs\\conda-env\\lib\\site-packages\\statsmodels\\base\\model.py:566: ConvergenceWarning: Maximum Likelihood optimization failed to converge. Check mle_retvals\n",
      "  warnings.warn(\"Maximum Likelihood optimization failed to \"\n"
     ]
    },
    {
     "name": "stdout",
     "output_type": "stream",
     "text": [
      "Score for (p, d, q) = (1, 2, 0), (P, D, Q, m) = (2, 0, 0, 12): 0.28219578741462314\n",
      "Score for (p, d, q) = (1, 2, 0), (P, D, Q, m) = (2, 0, 1, 12): 0.26633822045045735\n"
     ]
    },
    {
     "name": "stderr",
     "output_type": "stream",
     "text": [
      "C:\\Users\\wodar\\miniconda3\\envs\\conda-env\\lib\\site-packages\\statsmodels\\tsa\\statespace\\sarimax.py:1009: UserWarning: Non-invertible starting seasonal moving average Using zeros as starting parameters.\n",
      "  warn('Non-invertible starting seasonal moving average'\n"
     ]
    },
    {
     "name": "stdout",
     "output_type": "stream",
     "text": [
      "Score for (p, d, q) = (1, 2, 0), (P, D, Q, m) = (2, 0, 2, 12): 0.25743078226341\n",
      "Score for (p, d, q) = (1, 2, 0), (P, D, Q, m) = (2, 1, 0, 12): 0.06700018243020656\n",
      "Score for (p, d, q) = (1, 2, 0), (P, D, Q, m) = (2, 1, 1, 12): 0.19708427982763715\n"
     ]
    },
    {
     "name": "stderr",
     "output_type": "stream",
     "text": [
      "C:\\Users\\wodar\\miniconda3\\envs\\conda-env\\lib\\site-packages\\statsmodels\\tsa\\statespace\\sarimax.py:1009: UserWarning: Non-invertible starting seasonal moving average Using zeros as starting parameters.\n",
      "  warn('Non-invertible starting seasonal moving average'\n"
     ]
    },
    {
     "name": "stdout",
     "output_type": "stream",
     "text": [
      "Score for (p, d, q) = (1, 2, 0), (P, D, Q, m) = (2, 1, 2, 12): 0.2024553840607638\n",
      "Score for (p, d, q) = (1, 2, 0), (P, D, Q, m) = (2, 2, 0, 12): 0.15434099864808873\n",
      "Score for (p, d, q) = (1, 2, 0), (P, D, Q, m) = (2, 2, 1, 12): 0.011185576185296926\n"
     ]
    },
    {
     "name": "stderr",
     "output_type": "stream",
     "text": [
      "C:\\Users\\wodar\\miniconda3\\envs\\conda-env\\lib\\site-packages\\statsmodels\\tsa\\statespace\\sarimax.py:1009: UserWarning: Non-invertible starting seasonal moving average Using zeros as starting parameters.\n",
      "  warn('Non-invertible starting seasonal moving average'\n",
      "C:\\Users\\wodar\\miniconda3\\envs\\conda-env\\lib\\site-packages\\statsmodels\\base\\model.py:566: ConvergenceWarning: Maximum Likelihood optimization failed to converge. Check mle_retvals\n",
      "  warnings.warn(\"Maximum Likelihood optimization failed to \"\n"
     ]
    },
    {
     "name": "stdout",
     "output_type": "stream",
     "text": [
      "Score for (p, d, q) = (1, 2, 0), (P, D, Q, m) = (2, 2, 2, 12): 0.05241337535735473\n",
      "Score for (p, d, q) = (1, 2, 1), (P, D, Q, m) = (0, 0, 0, 12): 0.14442085999958573\n",
      "Score for (p, d, q) = (1, 2, 1), (P, D, Q, m) = (0, 0, 1, 12): 0.04388688207102331\n"
     ]
    },
    {
     "name": "stderr",
     "output_type": "stream",
     "text": [
      "C:\\Users\\wodar\\miniconda3\\envs\\conda-env\\lib\\site-packages\\statsmodels\\base\\model.py:566: ConvergenceWarning: Maximum Likelihood optimization failed to converge. Check mle_retvals\n",
      "  warnings.warn(\"Maximum Likelihood optimization failed to \"\n"
     ]
    },
    {
     "name": "stdout",
     "output_type": "stream",
     "text": [
      "Score for (p, d, q) = (1, 2, 1), (P, D, Q, m) = (0, 0, 2, 12): 0.03723234688977159\n"
     ]
    },
    {
     "name": "stderr",
     "output_type": "stream",
     "text": [
      "C:\\Users\\wodar\\miniconda3\\envs\\conda-env\\lib\\site-packages\\statsmodels\\base\\model.py:566: ConvergenceWarning: Maximum Likelihood optimization failed to converge. Check mle_retvals\n",
      "  warnings.warn(\"Maximum Likelihood optimization failed to \"\n"
     ]
    },
    {
     "name": "stdout",
     "output_type": "stream",
     "text": [
      "Score for (p, d, q) = (1, 2, 1), (P, D, Q, m) = (0, 1, 0, 12): 0.00825889895145211\n",
      "Score for (p, d, q) = (1, 2, 1), (P, D, Q, m) = (0, 1, 1, 12): 0.0014055050348497527\n"
     ]
    },
    {
     "name": "stderr",
     "output_type": "stream",
     "text": [
      "C:\\Users\\wodar\\miniconda3\\envs\\conda-env\\lib\\site-packages\\statsmodels\\tsa\\statespace\\sarimax.py:1009: UserWarning: Non-invertible starting seasonal moving average Using zeros as starting parameters.\n",
      "  warn('Non-invertible starting seasonal moving average'\n"
     ]
    },
    {
     "name": "stdout",
     "output_type": "stream",
     "text": [
      "Score for (p, d, q) = (1, 2, 1), (P, D, Q, m) = (0, 1, 2, 12): 0.0016281941281325518\n",
      "Score for (p, d, q) = (1, 2, 1), (P, D, Q, m) = (0, 2, 0, 12): 0.11227803246073904\n",
      "Score for (p, d, q) = (1, 2, 1), (P, D, Q, m) = (0, 2, 1, 12): 0.07266348735891591\n"
     ]
    },
    {
     "name": "stderr",
     "output_type": "stream",
     "text": [
      "C:\\Users\\wodar\\miniconda3\\envs\\conda-env\\lib\\site-packages\\statsmodels\\tsa\\statespace\\sarimax.py:1009: UserWarning: Non-invertible starting seasonal moving average Using zeros as starting parameters.\n",
      "  warn('Non-invertible starting seasonal moving average'\n"
     ]
    },
    {
     "name": "stdout",
     "output_type": "stream",
     "text": [
      "Score for (p, d, q) = (1, 2, 1), (P, D, Q, m) = (0, 2, 2, 12): 0.033061055152897305\n"
     ]
    },
    {
     "name": "stderr",
     "output_type": "stream",
     "text": [
      "C:\\Users\\wodar\\miniconda3\\envs\\conda-env\\lib\\site-packages\\statsmodels\\base\\model.py:566: ConvergenceWarning: Maximum Likelihood optimization failed to converge. Check mle_retvals\n",
      "  warnings.warn(\"Maximum Likelihood optimization failed to \"\n"
     ]
    },
    {
     "name": "stdout",
     "output_type": "stream",
     "text": [
      "Score for (p, d, q) = (1, 2, 1), (P, D, Q, m) = (1, 0, 0, 12): 0.004311925259211142\n"
     ]
    },
    {
     "name": "stderr",
     "output_type": "stream",
     "text": [
      "C:\\Users\\wodar\\miniconda3\\envs\\conda-env\\lib\\site-packages\\statsmodels\\base\\model.py:566: ConvergenceWarning: Maximum Likelihood optimization failed to converge. Check mle_retvals\n",
      "  warnings.warn(\"Maximum Likelihood optimization failed to \"\n",
      "C:\\Users\\wodar\\miniconda3\\envs\\conda-env\\lib\\site-packages\\statsmodels\\tsa\\statespace\\sarimax.py:1009: UserWarning: Non-invertible starting seasonal moving average Using zeros as starting parameters.\n",
      "  warn('Non-invertible starting seasonal moving average'\n"
     ]
    },
    {
     "name": "stdout",
     "output_type": "stream",
     "text": [
      "Score for (p, d, q) = (1, 2, 1), (P, D, Q, m) = (1, 0, 1, 12): 0.0013997207602941366\n",
      "Score for (p, d, q) = (1, 2, 1), (P, D, Q, m) = (1, 0, 2, 12): 0.0013168667280352995\n",
      "Score for (p, d, q) = (1, 2, 1), (P, D, Q, m) = (1, 1, 0, 12): 0.004891554504105317\n",
      "Score for (p, d, q) = (1, 2, 1), (P, D, Q, m) = (1, 1, 1, 12): 0.0015243051906552326\n"
     ]
    },
    {
     "name": "stderr",
     "output_type": "stream",
     "text": [
      "C:\\Users\\wodar\\miniconda3\\envs\\conda-env\\lib\\site-packages\\statsmodels\\tsa\\statespace\\sarimax.py:1009: UserWarning: Non-invertible starting seasonal moving average Using zeros as starting parameters.\n",
      "  warn('Non-invertible starting seasonal moving average'\n"
     ]
    },
    {
     "name": "stdout",
     "output_type": "stream",
     "text": [
      "Score for (p, d, q) = (1, 2, 1), (P, D, Q, m) = (1, 1, 2, 12): 0.0014982942527005621\n",
      "Score for (p, d, q) = (1, 2, 1), (P, D, Q, m) = (1, 2, 0, 12): 0.12054431349775806\n"
     ]
    },
    {
     "name": "stderr",
     "output_type": "stream",
     "text": [
      "C:\\Users\\wodar\\miniconda3\\envs\\conda-env\\lib\\site-packages\\statsmodels\\base\\model.py:566: ConvergenceWarning: Maximum Likelihood optimization failed to converge. Check mle_retvals\n",
      "  warnings.warn(\"Maximum Likelihood optimization failed to \"\n",
      "C:\\Users\\wodar\\miniconda3\\envs\\conda-env\\lib\\site-packages\\statsmodels\\base\\model.py:566: ConvergenceWarning: Maximum Likelihood optimization failed to converge. Check mle_retvals\n",
      "  warnings.warn(\"Maximum Likelihood optimization failed to \"\n",
      "C:\\Users\\wodar\\miniconda3\\envs\\conda-env\\lib\\site-packages\\statsmodels\\tsa\\statespace\\sarimax.py:1009: UserWarning: Non-invertible starting seasonal moving average Using zeros as starting parameters.\n",
      "  warn('Non-invertible starting seasonal moving average'\n"
     ]
    },
    {
     "name": "stdout",
     "output_type": "stream",
     "text": [
      "Score for (p, d, q) = (1, 2, 1), (P, D, Q, m) = (1, 2, 1, 12): 0.051555749267563095\n"
     ]
    },
    {
     "name": "stderr",
     "output_type": "stream",
     "text": [
      "C:\\Users\\wodar\\miniconda3\\envs\\conda-env\\lib\\site-packages\\statsmodels\\base\\model.py:566: ConvergenceWarning: Maximum Likelihood optimization failed to converge. Check mle_retvals\n",
      "  warnings.warn(\"Maximum Likelihood optimization failed to \"\n"
     ]
    },
    {
     "name": "stdout",
     "output_type": "stream",
     "text": [
      "Score for (p, d, q) = (1, 2, 1), (P, D, Q, m) = (1, 2, 2, 12): 0.03305578117778972\n"
     ]
    },
    {
     "name": "stderr",
     "output_type": "stream",
     "text": [
      "C:\\Users\\wodar\\miniconda3\\envs\\conda-env\\lib\\site-packages\\statsmodels\\base\\model.py:566: ConvergenceWarning: Maximum Likelihood optimization failed to converge. Check mle_retvals\n",
      "  warnings.warn(\"Maximum Likelihood optimization failed to \"\n"
     ]
    },
    {
     "name": "stdout",
     "output_type": "stream",
     "text": [
      "Score for (p, d, q) = (1, 2, 1), (P, D, Q, m) = (2, 0, 0, 12): 0.0023554534938660648\n"
     ]
    },
    {
     "name": "stderr",
     "output_type": "stream",
     "text": [
      "C:\\Users\\wodar\\miniconda3\\envs\\conda-env\\lib\\site-packages\\statsmodels\\base\\model.py:566: ConvergenceWarning: Maximum Likelihood optimization failed to converge. Check mle_retvals\n",
      "  warnings.warn(\"Maximum Likelihood optimization failed to \"\n",
      "C:\\Users\\wodar\\miniconda3\\envs\\conda-env\\lib\\site-packages\\statsmodels\\tsa\\statespace\\sarimax.py:1009: UserWarning: Non-invertible starting seasonal moving average Using zeros as starting parameters.\n",
      "  warn('Non-invertible starting seasonal moving average'\n"
     ]
    },
    {
     "name": "stdout",
     "output_type": "stream",
     "text": [
      "Score for (p, d, q) = (1, 2, 1), (P, D, Q, m) = (2, 0, 1, 12): 0.0012965105568993648\n"
     ]
    },
    {
     "name": "stderr",
     "output_type": "stream",
     "text": [
      "C:\\Users\\wodar\\miniconda3\\envs\\conda-env\\lib\\site-packages\\statsmodels\\base\\model.py:566: ConvergenceWarning: Maximum Likelihood optimization failed to converge. Check mle_retvals\n",
      "  warnings.warn(\"Maximum Likelihood optimization failed to \"\n"
     ]
    },
    {
     "name": "stdout",
     "output_type": "stream",
     "text": [
      "Score for (p, d, q) = (1, 2, 1), (P, D, Q, m) = (2, 0, 2, 12): 0.001426031299430524\n",
      "Score for (p, d, q) = (1, 2, 1), (P, D, Q, m) = (2, 1, 0, 12): 0.0023202782744750215\n"
     ]
    },
    {
     "name": "stderr",
     "output_type": "stream",
     "text": [
      "C:\\Users\\wodar\\miniconda3\\envs\\conda-env\\lib\\site-packages\\statsmodels\\base\\model.py:566: ConvergenceWarning: Maximum Likelihood optimization failed to converge. Check mle_retvals\n",
      "  warnings.warn(\"Maximum Likelihood optimization failed to \"\n",
      "C:\\Users\\wodar\\miniconda3\\envs\\conda-env\\lib\\site-packages\\statsmodels\\tsa\\statespace\\sarimax.py:1009: UserWarning: Non-invertible starting seasonal moving average Using zeros as starting parameters.\n",
      "  warn('Non-invertible starting seasonal moving average'\n"
     ]
    },
    {
     "name": "stdout",
     "output_type": "stream",
     "text": [
      "Score for (p, d, q) = (1, 2, 1), (P, D, Q, m) = (2, 1, 1, 12): 0.0018868735159674943\n"
     ]
    },
    {
     "name": "stderr",
     "output_type": "stream",
     "text": [
      "C:\\Users\\wodar\\miniconda3\\envs\\conda-env\\lib\\site-packages\\statsmodels\\base\\model.py:566: ConvergenceWarning: Maximum Likelihood optimization failed to converge. Check mle_retvals\n",
      "  warnings.warn(\"Maximum Likelihood optimization failed to \"\n"
     ]
    },
    {
     "name": "stdout",
     "output_type": "stream",
     "text": [
      "Score for (p, d, q) = (1, 2, 1), (P, D, Q, m) = (2, 1, 2, 12): 0.004744308921801848\n",
      "Score for (p, d, q) = (1, 2, 1), (P, D, Q, m) = (2, 2, 0, 12): 0.06861841461914725\n"
     ]
    },
    {
     "name": "stderr",
     "output_type": "stream",
     "text": [
      "C:\\Users\\wodar\\miniconda3\\envs\\conda-env\\lib\\site-packages\\statsmodels\\base\\model.py:566: ConvergenceWarning: Maximum Likelihood optimization failed to converge. Check mle_retvals\n",
      "  warnings.warn(\"Maximum Likelihood optimization failed to \"\n",
      "C:\\Users\\wodar\\miniconda3\\envs\\conda-env\\lib\\site-packages\\statsmodels\\tsa\\statespace\\sarimax.py:1009: UserWarning: Non-invertible starting seasonal moving average Using zeros as starting parameters.\n",
      "  warn('Non-invertible starting seasonal moving average'\n"
     ]
    },
    {
     "name": "stdout",
     "output_type": "stream",
     "text": [
      "Score for (p, d, q) = (1, 2, 1), (P, D, Q, m) = (2, 2, 1, 12): 0.039084875749606444\n",
      "Score for (p, d, q) = (1, 2, 1), (P, D, Q, m) = (2, 2, 2, 12): 0.048077969437887266\n",
      "Score for (p, d, q) = (1, 2, 2), (P, D, Q, m) = (0, 0, 0, 12): 0.13382649893419163\n",
      "Score for (p, d, q) = (1, 2, 2), (P, D, Q, m) = (0, 0, 1, 12): 0.05529665309052449\n"
     ]
    },
    {
     "name": "stderr",
     "output_type": "stream",
     "text": [
      "C:\\Users\\wodar\\miniconda3\\envs\\conda-env\\lib\\site-packages\\statsmodels\\base\\model.py:566: ConvergenceWarning: Maximum Likelihood optimization failed to converge. Check mle_retvals\n",
      "  warnings.warn(\"Maximum Likelihood optimization failed to \"\n"
     ]
    },
    {
     "name": "stdout",
     "output_type": "stream",
     "text": [
      "Score for (p, d, q) = (1, 2, 2), (P, D, Q, m) = (0, 0, 2, 12): 0.03955997264569991\n",
      "Score for (p, d, q) = (1, 2, 2), (P, D, Q, m) = (0, 1, 0, 12): 0.008023668368057353\n"
     ]
    },
    {
     "name": "stderr",
     "output_type": "stream",
     "text": [
      "C:\\Users\\wodar\\miniconda3\\envs\\conda-env\\lib\\site-packages\\statsmodels\\base\\model.py:566: ConvergenceWarning: Maximum Likelihood optimization failed to converge. Check mle_retvals\n",
      "  warnings.warn(\"Maximum Likelihood optimization failed to \"\n",
      "C:\\Users\\wodar\\miniconda3\\envs\\conda-env\\lib\\site-packages\\statsmodels\\tsa\\statespace\\sarimax.py:1009: UserWarning: Non-invertible starting seasonal moving average Using zeros as starting parameters.\n",
      "  warn('Non-invertible starting seasonal moving average'\n"
     ]
    },
    {
     "name": "stdout",
     "output_type": "stream",
     "text": [
      "Score for (p, d, q) = (1, 2, 2), (P, D, Q, m) = (0, 1, 1, 12): 0.0015010806818251128\n"
     ]
    },
    {
     "name": "stderr",
     "output_type": "stream",
     "text": [
      "C:\\Users\\wodar\\miniconda3\\envs\\conda-env\\lib\\site-packages\\statsmodels\\base\\model.py:566: ConvergenceWarning: Maximum Likelihood optimization failed to converge. Check mle_retvals\n",
      "  warnings.warn(\"Maximum Likelihood optimization failed to \"\n"
     ]
    },
    {
     "name": "stdout",
     "output_type": "stream",
     "text": [
      "Score for (p, d, q) = (1, 2, 2), (P, D, Q, m) = (0, 1, 2, 12): 0.0029895597756165308\n",
      "Score for (p, d, q) = (1, 2, 2), (P, D, Q, m) = (0, 2, 0, 12): 0.10609065467285228\n"
     ]
    },
    {
     "name": "stderr",
     "output_type": "stream",
     "text": [
      "C:\\Users\\wodar\\miniconda3\\envs\\conda-env\\lib\\site-packages\\statsmodels\\base\\model.py:566: ConvergenceWarning: Maximum Likelihood optimization failed to converge. Check mle_retvals\n",
      "  warnings.warn(\"Maximum Likelihood optimization failed to \"\n",
      "C:\\Users\\wodar\\miniconda3\\envs\\conda-env\\lib\\site-packages\\statsmodels\\tsa\\statespace\\sarimax.py:1009: UserWarning: Non-invertible starting seasonal moving average Using zeros as starting parameters.\n",
      "  warn('Non-invertible starting seasonal moving average'\n"
     ]
    },
    {
     "name": "stdout",
     "output_type": "stream",
     "text": [
      "Score for (p, d, q) = (1, 2, 2), (P, D, Q, m) = (0, 2, 1, 12): 0.0711594682995561\n"
     ]
    },
    {
     "name": "stderr",
     "output_type": "stream",
     "text": [
      "C:\\Users\\wodar\\miniconda3\\envs\\conda-env\\lib\\site-packages\\statsmodels\\base\\model.py:566: ConvergenceWarning: Maximum Likelihood optimization failed to converge. Check mle_retvals\n",
      "  warnings.warn(\"Maximum Likelihood optimization failed to \"\n"
     ]
    },
    {
     "name": "stdout",
     "output_type": "stream",
     "text": [
      "Score for (p, d, q) = (1, 2, 2), (P, D, Q, m) = (0, 2, 2, 12): 0.054958344680980084\n",
      "Score for (p, d, q) = (1, 2, 2), (P, D, Q, m) = (1, 0, 0, 12): 0.0038990149700815243\n"
     ]
    },
    {
     "name": "stderr",
     "output_type": "stream",
     "text": [
      "C:\\Users\\wodar\\miniconda3\\envs\\conda-env\\lib\\site-packages\\statsmodels\\base\\model.py:566: ConvergenceWarning: Maximum Likelihood optimization failed to converge. Check mle_retvals\n",
      "  warnings.warn(\"Maximum Likelihood optimization failed to \"\n",
      "C:\\Users\\wodar\\miniconda3\\envs\\conda-env\\lib\\site-packages\\statsmodels\\tsa\\statespace\\sarimax.py:1009: UserWarning: Non-invertible starting seasonal moving average Using zeros as starting parameters.\n",
      "  warn('Non-invertible starting seasonal moving average'\n"
     ]
    },
    {
     "name": "stdout",
     "output_type": "stream",
     "text": [
      "Score for (p, d, q) = (1, 2, 2), (P, D, Q, m) = (1, 0, 1, 12): 0.001895151309767244\n"
     ]
    },
    {
     "name": "stderr",
     "output_type": "stream",
     "text": [
      "C:\\Users\\wodar\\miniconda3\\envs\\conda-env\\lib\\site-packages\\statsmodels\\base\\model.py:566: ConvergenceWarning: Maximum Likelihood optimization failed to converge. Check mle_retvals\n",
      "  warnings.warn(\"Maximum Likelihood optimization failed to \"\n"
     ]
    },
    {
     "name": "stdout",
     "output_type": "stream",
     "text": [
      "Score for (p, d, q) = (1, 2, 2), (P, D, Q, m) = (1, 0, 2, 12): 0.0022115267453633397\n"
     ]
    },
    {
     "name": "stderr",
     "output_type": "stream",
     "text": [
      "C:\\Users\\wodar\\miniconda3\\envs\\conda-env\\lib\\site-packages\\statsmodels\\base\\model.py:566: ConvergenceWarning: Maximum Likelihood optimization failed to converge. Check mle_retvals\n",
      "  warnings.warn(\"Maximum Likelihood optimization failed to \"\n"
     ]
    },
    {
     "name": "stdout",
     "output_type": "stream",
     "text": [
      "Score for (p, d, q) = (1, 2, 2), (P, D, Q, m) = (1, 1, 0, 12): 0.008026837729975894\n"
     ]
    },
    {
     "name": "stderr",
     "output_type": "stream",
     "text": [
      "C:\\Users\\wodar\\miniconda3\\envs\\conda-env\\lib\\site-packages\\statsmodels\\base\\model.py:566: ConvergenceWarning: Maximum Likelihood optimization failed to converge. Check mle_retvals\n",
      "  warnings.warn(\"Maximum Likelihood optimization failed to \"\n",
      "C:\\Users\\wodar\\miniconda3\\envs\\conda-env\\lib\\site-packages\\statsmodels\\tsa\\statespace\\sarimax.py:1009: UserWarning: Non-invertible starting seasonal moving average Using zeros as starting parameters.\n",
      "  warn('Non-invertible starting seasonal moving average'\n"
     ]
    },
    {
     "name": "stdout",
     "output_type": "stream",
     "text": [
      "Score for (p, d, q) = (1, 2, 2), (P, D, Q, m) = (1, 1, 1, 12): 0.0035399922780170404\n"
     ]
    },
    {
     "name": "stderr",
     "output_type": "stream",
     "text": [
      "C:\\Users\\wodar\\miniconda3\\envs\\conda-env\\lib\\site-packages\\statsmodels\\base\\model.py:566: ConvergenceWarning: Maximum Likelihood optimization failed to converge. Check mle_retvals\n",
      "  warnings.warn(\"Maximum Likelihood optimization failed to \"\n"
     ]
    },
    {
     "name": "stdout",
     "output_type": "stream",
     "text": [
      "Score for (p, d, q) = (1, 2, 2), (P, D, Q, m) = (1, 1, 2, 12): 0.001973952299177368\n",
      "Score for (p, d, q) = (1, 2, 2), (P, D, Q, m) = (1, 2, 0, 12): 0.0705700269977572\n"
     ]
    },
    {
     "name": "stderr",
     "output_type": "stream",
     "text": [
      "C:\\Users\\wodar\\miniconda3\\envs\\conda-env\\lib\\site-packages\\statsmodels\\base\\model.py:566: ConvergenceWarning: Maximum Likelihood optimization failed to converge. Check mle_retvals\n",
      "  warnings.warn(\"Maximum Likelihood optimization failed to \"\n",
      "C:\\Users\\wodar\\miniconda3\\envs\\conda-env\\lib\\site-packages\\statsmodels\\tsa\\statespace\\sarimax.py:1009: UserWarning: Non-invertible starting seasonal moving average Using zeros as starting parameters.\n",
      "  warn('Non-invertible starting seasonal moving average'\n"
     ]
    },
    {
     "name": "stdout",
     "output_type": "stream",
     "text": [
      "Score for (p, d, q) = (1, 2, 2), (P, D, Q, m) = (1, 2, 1, 12): 0.10060267458769691\n"
     ]
    },
    {
     "name": "stderr",
     "output_type": "stream",
     "text": [
      "C:\\Users\\wodar\\miniconda3\\envs\\conda-env\\lib\\site-packages\\statsmodels\\base\\model.py:566: ConvergenceWarning: Maximum Likelihood optimization failed to converge. Check mle_retvals\n",
      "  warnings.warn(\"Maximum Likelihood optimization failed to \"\n"
     ]
    },
    {
     "name": "stdout",
     "output_type": "stream",
     "text": [
      "Score for (p, d, q) = (1, 2, 2), (P, D, Q, m) = (1, 2, 2, 12): 0.032637556498385525\n"
     ]
    },
    {
     "name": "stderr",
     "output_type": "stream",
     "text": [
      "C:\\Users\\wodar\\miniconda3\\envs\\conda-env\\lib\\site-packages\\statsmodels\\base\\model.py:566: ConvergenceWarning: Maximum Likelihood optimization failed to converge. Check mle_retvals\n",
      "  warnings.warn(\"Maximum Likelihood optimization failed to \"\n"
     ]
    },
    {
     "name": "stdout",
     "output_type": "stream",
     "text": [
      "Score for (p, d, q) = (1, 2, 2), (P, D, Q, m) = (2, 0, 0, 12): 0.002391779424943408\n"
     ]
    },
    {
     "name": "stderr",
     "output_type": "stream",
     "text": [
      "C:\\Users\\wodar\\miniconda3\\envs\\conda-env\\lib\\site-packages\\statsmodels\\base\\model.py:566: ConvergenceWarning: Maximum Likelihood optimization failed to converge. Check mle_retvals\n",
      "  warnings.warn(\"Maximum Likelihood optimization failed to \"\n",
      "C:\\Users\\wodar\\miniconda3\\envs\\conda-env\\lib\\site-packages\\statsmodels\\tsa\\statespace\\sarimax.py:1009: UserWarning: Non-invertible starting seasonal moving average Using zeros as starting parameters.\n",
      "  warn('Non-invertible starting seasonal moving average'\n"
     ]
    },
    {
     "name": "stdout",
     "output_type": "stream",
     "text": [
      "Score for (p, d, q) = (1, 2, 2), (P, D, Q, m) = (2, 0, 1, 12): 0.0014162736650622286\n"
     ]
    },
    {
     "name": "stderr",
     "output_type": "stream",
     "text": [
      "C:\\Users\\wodar\\miniconda3\\envs\\conda-env\\lib\\site-packages\\statsmodels\\base\\model.py:566: ConvergenceWarning: Maximum Likelihood optimization failed to converge. Check mle_retvals\n",
      "  warnings.warn(\"Maximum Likelihood optimization failed to \"\n"
     ]
    },
    {
     "name": "stdout",
     "output_type": "stream",
     "text": [
      "Score for (p, d, q) = (1, 2, 2), (P, D, Q, m) = (2, 0, 2, 12): 0.0013992929828974309\n"
     ]
    },
    {
     "name": "stderr",
     "output_type": "stream",
     "text": [
      "C:\\Users\\wodar\\miniconda3\\envs\\conda-env\\lib\\site-packages\\statsmodels\\base\\model.py:566: ConvergenceWarning: Maximum Likelihood optimization failed to converge. Check mle_retvals\n",
      "  warnings.warn(\"Maximum Likelihood optimization failed to \"\n"
     ]
    },
    {
     "name": "stdout",
     "output_type": "stream",
     "text": [
      "Score for (p, d, q) = (1, 2, 2), (P, D, Q, m) = (2, 1, 0, 12): 0.004765625502540479\n",
      "Score for (p, d, q) = (1, 2, 2), (P, D, Q, m) = (2, 1, 1, 12): 0.003045154831033408\n"
     ]
    },
    {
     "name": "stderr",
     "output_type": "stream",
     "text": [
      "C:\\Users\\wodar\\miniconda3\\envs\\conda-env\\lib\\site-packages\\statsmodels\\tsa\\statespace\\sarimax.py:1009: UserWarning: Non-invertible starting seasonal moving average Using zeros as starting parameters.\n",
      "  warn('Non-invertible starting seasonal moving average'\n",
      "C:\\Users\\wodar\\miniconda3\\envs\\conda-env\\lib\\site-packages\\statsmodels\\base\\model.py:566: ConvergenceWarning: Maximum Likelihood optimization failed to converge. Check mle_retvals\n",
      "  warnings.warn(\"Maximum Likelihood optimization failed to \"\n"
     ]
    },
    {
     "name": "stdout",
     "output_type": "stream",
     "text": [
      "Score for (p, d, q) = (1, 2, 2), (P, D, Q, m) = (2, 1, 2, 12): 0.003835923835629681\n"
     ]
    },
    {
     "name": "stderr",
     "output_type": "stream",
     "text": [
      "C:\\Users\\wodar\\miniconda3\\envs\\conda-env\\lib\\site-packages\\statsmodels\\base\\model.py:566: ConvergenceWarning: Maximum Likelihood optimization failed to converge. Check mle_retvals\n",
      "  warnings.warn(\"Maximum Likelihood optimization failed to \"\n"
     ]
    },
    {
     "name": "stdout",
     "output_type": "stream",
     "text": [
      "Score for (p, d, q) = (1, 2, 2), (P, D, Q, m) = (2, 2, 0, 12): 0.06448911024062713\n"
     ]
    },
    {
     "name": "stderr",
     "output_type": "stream",
     "text": [
      "C:\\Users\\wodar\\miniconda3\\envs\\conda-env\\lib\\site-packages\\statsmodels\\base\\model.py:566: ConvergenceWarning: Maximum Likelihood optimization failed to converge. Check mle_retvals\n",
      "  warnings.warn(\"Maximum Likelihood optimization failed to \"\n",
      "C:\\Users\\wodar\\miniconda3\\envs\\conda-env\\lib\\site-packages\\statsmodels\\tsa\\statespace\\sarimax.py:1009: UserWarning: Non-invertible starting seasonal moving average Using zeros as starting parameters.\n",
      "  warn('Non-invertible starting seasonal moving average'\n"
     ]
    },
    {
     "name": "stdout",
     "output_type": "stream",
     "text": [
      "Score for (p, d, q) = (1, 2, 2), (P, D, Q, m) = (2, 2, 1, 12): 0.047374134508448025\n"
     ]
    },
    {
     "name": "stderr",
     "output_type": "stream",
     "text": [
      "C:\\Users\\wodar\\miniconda3\\envs\\conda-env\\lib\\site-packages\\statsmodels\\base\\model.py:566: ConvergenceWarning: Maximum Likelihood optimization failed to converge. Check mle_retvals\n",
      "  warnings.warn(\"Maximum Likelihood optimization failed to \"\n"
     ]
    },
    {
     "name": "stdout",
     "output_type": "stream",
     "text": [
      "Score for (p, d, q) = (1, 2, 2), (P, D, Q, m) = (2, 2, 2, 12): 0.08792633819056443\n",
      "Score for (p, d, q) = (2, 0, 0), (P, D, Q, m) = (0, 0, 0, 12): 0.10243620743991894\n"
     ]
    },
    {
     "name": "stderr",
     "output_type": "stream",
     "text": [
      "C:\\Users\\wodar\\miniconda3\\envs\\conda-env\\lib\\site-packages\\statsmodels\\tsa\\statespace\\sarimax.py:1009: UserWarning: Non-invertible starting seasonal moving average Using zeros as starting parameters.\n",
      "  warn('Non-invertible starting seasonal moving average'\n",
      "C:\\Users\\wodar\\miniconda3\\envs\\conda-env\\lib\\site-packages\\statsmodels\\base\\model.py:566: ConvergenceWarning: Maximum Likelihood optimization failed to converge. Check mle_retvals\n",
      "  warnings.warn(\"Maximum Likelihood optimization failed to \"\n",
      "C:\\Users\\wodar\\miniconda3\\envs\\conda-env\\lib\\site-packages\\statsmodels\\tsa\\statespace\\sarimax.py:1009: UserWarning: Non-invertible starting seasonal moving average Using zeros as starting parameters.\n",
      "  warn('Non-invertible starting seasonal moving average'\n"
     ]
    },
    {
     "name": "stdout",
     "output_type": "stream",
     "text": [
      "Score for (p, d, q) = (2, 0, 0), (P, D, Q, m) = (0, 0, 1, 12): 0.08579212626377714\n",
      "Score for (p, d, q) = (2, 0, 0), (P, D, Q, m) = (0, 0, 2, 12): 0.04746036459009681\n",
      "Score for (p, d, q) = (2, 0, 0), (P, D, Q, m) = (0, 1, 0, 12): 0.014559064495631243\n",
      "Score for (p, d, q) = (2, 0, 0), (P, D, Q, m) = (0, 1, 1, 12): 0.002115590017496609\n"
     ]
    },
    {
     "name": "stderr",
     "output_type": "stream",
     "text": [
      "C:\\Users\\wodar\\miniconda3\\envs\\conda-env\\lib\\site-packages\\statsmodels\\tsa\\statespace\\sarimax.py:1009: UserWarning: Non-invertible starting seasonal moving average Using zeros as starting parameters.\n",
      "  warn('Non-invertible starting seasonal moving average'\n"
     ]
    },
    {
     "name": "stdout",
     "output_type": "stream",
     "text": [
      "Score for (p, d, q) = (2, 0, 0), (P, D, Q, m) = (0, 1, 2, 12): 0.002287223386207921\n",
      "Score for (p, d, q) = (2, 0, 0), (P, D, Q, m) = (0, 2, 0, 12): 0.011093391612063803\n",
      "Score for (p, d, q) = (2, 0, 0), (P, D, Q, m) = (0, 2, 1, 12): 0.001950016729610258\n"
     ]
    },
    {
     "name": "stderr",
     "output_type": "stream",
     "text": [
      "C:\\Users\\wodar\\miniconda3\\envs\\conda-env\\lib\\site-packages\\statsmodels\\tsa\\statespace\\sarimax.py:1009: UserWarning: Non-invertible starting seasonal moving average Using zeros as starting parameters.\n",
      "  warn('Non-invertible starting seasonal moving average'\n"
     ]
    },
    {
     "name": "stdout",
     "output_type": "stream",
     "text": [
      "Score for (p, d, q) = (2, 0, 0), (P, D, Q, m) = (0, 2, 2, 12): 0.006397555642198836\n",
      "Score for (p, d, q) = (2, 0, 0), (P, D, Q, m) = (1, 0, 0, 12): 0.018642495818348426\n"
     ]
    },
    {
     "name": "stderr",
     "output_type": "stream",
     "text": [
      "C:\\Users\\wodar\\miniconda3\\envs\\conda-env\\lib\\site-packages\\statsmodels\\tsa\\statespace\\sarimax.py:997: UserWarning: Non-stationary starting seasonal autoregressive Using zeros as starting parameters.\n",
      "  warn('Non-stationary starting seasonal autoregressive'\n"
     ]
    },
    {
     "name": "stdout",
     "output_type": "stream",
     "text": [
      "Score for (p, d, q) = (2, 0, 0), (P, D, Q, m) = (1, 0, 1, 12): 0.004742754140812901\n"
     ]
    },
    {
     "name": "stderr",
     "output_type": "stream",
     "text": [
      "C:\\Users\\wodar\\miniconda3\\envs\\conda-env\\lib\\site-packages\\statsmodels\\tsa\\statespace\\sarimax.py:997: UserWarning: Non-stationary starting seasonal autoregressive Using zeros as starting parameters.\n",
      "  warn('Non-stationary starting seasonal autoregressive'\n",
      "C:\\Users\\wodar\\miniconda3\\envs\\conda-env\\lib\\site-packages\\statsmodels\\tsa\\statespace\\sarimax.py:1009: UserWarning: Non-invertible starting seasonal moving average Using zeros as starting parameters.\n",
      "  warn('Non-invertible starting seasonal moving average'\n",
      "C:\\Users\\wodar\\miniconda3\\envs\\conda-env\\lib\\site-packages\\statsmodels\\base\\model.py:566: ConvergenceWarning: Maximum Likelihood optimization failed to converge. Check mle_retvals\n",
      "  warnings.warn(\"Maximum Likelihood optimization failed to \"\n"
     ]
    },
    {
     "name": "stdout",
     "output_type": "stream",
     "text": [
      "Score for (p, d, q) = (2, 0, 0), (P, D, Q, m) = (1, 0, 2, 12): 0.00763592516211084\n",
      "Score for (p, d, q) = (2, 0, 0), (P, D, Q, m) = (1, 1, 0, 12): 0.006640639816243906\n"
     ]
    },
    {
     "name": "stderr",
     "output_type": "stream",
     "text": [
      "C:\\Users\\wodar\\miniconda3\\envs\\conda-env\\lib\\site-packages\\statsmodels\\base\\model.py:566: ConvergenceWarning: Maximum Likelihood optimization failed to converge. Check mle_retvals\n",
      "  warnings.warn(\"Maximum Likelihood optimization failed to \"\n",
      "C:\\Users\\wodar\\miniconda3\\envs\\conda-env\\lib\\site-packages\\statsmodels\\tsa\\statespace\\sarimax.py:1009: UserWarning: Non-invertible starting seasonal moving average Using zeros as starting parameters.\n",
      "  warn('Non-invertible starting seasonal moving average'\n"
     ]
    },
    {
     "name": "stdout",
     "output_type": "stream",
     "text": [
      "Score for (p, d, q) = (2, 0, 0), (P, D, Q, m) = (1, 1, 1, 12): 0.0032658804893460356\n"
     ]
    },
    {
     "name": "stderr",
     "output_type": "stream",
     "text": [
      "C:\\Users\\wodar\\miniconda3\\envs\\conda-env\\lib\\site-packages\\statsmodels\\base\\model.py:566: ConvergenceWarning: Maximum Likelihood optimization failed to converge. Check mle_retvals\n",
      "  warnings.warn(\"Maximum Likelihood optimization failed to \"\n"
     ]
    },
    {
     "name": "stdout",
     "output_type": "stream",
     "text": [
      "Score for (p, d, q) = (2, 0, 0), (P, D, Q, m) = (1, 1, 2, 12): 0.0008614600531629525\n",
      "Score for (p, d, q) = (2, 0, 0), (P, D, Q, m) = (1, 2, 0, 12): 0.005698002710994012\n",
      "Score for (p, d, q) = (2, 0, 0), (P, D, Q, m) = (1, 2, 1, 12): 0.001514581429677369\n"
     ]
    },
    {
     "name": "stderr",
     "output_type": "stream",
     "text": [
      "C:\\Users\\wodar\\miniconda3\\envs\\conda-env\\lib\\site-packages\\statsmodels\\tsa\\statespace\\sarimax.py:1009: UserWarning: Non-invertible starting seasonal moving average Using zeros as starting parameters.\n",
      "  warn('Non-invertible starting seasonal moving average'\n",
      "C:\\Users\\wodar\\miniconda3\\envs\\conda-env\\lib\\site-packages\\statsmodels\\base\\model.py:566: ConvergenceWarning: Maximum Likelihood optimization failed to converge. Check mle_retvals\n",
      "  warnings.warn(\"Maximum Likelihood optimization failed to \"\n"
     ]
    },
    {
     "name": "stdout",
     "output_type": "stream",
     "text": [
      "Score for (p, d, q) = (2, 0, 0), (P, D, Q, m) = (1, 2, 2, 12): 0.00645718877421509\n",
      "Score for (p, d, q) = (2, 0, 0), (P, D, Q, m) = (2, 0, 0, 12): 0.009097470900726084\n"
     ]
    },
    {
     "name": "stderr",
     "output_type": "stream",
     "text": [
      "C:\\Users\\wodar\\miniconda3\\envs\\conda-env\\lib\\site-packages\\statsmodels\\base\\model.py:566: ConvergenceWarning: Maximum Likelihood optimization failed to converge. Check mle_retvals\n",
      "  warnings.warn(\"Maximum Likelihood optimization failed to \"\n",
      "C:\\Users\\wodar\\miniconda3\\envs\\conda-env\\lib\\site-packages\\statsmodels\\tsa\\statespace\\sarimax.py:997: UserWarning: Non-stationary starting seasonal autoregressive Using zeros as starting parameters.\n",
      "  warn('Non-stationary starting seasonal autoregressive'\n"
     ]
    },
    {
     "name": "stdout",
     "output_type": "stream",
     "text": [
      "Score for (p, d, q) = (2, 0, 0), (P, D, Q, m) = (2, 0, 1, 12): 0.03503724733633587\n",
      "Score for (p, d, q) = (2, 0, 0), (P, D, Q, m) = (2, 0, 2, 12): 0.004689733705108131\n"
     ]
    },
    {
     "name": "stderr",
     "output_type": "stream",
     "text": [
      "C:\\Users\\wodar\\miniconda3\\envs\\conda-env\\lib\\site-packages\\statsmodels\\base\\model.py:566: ConvergenceWarning: Maximum Likelihood optimization failed to converge. Check mle_retvals\n",
      "  warnings.warn(\"Maximum Likelihood optimization failed to \"\n"
     ]
    },
    {
     "name": "stdout",
     "output_type": "stream",
     "text": [
      "Score for (p, d, q) = (2, 0, 0), (P, D, Q, m) = (2, 1, 0, 12): 0.0035472113789732644\n"
     ]
    },
    {
     "name": "stderr",
     "output_type": "stream",
     "text": [
      "C:\\Users\\wodar\\miniconda3\\envs\\conda-env\\lib\\site-packages\\statsmodels\\base\\model.py:566: ConvergenceWarning: Maximum Likelihood optimization failed to converge. Check mle_retvals\n",
      "  warnings.warn(\"Maximum Likelihood optimization failed to \"\n"
     ]
    },
    {
     "name": "stdout",
     "output_type": "stream",
     "text": [
      "Score for (p, d, q) = (2, 0, 0), (P, D, Q, m) = (2, 1, 1, 12): 0.002712538561968242\n"
     ]
    },
    {
     "name": "stderr",
     "output_type": "stream",
     "text": [
      "C:\\Users\\wodar\\miniconda3\\envs\\conda-env\\lib\\site-packages\\statsmodels\\base\\model.py:566: ConvergenceWarning: Maximum Likelihood optimization failed to converge. Check mle_retvals\n",
      "  warnings.warn(\"Maximum Likelihood optimization failed to \"\n"
     ]
    },
    {
     "name": "stdout",
     "output_type": "stream",
     "text": [
      "Score for (p, d, q) = (2, 0, 0), (P, D, Q, m) = (2, 1, 2, 12): 0.0012085256751886047\n",
      "Score for (p, d, q) = (2, 0, 0), (P, D, Q, m) = (2, 2, 0, 12): 0.002604630735156846\n"
     ]
    },
    {
     "name": "stderr",
     "output_type": "stream",
     "text": [
      "C:\\Users\\wodar\\miniconda3\\envs\\conda-env\\lib\\site-packages\\statsmodels\\base\\model.py:566: ConvergenceWarning: Maximum Likelihood optimization failed to converge. Check mle_retvals\n",
      "  warnings.warn(\"Maximum Likelihood optimization failed to \"\n",
      "C:\\Users\\wodar\\miniconda3\\envs\\conda-env\\lib\\site-packages\\statsmodels\\tsa\\statespace\\sarimax.py:1009: UserWarning: Non-invertible starting seasonal moving average Using zeros as starting parameters.\n",
      "  warn('Non-invertible starting seasonal moving average'\n"
     ]
    },
    {
     "name": "stdout",
     "output_type": "stream",
     "text": [
      "Score for (p, d, q) = (2, 0, 0), (P, D, Q, m) = (2, 2, 1, 12): 0.0037987713560285893\n",
      "Score for (p, d, q) = (2, 0, 0), (P, D, Q, m) = (2, 2, 2, 12): 0.002364069726057619\n",
      "Score for (p, d, q) = (2, 0, 1), (P, D, Q, m) = (0, 0, 0, 12): 0.08042477167204265\n"
     ]
    },
    {
     "name": "stderr",
     "output_type": "stream",
     "text": [
      "C:\\Users\\wodar\\miniconda3\\envs\\conda-env\\lib\\site-packages\\statsmodels\\tsa\\statespace\\sarimax.py:1009: UserWarning: Non-invertible starting seasonal moving average Using zeros as starting parameters.\n",
      "  warn('Non-invertible starting seasonal moving average'\n",
      "C:\\Users\\wodar\\miniconda3\\envs\\conda-env\\lib\\site-packages\\statsmodels\\base\\model.py:566: ConvergenceWarning: Maximum Likelihood optimization failed to converge. Check mle_retvals\n",
      "  warnings.warn(\"Maximum Likelihood optimization failed to \"\n",
      "C:\\Users\\wodar\\miniconda3\\envs\\conda-env\\lib\\site-packages\\statsmodels\\tsa\\statespace\\sarimax.py:1009: UserWarning: Non-invertible starting seasonal moving average Using zeros as starting parameters.\n",
      "  warn('Non-invertible starting seasonal moving average'\n"
     ]
    },
    {
     "name": "stdout",
     "output_type": "stream",
     "text": [
      "Score for (p, d, q) = (2, 0, 1), (P, D, Q, m) = (0, 0, 1, 12): 0.05027056247027827\n"
     ]
    },
    {
     "name": "stderr",
     "output_type": "stream",
     "text": [
      "C:\\Users\\wodar\\miniconda3\\envs\\conda-env\\lib\\site-packages\\statsmodels\\base\\model.py:566: ConvergenceWarning: Maximum Likelihood optimization failed to converge. Check mle_retvals\n",
      "  warnings.warn(\"Maximum Likelihood optimization failed to \"\n"
     ]
    },
    {
     "name": "stdout",
     "output_type": "stream",
     "text": [
      "Score for (p, d, q) = (2, 0, 1), (P, D, Q, m) = (0, 0, 2, 12): 0.046619657021618605\n",
      "Score for (p, d, q) = (2, 0, 1), (P, D, Q, m) = (0, 1, 0, 12): 0.01502894572168725\n",
      "Score for (p, d, q) = (2, 0, 1), (P, D, Q, m) = (0, 1, 1, 12): 0.002263780022024996\n"
     ]
    },
    {
     "name": "stderr",
     "output_type": "stream",
     "text": [
      "C:\\Users\\wodar\\miniconda3\\envs\\conda-env\\lib\\site-packages\\statsmodels\\tsa\\statespace\\sarimax.py:1009: UserWarning: Non-invertible starting seasonal moving average Using zeros as starting parameters.\n",
      "  warn('Non-invertible starting seasonal moving average'\n",
      "C:\\Users\\wodar\\miniconda3\\envs\\conda-env\\lib\\site-packages\\statsmodels\\base\\model.py:566: ConvergenceWarning: Maximum Likelihood optimization failed to converge. Check mle_retvals\n",
      "  warnings.warn(\"Maximum Likelihood optimization failed to \"\n"
     ]
    },
    {
     "name": "stdout",
     "output_type": "stream",
     "text": [
      "Score for (p, d, q) = (2, 0, 1), (P, D, Q, m) = (0, 1, 2, 12): 0.0033946525657764025\n",
      "Score for (p, d, q) = (2, 0, 1), (P, D, Q, m) = (0, 2, 0, 12): 0.010496806776233141\n",
      "Score for (p, d, q) = (2, 0, 1), (P, D, Q, m) = (0, 2, 1, 12): 0.0022777633243639818\n"
     ]
    },
    {
     "name": "stderr",
     "output_type": "stream",
     "text": [
      "C:\\Users\\wodar\\miniconda3\\envs\\conda-env\\lib\\site-packages\\statsmodels\\tsa\\statespace\\sarimax.py:1009: UserWarning: Non-invertible starting seasonal moving average Using zeros as starting parameters.\n",
      "  warn('Non-invertible starting seasonal moving average'\n",
      "C:\\Users\\wodar\\miniconda3\\envs\\conda-env\\lib\\site-packages\\statsmodels\\base\\model.py:566: ConvergenceWarning: Maximum Likelihood optimization failed to converge. Check mle_retvals\n",
      "  warnings.warn(\"Maximum Likelihood optimization failed to \"\n"
     ]
    },
    {
     "name": "stdout",
     "output_type": "stream",
     "text": [
      "Score for (p, d, q) = (2, 0, 1), (P, D, Q, m) = (0, 2, 2, 12): 0.006187849338472601\n",
      "Score for (p, d, q) = (2, 0, 1), (P, D, Q, m) = (1, 0, 0, 12): 0.019777760052405148\n"
     ]
    },
    {
     "name": "stderr",
     "output_type": "stream",
     "text": [
      "C:\\Users\\wodar\\miniconda3\\envs\\conda-env\\lib\\site-packages\\statsmodels\\tsa\\statespace\\sarimax.py:997: UserWarning: Non-stationary starting seasonal autoregressive Using zeros as starting parameters.\n",
      "  warn('Non-stationary starting seasonal autoregressive'\n",
      "C:\\Users\\wodar\\miniconda3\\envs\\conda-env\\lib\\site-packages\\statsmodels\\base\\model.py:566: ConvergenceWarning: Maximum Likelihood optimization failed to converge. Check mle_retvals\n",
      "  warnings.warn(\"Maximum Likelihood optimization failed to \"\n",
      "C:\\Users\\wodar\\miniconda3\\envs\\conda-env\\lib\\site-packages\\statsmodels\\tsa\\statespace\\sarimax.py:997: UserWarning: Non-stationary starting seasonal autoregressive Using zeros as starting parameters.\n",
      "  warn('Non-stationary starting seasonal autoregressive'\n",
      "C:\\Users\\wodar\\miniconda3\\envs\\conda-env\\lib\\site-packages\\statsmodels\\tsa\\statespace\\sarimax.py:1009: UserWarning: Non-invertible starting seasonal moving average Using zeros as starting parameters.\n",
      "  warn('Non-invertible starting seasonal moving average'\n"
     ]
    },
    {
     "name": "stdout",
     "output_type": "stream",
     "text": [
      "Score for (p, d, q) = (2, 0, 1), (P, D, Q, m) = (1, 0, 1, 12): 0.012162955869839297\n"
     ]
    },
    {
     "name": "stderr",
     "output_type": "stream",
     "text": [
      "C:\\Users\\wodar\\miniconda3\\envs\\conda-env\\lib\\site-packages\\statsmodels\\base\\model.py:566: ConvergenceWarning: Maximum Likelihood optimization failed to converge. Check mle_retvals\n",
      "  warnings.warn(\"Maximum Likelihood optimization failed to \"\n"
     ]
    },
    {
     "name": "stdout",
     "output_type": "stream",
     "text": [
      "Score for (p, d, q) = (2, 0, 1), (P, D, Q, m) = (1, 0, 2, 12): 0.00964013564760018\n"
     ]
    },
    {
     "name": "stderr",
     "output_type": "stream",
     "text": [
      "C:\\Users\\wodar\\miniconda3\\envs\\conda-env\\lib\\site-packages\\statsmodels\\base\\model.py:566: ConvergenceWarning: Maximum Likelihood optimization failed to converge. Check mle_retvals\n",
      "  warnings.warn(\"Maximum Likelihood optimization failed to \"\n"
     ]
    },
    {
     "name": "stdout",
     "output_type": "stream",
     "text": [
      "Score for (p, d, q) = (2, 0, 1), (P, D, Q, m) = (1, 1, 0, 12): 0.007690374959871832\n"
     ]
    },
    {
     "name": "stderr",
     "output_type": "stream",
     "text": [
      "C:\\Users\\wodar\\miniconda3\\envs\\conda-env\\lib\\site-packages\\statsmodels\\base\\model.py:566: ConvergenceWarning: Maximum Likelihood optimization failed to converge. Check mle_retvals\n",
      "  warnings.warn(\"Maximum Likelihood optimization failed to \"\n",
      "C:\\Users\\wodar\\miniconda3\\envs\\conda-env\\lib\\site-packages\\statsmodels\\tsa\\statespace\\sarimax.py:1009: UserWarning: Non-invertible starting seasonal moving average Using zeros as starting parameters.\n",
      "  warn('Non-invertible starting seasonal moving average'\n"
     ]
    },
    {
     "name": "stdout",
     "output_type": "stream",
     "text": [
      "Score for (p, d, q) = (2, 0, 1), (P, D, Q, m) = (1, 1, 1, 12): 0.0041410362716542935\n"
     ]
    },
    {
     "name": "stderr",
     "output_type": "stream",
     "text": [
      "C:\\Users\\wodar\\miniconda3\\envs\\conda-env\\lib\\site-packages\\statsmodels\\base\\model.py:566: ConvergenceWarning: Maximum Likelihood optimization failed to converge. Check mle_retvals\n",
      "  warnings.warn(\"Maximum Likelihood optimization failed to \"\n"
     ]
    },
    {
     "name": "stdout",
     "output_type": "stream",
     "text": [
      "Score for (p, d, q) = (2, 0, 1), (P, D, Q, m) = (1, 1, 2, 12): 0.0023205249385137515\n",
      "Score for (p, d, q) = (2, 0, 1), (P, D, Q, m) = (1, 2, 0, 12): 0.005052580321234491\n"
     ]
    },
    {
     "name": "stderr",
     "output_type": "stream",
     "text": [
      "C:\\Users\\wodar\\miniconda3\\envs\\conda-env\\lib\\site-packages\\statsmodels\\base\\model.py:566: ConvergenceWarning: Maximum Likelihood optimization failed to converge. Check mle_retvals\n",
      "  warnings.warn(\"Maximum Likelihood optimization failed to \"\n",
      "C:\\Users\\wodar\\miniconda3\\envs\\conda-env\\lib\\site-packages\\statsmodels\\tsa\\statespace\\sarimax.py:1009: UserWarning: Non-invertible starting seasonal moving average Using zeros as starting parameters.\n",
      "  warn('Non-invertible starting seasonal moving average'\n"
     ]
    },
    {
     "name": "stdout",
     "output_type": "stream",
     "text": [
      "Score for (p, d, q) = (2, 0, 1), (P, D, Q, m) = (1, 2, 1, 12): 0.002841870961444286\n"
     ]
    },
    {
     "name": "stderr",
     "output_type": "stream",
     "text": [
      "C:\\Users\\wodar\\miniconda3\\envs\\conda-env\\lib\\site-packages\\statsmodels\\base\\model.py:566: ConvergenceWarning: Maximum Likelihood optimization failed to converge. Check mle_retvals\n",
      "  warnings.warn(\"Maximum Likelihood optimization failed to \"\n"
     ]
    },
    {
     "name": "stdout",
     "output_type": "stream",
     "text": [
      "Score for (p, d, q) = (2, 0, 1), (P, D, Q, m) = (1, 2, 2, 12): 0.006733959229762321\n"
     ]
    },
    {
     "name": "stderr",
     "output_type": "stream",
     "text": [
      "C:\\Users\\wodar\\miniconda3\\envs\\conda-env\\lib\\site-packages\\statsmodels\\base\\model.py:566: ConvergenceWarning: Maximum Likelihood optimization failed to converge. Check mle_retvals\n",
      "  warnings.warn(\"Maximum Likelihood optimization failed to \"\n"
     ]
    },
    {
     "name": "stdout",
     "output_type": "stream",
     "text": [
      "Score for (p, d, q) = (2, 0, 1), (P, D, Q, m) = (2, 0, 0, 12): 0.01047761706504524\n"
     ]
    },
    {
     "name": "stderr",
     "output_type": "stream",
     "text": [
      "C:\\Users\\wodar\\miniconda3\\envs\\conda-env\\lib\\site-packages\\statsmodels\\base\\model.py:566: ConvergenceWarning: Maximum Likelihood optimization failed to converge. Check mle_retvals\n",
      "  warnings.warn(\"Maximum Likelihood optimization failed to \"\n",
      "C:\\Users\\wodar\\miniconda3\\envs\\conda-env\\lib\\site-packages\\statsmodels\\tsa\\statespace\\sarimax.py:997: UserWarning: Non-stationary starting seasonal autoregressive Using zeros as starting parameters.\n",
      "  warn('Non-stationary starting seasonal autoregressive'\n"
     ]
    },
    {
     "name": "stdout",
     "output_type": "stream",
     "text": [
      "Score for (p, d, q) = (2, 0, 1), (P, D, Q, m) = (2, 0, 1, 12): 0.01933240310549589\n"
     ]
    },
    {
     "name": "stderr",
     "output_type": "stream",
     "text": [
      "C:\\Users\\wodar\\miniconda3\\envs\\conda-env\\lib\\site-packages\\statsmodels\\base\\model.py:566: ConvergenceWarning: Maximum Likelihood optimization failed to converge. Check mle_retvals\n",
      "  warnings.warn(\"Maximum Likelihood optimization failed to \"\n"
     ]
    },
    {
     "name": "stdout",
     "output_type": "stream",
     "text": [
      "Score for (p, d, q) = (2, 0, 1), (P, D, Q, m) = (2, 0, 2, 12): 0.009264366341785808\n"
     ]
    },
    {
     "name": "stderr",
     "output_type": "stream",
     "text": [
      "C:\\Users\\wodar\\miniconda3\\envs\\conda-env\\lib\\site-packages\\statsmodels\\base\\model.py:566: ConvergenceWarning: Maximum Likelihood optimization failed to converge. Check mle_retvals\n",
      "  warnings.warn(\"Maximum Likelihood optimization failed to \"\n"
     ]
    },
    {
     "name": "stdout",
     "output_type": "stream",
     "text": [
      "Score for (p, d, q) = (2, 0, 1), (P, D, Q, m) = (2, 1, 0, 12): 0.004744473905554344\n"
     ]
    },
    {
     "name": "stderr",
     "output_type": "stream",
     "text": [
      "C:\\Users\\wodar\\miniconda3\\envs\\conda-env\\lib\\site-packages\\statsmodels\\base\\model.py:566: ConvergenceWarning: Maximum Likelihood optimization failed to converge. Check mle_retvals\n",
      "  warnings.warn(\"Maximum Likelihood optimization failed to \"\n"
     ]
    },
    {
     "name": "stdout",
     "output_type": "stream",
     "text": [
      "Score for (p, d, q) = (2, 0, 1), (P, D, Q, m) = (2, 1, 1, 12): 0.003966878150770469\n"
     ]
    },
    {
     "name": "stderr",
     "output_type": "stream",
     "text": [
      "C:\\Users\\wodar\\miniconda3\\envs\\conda-env\\lib\\site-packages\\statsmodels\\base\\model.py:566: ConvergenceWarning: Maximum Likelihood optimization failed to converge. Check mle_retvals\n",
      "  warnings.warn(\"Maximum Likelihood optimization failed to \"\n"
     ]
    },
    {
     "name": "stdout",
     "output_type": "stream",
     "text": [
      "Score for (p, d, q) = (2, 0, 1), (P, D, Q, m) = (2, 1, 2, 12): 0.0028716994391721853\n",
      "Score for (p, d, q) = (2, 0, 1), (P, D, Q, m) = (2, 2, 0, 12): 0.00264597579330637\n"
     ]
    },
    {
     "name": "stderr",
     "output_type": "stream",
     "text": [
      "C:\\Users\\wodar\\miniconda3\\envs\\conda-env\\lib\\site-packages\\statsmodels\\base\\model.py:566: ConvergenceWarning: Maximum Likelihood optimization failed to converge. Check mle_retvals\n",
      "  warnings.warn(\"Maximum Likelihood optimization failed to \"\n",
      "C:\\Users\\wodar\\miniconda3\\envs\\conda-env\\lib\\site-packages\\statsmodels\\tsa\\statespace\\sarimax.py:1009: UserWarning: Non-invertible starting seasonal moving average Using zeros as starting parameters.\n",
      "  warn('Non-invertible starting seasonal moving average'\n"
     ]
    },
    {
     "name": "stdout",
     "output_type": "stream",
     "text": [
      "Score for (p, d, q) = (2, 0, 1), (P, D, Q, m) = (2, 2, 1, 12): 0.004894305703971724\n"
     ]
    },
    {
     "name": "stderr",
     "output_type": "stream",
     "text": [
      "C:\\Users\\wodar\\miniconda3\\envs\\conda-env\\lib\\site-packages\\statsmodels\\base\\model.py:566: ConvergenceWarning: Maximum Likelihood optimization failed to converge. Check mle_retvals\n",
      "  warnings.warn(\"Maximum Likelihood optimization failed to \"\n",
      "C:\\Users\\wodar\\miniconda3\\envs\\conda-env\\lib\\site-packages\\statsmodels\\tsa\\statespace\\sarimax.py:966: UserWarning: Non-stationary starting autoregressive parameters found. Using zeros as starting parameters.\n",
      "  warn('Non-stationary starting autoregressive parameters'\n",
      "C:\\Users\\wodar\\miniconda3\\envs\\conda-env\\lib\\site-packages\\statsmodels\\tsa\\statespace\\sarimax.py:978: UserWarning: Non-invertible starting MA parameters found. Using zeros as starting parameters.\n",
      "  warn('Non-invertible starting MA parameters found.'\n"
     ]
    },
    {
     "name": "stdout",
     "output_type": "stream",
     "text": [
      "Score for (p, d, q) = (2, 0, 1), (P, D, Q, m) = (2, 2, 2, 12): 0.006220923430909657\n",
      "Score for (p, d, q) = (2, 0, 2), (P, D, Q, m) = (0, 0, 0, 12): 0.0823184274287481\n"
     ]
    },
    {
     "name": "stderr",
     "output_type": "stream",
     "text": [
      "C:\\Users\\wodar\\miniconda3\\envs\\conda-env\\lib\\site-packages\\statsmodels\\tsa\\statespace\\sarimax.py:966: UserWarning: Non-stationary starting autoregressive parameters found. Using zeros as starting parameters.\n",
      "  warn('Non-stationary starting autoregressive parameters'\n",
      "C:\\Users\\wodar\\miniconda3\\envs\\conda-env\\lib\\site-packages\\statsmodels\\tsa\\statespace\\sarimax.py:978: UserWarning: Non-invertible starting MA parameters found. Using zeros as starting parameters.\n",
      "  warn('Non-invertible starting MA parameters found.'\n",
      "C:\\Users\\wodar\\miniconda3\\envs\\conda-env\\lib\\site-packages\\statsmodels\\tsa\\statespace\\sarimax.py:1009: UserWarning: Non-invertible starting seasonal moving average Using zeros as starting parameters.\n",
      "  warn('Non-invertible starting seasonal moving average'\n",
      "C:\\Users\\wodar\\miniconda3\\envs\\conda-env\\lib\\site-packages\\statsmodels\\base\\model.py:566: ConvergenceWarning: Maximum Likelihood optimization failed to converge. Check mle_retvals\n",
      "  warnings.warn(\"Maximum Likelihood optimization failed to \"\n",
      "C:\\Users\\wodar\\miniconda3\\envs\\conda-env\\lib\\site-packages\\statsmodels\\tsa\\statespace\\sarimax.py:966: UserWarning: Non-stationary starting autoregressive parameters found. Using zeros as starting parameters.\n",
      "  warn('Non-stationary starting autoregressive parameters'\n",
      "C:\\Users\\wodar\\miniconda3\\envs\\conda-env\\lib\\site-packages\\statsmodels\\tsa\\statespace\\sarimax.py:978: UserWarning: Non-invertible starting MA parameters found. Using zeros as starting parameters.\n",
      "  warn('Non-invertible starting MA parameters found.'\n",
      "C:\\Users\\wodar\\miniconda3\\envs\\conda-env\\lib\\site-packages\\statsmodels\\tsa\\statespace\\sarimax.py:1009: UserWarning: Non-invertible starting seasonal moving average Using zeros as starting parameters.\n",
      "  warn('Non-invertible starting seasonal moving average'\n"
     ]
    },
    {
     "name": "stdout",
     "output_type": "stream",
     "text": [
      "Score for (p, d, q) = (2, 0, 2), (P, D, Q, m) = (0, 0, 1, 12): 0.07212846342288262\n"
     ]
    },
    {
     "name": "stderr",
     "output_type": "stream",
     "text": [
      "C:\\Users\\wodar\\miniconda3\\envs\\conda-env\\lib\\site-packages\\statsmodels\\base\\model.py:566: ConvergenceWarning: Maximum Likelihood optimization failed to converge. Check mle_retvals\n",
      "  warnings.warn(\"Maximum Likelihood optimization failed to \"\n"
     ]
    },
    {
     "name": "stdout",
     "output_type": "stream",
     "text": [
      "Score for (p, d, q) = (2, 0, 2), (P, D, Q, m) = (0, 0, 2, 12): 0.05321530842013806\n"
     ]
    },
    {
     "name": "stderr",
     "output_type": "stream",
     "text": [
      "C:\\Users\\wodar\\miniconda3\\envs\\conda-env\\lib\\site-packages\\statsmodels\\base\\model.py:566: ConvergenceWarning: Maximum Likelihood optimization failed to converge. Check mle_retvals\n",
      "  warnings.warn(\"Maximum Likelihood optimization failed to \"\n"
     ]
    },
    {
     "name": "stdout",
     "output_type": "stream",
     "text": [
      "Score for (p, d, q) = (2, 0, 2), (P, D, Q, m) = (0, 1, 0, 12): 0.01418487800070436\n",
      "Score for (p, d, q) = (2, 0, 2), (P, D, Q, m) = (0, 1, 1, 12): 0.0024720557584054993\n"
     ]
    },
    {
     "name": "stderr",
     "output_type": "stream",
     "text": [
      "C:\\Users\\wodar\\miniconda3\\envs\\conda-env\\lib\\site-packages\\statsmodels\\tsa\\statespace\\sarimax.py:1009: UserWarning: Non-invertible starting seasonal moving average Using zeros as starting parameters.\n",
      "  warn('Non-invertible starting seasonal moving average'\n"
     ]
    },
    {
     "name": "stdout",
     "output_type": "stream",
     "text": [
      "Score for (p, d, q) = (2, 0, 2), (P, D, Q, m) = (0, 1, 2, 12): 0.002566309391885869\n",
      "Score for (p, d, q) = (2, 0, 2), (P, D, Q, m) = (0, 2, 0, 12): 0.010228493928618946\n",
      "Score for (p, d, q) = (2, 0, 2), (P, D, Q, m) = (0, 2, 1, 12): 0.0022385270568258367\n"
     ]
    },
    {
     "name": "stderr",
     "output_type": "stream",
     "text": [
      "C:\\Users\\wodar\\miniconda3\\envs\\conda-env\\lib\\site-packages\\statsmodels\\tsa\\statespace\\sarimax.py:1009: UserWarning: Non-invertible starting seasonal moving average Using zeros as starting parameters.\n",
      "  warn('Non-invertible starting seasonal moving average'\n"
     ]
    },
    {
     "name": "stdout",
     "output_type": "stream",
     "text": [
      "Score for (p, d, q) = (2, 0, 2), (P, D, Q, m) = (0, 2, 2, 12): 0.00438520851151471\n"
     ]
    },
    {
     "name": "stderr",
     "output_type": "stream",
     "text": [
      "C:\\Users\\wodar\\miniconda3\\envs\\conda-env\\lib\\site-packages\\statsmodels\\tsa\\statespace\\sarimax.py:966: UserWarning: Non-stationary starting autoregressive parameters found. Using zeros as starting parameters.\n",
      "  warn('Non-stationary starting autoregressive parameters'\n",
      "C:\\Users\\wodar\\miniconda3\\envs\\conda-env\\lib\\site-packages\\statsmodels\\tsa\\statespace\\sarimax.py:978: UserWarning: Non-invertible starting MA parameters found. Using zeros as starting parameters.\n",
      "  warn('Non-invertible starting MA parameters found.'\n",
      "C:\\Users\\wodar\\miniconda3\\envs\\conda-env\\lib\\site-packages\\statsmodels\\base\\model.py:566: ConvergenceWarning: Maximum Likelihood optimization failed to converge. Check mle_retvals\n",
      "  warnings.warn(\"Maximum Likelihood optimization failed to \"\n",
      "C:\\Users\\wodar\\miniconda3\\envs\\conda-env\\lib\\site-packages\\statsmodels\\tsa\\statespace\\sarimax.py:966: UserWarning: Non-stationary starting autoregressive parameters found. Using zeros as starting parameters.\n",
      "  warn('Non-stationary starting autoregressive parameters'\n",
      "C:\\Users\\wodar\\miniconda3\\envs\\conda-env\\lib\\site-packages\\statsmodels\\tsa\\statespace\\sarimax.py:978: UserWarning: Non-invertible starting MA parameters found. Using zeros as starting parameters.\n",
      "  warn('Non-invertible starting MA parameters found.'\n",
      "C:\\Users\\wodar\\miniconda3\\envs\\conda-env\\lib\\site-packages\\statsmodels\\tsa\\statespace\\sarimax.py:997: UserWarning: Non-stationary starting seasonal autoregressive Using zeros as starting parameters.\n",
      "  warn('Non-stationary starting seasonal autoregressive'\n"
     ]
    },
    {
     "name": "stdout",
     "output_type": "stream",
     "text": [
      "Score for (p, d, q) = (2, 0, 2), (P, D, Q, m) = (1, 0, 0, 12): 0.01936703324923142\n"
     ]
    },
    {
     "name": "stderr",
     "output_type": "stream",
     "text": [
      "C:\\Users\\wodar\\miniconda3\\envs\\conda-env\\lib\\site-packages\\statsmodels\\base\\model.py:566: ConvergenceWarning: Maximum Likelihood optimization failed to converge. Check mle_retvals\n",
      "  warnings.warn(\"Maximum Likelihood optimization failed to \"\n",
      "C:\\Users\\wodar\\miniconda3\\envs\\conda-env\\lib\\site-packages\\statsmodels\\tsa\\statespace\\sarimax.py:966: UserWarning: Non-stationary starting autoregressive parameters found. Using zeros as starting parameters.\n",
      "  warn('Non-stationary starting autoregressive parameters'\n",
      "C:\\Users\\wodar\\miniconda3\\envs\\conda-env\\lib\\site-packages\\statsmodels\\tsa\\statespace\\sarimax.py:978: UserWarning: Non-invertible starting MA parameters found. Using zeros as starting parameters.\n",
      "  warn('Non-invertible starting MA parameters found.'\n",
      "C:\\Users\\wodar\\miniconda3\\envs\\conda-env\\lib\\site-packages\\statsmodels\\tsa\\statespace\\sarimax.py:997: UserWarning: Non-stationary starting seasonal autoregressive Using zeros as starting parameters.\n",
      "  warn('Non-stationary starting seasonal autoregressive'\n",
      "C:\\Users\\wodar\\miniconda3\\envs\\conda-env\\lib\\site-packages\\statsmodels\\tsa\\statespace\\sarimax.py:1009: UserWarning: Non-invertible starting seasonal moving average Using zeros as starting parameters.\n",
      "  warn('Non-invertible starting seasonal moving average'\n"
     ]
    },
    {
     "name": "stdout",
     "output_type": "stream",
     "text": [
      "Score for (p, d, q) = (2, 0, 2), (P, D, Q, m) = (1, 0, 1, 12): 0.0035203184987539814\n"
     ]
    },
    {
     "name": "stderr",
     "output_type": "stream",
     "text": [
      "C:\\Users\\wodar\\miniconda3\\envs\\conda-env\\lib\\site-packages\\statsmodels\\base\\model.py:566: ConvergenceWarning: Maximum Likelihood optimization failed to converge. Check mle_retvals\n",
      "  warnings.warn(\"Maximum Likelihood optimization failed to \"\n"
     ]
    },
    {
     "name": "stdout",
     "output_type": "stream",
     "text": [
      "Score for (p, d, q) = (2, 0, 2), (P, D, Q, m) = (1, 0, 2, 12): 0.0018354733085992677\n"
     ]
    },
    {
     "name": "stderr",
     "output_type": "stream",
     "text": [
      "C:\\Users\\wodar\\miniconda3\\envs\\conda-env\\lib\\site-packages\\statsmodels\\base\\model.py:566: ConvergenceWarning: Maximum Likelihood optimization failed to converge. Check mle_retvals\n",
      "  warnings.warn(\"Maximum Likelihood optimization failed to \"\n"
     ]
    },
    {
     "name": "stdout",
     "output_type": "stream",
     "text": [
      "Score for (p, d, q) = (2, 0, 2), (P, D, Q, m) = (1, 1, 0, 12): 0.006166565440524948\n"
     ]
    },
    {
     "name": "stderr",
     "output_type": "stream",
     "text": [
      "C:\\Users\\wodar\\miniconda3\\envs\\conda-env\\lib\\site-packages\\statsmodels\\base\\model.py:566: ConvergenceWarning: Maximum Likelihood optimization failed to converge. Check mle_retvals\n",
      "  warnings.warn(\"Maximum Likelihood optimization failed to \"\n",
      "C:\\Users\\wodar\\miniconda3\\envs\\conda-env\\lib\\site-packages\\statsmodels\\tsa\\statespace\\sarimax.py:1009: UserWarning: Non-invertible starting seasonal moving average Using zeros as starting parameters.\n",
      "  warn('Non-invertible starting seasonal moving average'\n"
     ]
    },
    {
     "name": "stdout",
     "output_type": "stream",
     "text": [
      "Score for (p, d, q) = (2, 0, 2), (P, D, Q, m) = (1, 1, 1, 12): 0.0016501920934035297\n",
      "Score for (p, d, q) = (2, 0, 2), (P, D, Q, m) = (1, 1, 2, 12): 0.002025162109305152\n"
     ]
    },
    {
     "name": "stderr",
     "output_type": "stream",
     "text": [
      "C:\\Users\\wodar\\miniconda3\\envs\\conda-env\\lib\\site-packages\\statsmodels\\base\\model.py:566: ConvergenceWarning: Maximum Likelihood optimization failed to converge. Check mle_retvals\n",
      "  warnings.warn(\"Maximum Likelihood optimization failed to \"\n"
     ]
    },
    {
     "name": "stdout",
     "output_type": "stream",
     "text": [
      "Score for (p, d, q) = (2, 0, 2), (P, D, Q, m) = (1, 2, 0, 12): 0.0059657174196826954\n"
     ]
    },
    {
     "name": "stderr",
     "output_type": "stream",
     "text": [
      "C:\\Users\\wodar\\miniconda3\\envs\\conda-env\\lib\\site-packages\\statsmodels\\base\\model.py:566: ConvergenceWarning: Maximum Likelihood optimization failed to converge. Check mle_retvals\n",
      "  warnings.warn(\"Maximum Likelihood optimization failed to \"\n",
      "C:\\Users\\wodar\\miniconda3\\envs\\conda-env\\lib\\site-packages\\statsmodels\\tsa\\statespace\\sarimax.py:1009: UserWarning: Non-invertible starting seasonal moving average Using zeros as starting parameters.\n",
      "  warn('Non-invertible starting seasonal moving average'\n"
     ]
    },
    {
     "name": "stdout",
     "output_type": "stream",
     "text": [
      "Score for (p, d, q) = (2, 0, 2), (P, D, Q, m) = (1, 2, 1, 12): 0.0012114095381891884\n"
     ]
    },
    {
     "name": "stderr",
     "output_type": "stream",
     "text": [
      "C:\\Users\\wodar\\miniconda3\\envs\\conda-env\\lib\\site-packages\\statsmodels\\base\\model.py:566: ConvergenceWarning: Maximum Likelihood optimization failed to converge. Check mle_retvals\n",
      "  warnings.warn(\"Maximum Likelihood optimization failed to \"\n",
      "C:\\Users\\wodar\\miniconda3\\envs\\conda-env\\lib\\site-packages\\statsmodels\\tsa\\statespace\\sarimax.py:966: UserWarning: Non-stationary starting autoregressive parameters found. Using zeros as starting parameters.\n",
      "  warn('Non-stationary starting autoregressive parameters'\n",
      "C:\\Users\\wodar\\miniconda3\\envs\\conda-env\\lib\\site-packages\\statsmodels\\tsa\\statespace\\sarimax.py:978: UserWarning: Non-invertible starting MA parameters found. Using zeros as starting parameters.\n",
      "  warn('Non-invertible starting MA parameters found.'\n"
     ]
    },
    {
     "name": "stdout",
     "output_type": "stream",
     "text": [
      "Score for (p, d, q) = (2, 0, 2), (P, D, Q, m) = (1, 2, 2, 12): 0.0009741328451910947\n"
     ]
    },
    {
     "name": "stderr",
     "output_type": "stream",
     "text": [
      "C:\\Users\\wodar\\miniconda3\\envs\\conda-env\\lib\\site-packages\\statsmodels\\base\\model.py:566: ConvergenceWarning: Maximum Likelihood optimization failed to converge. Check mle_retvals\n",
      "  warnings.warn(\"Maximum Likelihood optimization failed to \"\n",
      "C:\\Users\\wodar\\miniconda3\\envs\\conda-env\\lib\\site-packages\\statsmodels\\tsa\\statespace\\sarimax.py:966: UserWarning: Non-stationary starting autoregressive parameters found. Using zeros as starting parameters.\n",
      "  warn('Non-stationary starting autoregressive parameters'\n",
      "C:\\Users\\wodar\\miniconda3\\envs\\conda-env\\lib\\site-packages\\statsmodels\\tsa\\statespace\\sarimax.py:978: UserWarning: Non-invertible starting MA parameters found. Using zeros as starting parameters.\n",
      "  warn('Non-invertible starting MA parameters found.'\n"
     ]
    },
    {
     "name": "stdout",
     "output_type": "stream",
     "text": [
      "Score for (p, d, q) = (2, 0, 2), (P, D, Q, m) = (2, 0, 0, 12): 0.010097335173664795\n"
     ]
    },
    {
     "name": "stderr",
     "output_type": "stream",
     "text": [
      "C:\\Users\\wodar\\miniconda3\\envs\\conda-env\\lib\\site-packages\\statsmodels\\base\\model.py:566: ConvergenceWarning: Maximum Likelihood optimization failed to converge. Check mle_retvals\n",
      "  warnings.warn(\"Maximum Likelihood optimization failed to \"\n",
      "C:\\Users\\wodar\\miniconda3\\envs\\conda-env\\lib\\site-packages\\statsmodels\\tsa\\statespace\\sarimax.py:966: UserWarning: Non-stationary starting autoregressive parameters found. Using zeros as starting parameters.\n",
      "  warn('Non-stationary starting autoregressive parameters'\n",
      "C:\\Users\\wodar\\miniconda3\\envs\\conda-env\\lib\\site-packages\\statsmodels\\tsa\\statespace\\sarimax.py:978: UserWarning: Non-invertible starting MA parameters found. Using zeros as starting parameters.\n",
      "  warn('Non-invertible starting MA parameters found.'\n",
      "C:\\Users\\wodar\\miniconda3\\envs\\conda-env\\lib\\site-packages\\statsmodels\\tsa\\statespace\\sarimax.py:997: UserWarning: Non-stationary starting seasonal autoregressive Using zeros as starting parameters.\n",
      "  warn('Non-stationary starting seasonal autoregressive'\n"
     ]
    },
    {
     "name": "stdout",
     "output_type": "stream",
     "text": [
      "Score for (p, d, q) = (2, 0, 2), (P, D, Q, m) = (2, 0, 1, 12): 0.015513279077003773\n"
     ]
    },
    {
     "name": "stderr",
     "output_type": "stream",
     "text": [
      "C:\\Users\\wodar\\miniconda3\\envs\\conda-env\\lib\\site-packages\\statsmodels\\base\\model.py:566: ConvergenceWarning: Maximum Likelihood optimization failed to converge. Check mle_retvals\n",
      "  warnings.warn(\"Maximum Likelihood optimization failed to \"\n"
     ]
    },
    {
     "name": "stdout",
     "output_type": "stream",
     "text": [
      "Score for (p, d, q) = (2, 0, 2), (P, D, Q, m) = (2, 0, 2, 12): 0.004533259427516166\n"
     ]
    },
    {
     "name": "stderr",
     "output_type": "stream",
     "text": [
      "C:\\Users\\wodar\\miniconda3\\envs\\conda-env\\lib\\site-packages\\statsmodels\\base\\model.py:566: ConvergenceWarning: Maximum Likelihood optimization failed to converge. Check mle_retvals\n",
      "  warnings.warn(\"Maximum Likelihood optimization failed to \"\n"
     ]
    },
    {
     "name": "stdout",
     "output_type": "stream",
     "text": [
      "Score for (p, d, q) = (2, 0, 2), (P, D, Q, m) = (2, 1, 0, 12): 0.0035924859704279167\n"
     ]
    },
    {
     "name": "stderr",
     "output_type": "stream",
     "text": [
      "C:\\Users\\wodar\\miniconda3\\envs\\conda-env\\lib\\site-packages\\statsmodels\\base\\model.py:566: ConvergenceWarning: Maximum Likelihood optimization failed to converge. Check mle_retvals\n",
      "  warnings.warn(\"Maximum Likelihood optimization failed to \"\n"
     ]
    },
    {
     "name": "stdout",
     "output_type": "stream",
     "text": [
      "Score for (p, d, q) = (2, 0, 2), (P, D, Q, m) = (2, 1, 1, 12): 0.0013344883807892066\n"
     ]
    },
    {
     "name": "stderr",
     "output_type": "stream",
     "text": [
      "C:\\Users\\wodar\\miniconda3\\envs\\conda-env\\lib\\site-packages\\statsmodels\\base\\model.py:566: ConvergenceWarning: Maximum Likelihood optimization failed to converge. Check mle_retvals\n",
      "  warnings.warn(\"Maximum Likelihood optimization failed to \"\n"
     ]
    },
    {
     "name": "stdout",
     "output_type": "stream",
     "text": [
      "Score for (p, d, q) = (2, 0, 2), (P, D, Q, m) = (2, 1, 2, 12): 0.003676883305475449\n"
     ]
    },
    {
     "name": "stderr",
     "output_type": "stream",
     "text": [
      "C:\\Users\\wodar\\miniconda3\\envs\\conda-env\\lib\\site-packages\\statsmodels\\base\\model.py:566: ConvergenceWarning: Maximum Likelihood optimization failed to converge. Check mle_retvals\n",
      "  warnings.warn(\"Maximum Likelihood optimization failed to \"\n"
     ]
    },
    {
     "name": "stdout",
     "output_type": "stream",
     "text": [
      "Score for (p, d, q) = (2, 0, 2), (P, D, Q, m) = (2, 2, 0, 12): 0.002726465670782069\n"
     ]
    },
    {
     "name": "stderr",
     "output_type": "stream",
     "text": [
      "C:\\Users\\wodar\\miniconda3\\envs\\conda-env\\lib\\site-packages\\statsmodels\\base\\model.py:566: ConvergenceWarning: Maximum Likelihood optimization failed to converge. Check mle_retvals\n",
      "  warnings.warn(\"Maximum Likelihood optimization failed to \"\n",
      "C:\\Users\\wodar\\miniconda3\\envs\\conda-env\\lib\\site-packages\\statsmodels\\tsa\\statespace\\sarimax.py:1009: UserWarning: Non-invertible starting seasonal moving average Using zeros as starting parameters.\n",
      "  warn('Non-invertible starting seasonal moving average'\n"
     ]
    },
    {
     "name": "stdout",
     "output_type": "stream",
     "text": [
      "Score for (p, d, q) = (2, 0, 2), (P, D, Q, m) = (2, 2, 1, 12): 0.0017251599885155715\n"
     ]
    },
    {
     "name": "stderr",
     "output_type": "stream",
     "text": [
      "C:\\Users\\wodar\\miniconda3\\envs\\conda-env\\lib\\site-packages\\statsmodels\\base\\model.py:566: ConvergenceWarning: Maximum Likelihood optimization failed to converge. Check mle_retvals\n",
      "  warnings.warn(\"Maximum Likelihood optimization failed to \"\n"
     ]
    },
    {
     "name": "stdout",
     "output_type": "stream",
     "text": [
      "Score for (p, d, q) = (2, 0, 2), (P, D, Q, m) = (2, 2, 2, 12): 0.0013810367744254756\n",
      "Score for (p, d, q) = (2, 1, 0), (P, D, Q, m) = (0, 0, 0, 12): 0.03893154719588036\n",
      "Score for (p, d, q) = (2, 1, 0), (P, D, Q, m) = (0, 0, 1, 12): 0.022429127436029896\n"
     ]
    },
    {
     "name": "stderr",
     "output_type": "stream",
     "text": [
      "C:\\Users\\wodar\\miniconda3\\envs\\conda-env\\lib\\site-packages\\statsmodels\\tsa\\statespace\\sarimax.py:1009: UserWarning: Non-invertible starting seasonal moving average Using zeros as starting parameters.\n",
      "  warn('Non-invertible starting seasonal moving average'\n"
     ]
    },
    {
     "name": "stdout",
     "output_type": "stream",
     "text": [
      "Score for (p, d, q) = (2, 1, 0), (P, D, Q, m) = (0, 0, 2, 12): 0.017354401486104662\n",
      "Score for (p, d, q) = (2, 1, 0), (P, D, Q, m) = (0, 1, 0, 12): 0.008242343079784331\n",
      "Score for (p, d, q) = (2, 1, 0), (P, D, Q, m) = (0, 1, 1, 12): 0.0011582014334013658\n"
     ]
    },
    {
     "name": "stderr",
     "output_type": "stream",
     "text": [
      "C:\\Users\\wodar\\miniconda3\\envs\\conda-env\\lib\\site-packages\\statsmodels\\tsa\\statespace\\sarimax.py:1009: UserWarning: Non-invertible starting seasonal moving average Using zeros as starting parameters.\n",
      "  warn('Non-invertible starting seasonal moving average'\n"
     ]
    },
    {
     "name": "stdout",
     "output_type": "stream",
     "text": [
      "Score for (p, d, q) = (2, 1, 0), (P, D, Q, m) = (0, 1, 2, 12): 0.0011549000337003294\n",
      "Score for (p, d, q) = (2, 1, 0), (P, D, Q, m) = (0, 2, 0, 12): 0.05835339967219686\n",
      "Score for (p, d, q) = (2, 1, 0), (P, D, Q, m) = (0, 2, 1, 12): 0.01180104495932523\n"
     ]
    },
    {
     "name": "stderr",
     "output_type": "stream",
     "text": [
      "C:\\Users\\wodar\\miniconda3\\envs\\conda-env\\lib\\site-packages\\statsmodels\\tsa\\statespace\\sarimax.py:1009: UserWarning: Non-invertible starting seasonal moving average Using zeros as starting parameters.\n",
      "  warn('Non-invertible starting seasonal moving average'\n"
     ]
    },
    {
     "name": "stdout",
     "output_type": "stream",
     "text": [
      "Score for (p, d, q) = (2, 1, 0), (P, D, Q, m) = (0, 2, 2, 12): 0.0023711501854335078\n",
      "Score for (p, d, q) = (2, 1, 0), (P, D, Q, m) = (1, 0, 0, 12): 0.005344821177932606\n"
     ]
    },
    {
     "name": "stderr",
     "output_type": "stream",
     "text": [
      "C:\\Users\\wodar\\miniconda3\\envs\\conda-env\\lib\\site-packages\\statsmodels\\base\\model.py:566: ConvergenceWarning: Maximum Likelihood optimization failed to converge. Check mle_retvals\n",
      "  warnings.warn(\"Maximum Likelihood optimization failed to \"\n"
     ]
    },
    {
     "name": "stdout",
     "output_type": "stream",
     "text": [
      "Score for (p, d, q) = (2, 1, 0), (P, D, Q, m) = (1, 0, 1, 12): 0.001408740772949754\n",
      "Score for (p, d, q) = (2, 1, 0), (P, D, Q, m) = (1, 0, 2, 12): 0.0013133313042022505\n",
      "Score for (p, d, q) = (2, 1, 0), (P, D, Q, m) = (1, 1, 0, 12): 0.0031673735774298026\n",
      "Score for (p, d, q) = (2, 1, 0), (P, D, Q, m) = (1, 1, 1, 12): 0.0011547280598652942\n"
     ]
    },
    {
     "name": "stderr",
     "output_type": "stream",
     "text": [
      "C:\\Users\\wodar\\miniconda3\\envs\\conda-env\\lib\\site-packages\\statsmodels\\tsa\\statespace\\sarimax.py:1009: UserWarning: Non-invertible starting seasonal moving average Using zeros as starting parameters.\n",
      "  warn('Non-invertible starting seasonal moving average'\n"
     ]
    },
    {
     "name": "stdout",
     "output_type": "stream",
     "text": [
      "Score for (p, d, q) = (2, 1, 0), (P, D, Q, m) = (1, 1, 2, 12): 0.0011565704377980615\n",
      "Score for (p, d, q) = (2, 1, 0), (P, D, Q, m) = (1, 2, 0, 12): 0.03864547272156629\n"
     ]
    },
    {
     "name": "stderr",
     "output_type": "stream",
     "text": [
      "C:\\Users\\wodar\\miniconda3\\envs\\conda-env\\lib\\site-packages\\statsmodels\\base\\model.py:566: ConvergenceWarning: Maximum Likelihood optimization failed to converge. Check mle_retvals\n",
      "  warnings.warn(\"Maximum Likelihood optimization failed to \"\n",
      "C:\\Users\\wodar\\miniconda3\\envs\\conda-env\\lib\\site-packages\\statsmodels\\tsa\\statespace\\sarimax.py:1009: UserWarning: Non-invertible starting seasonal moving average Using zeros as starting parameters.\n",
      "  warn('Non-invertible starting seasonal moving average'\n"
     ]
    },
    {
     "name": "stdout",
     "output_type": "stream",
     "text": [
      "Score for (p, d, q) = (2, 1, 0), (P, D, Q, m) = (1, 2, 1, 12): 0.007522064194375849\n"
     ]
    },
    {
     "name": "stderr",
     "output_type": "stream",
     "text": [
      "C:\\Users\\wodar\\miniconda3\\envs\\conda-env\\lib\\site-packages\\statsmodels\\base\\model.py:566: ConvergenceWarning: Maximum Likelihood optimization failed to converge. Check mle_retvals\n",
      "  warnings.warn(\"Maximum Likelihood optimization failed to \"\n"
     ]
    },
    {
     "name": "stdout",
     "output_type": "stream",
     "text": [
      "Score for (p, d, q) = (2, 1, 0), (P, D, Q, m) = (1, 2, 2, 12): 0.001988068959904512\n",
      "Score for (p, d, q) = (2, 1, 0), (P, D, Q, m) = (2, 0, 0, 12): 0.002761233318360142\n",
      "Score for (p, d, q) = (2, 1, 0), (P, D, Q, m) = (2, 0, 1, 12): 0.0013180112226974202\n",
      "Score for (p, d, q) = (2, 1, 0), (P, D, Q, m) = (2, 0, 2, 12): 0.0013060229902825582\n",
      "Score for (p, d, q) = (2, 1, 0), (P, D, Q, m) = (2, 1, 0, 12): 0.0015675661958304411\n",
      "Score for (p, d, q) = (2, 1, 0), (P, D, Q, m) = (2, 1, 1, 12): 0.0011356555280908826\n"
     ]
    },
    {
     "name": "stderr",
     "output_type": "stream",
     "text": [
      "C:\\Users\\wodar\\miniconda3\\envs\\conda-env\\lib\\site-packages\\statsmodels\\tsa\\statespace\\sarimax.py:1009: UserWarning: Non-invertible starting seasonal moving average Using zeros as starting parameters.\n",
      "  warn('Non-invertible starting seasonal moving average'\n",
      "C:\\Users\\wodar\\miniconda3\\envs\\conda-env\\lib\\site-packages\\statsmodels\\base\\model.py:566: ConvergenceWarning: Maximum Likelihood optimization failed to converge. Check mle_retvals\n",
      "  warnings.warn(\"Maximum Likelihood optimization failed to \"\n"
     ]
    },
    {
     "name": "stdout",
     "output_type": "stream",
     "text": [
      "Score for (p, d, q) = (2, 1, 0), (P, D, Q, m) = (2, 1, 2, 12): 0.0011494504016324439\n",
      "Score for (p, d, q) = (2, 1, 0), (P, D, Q, m) = (2, 2, 0, 12): 0.030078495509699512\n",
      "Score for (p, d, q) = (2, 1, 0), (P, D, Q, m) = (2, 2, 1, 12): 0.005509511900564255\n"
     ]
    },
    {
     "name": "stderr",
     "output_type": "stream",
     "text": [
      "C:\\Users\\wodar\\miniconda3\\envs\\conda-env\\lib\\site-packages\\statsmodels\\tsa\\statespace\\sarimax.py:1009: UserWarning: Non-invertible starting seasonal moving average Using zeros as starting parameters.\n",
      "  warn('Non-invertible starting seasonal moving average'\n",
      "C:\\Users\\wodar\\miniconda3\\envs\\conda-env\\lib\\site-packages\\statsmodels\\base\\model.py:566: ConvergenceWarning: Maximum Likelihood optimization failed to converge. Check mle_retvals\n",
      "  warnings.warn(\"Maximum Likelihood optimization failed to \"\n"
     ]
    },
    {
     "name": "stdout",
     "output_type": "stream",
     "text": [
      "Score for (p, d, q) = (2, 1, 0), (P, D, Q, m) = (2, 2, 2, 12): 0.009195234181497671\n",
      "Score for (p, d, q) = (2, 1, 1), (P, D, Q, m) = (0, 0, 0, 12): 0.0329252599563805\n",
      "Score for (p, d, q) = (2, 1, 1), (P, D, Q, m) = (0, 0, 1, 12): 0.028263454832037162\n"
     ]
    },
    {
     "name": "stderr",
     "output_type": "stream",
     "text": [
      "C:\\Users\\wodar\\miniconda3\\envs\\conda-env\\lib\\site-packages\\statsmodels\\tsa\\statespace\\sarimax.py:1009: UserWarning: Non-invertible starting seasonal moving average Using zeros as starting parameters.\n",
      "  warn('Non-invertible starting seasonal moving average'\n"
     ]
    },
    {
     "name": "stdout",
     "output_type": "stream",
     "text": [
      "Score for (p, d, q) = (2, 1, 1), (P, D, Q, m) = (0, 0, 2, 12): 0.0186931143445837\n"
     ]
    },
    {
     "name": "stderr",
     "output_type": "stream",
     "text": [
      "C:\\Users\\wodar\\miniconda3\\envs\\conda-env\\lib\\site-packages\\statsmodels\\tsa\\statespace\\sarimax.py:966: UserWarning: Non-stationary starting autoregressive parameters found. Using zeros as starting parameters.\n",
      "  warn('Non-stationary starting autoregressive parameters'\n",
      "C:\\Users\\wodar\\miniconda3\\envs\\conda-env\\lib\\site-packages\\statsmodels\\tsa\\statespace\\sarimax.py:978: UserWarning: Non-invertible starting MA parameters found. Using zeros as starting parameters.\n",
      "  warn('Non-invertible starting MA parameters found.'\n",
      "C:\\Users\\wodar\\miniconda3\\envs\\conda-env\\lib\\site-packages\\statsmodels\\base\\model.py:566: ConvergenceWarning: Maximum Likelihood optimization failed to converge. Check mle_retvals\n",
      "  warnings.warn(\"Maximum Likelihood optimization failed to \"\n"
     ]
    },
    {
     "name": "stdout",
     "output_type": "stream",
     "text": [
      "Score for (p, d, q) = (2, 1, 1), (P, D, Q, m) = (0, 1, 0, 12): 0.0016656236450600928\n"
     ]
    },
    {
     "name": "stderr",
     "output_type": "stream",
     "text": [
      "C:\\Users\\wodar\\miniconda3\\envs\\conda-env\\lib\\site-packages\\statsmodels\\tsa\\statespace\\sarimax.py:966: UserWarning: Non-stationary starting autoregressive parameters found. Using zeros as starting parameters.\n",
      "  warn('Non-stationary starting autoregressive parameters'\n",
      "C:\\Users\\wodar\\miniconda3\\envs\\conda-env\\lib\\site-packages\\statsmodels\\tsa\\statespace\\sarimax.py:978: UserWarning: Non-invertible starting MA parameters found. Using zeros as starting parameters.\n",
      "  warn('Non-invertible starting MA parameters found.'\n",
      "C:\\Users\\wodar\\miniconda3\\envs\\conda-env\\lib\\site-packages\\statsmodels\\base\\model.py:566: ConvergenceWarning: Maximum Likelihood optimization failed to converge. Check mle_retvals\n",
      "  warnings.warn(\"Maximum Likelihood optimization failed to \"\n",
      "C:\\Users\\wodar\\miniconda3\\envs\\conda-env\\lib\\site-packages\\statsmodels\\tsa\\statespace\\sarimax.py:966: UserWarning: Non-stationary starting autoregressive parameters found. Using zeros as starting parameters.\n",
      "  warn('Non-stationary starting autoregressive parameters'\n",
      "C:\\Users\\wodar\\miniconda3\\envs\\conda-env\\lib\\site-packages\\statsmodels\\tsa\\statespace\\sarimax.py:978: UserWarning: Non-invertible starting MA parameters found. Using zeros as starting parameters.\n",
      "  warn('Non-invertible starting MA parameters found.'\n",
      "C:\\Users\\wodar\\miniconda3\\envs\\conda-env\\lib\\site-packages\\statsmodels\\tsa\\statespace\\sarimax.py:1009: UserWarning: Non-invertible starting seasonal moving average Using zeros as starting parameters.\n",
      "  warn('Non-invertible starting seasonal moving average'\n"
     ]
    },
    {
     "name": "stdout",
     "output_type": "stream",
     "text": [
      "Score for (p, d, q) = (2, 1, 1), (P, D, Q, m) = (0, 1, 1, 12): 0.002403375109338148\n"
     ]
    },
    {
     "name": "stderr",
     "output_type": "stream",
     "text": [
      "C:\\Users\\wodar\\miniconda3\\envs\\conda-env\\lib\\site-packages\\statsmodels\\base\\model.py:566: ConvergenceWarning: Maximum Likelihood optimization failed to converge. Check mle_retvals\n",
      "  warnings.warn(\"Maximum Likelihood optimization failed to \"\n",
      "C:\\Users\\wodar\\miniconda3\\envs\\conda-env\\lib\\site-packages\\statsmodels\\tsa\\statespace\\sarimax.py:966: UserWarning: Non-stationary starting autoregressive parameters found. Using zeros as starting parameters.\n",
      "  warn('Non-stationary starting autoregressive parameters'\n",
      "C:\\Users\\wodar\\miniconda3\\envs\\conda-env\\lib\\site-packages\\statsmodels\\tsa\\statespace\\sarimax.py:978: UserWarning: Non-invertible starting MA parameters found. Using zeros as starting parameters.\n",
      "  warn('Non-invertible starting MA parameters found.'\n"
     ]
    },
    {
     "name": "stdout",
     "output_type": "stream",
     "text": [
      "Score for (p, d, q) = (2, 1, 1), (P, D, Q, m) = (0, 1, 2, 12): 0.0011375797562494653\n",
      "Score for (p, d, q) = (2, 1, 1), (P, D, Q, m) = (0, 2, 0, 12): 0.02009032212290073\n"
     ]
    },
    {
     "name": "stderr",
     "output_type": "stream",
     "text": [
      "C:\\Users\\wodar\\miniconda3\\envs\\conda-env\\lib\\site-packages\\statsmodels\\tsa\\statespace\\sarimax.py:966: UserWarning: Non-stationary starting autoregressive parameters found. Using zeros as starting parameters.\n",
      "  warn('Non-stationary starting autoregressive parameters'\n",
      "C:\\Users\\wodar\\miniconda3\\envs\\conda-env\\lib\\site-packages\\statsmodels\\tsa\\statespace\\sarimax.py:978: UserWarning: Non-invertible starting MA parameters found. Using zeros as starting parameters.\n",
      "  warn('Non-invertible starting MA parameters found.'\n"
     ]
    },
    {
     "name": "stdout",
     "output_type": "stream",
     "text": [
      "Score for (p, d, q) = (2, 1, 1), (P, D, Q, m) = (0, 2, 1, 12): 0.010933662059258593\n"
     ]
    },
    {
     "name": "stderr",
     "output_type": "stream",
     "text": [
      "C:\\Users\\wodar\\miniconda3\\envs\\conda-env\\lib\\site-packages\\statsmodels\\tsa\\statespace\\sarimax.py:966: UserWarning: Non-stationary starting autoregressive parameters found. Using zeros as starting parameters.\n",
      "  warn('Non-stationary starting autoregressive parameters'\n",
      "C:\\Users\\wodar\\miniconda3\\envs\\conda-env\\lib\\site-packages\\statsmodels\\tsa\\statespace\\sarimax.py:978: UserWarning: Non-invertible starting MA parameters found. Using zeros as starting parameters.\n",
      "  warn('Non-invertible starting MA parameters found.'\n",
      "C:\\Users\\wodar\\miniconda3\\envs\\conda-env\\lib\\site-packages\\statsmodels\\tsa\\statespace\\sarimax.py:1009: UserWarning: Non-invertible starting seasonal moving average Using zeros as starting parameters.\n",
      "  warn('Non-invertible starting seasonal moving average'\n"
     ]
    },
    {
     "name": "stdout",
     "output_type": "stream",
     "text": [
      "Score for (p, d, q) = (2, 1, 1), (P, D, Q, m) = (0, 2, 2, 12): 0.001791434877914226\n"
     ]
    },
    {
     "name": "stderr",
     "output_type": "stream",
     "text": [
      "C:\\Users\\wodar\\miniconda3\\envs\\conda-env\\lib\\site-packages\\statsmodels\\base\\model.py:566: ConvergenceWarning: Maximum Likelihood optimization failed to converge. Check mle_retvals\n",
      "  warnings.warn(\"Maximum Likelihood optimization failed to \"\n"
     ]
    },
    {
     "name": "stdout",
     "output_type": "stream",
     "text": [
      "Score for (p, d, q) = (2, 1, 1), (P, D, Q, m) = (1, 0, 0, 12): 0.00388734504180302\n"
     ]
    },
    {
     "name": "stderr",
     "output_type": "stream",
     "text": [
      "C:\\Users\\wodar\\miniconda3\\envs\\conda-env\\lib\\site-packages\\statsmodels\\base\\model.py:566: ConvergenceWarning: Maximum Likelihood optimization failed to converge. Check mle_retvals\n",
      "  warnings.warn(\"Maximum Likelihood optimization failed to \"\n"
     ]
    },
    {
     "name": "stdout",
     "output_type": "stream",
     "text": [
      "Score for (p, d, q) = (2, 1, 1), (P, D, Q, m) = (1, 0, 1, 12): 0.0035279416443625574\n"
     ]
    },
    {
     "name": "stderr",
     "output_type": "stream",
     "text": [
      "C:\\Users\\wodar\\miniconda3\\envs\\conda-env\\lib\\site-packages\\statsmodels\\base\\model.py:566: ConvergenceWarning: Maximum Likelihood optimization failed to converge. Check mle_retvals\n",
      "  warnings.warn(\"Maximum Likelihood optimization failed to \"\n",
      "C:\\Users\\wodar\\miniconda3\\envs\\conda-env\\lib\\site-packages\\statsmodels\\tsa\\statespace\\sarimax.py:966: UserWarning: Non-stationary starting autoregressive parameters found. Using zeros as starting parameters.\n",
      "  warn('Non-stationary starting autoregressive parameters'\n",
      "C:\\Users\\wodar\\miniconda3\\envs\\conda-env\\lib\\site-packages\\statsmodels\\tsa\\statespace\\sarimax.py:978: UserWarning: Non-invertible starting MA parameters found. Using zeros as starting parameters.\n",
      "  warn('Non-invertible starting MA parameters found.'\n"
     ]
    },
    {
     "name": "stdout",
     "output_type": "stream",
     "text": [
      "Score for (p, d, q) = (2, 1, 1), (P, D, Q, m) = (1, 0, 2, 12): 0.002016117868393498\n",
      "Score for (p, d, q) = (2, 1, 1), (P, D, Q, m) = (1, 1, 0, 12): 0.0034393950900628158\n"
     ]
    },
    {
     "name": "stderr",
     "output_type": "stream",
     "text": [
      "C:\\Users\\wodar\\miniconda3\\envs\\conda-env\\lib\\site-packages\\statsmodels\\tsa\\statespace\\sarimax.py:966: UserWarning: Non-stationary starting autoregressive parameters found. Using zeros as starting parameters.\n",
      "  warn('Non-stationary starting autoregressive parameters'\n",
      "C:\\Users\\wodar\\miniconda3\\envs\\conda-env\\lib\\site-packages\\statsmodels\\tsa\\statespace\\sarimax.py:978: UserWarning: Non-invertible starting MA parameters found. Using zeros as starting parameters.\n",
      "  warn('Non-invertible starting MA parameters found.'\n",
      "C:\\Users\\wodar\\miniconda3\\envs\\conda-env\\lib\\site-packages\\statsmodels\\base\\model.py:566: ConvergenceWarning: Maximum Likelihood optimization failed to converge. Check mle_retvals\n",
      "  warnings.warn(\"Maximum Likelihood optimization failed to \"\n",
      "C:\\Users\\wodar\\miniconda3\\envs\\conda-env\\lib\\site-packages\\statsmodels\\tsa\\statespace\\sarimax.py:966: UserWarning: Non-stationary starting autoregressive parameters found. Using zeros as starting parameters.\n",
      "  warn('Non-stationary starting autoregressive parameters'\n",
      "C:\\Users\\wodar\\miniconda3\\envs\\conda-env\\lib\\site-packages\\statsmodels\\tsa\\statespace\\sarimax.py:978: UserWarning: Non-invertible starting MA parameters found. Using zeros as starting parameters.\n",
      "  warn('Non-invertible starting MA parameters found.'\n",
      "C:\\Users\\wodar\\miniconda3\\envs\\conda-env\\lib\\site-packages\\statsmodels\\tsa\\statespace\\sarimax.py:1009: UserWarning: Non-invertible starting seasonal moving average Using zeros as starting parameters.\n",
      "  warn('Non-invertible starting seasonal moving average'\n"
     ]
    },
    {
     "name": "stdout",
     "output_type": "stream",
     "text": [
      "Score for (p, d, q) = (2, 1, 1), (P, D, Q, m) = (1, 1, 1, 12): 0.0011411799252231455\n"
     ]
    },
    {
     "name": "stderr",
     "output_type": "stream",
     "text": [
      "C:\\Users\\wodar\\miniconda3\\envs\\conda-env\\lib\\site-packages\\statsmodels\\base\\model.py:566: ConvergenceWarning: Maximum Likelihood optimization failed to converge. Check mle_retvals\n",
      "  warnings.warn(\"Maximum Likelihood optimization failed to \"\n",
      "C:\\Users\\wodar\\miniconda3\\envs\\conda-env\\lib\\site-packages\\statsmodels\\tsa\\statespace\\sarimax.py:966: UserWarning: Non-stationary starting autoregressive parameters found. Using zeros as starting parameters.\n",
      "  warn('Non-stationary starting autoregressive parameters'\n",
      "C:\\Users\\wodar\\miniconda3\\envs\\conda-env\\lib\\site-packages\\statsmodels\\tsa\\statespace\\sarimax.py:978: UserWarning: Non-invertible starting MA parameters found. Using zeros as starting parameters.\n",
      "  warn('Non-invertible starting MA parameters found.'\n"
     ]
    },
    {
     "name": "stdout",
     "output_type": "stream",
     "text": [
      "Score for (p, d, q) = (2, 1, 1), (P, D, Q, m) = (1, 1, 2, 12): 0.005176939546715193\n",
      "Score for (p, d, q) = (2, 1, 1), (P, D, Q, m) = (1, 2, 0, 12): 0.04439701642221771\n"
     ]
    },
    {
     "name": "stderr",
     "output_type": "stream",
     "text": [
      "C:\\Users\\wodar\\miniconda3\\envs\\conda-env\\lib\\site-packages\\statsmodels\\tsa\\statespace\\sarimax.py:966: UserWarning: Non-stationary starting autoregressive parameters found. Using zeros as starting parameters.\n",
      "  warn('Non-stationary starting autoregressive parameters'\n",
      "C:\\Users\\wodar\\miniconda3\\envs\\conda-env\\lib\\site-packages\\statsmodels\\tsa\\statespace\\sarimax.py:978: UserWarning: Non-invertible starting MA parameters found. Using zeros as starting parameters.\n",
      "  warn('Non-invertible starting MA parameters found.'\n"
     ]
    },
    {
     "name": "stdout",
     "output_type": "stream",
     "text": [
      "Score for (p, d, q) = (2, 1, 1), (P, D, Q, m) = (1, 2, 1, 12): 0.007722193863239852\n"
     ]
    },
    {
     "name": "stderr",
     "output_type": "stream",
     "text": [
      "C:\\Users\\wodar\\miniconda3\\envs\\conda-env\\lib\\site-packages\\statsmodels\\tsa\\statespace\\sarimax.py:966: UserWarning: Non-stationary starting autoregressive parameters found. Using zeros as starting parameters.\n",
      "  warn('Non-stationary starting autoregressive parameters'\n",
      "C:\\Users\\wodar\\miniconda3\\envs\\conda-env\\lib\\site-packages\\statsmodels\\tsa\\statespace\\sarimax.py:978: UserWarning: Non-invertible starting MA parameters found. Using zeros as starting parameters.\n",
      "  warn('Non-invertible starting MA parameters found.'\n",
      "C:\\Users\\wodar\\miniconda3\\envs\\conda-env\\lib\\site-packages\\statsmodels\\tsa\\statespace\\sarimax.py:1009: UserWarning: Non-invertible starting seasonal moving average Using zeros as starting parameters.\n",
      "  warn('Non-invertible starting seasonal moving average'\n",
      "C:\\Users\\wodar\\miniconda3\\envs\\conda-env\\lib\\site-packages\\statsmodels\\base\\model.py:566: ConvergenceWarning: Maximum Likelihood optimization failed to converge. Check mle_retvals\n",
      "  warnings.warn(\"Maximum Likelihood optimization failed to \"\n"
     ]
    },
    {
     "name": "stdout",
     "output_type": "stream",
     "text": [
      "Score for (p, d, q) = (2, 1, 1), (P, D, Q, m) = (1, 2, 2, 12): 0.0010273571503307418\n"
     ]
    },
    {
     "name": "stderr",
     "output_type": "stream",
     "text": [
      "C:\\Users\\wodar\\miniconda3\\envs\\conda-env\\lib\\site-packages\\statsmodels\\base\\model.py:566: ConvergenceWarning: Maximum Likelihood optimization failed to converge. Check mle_retvals\n",
      "  warnings.warn(\"Maximum Likelihood optimization failed to \"\n"
     ]
    },
    {
     "name": "stdout",
     "output_type": "stream",
     "text": [
      "Score for (p, d, q) = (2, 1, 1), (P, D, Q, m) = (2, 0, 0, 12): 0.0014809397061484515\n"
     ]
    },
    {
     "name": "stderr",
     "output_type": "stream",
     "text": [
      "C:\\Users\\wodar\\miniconda3\\envs\\conda-env\\lib\\site-packages\\statsmodels\\base\\model.py:566: ConvergenceWarning: Maximum Likelihood optimization failed to converge. Check mle_retvals\n",
      "  warnings.warn(\"Maximum Likelihood optimization failed to \"\n"
     ]
    },
    {
     "name": "stdout",
     "output_type": "stream",
     "text": [
      "Score for (p, d, q) = (2, 1, 1), (P, D, Q, m) = (2, 0, 1, 12): 0.0021591676263937477\n"
     ]
    },
    {
     "name": "stderr",
     "output_type": "stream",
     "text": [
      "C:\\Users\\wodar\\miniconda3\\envs\\conda-env\\lib\\site-packages\\statsmodels\\base\\model.py:566: ConvergenceWarning: Maximum Likelihood optimization failed to converge. Check mle_retvals\n",
      "  warnings.warn(\"Maximum Likelihood optimization failed to \"\n",
      "C:\\Users\\wodar\\miniconda3\\envs\\conda-env\\lib\\site-packages\\statsmodels\\tsa\\statespace\\sarimax.py:966: UserWarning: Non-stationary starting autoregressive parameters found. Using zeros as starting parameters.\n",
      "  warn('Non-stationary starting autoregressive parameters'\n",
      "C:\\Users\\wodar\\miniconda3\\envs\\conda-env\\lib\\site-packages\\statsmodels\\tsa\\statespace\\sarimax.py:978: UserWarning: Non-invertible starting MA parameters found. Using zeros as starting parameters.\n",
      "  warn('Non-invertible starting MA parameters found.'\n"
     ]
    },
    {
     "name": "stdout",
     "output_type": "stream",
     "text": [
      "Score for (p, d, q) = (2, 1, 1), (P, D, Q, m) = (2, 0, 2, 12): 0.0013011782769006297\n"
     ]
    },
    {
     "name": "stderr",
     "output_type": "stream",
     "text": [
      "C:\\Users\\wodar\\miniconda3\\envs\\conda-env\\lib\\site-packages\\statsmodels\\base\\model.py:566: ConvergenceWarning: Maximum Likelihood optimization failed to converge. Check mle_retvals\n",
      "  warnings.warn(\"Maximum Likelihood optimization failed to \"\n",
      "C:\\Users\\wodar\\miniconda3\\envs\\conda-env\\lib\\site-packages\\statsmodels\\tsa\\statespace\\sarimax.py:966: UserWarning: Non-stationary starting autoregressive parameters found. Using zeros as starting parameters.\n",
      "  warn('Non-stationary starting autoregressive parameters'\n",
      "C:\\Users\\wodar\\miniconda3\\envs\\conda-env\\lib\\site-packages\\statsmodels\\tsa\\statespace\\sarimax.py:978: UserWarning: Non-invertible starting MA parameters found. Using zeros as starting parameters.\n",
      "  warn('Non-invertible starting MA parameters found.'\n"
     ]
    },
    {
     "name": "stdout",
     "output_type": "stream",
     "text": [
      "Score for (p, d, q) = (2, 1, 1), (P, D, Q, m) = (2, 1, 0, 12): 0.0016025518796465423\n"
     ]
    },
    {
     "name": "stderr",
     "output_type": "stream",
     "text": [
      "C:\\Users\\wodar\\miniconda3\\envs\\conda-env\\lib\\site-packages\\statsmodels\\base\\model.py:566: ConvergenceWarning: Maximum Likelihood optimization failed to converge. Check mle_retvals\n",
      "  warnings.warn(\"Maximum Likelihood optimization failed to \"\n",
      "C:\\Users\\wodar\\miniconda3\\envs\\conda-env\\lib\\site-packages\\statsmodels\\tsa\\statespace\\sarimax.py:966: UserWarning: Non-stationary starting autoregressive parameters found. Using zeros as starting parameters.\n",
      "  warn('Non-stationary starting autoregressive parameters'\n",
      "C:\\Users\\wodar\\miniconda3\\envs\\conda-env\\lib\\site-packages\\statsmodels\\tsa\\statespace\\sarimax.py:978: UserWarning: Non-invertible starting MA parameters found. Using zeros as starting parameters.\n",
      "  warn('Non-invertible starting MA parameters found.'\n",
      "C:\\Users\\wodar\\miniconda3\\envs\\conda-env\\lib\\site-packages\\statsmodels\\tsa\\statespace\\sarimax.py:1009: UserWarning: Non-invertible starting seasonal moving average Using zeros as starting parameters.\n",
      "  warn('Non-invertible starting seasonal moving average'\n"
     ]
    },
    {
     "name": "stdout",
     "output_type": "stream",
     "text": [
      "Score for (p, d, q) = (2, 1, 1), (P, D, Q, m) = (2, 1, 1, 12): 0.0011478820475358516\n"
     ]
    },
    {
     "name": "stderr",
     "output_type": "stream",
     "text": [
      "C:\\Users\\wodar\\miniconda3\\envs\\conda-env\\lib\\site-packages\\statsmodels\\base\\model.py:566: ConvergenceWarning: Maximum Likelihood optimization failed to converge. Check mle_retvals\n",
      "  warnings.warn(\"Maximum Likelihood optimization failed to \"\n",
      "C:\\Users\\wodar\\miniconda3\\envs\\conda-env\\lib\\site-packages\\statsmodels\\tsa\\statespace\\sarimax.py:966: UserWarning: Non-stationary starting autoregressive parameters found. Using zeros as starting parameters.\n",
      "  warn('Non-stationary starting autoregressive parameters'\n",
      "C:\\Users\\wodar\\miniconda3\\envs\\conda-env\\lib\\site-packages\\statsmodels\\tsa\\statespace\\sarimax.py:978: UserWarning: Non-invertible starting MA parameters found. Using zeros as starting parameters.\n",
      "  warn('Non-invertible starting MA parameters found.'\n"
     ]
    },
    {
     "name": "stdout",
     "output_type": "stream",
     "text": [
      "Score for (p, d, q) = (2, 1, 1), (P, D, Q, m) = (2, 1, 2, 12): 0.0011520270676905991\n",
      "Score for (p, d, q) = (2, 1, 1), (P, D, Q, m) = (2, 2, 0, 12): 0.03239098594119765\n"
     ]
    },
    {
     "name": "stderr",
     "output_type": "stream",
     "text": [
      "C:\\Users\\wodar\\miniconda3\\envs\\conda-env\\lib\\site-packages\\statsmodels\\tsa\\statespace\\sarimax.py:966: UserWarning: Non-stationary starting autoregressive parameters found. Using zeros as starting parameters.\n",
      "  warn('Non-stationary starting autoregressive parameters'\n",
      "C:\\Users\\wodar\\miniconda3\\envs\\conda-env\\lib\\site-packages\\statsmodels\\tsa\\statespace\\sarimax.py:978: UserWarning: Non-invertible starting MA parameters found. Using zeros as starting parameters.\n",
      "  warn('Non-invertible starting MA parameters found.'\n",
      "C:\\Users\\wodar\\miniconda3\\envs\\conda-env\\lib\\site-packages\\statsmodels\\base\\model.py:566: ConvergenceWarning: Maximum Likelihood optimization failed to converge. Check mle_retvals\n",
      "  warnings.warn(\"Maximum Likelihood optimization failed to \"\n",
      "C:\\Users\\wodar\\miniconda3\\envs\\conda-env\\lib\\site-packages\\statsmodels\\tsa\\statespace\\sarimax.py:966: UserWarning: Non-stationary starting autoregressive parameters found. Using zeros as starting parameters.\n",
      "  warn('Non-stationary starting autoregressive parameters'\n",
      "C:\\Users\\wodar\\miniconda3\\envs\\conda-env\\lib\\site-packages\\statsmodels\\tsa\\statespace\\sarimax.py:978: UserWarning: Non-invertible starting MA parameters found. Using zeros as starting parameters.\n",
      "  warn('Non-invertible starting MA parameters found.'\n",
      "C:\\Users\\wodar\\miniconda3\\envs\\conda-env\\lib\\site-packages\\statsmodels\\tsa\\statespace\\sarimax.py:1009: UserWarning: Non-invertible starting seasonal moving average Using zeros as starting parameters.\n",
      "  warn('Non-invertible starting seasonal moving average'\n"
     ]
    },
    {
     "name": "stdout",
     "output_type": "stream",
     "text": [
      "Score for (p, d, q) = (2, 1, 1), (P, D, Q, m) = (2, 2, 1, 12): 0.005512278500196413\n"
     ]
    },
    {
     "name": "stderr",
     "output_type": "stream",
     "text": [
      "C:\\Users\\wodar\\miniconda3\\envs\\conda-env\\lib\\site-packages\\statsmodels\\base\\model.py:566: ConvergenceWarning: Maximum Likelihood optimization failed to converge. Check mle_retvals\n",
      "  warnings.warn(\"Maximum Likelihood optimization failed to \"\n"
     ]
    },
    {
     "name": "stdout",
     "output_type": "stream",
     "text": [
      "Score for (p, d, q) = (2, 1, 1), (P, D, Q, m) = (2, 2, 2, 12): 0.006740302449215202\n",
      "Score for (p, d, q) = (2, 1, 2), (P, D, Q, m) = (0, 0, 0, 12): 0.032952820892135457\n"
     ]
    },
    {
     "name": "stderr",
     "output_type": "stream",
     "text": [
      "C:\\Users\\wodar\\miniconda3\\envs\\conda-env\\lib\\site-packages\\statsmodels\\base\\model.py:566: ConvergenceWarning: Maximum Likelihood optimization failed to converge. Check mle_retvals\n",
      "  warnings.warn(\"Maximum Likelihood optimization failed to \"\n",
      "C:\\Users\\wodar\\miniconda3\\envs\\conda-env\\lib\\site-packages\\statsmodels\\tsa\\statespace\\sarimax.py:1009: UserWarning: Non-invertible starting seasonal moving average Using zeros as starting parameters.\n",
      "  warn('Non-invertible starting seasonal moving average'\n"
     ]
    },
    {
     "name": "stdout",
     "output_type": "stream",
     "text": [
      "Score for (p, d, q) = (2, 1, 2), (P, D, Q, m) = (0, 0, 1, 12): 0.0238763385280768\n"
     ]
    },
    {
     "name": "stderr",
     "output_type": "stream",
     "text": [
      "C:\\Users\\wodar\\miniconda3\\envs\\conda-env\\lib\\site-packages\\statsmodels\\base\\model.py:566: ConvergenceWarning: Maximum Likelihood optimization failed to converge. Check mle_retvals\n",
      "  warnings.warn(\"Maximum Likelihood optimization failed to \"\n"
     ]
    },
    {
     "name": "stdout",
     "output_type": "stream",
     "text": [
      "Score for (p, d, q) = (2, 1, 2), (P, D, Q, m) = (0, 0, 2, 12): 0.017813581814949533\n"
     ]
    },
    {
     "name": "stderr",
     "output_type": "stream",
     "text": [
      "C:\\Users\\wodar\\miniconda3\\envs\\conda-env\\lib\\site-packages\\statsmodels\\base\\model.py:566: ConvergenceWarning: Maximum Likelihood optimization failed to converge. Check mle_retvals\n",
      "  warnings.warn(\"Maximum Likelihood optimization failed to \"\n"
     ]
    },
    {
     "name": "stdout",
     "output_type": "stream",
     "text": [
      "Score for (p, d, q) = (2, 1, 2), (P, D, Q, m) = (0, 1, 0, 12): 0.008364507043155318\n",
      "Score for (p, d, q) = (2, 1, 2), (P, D, Q, m) = (0, 1, 1, 12): 0.0011580334731025993\n"
     ]
    },
    {
     "name": "stderr",
     "output_type": "stream",
     "text": [
      "C:\\Users\\wodar\\miniconda3\\envs\\conda-env\\lib\\site-packages\\statsmodels\\tsa\\statespace\\sarimax.py:1009: UserWarning: Non-invertible starting seasonal moving average Using zeros as starting parameters.\n",
      "  warn('Non-invertible starting seasonal moving average'\n",
      "C:\\Users\\wodar\\miniconda3\\envs\\conda-env\\lib\\site-packages\\statsmodels\\base\\model.py:566: ConvergenceWarning: Maximum Likelihood optimization failed to converge. Check mle_retvals\n",
      "  warnings.warn(\"Maximum Likelihood optimization failed to \"\n"
     ]
    },
    {
     "name": "stdout",
     "output_type": "stream",
     "text": [
      "Score for (p, d, q) = (2, 1, 2), (P, D, Q, m) = (0, 1, 2, 12): 0.0011480759798500498\n",
      "Score for (p, d, q) = (2, 1, 2), (P, D, Q, m) = (0, 2, 0, 12): 0.013864737715775656\n"
     ]
    },
    {
     "name": "stderr",
     "output_type": "stream",
     "text": [
      "C:\\Users\\wodar\\miniconda3\\envs\\conda-env\\lib\\site-packages\\statsmodels\\base\\model.py:566: ConvergenceWarning: Maximum Likelihood optimization failed to converge. Check mle_retvals\n",
      "  warnings.warn(\"Maximum Likelihood optimization failed to \"\n",
      "C:\\Users\\wodar\\miniconda3\\envs\\conda-env\\lib\\site-packages\\statsmodels\\tsa\\statespace\\sarimax.py:1009: UserWarning: Non-invertible starting seasonal moving average Using zeros as starting parameters.\n",
      "  warn('Non-invertible starting seasonal moving average'\n"
     ]
    },
    {
     "name": "stdout",
     "output_type": "stream",
     "text": [
      "Score for (p, d, q) = (2, 1, 2), (P, D, Q, m) = (0, 2, 1, 12): 0.011645852208897063\n"
     ]
    },
    {
     "name": "stderr",
     "output_type": "stream",
     "text": [
      "C:\\Users\\wodar\\miniconda3\\envs\\conda-env\\lib\\site-packages\\statsmodels\\base\\model.py:566: ConvergenceWarning: Maximum Likelihood optimization failed to converge. Check mle_retvals\n",
      "  warnings.warn(\"Maximum Likelihood optimization failed to \"\n"
     ]
    },
    {
     "name": "stdout",
     "output_type": "stream",
     "text": [
      "Score for (p, d, q) = (2, 1, 2), (P, D, Q, m) = (0, 2, 2, 12): 0.0018016996858575295\n"
     ]
    },
    {
     "name": "stderr",
     "output_type": "stream",
     "text": [
      "C:\\Users\\wodar\\miniconda3\\envs\\conda-env\\lib\\site-packages\\statsmodels\\base\\model.py:566: ConvergenceWarning: Maximum Likelihood optimization failed to converge. Check mle_retvals\n",
      "  warnings.warn(\"Maximum Likelihood optimization failed to \"\n"
     ]
    },
    {
     "name": "stdout",
     "output_type": "stream",
     "text": [
      "Score for (p, d, q) = (2, 1, 2), (P, D, Q, m) = (1, 0, 0, 12): 0.004013501161349505\n"
     ]
    },
    {
     "name": "stderr",
     "output_type": "stream",
     "text": [
      "C:\\Users\\wodar\\miniconda3\\envs\\conda-env\\lib\\site-packages\\statsmodels\\base\\model.py:566: ConvergenceWarning: Maximum Likelihood optimization failed to converge. Check mle_retvals\n",
      "  warnings.warn(\"Maximum Likelihood optimization failed to \"\n"
     ]
    },
    {
     "name": "stdout",
     "output_type": "stream",
     "text": [
      "Score for (p, d, q) = (2, 1, 2), (P, D, Q, m) = (1, 0, 1, 12): 0.002933926271254689\n"
     ]
    },
    {
     "name": "stderr",
     "output_type": "stream",
     "text": [
      "C:\\Users\\wodar\\miniconda3\\envs\\conda-env\\lib\\site-packages\\statsmodels\\base\\model.py:566: ConvergenceWarning: Maximum Likelihood optimization failed to converge. Check mle_retvals\n",
      "  warnings.warn(\"Maximum Likelihood optimization failed to \"\n"
     ]
    },
    {
     "name": "stdout",
     "output_type": "stream",
     "text": [
      "Score for (p, d, q) = (2, 1, 2), (P, D, Q, m) = (1, 0, 2, 12): 0.0015618590306121906\n"
     ]
    },
    {
     "name": "stderr",
     "output_type": "stream",
     "text": [
      "C:\\Users\\wodar\\miniconda3\\envs\\conda-env\\lib\\site-packages\\statsmodels\\base\\model.py:566: ConvergenceWarning: Maximum Likelihood optimization failed to converge. Check mle_retvals\n",
      "  warnings.warn(\"Maximum Likelihood optimization failed to \"\n"
     ]
    },
    {
     "name": "stdout",
     "output_type": "stream",
     "text": [
      "Score for (p, d, q) = (2, 1, 2), (P, D, Q, m) = (1, 1, 0, 12): 0.003669906882104763\n"
     ]
    },
    {
     "name": "stderr",
     "output_type": "stream",
     "text": [
      "C:\\Users\\wodar\\miniconda3\\envs\\conda-env\\lib\\site-packages\\statsmodels\\base\\model.py:566: ConvergenceWarning: Maximum Likelihood optimization failed to converge. Check mle_retvals\n",
      "  warnings.warn(\"Maximum Likelihood optimization failed to \"\n",
      "C:\\Users\\wodar\\miniconda3\\envs\\conda-env\\lib\\site-packages\\statsmodels\\tsa\\statespace\\sarimax.py:1009: UserWarning: Non-invertible starting seasonal moving average Using zeros as starting parameters.\n",
      "  warn('Non-invertible starting seasonal moving average'\n"
     ]
    },
    {
     "name": "stdout",
     "output_type": "stream",
     "text": [
      "Score for (p, d, q) = (2, 1, 2), (P, D, Q, m) = (1, 1, 1, 12): 0.0011473770594692587\n"
     ]
    },
    {
     "name": "stderr",
     "output_type": "stream",
     "text": [
      "C:\\Users\\wodar\\miniconda3\\envs\\conda-env\\lib\\site-packages\\statsmodels\\base\\model.py:566: ConvergenceWarning: Maximum Likelihood optimization failed to converge. Check mle_retvals\n",
      "  warnings.warn(\"Maximum Likelihood optimization failed to \"\n"
     ]
    },
    {
     "name": "stdout",
     "output_type": "stream",
     "text": [
      "Score for (p, d, q) = (2, 1, 2), (P, D, Q, m) = (1, 1, 2, 12): 0.00115349812263562\n"
     ]
    },
    {
     "name": "stderr",
     "output_type": "stream",
     "text": [
      "C:\\Users\\wodar\\miniconda3\\envs\\conda-env\\lib\\site-packages\\statsmodels\\base\\model.py:566: ConvergenceWarning: Maximum Likelihood optimization failed to converge. Check mle_retvals\n",
      "  warnings.warn(\"Maximum Likelihood optimization failed to \"\n"
     ]
    },
    {
     "name": "stdout",
     "output_type": "stream",
     "text": [
      "Score for (p, d, q) = (2, 1, 2), (P, D, Q, m) = (1, 2, 0, 12): 0.04398253357607708\n",
      "Score for (p, d, q) = (2, 1, 2), (P, D, Q, m) = (1, 2, 1, 12): 0.008225268337145302\n"
     ]
    },
    {
     "name": "stderr",
     "output_type": "stream",
     "text": [
      "C:\\Users\\wodar\\miniconda3\\envs\\conda-env\\lib\\site-packages\\statsmodels\\tsa\\statespace\\sarimax.py:1009: UserWarning: Non-invertible starting seasonal moving average Using zeros as starting parameters.\n",
      "  warn('Non-invertible starting seasonal moving average'\n",
      "C:\\Users\\wodar\\miniconda3\\envs\\conda-env\\lib\\site-packages\\statsmodels\\base\\model.py:566: ConvergenceWarning: Maximum Likelihood optimization failed to converge. Check mle_retvals\n",
      "  warnings.warn(\"Maximum Likelihood optimization failed to \"\n"
     ]
    },
    {
     "name": "stdout",
     "output_type": "stream",
     "text": [
      "Score for (p, d, q) = (2, 1, 2), (P, D, Q, m) = (1, 2, 2, 12): 0.0022723616089380017\n"
     ]
    },
    {
     "name": "stderr",
     "output_type": "stream",
     "text": [
      "C:\\Users\\wodar\\miniconda3\\envs\\conda-env\\lib\\site-packages\\statsmodels\\base\\model.py:566: ConvergenceWarning: Maximum Likelihood optimization failed to converge. Check mle_retvals\n",
      "  warnings.warn(\"Maximum Likelihood optimization failed to \"\n"
     ]
    },
    {
     "name": "stdout",
     "output_type": "stream",
     "text": [
      "Score for (p, d, q) = (2, 1, 2), (P, D, Q, m) = (2, 0, 0, 12): 0.0026342198189276815\n"
     ]
    },
    {
     "name": "stderr",
     "output_type": "stream",
     "text": [
      "C:\\Users\\wodar\\miniconda3\\envs\\conda-env\\lib\\site-packages\\statsmodels\\base\\model.py:566: ConvergenceWarning: Maximum Likelihood optimization failed to converge. Check mle_retvals\n",
      "  warnings.warn(\"Maximum Likelihood optimization failed to \"\n"
     ]
    },
    {
     "name": "stdout",
     "output_type": "stream",
     "text": [
      "Score for (p, d, q) = (2, 1, 2), (P, D, Q, m) = (2, 0, 1, 12): 0.0014942292785046804\n"
     ]
    },
    {
     "name": "stderr",
     "output_type": "stream",
     "text": [
      "C:\\Users\\wodar\\miniconda3\\envs\\conda-env\\lib\\site-packages\\statsmodels\\base\\model.py:566: ConvergenceWarning: Maximum Likelihood optimization failed to converge. Check mle_retvals\n",
      "  warnings.warn(\"Maximum Likelihood optimization failed to \"\n"
     ]
    },
    {
     "name": "stdout",
     "output_type": "stream",
     "text": [
      "Score for (p, d, q) = (2, 1, 2), (P, D, Q, m) = (2, 0, 2, 12): 0.0019295251564081523\n"
     ]
    },
    {
     "name": "stderr",
     "output_type": "stream",
     "text": [
      "C:\\Users\\wodar\\miniconda3\\envs\\conda-env\\lib\\site-packages\\statsmodels\\base\\model.py:566: ConvergenceWarning: Maximum Likelihood optimization failed to converge. Check mle_retvals\n",
      "  warnings.warn(\"Maximum Likelihood optimization failed to \"\n"
     ]
    },
    {
     "name": "stdout",
     "output_type": "stream",
     "text": [
      "Score for (p, d, q) = (2, 1, 2), (P, D, Q, m) = (2, 1, 0, 12): 0.0017236199892503939\n"
     ]
    },
    {
     "name": "stderr",
     "output_type": "stream",
     "text": [
      "C:\\Users\\wodar\\miniconda3\\envs\\conda-env\\lib\\site-packages\\statsmodels\\base\\model.py:566: ConvergenceWarning: Maximum Likelihood optimization failed to converge. Check mle_retvals\n",
      "  warnings.warn(\"Maximum Likelihood optimization failed to \"\n",
      "C:\\Users\\wodar\\miniconda3\\envs\\conda-env\\lib\\site-packages\\statsmodels\\tsa\\statespace\\sarimax.py:1009: UserWarning: Non-invertible starting seasonal moving average Using zeros as starting parameters.\n",
      "  warn('Non-invertible starting seasonal moving average'\n"
     ]
    },
    {
     "name": "stdout",
     "output_type": "stream",
     "text": [
      "Score for (p, d, q) = (2, 1, 2), (P, D, Q, m) = (2, 1, 1, 12): 0.001154318031571705\n"
     ]
    },
    {
     "name": "stderr",
     "output_type": "stream",
     "text": [
      "C:\\Users\\wodar\\miniconda3\\envs\\conda-env\\lib\\site-packages\\statsmodels\\base\\model.py:566: ConvergenceWarning: Maximum Likelihood optimization failed to converge. Check mle_retvals\n",
      "  warnings.warn(\"Maximum Likelihood optimization failed to \"\n"
     ]
    },
    {
     "name": "stdout",
     "output_type": "stream",
     "text": [
      "Score for (p, d, q) = (2, 1, 2), (P, D, Q, m) = (2, 1, 2, 12): 0.0011451074033020996\n",
      "Score for (p, d, q) = (2, 1, 2), (P, D, Q, m) = (2, 2, 0, 12): 0.032497600979532804\n"
     ]
    },
    {
     "name": "stderr",
     "output_type": "stream",
     "text": [
      "C:\\Users\\wodar\\miniconda3\\envs\\conda-env\\lib\\site-packages\\statsmodels\\base\\model.py:566: ConvergenceWarning: Maximum Likelihood optimization failed to converge. Check mle_retvals\n",
      "  warnings.warn(\"Maximum Likelihood optimization failed to \"\n",
      "C:\\Users\\wodar\\miniconda3\\envs\\conda-env\\lib\\site-packages\\statsmodels\\tsa\\statespace\\sarimax.py:1009: UserWarning: Non-invertible starting seasonal moving average Using zeros as starting parameters.\n",
      "  warn('Non-invertible starting seasonal moving average'\n"
     ]
    },
    {
     "name": "stdout",
     "output_type": "stream",
     "text": [
      "Score for (p, d, q) = (2, 1, 2), (P, D, Q, m) = (2, 2, 1, 12): 0.005540474804993105\n"
     ]
    },
    {
     "name": "stderr",
     "output_type": "stream",
     "text": [
      "C:\\Users\\wodar\\miniconda3\\envs\\conda-env\\lib\\site-packages\\statsmodels\\base\\model.py:566: ConvergenceWarning: Maximum Likelihood optimization failed to converge. Check mle_retvals\n",
      "  warnings.warn(\"Maximum Likelihood optimization failed to \"\n"
     ]
    },
    {
     "name": "stdout",
     "output_type": "stream",
     "text": [
      "Score for (p, d, q) = (2, 1, 2), (P, D, Q, m) = (2, 2, 2, 12): 0.007536655527810704\n",
      "Score for (p, d, q) = (2, 2, 0), (P, D, Q, m) = (0, 0, 0, 12): 4.519642610284877\n",
      "Score for (p, d, q) = (2, 2, 0), (P, D, Q, m) = (0, 0, 1, 12): 3.7409989821112917\n",
      "Score for (p, d, q) = (2, 2, 0), (P, D, Q, m) = (0, 0, 2, 12): 2.820136358792056\n",
      "Score for (p, d, q) = (2, 2, 0), (P, D, Q, m) = (0, 1, 0, 12): 0.14016187790213488\n",
      "Score for (p, d, q) = (2, 2, 0), (P, D, Q, m) = (0, 1, 1, 12): 0.2138867522911964\n"
     ]
    },
    {
     "name": "stderr",
     "output_type": "stream",
     "text": [
      "C:\\Users\\wodar\\miniconda3\\envs\\conda-env\\lib\\site-packages\\statsmodels\\tsa\\statespace\\sarimax.py:1009: UserWarning: Non-invertible starting seasonal moving average Using zeros as starting parameters.\n",
      "  warn('Non-invertible starting seasonal moving average'\n"
     ]
    },
    {
     "name": "stdout",
     "output_type": "stream",
     "text": [
      "Score for (p, d, q) = (2, 2, 0), (P, D, Q, m) = (0, 1, 2, 12): 0.19589248767203027\n"
     ]
    },
    {
     "name": "stderr",
     "output_type": "stream",
     "text": [
      "C:\\Users\\wodar\\miniconda3\\envs\\conda-env\\lib\\site-packages\\statsmodels\\base\\model.py:566: ConvergenceWarning: Maximum Likelihood optimization failed to converge. Check mle_retvals\n",
      "  warnings.warn(\"Maximum Likelihood optimization failed to \"\n"
     ]
    },
    {
     "name": "stdout",
     "output_type": "stream",
     "text": [
      "Score for (p, d, q) = (2, 2, 0), (P, D, Q, m) = (0, 2, 0, 12): 0.07986185446679536\n",
      "Score for (p, d, q) = (2, 2, 0), (P, D, Q, m) = (0, 2, 1, 12): 0.03825636706945675\n"
     ]
    },
    {
     "name": "stderr",
     "output_type": "stream",
     "text": [
      "C:\\Users\\wodar\\miniconda3\\envs\\conda-env\\lib\\site-packages\\statsmodels\\tsa\\statespace\\sarimax.py:1009: UserWarning: Non-invertible starting seasonal moving average Using zeros as starting parameters.\n",
      "  warn('Non-invertible starting seasonal moving average'\n",
      "C:\\Users\\wodar\\miniconda3\\envs\\conda-env\\lib\\site-packages\\statsmodels\\base\\model.py:566: ConvergenceWarning: Maximum Likelihood optimization failed to converge. Check mle_retvals\n",
      "  warnings.warn(\"Maximum Likelihood optimization failed to \"\n"
     ]
    },
    {
     "name": "stdout",
     "output_type": "stream",
     "text": [
      "Score for (p, d, q) = (2, 2, 0), (P, D, Q, m) = (0, 2, 2, 12): 0.02845919919946822\n",
      "Score for (p, d, q) = (2, 2, 0), (P, D, Q, m) = (1, 0, 0, 12): 0.4303660190953278\n",
      "Score for (p, d, q) = (2, 2, 0), (P, D, Q, m) = (1, 0, 1, 12): 0.26732037820417254\n"
     ]
    },
    {
     "name": "stderr",
     "output_type": "stream",
     "text": [
      "C:\\Users\\wodar\\miniconda3\\envs\\conda-env\\lib\\site-packages\\statsmodels\\tsa\\statespace\\sarimax.py:1009: UserWarning: Non-invertible starting seasonal moving average Using zeros as starting parameters.\n",
      "  warn('Non-invertible starting seasonal moving average'\n",
      "C:\\Users\\wodar\\miniconda3\\envs\\conda-env\\lib\\site-packages\\statsmodels\\base\\model.py:566: ConvergenceWarning: Maximum Likelihood optimization failed to converge. Check mle_retvals\n",
      "  warnings.warn(\"Maximum Likelihood optimization failed to \"\n"
     ]
    },
    {
     "name": "stdout",
     "output_type": "stream",
     "text": [
      "Score for (p, d, q) = (2, 2, 0), (P, D, Q, m) = (1, 0, 2, 12): 0.25473565693889844\n",
      "Score for (p, d, q) = (2, 2, 0), (P, D, Q, m) = (1, 1, 0, 12): 0.1469181640065236\n",
      "Score for (p, d, q) = (2, 2, 0), (P, D, Q, m) = (1, 1, 1, 12): 0.20024258007688178\n"
     ]
    },
    {
     "name": "stderr",
     "output_type": "stream",
     "text": [
      "C:\\Users\\wodar\\miniconda3\\envs\\conda-env\\lib\\site-packages\\statsmodels\\tsa\\statespace\\sarimax.py:1009: UserWarning: Non-invertible starting seasonal moving average Using zeros as starting parameters.\n",
      "  warn('Non-invertible starting seasonal moving average'\n"
     ]
    },
    {
     "name": "stdout",
     "output_type": "stream",
     "text": [
      "Score for (p, d, q) = (2, 2, 0), (P, D, Q, m) = (1, 1, 2, 12): 0.20868863068342122\n"
     ]
    },
    {
     "name": "stderr",
     "output_type": "stream",
     "text": [
      "C:\\Users\\wodar\\miniconda3\\envs\\conda-env\\lib\\site-packages\\statsmodels\\base\\model.py:566: ConvergenceWarning: Maximum Likelihood optimization failed to converge. Check mle_retvals\n",
      "  warnings.warn(\"Maximum Likelihood optimization failed to \"\n"
     ]
    },
    {
     "name": "stdout",
     "output_type": "stream",
     "text": [
      "Score for (p, d, q) = (2, 2, 0), (P, D, Q, m) = (1, 2, 0, 12): 0.3825749725450001\n",
      "Score for (p, d, q) = (2, 2, 0), (P, D, Q, m) = (1, 2, 1, 12): 0.04437998476233624\n"
     ]
    },
    {
     "name": "stderr",
     "output_type": "stream",
     "text": [
      "C:\\Users\\wodar\\miniconda3\\envs\\conda-env\\lib\\site-packages\\statsmodels\\tsa\\statespace\\sarimax.py:1009: UserWarning: Non-invertible starting seasonal moving average Using zeros as starting parameters.\n",
      "  warn('Non-invertible starting seasonal moving average'\n"
     ]
    },
    {
     "name": "stdout",
     "output_type": "stream",
     "text": [
      "Score for (p, d, q) = (2, 2, 0), (P, D, Q, m) = (1, 2, 2, 12): 0.029597687922908646\n",
      "Score for (p, d, q) = (2, 2, 0), (P, D, Q, m) = (2, 0, 0, 12): 0.2547919019600383\n",
      "Score for (p, d, q) = (2, 2, 0), (P, D, Q, m) = (2, 0, 1, 12): 0.2596662684262739\n"
     ]
    },
    {
     "name": "stderr",
     "output_type": "stream",
     "text": [
      "C:\\Users\\wodar\\miniconda3\\envs\\conda-env\\lib\\site-packages\\statsmodels\\tsa\\statespace\\sarimax.py:1009: UserWarning: Non-invertible starting seasonal moving average Using zeros as starting parameters.\n",
      "  warn('Non-invertible starting seasonal moving average'\n"
     ]
    },
    {
     "name": "stdout",
     "output_type": "stream",
     "text": [
      "Score for (p, d, q) = (2, 2, 0), (P, D, Q, m) = (2, 0, 2, 12): 0.26608076813934356\n",
      "Score for (p, d, q) = (2, 2, 0), (P, D, Q, m) = (2, 1, 0, 12): 0.0944757470659598\n",
      "Score for (p, d, q) = (2, 2, 0), (P, D, Q, m) = (2, 1, 1, 12): 0.16671913052116008\n"
     ]
    },
    {
     "name": "stderr",
     "output_type": "stream",
     "text": [
      "C:\\Users\\wodar\\miniconda3\\envs\\conda-env\\lib\\site-packages\\statsmodels\\tsa\\statespace\\sarimax.py:1009: UserWarning: Non-invertible starting seasonal moving average Using zeros as starting parameters.\n",
      "  warn('Non-invertible starting seasonal moving average'\n",
      "C:\\Users\\wodar\\miniconda3\\envs\\conda-env\\lib\\site-packages\\statsmodels\\base\\model.py:566: ConvergenceWarning: Maximum Likelihood optimization failed to converge. Check mle_retvals\n",
      "  warnings.warn(\"Maximum Likelihood optimization failed to \"\n"
     ]
    },
    {
     "name": "stdout",
     "output_type": "stream",
     "text": [
      "Score for (p, d, q) = (2, 2, 0), (P, D, Q, m) = (2, 1, 2, 12): 0.1772161515320278\n",
      "Score for (p, d, q) = (2, 2, 0), (P, D, Q, m) = (2, 2, 0, 12): 0.11289420264007828\n"
     ]
    },
    {
     "name": "stderr",
     "output_type": "stream",
     "text": [
      "C:\\Users\\wodar\\miniconda3\\envs\\conda-env\\lib\\site-packages\\statsmodels\\base\\model.py:566: ConvergenceWarning: Maximum Likelihood optimization failed to converge. Check mle_retvals\n",
      "  warnings.warn(\"Maximum Likelihood optimization failed to \"\n",
      "C:\\Users\\wodar\\miniconda3\\envs\\conda-env\\lib\\site-packages\\statsmodels\\tsa\\statespace\\sarimax.py:1009: UserWarning: Non-invertible starting seasonal moving average Using zeros as starting parameters.\n",
      "  warn('Non-invertible starting seasonal moving average'\n"
     ]
    },
    {
     "name": "stdout",
     "output_type": "stream",
     "text": [
      "Score for (p, d, q) = (2, 2, 0), (P, D, Q, m) = (2, 2, 1, 12): 0.008912736033057174\n"
     ]
    },
    {
     "name": "stderr",
     "output_type": "stream",
     "text": [
      "C:\\Users\\wodar\\miniconda3\\envs\\conda-env\\lib\\site-packages\\statsmodels\\base\\model.py:566: ConvergenceWarning: Maximum Likelihood optimization failed to converge. Check mle_retvals\n",
      "  warnings.warn(\"Maximum Likelihood optimization failed to \"\n"
     ]
    },
    {
     "name": "stdout",
     "output_type": "stream",
     "text": [
      "Score for (p, d, q) = (2, 2, 0), (P, D, Q, m) = (2, 2, 2, 12): 0.003529758280596373\n"
     ]
    },
    {
     "name": "stderr",
     "output_type": "stream",
     "text": [
      "C:\\Users\\wodar\\miniconda3\\envs\\conda-env\\lib\\site-packages\\statsmodels\\base\\model.py:566: ConvergenceWarning: Maximum Likelihood optimization failed to converge. Check mle_retvals\n",
      "  warnings.warn(\"Maximum Likelihood optimization failed to \"\n"
     ]
    },
    {
     "name": "stdout",
     "output_type": "stream",
     "text": [
      "Score for (p, d, q) = (2, 2, 1), (P, D, Q, m) = (0, 0, 0, 12): 0.10536380682391076\n",
      "Score for (p, d, q) = (2, 2, 1), (P, D, Q, m) = (0, 0, 1, 12): 0.034775485344048646\n",
      "Score for (p, d, q) = (2, 2, 1), (P, D, Q, m) = (0, 0, 2, 12): 0.038070522879257135\n",
      "Score for (p, d, q) = (2, 2, 1), (P, D, Q, m) = (0, 1, 0, 12): 0.009061426174309118\n"
     ]
    },
    {
     "name": "stderr",
     "output_type": "stream",
     "text": [
      "C:\\Users\\wodar\\miniconda3\\envs\\conda-env\\lib\\site-packages\\statsmodels\\tsa\\statespace\\sarimax.py:978: UserWarning: Non-invertible starting MA parameters found. Using zeros as starting parameters.\n",
      "  warn('Non-invertible starting MA parameters found.'\n",
      "C:\\Users\\wodar\\miniconda3\\envs\\conda-env\\lib\\site-packages\\statsmodels\\tsa\\statespace\\sarimax.py:978: UserWarning: Non-invertible starting MA parameters found. Using zeros as starting parameters.\n",
      "  warn('Non-invertible starting MA parameters found.'\n"
     ]
    },
    {
     "name": "stdout",
     "output_type": "stream",
     "text": [
      "Score for (p, d, q) = (2, 2, 1), (P, D, Q, m) = (0, 1, 1, 12): 0.0014309978578381608\n"
     ]
    },
    {
     "name": "stderr",
     "output_type": "stream",
     "text": [
      "C:\\Users\\wodar\\miniconda3\\envs\\conda-env\\lib\\site-packages\\statsmodels\\tsa\\statespace\\sarimax.py:978: UserWarning: Non-invertible starting MA parameters found. Using zeros as starting parameters.\n",
      "  warn('Non-invertible starting MA parameters found.'\n",
      "C:\\Users\\wodar\\miniconda3\\envs\\conda-env\\lib\\site-packages\\statsmodels\\tsa\\statespace\\sarimax.py:1009: UserWarning: Non-invertible starting seasonal moving average Using zeros as starting parameters.\n",
      "  warn('Non-invertible starting seasonal moving average'\n"
     ]
    },
    {
     "name": "stdout",
     "output_type": "stream",
     "text": [
      "Score for (p, d, q) = (2, 2, 1), (P, D, Q, m) = (0, 1, 2, 12): 0.004501622460487549\n"
     ]
    },
    {
     "name": "stderr",
     "output_type": "stream",
     "text": [
      "C:\\Users\\wodar\\miniconda3\\envs\\conda-env\\lib\\site-packages\\statsmodels\\tsa\\statespace\\sarimax.py:966: UserWarning: Non-stationary starting autoregressive parameters found. Using zeros as starting parameters.\n",
      "  warn('Non-stationary starting autoregressive parameters'\n",
      "C:\\Users\\wodar\\miniconda3\\envs\\conda-env\\lib\\site-packages\\statsmodels\\tsa\\statespace\\sarimax.py:978: UserWarning: Non-invertible starting MA parameters found. Using zeros as starting parameters.\n",
      "  warn('Non-invertible starting MA parameters found.'\n"
     ]
    },
    {
     "name": "stdout",
     "output_type": "stream",
     "text": [
      "Score for (p, d, q) = (2, 2, 1), (P, D, Q, m) = (0, 2, 0, 12): 0.11295657127416542\n"
     ]
    },
    {
     "name": "stderr",
     "output_type": "stream",
     "text": [
      "C:\\Users\\wodar\\miniconda3\\envs\\conda-env\\lib\\site-packages\\statsmodels\\tsa\\statespace\\sarimax.py:966: UserWarning: Non-stationary starting autoregressive parameters found. Using zeros as starting parameters.\n",
      "  warn('Non-stationary starting autoregressive parameters'\n",
      "C:\\Users\\wodar\\miniconda3\\envs\\conda-env\\lib\\site-packages\\statsmodels\\tsa\\statespace\\sarimax.py:978: UserWarning: Non-invertible starting MA parameters found. Using zeros as starting parameters.\n",
      "  warn('Non-invertible starting MA parameters found.'\n",
      "C:\\Users\\wodar\\miniconda3\\envs\\conda-env\\lib\\site-packages\\statsmodels\\base\\model.py:566: ConvergenceWarning: Maximum Likelihood optimization failed to converge. Check mle_retvals\n",
      "  warnings.warn(\"Maximum Likelihood optimization failed to \"\n",
      "C:\\Users\\wodar\\miniconda3\\envs\\conda-env\\lib\\site-packages\\statsmodels\\tsa\\statespace\\sarimax.py:966: UserWarning: Non-stationary starting autoregressive parameters found. Using zeros as starting parameters.\n",
      "  warn('Non-stationary starting autoregressive parameters'\n",
      "C:\\Users\\wodar\\miniconda3\\envs\\conda-env\\lib\\site-packages\\statsmodels\\tsa\\statespace\\sarimax.py:978: UserWarning: Non-invertible starting MA parameters found. Using zeros as starting parameters.\n",
      "  warn('Non-invertible starting MA parameters found.'\n",
      "C:\\Users\\wodar\\miniconda3\\envs\\conda-env\\lib\\site-packages\\statsmodels\\tsa\\statespace\\sarimax.py:1009: UserWarning: Non-invertible starting seasonal moving average Using zeros as starting parameters.\n",
      "  warn('Non-invertible starting seasonal moving average'\n"
     ]
    },
    {
     "name": "stdout",
     "output_type": "stream",
     "text": [
      "Score for (p, d, q) = (2, 2, 1), (P, D, Q, m) = (0, 2, 1, 12): 0.0719798390305149\n"
     ]
    },
    {
     "name": "stderr",
     "output_type": "stream",
     "text": [
      "C:\\Users\\wodar\\miniconda3\\envs\\conda-env\\lib\\site-packages\\statsmodels\\base\\model.py:566: ConvergenceWarning: Maximum Likelihood optimization failed to converge. Check mle_retvals\n",
      "  warnings.warn(\"Maximum Likelihood optimization failed to \"\n"
     ]
    },
    {
     "name": "stdout",
     "output_type": "stream",
     "text": [
      "Score for (p, d, q) = (2, 2, 1), (P, D, Q, m) = (0, 2, 2, 12): 0.03020665622787359\n"
     ]
    },
    {
     "name": "stderr",
     "output_type": "stream",
     "text": [
      "C:\\Users\\wodar\\miniconda3\\envs\\conda-env\\lib\\site-packages\\statsmodels\\base\\model.py:566: ConvergenceWarning: Maximum Likelihood optimization failed to converge. Check mle_retvals\n",
      "  warnings.warn(\"Maximum Likelihood optimization failed to \"\n"
     ]
    },
    {
     "name": "stdout",
     "output_type": "stream",
     "text": [
      "Score for (p, d, q) = (2, 2, 1), (P, D, Q, m) = (1, 0, 0, 12): 0.004220630448972332\n"
     ]
    },
    {
     "name": "stderr",
     "output_type": "stream",
     "text": [
      "C:\\Users\\wodar\\miniconda3\\envs\\conda-env\\lib\\site-packages\\statsmodels\\base\\model.py:566: ConvergenceWarning: Maximum Likelihood optimization failed to converge. Check mle_retvals\n",
      "  warnings.warn(\"Maximum Likelihood optimization failed to \"\n",
      "C:\\Users\\wodar\\miniconda3\\envs\\conda-env\\lib\\site-packages\\statsmodels\\tsa\\statespace\\sarimax.py:1009: UserWarning: Non-invertible starting seasonal moving average Using zeros as starting parameters.\n",
      "  warn('Non-invertible starting seasonal moving average'\n"
     ]
    },
    {
     "name": "stdout",
     "output_type": "stream",
     "text": [
      "Score for (p, d, q) = (2, 2, 1), (P, D, Q, m) = (1, 0, 1, 12): 0.0013430767394524044\n",
      "Score for (p, d, q) = (2, 2, 1), (P, D, Q, m) = (1, 0, 2, 12): 0.0013121194782224539\n"
     ]
    },
    {
     "name": "stderr",
     "output_type": "stream",
     "text": [
      "C:\\Users\\wodar\\miniconda3\\envs\\conda-env\\lib\\site-packages\\statsmodels\\tsa\\statespace\\sarimax.py:978: UserWarning: Non-invertible starting MA parameters found. Using zeros as starting parameters.\n",
      "  warn('Non-invertible starting MA parameters found.'\n"
     ]
    },
    {
     "name": "stdout",
     "output_type": "stream",
     "text": [
      "Score for (p, d, q) = (2, 2, 1), (P, D, Q, m) = (1, 1, 0, 12): 0.004513538313752305\n"
     ]
    },
    {
     "name": "stderr",
     "output_type": "stream",
     "text": [
      "C:\\Users\\wodar\\miniconda3\\envs\\conda-env\\lib\\site-packages\\statsmodels\\tsa\\statespace\\sarimax.py:978: UserWarning: Non-invertible starting MA parameters found. Using zeros as starting parameters.\n",
      "  warn('Non-invertible starting MA parameters found.'\n",
      "C:\\Users\\wodar\\miniconda3\\envs\\conda-env\\lib\\site-packages\\statsmodels\\base\\model.py:566: ConvergenceWarning: Maximum Likelihood optimization failed to converge. Check mle_retvals\n",
      "  warnings.warn(\"Maximum Likelihood optimization failed to \"\n",
      "C:\\Users\\wodar\\miniconda3\\envs\\conda-env\\lib\\site-packages\\statsmodels\\tsa\\statespace\\sarimax.py:978: UserWarning: Non-invertible starting MA parameters found. Using zeros as starting parameters.\n",
      "  warn('Non-invertible starting MA parameters found.'\n",
      "C:\\Users\\wodar\\miniconda3\\envs\\conda-env\\lib\\site-packages\\statsmodels\\tsa\\statespace\\sarimax.py:1009: UserWarning: Non-invertible starting seasonal moving average Using zeros as starting parameters.\n",
      "  warn('Non-invertible starting seasonal moving average'\n"
     ]
    },
    {
     "name": "stdout",
     "output_type": "stream",
     "text": [
      "Score for (p, d, q) = (2, 2, 1), (P, D, Q, m) = (1, 1, 1, 12): 0.002907104705884422\n"
     ]
    },
    {
     "name": "stderr",
     "output_type": "stream",
     "text": [
      "C:\\Users\\wodar\\miniconda3\\envs\\conda-env\\lib\\site-packages\\statsmodels\\base\\model.py:566: ConvergenceWarning: Maximum Likelihood optimization failed to converge. Check mle_retvals\n",
      "  warnings.warn(\"Maximum Likelihood optimization failed to \"\n",
      "C:\\Users\\wodar\\miniconda3\\envs\\conda-env\\lib\\site-packages\\statsmodels\\tsa\\statespace\\sarimax.py:966: UserWarning: Non-stationary starting autoregressive parameters found. Using zeros as starting parameters.\n",
      "  warn('Non-stationary starting autoregressive parameters'\n",
      "C:\\Users\\wodar\\miniconda3\\envs\\conda-env\\lib\\site-packages\\statsmodels\\tsa\\statespace\\sarimax.py:978: UserWarning: Non-invertible starting MA parameters found. Using zeros as starting parameters.\n",
      "  warn('Non-invertible starting MA parameters found.'\n"
     ]
    },
    {
     "name": "stdout",
     "output_type": "stream",
     "text": [
      "Score for (p, d, q) = (2, 2, 1), (P, D, Q, m) = (1, 1, 2, 12): 0.006868319396485371\n"
     ]
    },
    {
     "name": "stderr",
     "output_type": "stream",
     "text": [
      "C:\\Users\\wodar\\miniconda3\\envs\\conda-env\\lib\\site-packages\\statsmodels\\base\\model.py:566: ConvergenceWarning: Maximum Likelihood optimization failed to converge. Check mle_retvals\n",
      "  warnings.warn(\"Maximum Likelihood optimization failed to \"\n",
      "C:\\Users\\wodar\\miniconda3\\envs\\conda-env\\lib\\site-packages\\statsmodels\\tsa\\statespace\\sarimax.py:966: UserWarning: Non-stationary starting autoregressive parameters found. Using zeros as starting parameters.\n",
      "  warn('Non-stationary starting autoregressive parameters'\n",
      "C:\\Users\\wodar\\miniconda3\\envs\\conda-env\\lib\\site-packages\\statsmodels\\tsa\\statespace\\sarimax.py:978: UserWarning: Non-invertible starting MA parameters found. Using zeros as starting parameters.\n",
      "  warn('Non-invertible starting MA parameters found.'\n"
     ]
    },
    {
     "name": "stdout",
     "output_type": "stream",
     "text": [
      "Score for (p, d, q) = (2, 2, 1), (P, D, Q, m) = (1, 2, 0, 12): 0.076815198456462\n",
      "Score for (p, d, q) = (2, 2, 1), (P, D, Q, m) = (1, 2, 1, 12): 0.049389975794864774\n"
     ]
    },
    {
     "name": "stderr",
     "output_type": "stream",
     "text": [
      "C:\\Users\\wodar\\miniconda3\\envs\\conda-env\\lib\\site-packages\\statsmodels\\tsa\\statespace\\sarimax.py:966: UserWarning: Non-stationary starting autoregressive parameters found. Using zeros as starting parameters.\n",
      "  warn('Non-stationary starting autoregressive parameters'\n",
      "C:\\Users\\wodar\\miniconda3\\envs\\conda-env\\lib\\site-packages\\statsmodels\\tsa\\statespace\\sarimax.py:978: UserWarning: Non-invertible starting MA parameters found. Using zeros as starting parameters.\n",
      "  warn('Non-invertible starting MA parameters found.'\n",
      "C:\\Users\\wodar\\miniconda3\\envs\\conda-env\\lib\\site-packages\\statsmodels\\tsa\\statespace\\sarimax.py:1009: UserWarning: Non-invertible starting seasonal moving average Using zeros as starting parameters.\n",
      "  warn('Non-invertible starting seasonal moving average'\n",
      "C:\\Users\\wodar\\miniconda3\\envs\\conda-env\\lib\\site-packages\\statsmodels\\base\\model.py:566: ConvergenceWarning: Maximum Likelihood optimization failed to converge. Check mle_retvals\n",
      "  warnings.warn(\"Maximum Likelihood optimization failed to \"\n"
     ]
    },
    {
     "name": "stdout",
     "output_type": "stream",
     "text": [
      "Score for (p, d, q) = (2, 2, 1), (P, D, Q, m) = (1, 2, 2, 12): 0.03294936862274529\n"
     ]
    },
    {
     "name": "stderr",
     "output_type": "stream",
     "text": [
      "C:\\Users\\wodar\\miniconda3\\envs\\conda-env\\lib\\site-packages\\statsmodels\\base\\model.py:566: ConvergenceWarning: Maximum Likelihood optimization failed to converge. Check mle_retvals\n",
      "  warnings.warn(\"Maximum Likelihood optimization failed to \"\n"
     ]
    },
    {
     "name": "stdout",
     "output_type": "stream",
     "text": [
      "Score for (p, d, q) = (2, 2, 1), (P, D, Q, m) = (2, 0, 0, 12): 0.002366038462278874\n"
     ]
    },
    {
     "name": "stderr",
     "output_type": "stream",
     "text": [
      "C:\\Users\\wodar\\miniconda3\\envs\\conda-env\\lib\\site-packages\\statsmodels\\base\\model.py:566: ConvergenceWarning: Maximum Likelihood optimization failed to converge. Check mle_retvals\n",
      "  warnings.warn(\"Maximum Likelihood optimization failed to \"\n",
      "C:\\Users\\wodar\\miniconda3\\envs\\conda-env\\lib\\site-packages\\statsmodels\\tsa\\statespace\\sarimax.py:1009: UserWarning: Non-invertible starting seasonal moving average Using zeros as starting parameters.\n",
      "  warn('Non-invertible starting seasonal moving average'\n"
     ]
    },
    {
     "name": "stdout",
     "output_type": "stream",
     "text": [
      "Score for (p, d, q) = (2, 2, 1), (P, D, Q, m) = (2, 0, 1, 12): 0.0012986929898844196\n"
     ]
    },
    {
     "name": "stderr",
     "output_type": "stream",
     "text": [
      "C:\\Users\\wodar\\miniconda3\\envs\\conda-env\\lib\\site-packages\\statsmodels\\base\\model.py:566: ConvergenceWarning: Maximum Likelihood optimization failed to converge. Check mle_retvals\n",
      "  warnings.warn(\"Maximum Likelihood optimization failed to \"\n",
      "C:\\Users\\wodar\\miniconda3\\envs\\conda-env\\lib\\site-packages\\statsmodels\\tsa\\statespace\\sarimax.py:978: UserWarning: Non-invertible starting MA parameters found. Using zeros as starting parameters.\n",
      "  warn('Non-invertible starting MA parameters found.'\n"
     ]
    },
    {
     "name": "stdout",
     "output_type": "stream",
     "text": [
      "Score for (p, d, q) = (2, 2, 1), (P, D, Q, m) = (2, 0, 2, 12): 0.0013550941811593304\n",
      "Score for (p, d, q) = (2, 2, 1), (P, D, Q, m) = (2, 1, 0, 12): 0.0028688495449515727\n"
     ]
    },
    {
     "name": "stderr",
     "output_type": "stream",
     "text": [
      "C:\\Users\\wodar\\miniconda3\\envs\\conda-env\\lib\\site-packages\\statsmodels\\tsa\\statespace\\sarimax.py:978: UserWarning: Non-invertible starting MA parameters found. Using zeros as starting parameters.\n",
      "  warn('Non-invertible starting MA parameters found.'\n",
      "C:\\Users\\wodar\\miniconda3\\envs\\conda-env\\lib\\site-packages\\statsmodels\\base\\model.py:566: ConvergenceWarning: Maximum Likelihood optimization failed to converge. Check mle_retvals\n",
      "  warnings.warn(\"Maximum Likelihood optimization failed to \"\n",
      "C:\\Users\\wodar\\miniconda3\\envs\\conda-env\\lib\\site-packages\\statsmodels\\tsa\\statespace\\sarimax.py:978: UserWarning: Non-invertible starting MA parameters found. Using zeros as starting parameters.\n",
      "  warn('Non-invertible starting MA parameters found.'\n",
      "C:\\Users\\wodar\\miniconda3\\envs\\conda-env\\lib\\site-packages\\statsmodels\\tsa\\statespace\\sarimax.py:1009: UserWarning: Non-invertible starting seasonal moving average Using zeros as starting parameters.\n",
      "  warn('Non-invertible starting seasonal moving average'\n"
     ]
    },
    {
     "name": "stdout",
     "output_type": "stream",
     "text": [
      "Score for (p, d, q) = (2, 2, 1), (P, D, Q, m) = (2, 1, 1, 12): 0.0019183862858515755\n"
     ]
    },
    {
     "name": "stderr",
     "output_type": "stream",
     "text": [
      "C:\\Users\\wodar\\miniconda3\\envs\\conda-env\\lib\\site-packages\\statsmodels\\base\\model.py:566: ConvergenceWarning: Maximum Likelihood optimization failed to converge. Check mle_retvals\n",
      "  warnings.warn(\"Maximum Likelihood optimization failed to \"\n",
      "C:\\Users\\wodar\\miniconda3\\envs\\conda-env\\lib\\site-packages\\statsmodels\\tsa\\statespace\\sarimax.py:966: UserWarning: Non-stationary starting autoregressive parameters found. Using zeros as starting parameters.\n",
      "  warn('Non-stationary starting autoregressive parameters'\n",
      "C:\\Users\\wodar\\miniconda3\\envs\\conda-env\\lib\\site-packages\\statsmodels\\tsa\\statespace\\sarimax.py:978: UserWarning: Non-invertible starting MA parameters found. Using zeros as starting parameters.\n",
      "  warn('Non-invertible starting MA parameters found.'\n"
     ]
    },
    {
     "name": "stdout",
     "output_type": "stream",
     "text": [
      "Score for (p, d, q) = (2, 2, 1), (P, D, Q, m) = (2, 1, 2, 12): 0.003994415108351101\n"
     ]
    },
    {
     "name": "stderr",
     "output_type": "stream",
     "text": [
      "C:\\Users\\wodar\\miniconda3\\envs\\conda-env\\lib\\site-packages\\statsmodels\\base\\model.py:566: ConvergenceWarning: Maximum Likelihood optimization failed to converge. Check mle_retvals\n",
      "  warnings.warn(\"Maximum Likelihood optimization failed to \"\n",
      "C:\\Users\\wodar\\miniconda3\\envs\\conda-env\\lib\\site-packages\\statsmodels\\tsa\\statespace\\sarimax.py:966: UserWarning: Non-stationary starting autoregressive parameters found. Using zeros as starting parameters.\n",
      "  warn('Non-stationary starting autoregressive parameters'\n",
      "C:\\Users\\wodar\\miniconda3\\envs\\conda-env\\lib\\site-packages\\statsmodels\\tsa\\statespace\\sarimax.py:978: UserWarning: Non-invertible starting MA parameters found. Using zeros as starting parameters.\n",
      "  warn('Non-invertible starting MA parameters found.'\n"
     ]
    },
    {
     "name": "stdout",
     "output_type": "stream",
     "text": [
      "Score for (p, d, q) = (2, 2, 1), (P, D, Q, m) = (2, 2, 0, 12): 0.06743257535377953\n"
     ]
    },
    {
     "name": "stderr",
     "output_type": "stream",
     "text": [
      "C:\\Users\\wodar\\miniconda3\\envs\\conda-env\\lib\\site-packages\\statsmodels\\base\\model.py:566: ConvergenceWarning: Maximum Likelihood optimization failed to converge. Check mle_retvals\n",
      "  warnings.warn(\"Maximum Likelihood optimization failed to \"\n",
      "C:\\Users\\wodar\\miniconda3\\envs\\conda-env\\lib\\site-packages\\statsmodels\\tsa\\statespace\\sarimax.py:966: UserWarning: Non-stationary starting autoregressive parameters found. Using zeros as starting parameters.\n",
      "  warn('Non-stationary starting autoregressive parameters'\n",
      "C:\\Users\\wodar\\miniconda3\\envs\\conda-env\\lib\\site-packages\\statsmodels\\tsa\\statespace\\sarimax.py:978: UserWarning: Non-invertible starting MA parameters found. Using zeros as starting parameters.\n",
      "  warn('Non-invertible starting MA parameters found.'\n",
      "C:\\Users\\wodar\\miniconda3\\envs\\conda-env\\lib\\site-packages\\statsmodels\\tsa\\statespace\\sarimax.py:1009: UserWarning: Non-invertible starting seasonal moving average Using zeros as starting parameters.\n",
      "  warn('Non-invertible starting seasonal moving average'\n"
     ]
    },
    {
     "name": "stdout",
     "output_type": "stream",
     "text": [
      "Score for (p, d, q) = (2, 2, 1), (P, D, Q, m) = (2, 2, 1, 12): 0.04625350322002064\n"
     ]
    },
    {
     "name": "stderr",
     "output_type": "stream",
     "text": [
      "C:\\Users\\wodar\\miniconda3\\envs\\conda-env\\lib\\site-packages\\statsmodels\\base\\model.py:566: ConvergenceWarning: Maximum Likelihood optimization failed to converge. Check mle_retvals\n",
      "  warnings.warn(\"Maximum Likelihood optimization failed to \"\n"
     ]
    },
    {
     "name": "stdout",
     "output_type": "stream",
     "text": [
      "Score for (p, d, q) = (2, 2, 1), (P, D, Q, m) = (2, 2, 2, 12): 0.05708212915412002\n",
      "Score for (p, d, q) = (2, 2, 2), (P, D, Q, m) = (0, 0, 0, 12): 0.13283089663470063\n",
      "Score for (p, d, q) = (2, 2, 2), (P, D, Q, m) = (0, 0, 1, 12): 0.05704033759643332\n"
     ]
    },
    {
     "name": "stderr",
     "output_type": "stream",
     "text": [
      "C:\\Users\\wodar\\miniconda3\\envs\\conda-env\\lib\\site-packages\\statsmodels\\base\\model.py:566: ConvergenceWarning: Maximum Likelihood optimization failed to converge. Check mle_retvals\n",
      "  warnings.warn(\"Maximum Likelihood optimization failed to \"\n",
      "C:\\Users\\wodar\\miniconda3\\envs\\conda-env\\lib\\site-packages\\statsmodels\\tsa\\statespace\\sarimax.py:978: UserWarning: Non-invertible starting MA parameters found. Using zeros as starting parameters.\n",
      "  warn('Non-invertible starting MA parameters found.'\n"
     ]
    },
    {
     "name": "stdout",
     "output_type": "stream",
     "text": [
      "Score for (p, d, q) = (2, 2, 2), (P, D, Q, m) = (0, 0, 2, 12): 0.03936881987225531\n"
     ]
    },
    {
     "name": "stderr",
     "output_type": "stream",
     "text": [
      "C:\\Users\\wodar\\miniconda3\\envs\\conda-env\\lib\\site-packages\\statsmodels\\base\\model.py:566: ConvergenceWarning: Maximum Likelihood optimization failed to converge. Check mle_retvals\n",
      "  warnings.warn(\"Maximum Likelihood optimization failed to \"\n",
      "C:\\Users\\wodar\\miniconda3\\envs\\conda-env\\lib\\site-packages\\statsmodels\\tsa\\statespace\\sarimax.py:978: UserWarning: Non-invertible starting MA parameters found. Using zeros as starting parameters.\n",
      "  warn('Non-invertible starting MA parameters found.'\n"
     ]
    },
    {
     "name": "stdout",
     "output_type": "stream",
     "text": [
      "Score for (p, d, q) = (2, 2, 2), (P, D, Q, m) = (0, 1, 0, 12): 0.009372283481137297\n",
      "Score for (p, d, q) = (2, 2, 2), (P, D, Q, m) = (0, 1, 1, 12): 0.0013296229292416866\n"
     ]
    },
    {
     "name": "stderr",
     "output_type": "stream",
     "text": [
      "C:\\Users\\wodar\\miniconda3\\envs\\conda-env\\lib\\site-packages\\statsmodels\\tsa\\statespace\\sarimax.py:978: UserWarning: Non-invertible starting MA parameters found. Using zeros as starting parameters.\n",
      "  warn('Non-invertible starting MA parameters found.'\n",
      "C:\\Users\\wodar\\miniconda3\\envs\\conda-env\\lib\\site-packages\\statsmodels\\tsa\\statespace\\sarimax.py:1009: UserWarning: Non-invertible starting seasonal moving average Using zeros as starting parameters.\n",
      "  warn('Non-invertible starting seasonal moving average'\n",
      "C:\\Users\\wodar\\miniconda3\\envs\\conda-env\\lib\\site-packages\\statsmodels\\base\\model.py:566: ConvergenceWarning: Maximum Likelihood optimization failed to converge. Check mle_retvals\n",
      "  warnings.warn(\"Maximum Likelihood optimization failed to \"\n",
      "C:\\Users\\wodar\\miniconda3\\envs\\conda-env\\lib\\site-packages\\statsmodels\\tsa\\statespace\\sarimax.py:978: UserWarning: Non-invertible starting MA parameters found. Using zeros as starting parameters.\n",
      "  warn('Non-invertible starting MA parameters found.'\n"
     ]
    },
    {
     "name": "stdout",
     "output_type": "stream",
     "text": [
      "Score for (p, d, q) = (2, 2, 2), (P, D, Q, m) = (0, 1, 2, 12): 0.0015770542933547312\n",
      "Score for (p, d, q) = (2, 2, 2), (P, D, Q, m) = (0, 2, 0, 12): 0.10383962667764207\n"
     ]
    },
    {
     "name": "stderr",
     "output_type": "stream",
     "text": [
      "C:\\Users\\wodar\\miniconda3\\envs\\conda-env\\lib\\site-packages\\statsmodels\\tsa\\statespace\\sarimax.py:978: UserWarning: Non-invertible starting MA parameters found. Using zeros as starting parameters.\n",
      "  warn('Non-invertible starting MA parameters found.'\n"
     ]
    },
    {
     "name": "stdout",
     "output_type": "stream",
     "text": [
      "Score for (p, d, q) = (2, 2, 2), (P, D, Q, m) = (0, 2, 1, 12): 0.07150824088871378\n"
     ]
    },
    {
     "name": "stderr",
     "output_type": "stream",
     "text": [
      "C:\\Users\\wodar\\miniconda3\\envs\\conda-env\\lib\\site-packages\\statsmodels\\tsa\\statespace\\sarimax.py:978: UserWarning: Non-invertible starting MA parameters found. Using zeros as starting parameters.\n",
      "  warn('Non-invertible starting MA parameters found.'\n",
      "C:\\Users\\wodar\\miniconda3\\envs\\conda-env\\lib\\site-packages\\statsmodels\\tsa\\statespace\\sarimax.py:1009: UserWarning: Non-invertible starting seasonal moving average Using zeros as starting parameters.\n",
      "  warn('Non-invertible starting seasonal moving average'\n",
      "C:\\Users\\wodar\\miniconda3\\envs\\conda-env\\lib\\site-packages\\statsmodels\\base\\model.py:566: ConvergenceWarning: Maximum Likelihood optimization failed to converge. Check mle_retvals\n",
      "  warnings.warn(\"Maximum Likelihood optimization failed to \"\n"
     ]
    },
    {
     "name": "stdout",
     "output_type": "stream",
     "text": [
      "Score for (p, d, q) = (2, 2, 2), (P, D, Q, m) = (0, 2, 2, 12): 0.028995040783632766\n"
     ]
    },
    {
     "name": "stderr",
     "output_type": "stream",
     "text": [
      "C:\\Users\\wodar\\miniconda3\\envs\\conda-env\\lib\\site-packages\\statsmodels\\base\\model.py:566: ConvergenceWarning: Maximum Likelihood optimization failed to converge. Check mle_retvals\n",
      "  warnings.warn(\"Maximum Likelihood optimization failed to \"\n"
     ]
    },
    {
     "name": "stdout",
     "output_type": "stream",
     "text": [
      "Score for (p, d, q) = (2, 2, 2), (P, D, Q, m) = (1, 0, 0, 12): 0.00468563296309199\n"
     ]
    },
    {
     "name": "stderr",
     "output_type": "stream",
     "text": [
      "C:\\Users\\wodar\\miniconda3\\envs\\conda-env\\lib\\site-packages\\statsmodels\\base\\model.py:566: ConvergenceWarning: Maximum Likelihood optimization failed to converge. Check mle_retvals\n",
      "  warnings.warn(\"Maximum Likelihood optimization failed to \"\n",
      "C:\\Users\\wodar\\miniconda3\\envs\\conda-env\\lib\\site-packages\\statsmodels\\tsa\\statespace\\sarimax.py:1009: UserWarning: Non-invertible starting seasonal moving average Using zeros as starting parameters.\n",
      "  warn('Non-invertible starting seasonal moving average'\n"
     ]
    },
    {
     "name": "stdout",
     "output_type": "stream",
     "text": [
      "Score for (p, d, q) = (2, 2, 2), (P, D, Q, m) = (1, 0, 1, 12): 0.0013133005587793415\n"
     ]
    },
    {
     "name": "stderr",
     "output_type": "stream",
     "text": [
      "C:\\Users\\wodar\\miniconda3\\envs\\conda-env\\lib\\site-packages\\statsmodels\\base\\model.py:566: ConvergenceWarning: Maximum Likelihood optimization failed to converge. Check mle_retvals\n",
      "  warnings.warn(\"Maximum Likelihood optimization failed to \"\n",
      "C:\\Users\\wodar\\miniconda3\\envs\\conda-env\\lib\\site-packages\\statsmodels\\tsa\\statespace\\sarimax.py:978: UserWarning: Non-invertible starting MA parameters found. Using zeros as starting parameters.\n",
      "  warn('Non-invertible starting MA parameters found.'\n"
     ]
    },
    {
     "name": "stdout",
     "output_type": "stream",
     "text": [
      "Score for (p, d, q) = (2, 2, 2), (P, D, Q, m) = (1, 0, 2, 12): 0.0012742307668948377\n"
     ]
    },
    {
     "name": "stderr",
     "output_type": "stream",
     "text": [
      "C:\\Users\\wodar\\miniconda3\\envs\\conda-env\\lib\\site-packages\\statsmodels\\base\\model.py:566: ConvergenceWarning: Maximum Likelihood optimization failed to converge. Check mle_retvals\n",
      "  warnings.warn(\"Maximum Likelihood optimization failed to \"\n",
      "C:\\Users\\wodar\\miniconda3\\envs\\conda-env\\lib\\site-packages\\statsmodels\\tsa\\statespace\\sarimax.py:978: UserWarning: Non-invertible starting MA parameters found. Using zeros as starting parameters.\n",
      "  warn('Non-invertible starting MA parameters found.'\n"
     ]
    },
    {
     "name": "stdout",
     "output_type": "stream",
     "text": [
      "Score for (p, d, q) = (2, 2, 2), (P, D, Q, m) = (1, 1, 0, 12): 0.004652183595458594\n"
     ]
    },
    {
     "name": "stderr",
     "output_type": "stream",
     "text": [
      "C:\\Users\\wodar\\miniconda3\\envs\\conda-env\\lib\\site-packages\\statsmodels\\base\\model.py:566: ConvergenceWarning: Maximum Likelihood optimization failed to converge. Check mle_retvals\n",
      "  warnings.warn(\"Maximum Likelihood optimization failed to \"\n",
      "C:\\Users\\wodar\\miniconda3\\envs\\conda-env\\lib\\site-packages\\statsmodels\\tsa\\statespace\\sarimax.py:978: UserWarning: Non-invertible starting MA parameters found. Using zeros as starting parameters.\n",
      "  warn('Non-invertible starting MA parameters found.'\n",
      "C:\\Users\\wodar\\miniconda3\\envs\\conda-env\\lib\\site-packages\\statsmodels\\tsa\\statespace\\sarimax.py:1009: UserWarning: Non-invertible starting seasonal moving average Using zeros as starting parameters.\n",
      "  warn('Non-invertible starting seasonal moving average'\n"
     ]
    },
    {
     "name": "stdout",
     "output_type": "stream",
     "text": [
      "Score for (p, d, q) = (2, 2, 2), (P, D, Q, m) = (1, 1, 1, 12): 0.0016850294691846469\n"
     ]
    },
    {
     "name": "stderr",
     "output_type": "stream",
     "text": [
      "C:\\Users\\wodar\\miniconda3\\envs\\conda-env\\lib\\site-packages\\statsmodels\\base\\model.py:566: ConvergenceWarning: Maximum Likelihood optimization failed to converge. Check mle_retvals\n",
      "  warnings.warn(\"Maximum Likelihood optimization failed to \"\n",
      "C:\\Users\\wodar\\miniconda3\\envs\\conda-env\\lib\\site-packages\\statsmodels\\tsa\\statespace\\sarimax.py:978: UserWarning: Non-invertible starting MA parameters found. Using zeros as starting parameters.\n",
      "  warn('Non-invertible starting MA parameters found.'\n"
     ]
    },
    {
     "name": "stdout",
     "output_type": "stream",
     "text": [
      "Score for (p, d, q) = (2, 2, 2), (P, D, Q, m) = (1, 1, 2, 12): 0.0014707900573556925\n",
      "Score for (p, d, q) = (2, 2, 2), (P, D, Q, m) = (1, 2, 0, 12): 0.07361208748388215\n"
     ]
    },
    {
     "name": "stderr",
     "output_type": "stream",
     "text": [
      "C:\\Users\\wodar\\miniconda3\\envs\\conda-env\\lib\\site-packages\\statsmodels\\tsa\\statespace\\sarimax.py:978: UserWarning: Non-invertible starting MA parameters found. Using zeros as starting parameters.\n",
      "  warn('Non-invertible starting MA parameters found.'\n"
     ]
    },
    {
     "name": "stdout",
     "output_type": "stream",
     "text": [
      "Score for (p, d, q) = (2, 2, 2), (P, D, Q, m) = (1, 2, 1, 12): 0.04611638606605703\n"
     ]
    },
    {
     "name": "stderr",
     "output_type": "stream",
     "text": [
      "C:\\Users\\wodar\\miniconda3\\envs\\conda-env\\lib\\site-packages\\statsmodels\\tsa\\statespace\\sarimax.py:978: UserWarning: Non-invertible starting MA parameters found. Using zeros as starting parameters.\n",
      "  warn('Non-invertible starting MA parameters found.'\n",
      "C:\\Users\\wodar\\miniconda3\\envs\\conda-env\\lib\\site-packages\\statsmodels\\tsa\\statespace\\sarimax.py:1009: UserWarning: Non-invertible starting seasonal moving average Using zeros as starting parameters.\n",
      "  warn('Non-invertible starting seasonal moving average'\n",
      "C:\\Users\\wodar\\miniconda3\\envs\\conda-env\\lib\\site-packages\\statsmodels\\base\\model.py:566: ConvergenceWarning: Maximum Likelihood optimization failed to converge. Check mle_retvals\n",
      "  warnings.warn(\"Maximum Likelihood optimization failed to \"\n"
     ]
    },
    {
     "name": "stdout",
     "output_type": "stream",
     "text": [
      "Score for (p, d, q) = (2, 2, 2), (P, D, Q, m) = (1, 2, 2, 12): 0.030760383394686616\n"
     ]
    },
    {
     "name": "stderr",
     "output_type": "stream",
     "text": [
      "C:\\Users\\wodar\\miniconda3\\envs\\conda-env\\lib\\site-packages\\statsmodels\\base\\model.py:566: ConvergenceWarning: Maximum Likelihood optimization failed to converge. Check mle_retvals\n",
      "  warnings.warn(\"Maximum Likelihood optimization failed to \"\n"
     ]
    },
    {
     "name": "stdout",
     "output_type": "stream",
     "text": [
      "Score for (p, d, q) = (2, 2, 2), (P, D, Q, m) = (2, 0, 0, 12): 0.002206763823031326\n"
     ]
    },
    {
     "name": "stderr",
     "output_type": "stream",
     "text": [
      "C:\\Users\\wodar\\miniconda3\\envs\\conda-env\\lib\\site-packages\\statsmodels\\base\\model.py:566: ConvergenceWarning: Maximum Likelihood optimization failed to converge. Check mle_retvals\n",
      "  warnings.warn(\"Maximum Likelihood optimization failed to \"\n",
      "C:\\Users\\wodar\\miniconda3\\envs\\conda-env\\lib\\site-packages\\statsmodels\\tsa\\statespace\\sarimax.py:1009: UserWarning: Non-invertible starting seasonal moving average Using zeros as starting parameters.\n",
      "  warn('Non-invertible starting seasonal moving average'\n"
     ]
    },
    {
     "name": "stdout",
     "output_type": "stream",
     "text": [
      "Score for (p, d, q) = (2, 2, 2), (P, D, Q, m) = (2, 0, 1, 12): 0.0013097138191449822\n"
     ]
    },
    {
     "name": "stderr",
     "output_type": "stream",
     "text": [
      "C:\\Users\\wodar\\miniconda3\\envs\\conda-env\\lib\\site-packages\\statsmodels\\base\\model.py:566: ConvergenceWarning: Maximum Likelihood optimization failed to converge. Check mle_retvals\n",
      "  warnings.warn(\"Maximum Likelihood optimization failed to \"\n",
      "C:\\Users\\wodar\\miniconda3\\envs\\conda-env\\lib\\site-packages\\statsmodels\\tsa\\statespace\\sarimax.py:978: UserWarning: Non-invertible starting MA parameters found. Using zeros as starting parameters.\n",
      "  warn('Non-invertible starting MA parameters found.'\n"
     ]
    },
    {
     "name": "stdout",
     "output_type": "stream",
     "text": [
      "Score for (p, d, q) = (2, 2, 2), (P, D, Q, m) = (2, 0, 2, 12): 0.0012911644812017076\n"
     ]
    },
    {
     "name": "stderr",
     "output_type": "stream",
     "text": [
      "C:\\Users\\wodar\\miniconda3\\envs\\conda-env\\lib\\site-packages\\statsmodels\\base\\model.py:566: ConvergenceWarning: Maximum Likelihood optimization failed to converge. Check mle_retvals\n",
      "  warnings.warn(\"Maximum Likelihood optimization failed to \"\n",
      "C:\\Users\\wodar\\miniconda3\\envs\\conda-env\\lib\\site-packages\\statsmodels\\tsa\\statespace\\sarimax.py:978: UserWarning: Non-invertible starting MA parameters found. Using zeros as starting parameters.\n",
      "  warn('Non-invertible starting MA parameters found.'\n"
     ]
    },
    {
     "name": "stdout",
     "output_type": "stream",
     "text": [
      "Score for (p, d, q) = (2, 2, 2), (P, D, Q, m) = (2, 1, 0, 12): 0.0022840036510241688\n",
      "Score for (p, d, q) = (2, 2, 2), (P, D, Q, m) = (2, 1, 1, 12): 0.0013717195659128083\n"
     ]
    },
    {
     "name": "stderr",
     "output_type": "stream",
     "text": [
      "C:\\Users\\wodar\\miniconda3\\envs\\conda-env\\lib\\site-packages\\statsmodels\\tsa\\statespace\\sarimax.py:978: UserWarning: Non-invertible starting MA parameters found. Using zeros as starting parameters.\n",
      "  warn('Non-invertible starting MA parameters found.'\n",
      "C:\\Users\\wodar\\miniconda3\\envs\\conda-env\\lib\\site-packages\\statsmodels\\tsa\\statespace\\sarimax.py:1009: UserWarning: Non-invertible starting seasonal moving average Using zeros as starting parameters.\n",
      "  warn('Non-invertible starting seasonal moving average'\n",
      "C:\\Users\\wodar\\miniconda3\\envs\\conda-env\\lib\\site-packages\\statsmodels\\base\\model.py:566: ConvergenceWarning: Maximum Likelihood optimization failed to converge. Check mle_retvals\n",
      "  warnings.warn(\"Maximum Likelihood optimization failed to \"\n",
      "C:\\Users\\wodar\\miniconda3\\envs\\conda-env\\lib\\site-packages\\statsmodels\\tsa\\statespace\\sarimax.py:978: UserWarning: Non-invertible starting MA parameters found. Using zeros as starting parameters.\n",
      "  warn('Non-invertible starting MA parameters found.'\n"
     ]
    },
    {
     "name": "stdout",
     "output_type": "stream",
     "text": [
      "Score for (p, d, q) = (2, 2, 2), (P, D, Q, m) = (2, 1, 2, 12): 0.0018870521105883182\n"
     ]
    },
    {
     "name": "stderr",
     "output_type": "stream",
     "text": [
      "C:\\Users\\wodar\\miniconda3\\envs\\conda-env\\lib\\site-packages\\statsmodels\\base\\model.py:566: ConvergenceWarning: Maximum Likelihood optimization failed to converge. Check mle_retvals\n",
      "  warnings.warn(\"Maximum Likelihood optimization failed to \"\n",
      "C:\\Users\\wodar\\miniconda3\\envs\\conda-env\\lib\\site-packages\\statsmodels\\tsa\\statespace\\sarimax.py:978: UserWarning: Non-invertible starting MA parameters found. Using zeros as starting parameters.\n",
      "  warn('Non-invertible starting MA parameters found.'\n"
     ]
    },
    {
     "name": "stdout",
     "output_type": "stream",
     "text": [
      "Score for (p, d, q) = (2, 2, 2), (P, D, Q, m) = (2, 2, 0, 12): 0.06651617244113586\n"
     ]
    },
    {
     "name": "stderr",
     "output_type": "stream",
     "text": [
      "C:\\Users\\wodar\\miniconda3\\envs\\conda-env\\lib\\site-packages\\statsmodels\\base\\model.py:566: ConvergenceWarning: Maximum Likelihood optimization failed to converge. Check mle_retvals\n",
      "  warnings.warn(\"Maximum Likelihood optimization failed to \"\n",
      "C:\\Users\\wodar\\miniconda3\\envs\\conda-env\\lib\\site-packages\\statsmodels\\tsa\\statespace\\sarimax.py:978: UserWarning: Non-invertible starting MA parameters found. Using zeros as starting parameters.\n",
      "  warn('Non-invertible starting MA parameters found.'\n",
      "C:\\Users\\wodar\\miniconda3\\envs\\conda-env\\lib\\site-packages\\statsmodels\\tsa\\statespace\\sarimax.py:1009: UserWarning: Non-invertible starting seasonal moving average Using zeros as starting parameters.\n",
      "  warn('Non-invertible starting seasonal moving average'\n"
     ]
    },
    {
     "name": "stdout",
     "output_type": "stream",
     "text": [
      "Score for (p, d, q) = (2, 2, 2), (P, D, Q, m) = (2, 2, 1, 12): 0.037066112115758276\n",
      "Score for (p, d, q) = (2, 2, 2), (P, D, Q, m) = (2, 2, 2, 12): 0.04835242357877622\n"
     ]
    },
    {
     "name": "stderr",
     "output_type": "stream",
     "text": [
      "C:\\Users\\wodar\\miniconda3\\envs\\conda-env\\lib\\site-packages\\statsmodels\\base\\model.py:566: ConvergenceWarning: Maximum Likelihood optimization failed to converge. Check mle_retvals\n",
      "  warnings.warn(\"Maximum Likelihood optimization failed to \"\n"
     ]
    }
   ],
   "source": [
    "# Finally, we can find the optimum ARIMA model for our data.\n",
    "# Nb. this can take a while...!\n",
    "best_order, best_seasonal_order = evaluate_arima(log_y, p_list, d_list, q_list, P_list, D_list, Q_list)"
   ]
  },
  {
   "cell_type": "markdown",
   "metadata": {},
   "source": [
    "So the best p,d, q, parameters for our ARIMA model are 2, 1, 1 respectively. Now we know this, we can build the model."
   ]
  },
  {
   "cell_type": "markdown",
   "metadata": {},
   "source": [
    "<span style=\"color:blue\">As discussed above, this is untrue (and even meaningless in the seasonal context). Rather, as seen below, we find a $(1, 0, 2)(1, 1, 2)_{12}$ model.</span>"
   ]
  },
  {
   "cell_type": "code",
   "execution_count": 38,
   "metadata": {},
   "outputs": [
    {
     "name": "stderr",
     "output_type": "stream",
     "text": [
      "C:\\Users\\wodar\\miniconda3\\envs\\conda-env\\lib\\site-packages\\statsmodels\\tsa\\statespace\\sarimax.py:1009: UserWarning: Non-invertible starting seasonal moving average Using zeros as starting parameters.\n",
      "  warn('Non-invertible starting seasonal moving average'\n"
     ]
    },
    {
     "data": {
      "image/png": "[encoded data removed]",
      "text/plain": [
       "<Figure size 1008x360 with 1 Axes>"
      ]
     },
     "metadata": {
      "needs_background": "light"
     },
     "output_type": "display_data"
    }
   ],
   "source": [
    "ts_plot_model(log_y, best_order, best_seasonal_order);"
   ]
  },
  {
   "cell_type": "code",
   "execution_count": 39,
   "metadata": {},
   "outputs": [
    {
     "name": "stderr",
     "output_type": "stream",
     "text": [
      "C:\\Users\\wodar\\miniconda3\\envs\\conda-env\\lib\\site-packages\\statsmodels\\tsa\\base\\tsa_model.py:524: ValueWarning: No frequency information was provided, so inferred frequency MS will be used.\n",
      "  warnings.warn('No frequency information was'\n",
      "C:\\Users\\wodar\\miniconda3\\envs\\conda-env\\lib\\site-packages\\statsmodels\\tsa\\base\\tsa_model.py:524: ValueWarning: No frequency information was provided, so inferred frequency MS will be used.\n",
      "  warnings.warn('No frequency information was'\n",
      "C:\\Users\\wodar\\miniconda3\\envs\\conda-env\\lib\\site-packages\\statsmodels\\tsa\\base\\tsa_model.py:524: ValueWarning: No frequency information was provided, so inferred frequency MS will be used.\n",
      "  warnings.warn('No frequency information was'\n"
     ]
    }
   ],
   "source": [
    "best_model = ARIMA(log_y, order=best_order, seasonal_order=best_seasonal_order)\n",
    "results = best_model.fit()"
   ]
  },
  {
   "cell_type": "markdown",
   "metadata": {},
   "source": [
    "We can take a look at a summary of the model this library has built around our data."
   ]
  },
  {
   "cell_type": "code",
   "execution_count": 40,
   "metadata": {
    "scrolled": false
   },
   "outputs": [
    {
     "data": {
      "text/html": [
       "<table class=\"simpletable\">\n",
       "<caption>SARIMAX Results</caption>\n",
       "<tr>\n",
       "  <th>Dep. Variable:</th>             <td>#CigSales</td>          <th>  No. Observations:  </th>    <td>144</td>  \n",
       "</tr>\n",
       "<tr>\n",
       "  <th>Model:</th>           <td>ARIMA(1, 0, 2)x(1, 1, 2, 12)</td> <th>  Log Likelihood     </th>  <td>248.481</td>\n",
       "</tr>\n",
       "<tr>\n",
       "  <th>Date:</th>                  <td>Sun, 14 Mar 2021</td>       <th>  AIC                </th> <td>-482.963</td>\n",
       "</tr>\n",
       "<tr>\n",
       "  <th>Time:</th>                      <td>13:01:22</td>           <th>  BIC                </th> <td>-462.783</td>\n",
       "</tr>\n",
       "<tr>\n",
       "  <th>Sample:</th>                   <td>01-01-1949</td>          <th>  HQIC               </th> <td>-474.763</td>\n",
       "</tr>\n",
       "<tr>\n",
       "  <th></th>                         <td>- 12-01-1960</td>         <th>                     </th>     <td> </td>   \n",
       "</tr>\n",
       "<tr>\n",
       "  <th>Covariance Type:</th>              <td>opg</td>             <th>                     </th>     <td> </td>   \n",
       "</tr>\n",
       "</table>\n",
       "<table class=\"simpletable\">\n",
       "<tr>\n",
       "      <td></td>        <th>coef</th>     <th>std err</th>      <th>z</th>      <th>P>|z|</th>  <th>[0.025</th>    <th>0.975]</th>  \n",
       "</tr>\n",
       "<tr>\n",
       "  <th>ar.L1</th>    <td>    0.9925</td> <td>    0.008</td> <td>  120.118</td> <td> 0.000</td> <td>    0.976</td> <td>    1.009</td>\n",
       "</tr>\n",
       "<tr>\n",
       "  <th>ma.L1</th>    <td>   -0.4320</td> <td>    0.087</td> <td>   -4.957</td> <td> 0.000</td> <td>   -0.603</td> <td>   -0.261</td>\n",
       "</tr>\n",
       "<tr>\n",
       "  <th>ma.L2</th>    <td>   -0.0291</td> <td>    0.086</td> <td>   -0.340</td> <td> 0.734</td> <td>   -0.197</td> <td>    0.139</td>\n",
       "</tr>\n",
       "<tr>\n",
       "  <th>ar.S.L12</th> <td>    0.9583</td> <td>    0.103</td> <td>    9.305</td> <td> 0.000</td> <td>    0.756</td> <td>    1.160</td>\n",
       "</tr>\n",
       "<tr>\n",
       "  <th>ma.S.L12</th> <td>   -1.9097</td> <td>    2.692</td> <td>   -0.709</td> <td> 0.478</td> <td>   -7.185</td> <td>    3.366</td>\n",
       "</tr>\n",
       "<tr>\n",
       "  <th>ma.S.L24</th> <td>    0.9825</td> <td>    2.740</td> <td>    0.359</td> <td> 0.720</td> <td>   -4.388</td> <td>    6.353</td>\n",
       "</tr>\n",
       "<tr>\n",
       "  <th>sigma2</th>   <td>    0.0010</td> <td>    0.003</td> <td>    0.372</td> <td> 0.710</td> <td>   -0.004</td> <td>    0.006</td>\n",
       "</tr>\n",
       "</table>\n",
       "<table class=\"simpletable\">\n",
       "<tr>\n",
       "  <th>Ljung-Box (L1) (Q):</th>     <td>0.01</td> <th>  Jarque-Bera (JB):  </th> <td>4.39</td> \n",
       "</tr>\n",
       "<tr>\n",
       "  <th>Prob(Q):</th>                <td>0.91</td> <th>  Prob(JB):          </th> <td>0.11</td> \n",
       "</tr>\n",
       "<tr>\n",
       "  <th>Heteroskedasticity (H):</th> <td>0.65</td> <th>  Skew:              </th> <td>-0.06</td>\n",
       "</tr>\n",
       "<tr>\n",
       "  <th>Prob(H) (two-sided):</th>    <td>0.15</td> <th>  Kurtosis:          </th> <td>3.88</td> \n",
       "</tr>\n",
       "</table><br/><br/>Warnings:<br/>[1] Covariance matrix calculated using the outer product of gradients (complex-step)."
      ],
      "text/plain": [
       "<class 'statsmodels.iolib.summary.Summary'>\n",
       "\"\"\"\n",
       "                                    SARIMAX Results                                     \n",
       "========================================================================================\n",
       "Dep. Variable:                        #CigSales   No. Observations:                  144\n",
       "Model:             ARIMA(1, 0, 2)x(1, 1, 2, 12)   Log Likelihood                 248.481\n",
       "Date:                          Sun, 14 Mar 2021   AIC                           -482.963\n",
       "Time:                                  13:01:22   BIC                           -462.783\n",
       "Sample:                              01-01-1949   HQIC                          -474.763\n",
       "                                   - 12-01-1960                                         \n",
       "Covariance Type:                            opg                                         \n",
       "==============================================================================\n",
       "                 coef    std err          z      P>|z|      [0.025      0.975]\n",
       "------------------------------------------------------------------------------\n",
       "ar.L1          0.9925      0.008    120.118      0.000       0.976       1.009\n",
       "ma.L1         -0.4320      0.087     -4.957      0.000      -0.603      -0.261\n",
       "ma.L2         -0.0291      0.086     -0.340      0.734      -0.197       0.139\n",
       "ar.S.L12       0.9583      0.103      9.305      0.000       0.756       1.160\n",
       "ma.S.L12      -1.9097      2.692     -0.709      0.478      -7.185       3.366\n",
       "ma.S.L24       0.9825      2.740      0.359      0.720      -4.388       6.353\n",
       "sigma2         0.0010      0.003      0.372      0.710      -0.004       0.006\n",
       "===================================================================================\n",
       "Ljung-Box (L1) (Q):                   0.01   Jarque-Bera (JB):                 4.39\n",
       "Prob(Q):                              0.91   Prob(JB):                         0.11\n",
       "Heteroskedasticity (H):               0.65   Skew:                            -0.06\n",
       "Prob(H) (two-sided):                  0.15   Kurtosis:                         3.88\n",
       "===================================================================================\n",
       "\n",
       "Warnings:\n",
       "[1] Covariance matrix calculated using the outer product of gradients (complex-step).\n",
       "\"\"\""
      ]
     },
     "execution_count": 40,
     "metadata": {},
     "output_type": "execute_result"
    }
   ],
   "source": [
    "results.summary()"
   ]
  },
  {
   "cell_type": "markdown",
   "metadata": {},
   "source": [
    "### 3e. Visualize the results \n",
    "\n",
    "Visualize the original dataset plotted against our model. "
   ]
  },
  {
   "cell_type": "code",
   "execution_count": 41,
   "metadata": {},
   "outputs": [],
   "source": [
    "predictions = results.get_prediction()\n",
    "predictions_mean = predictions.predicted_mean\n",
    "predictions_se = predictions.se_mean\n",
    "predictions_upper = predictions_mean + 2*predictions_se\n",
    "predictions_lower = predictions_mean - 2*predictions_se\n",
    "\n",
    "predictions_mean = predictions_mean['1950':]\n",
    "predictions_upper = predictions_upper['1950':]\n",
    "predictions_lower = predictions_lower['1950':]"
   ]
  },
  {
   "cell_type": "code",
   "execution_count": 42,
   "metadata": {},
   "outputs": [
    {
     "data": {
      "image/png": "[encoded data removed]",
      "text/plain": [
       "<Figure size 1008x360 with 1 Axes>"
      ]
     },
     "metadata": {
      "needs_background": "light"
     },
     "output_type": "display_data"
    }
   ],
   "source": [
    "fig, ax = plt.subplots(figsize=(14, 5))\n",
    "ax.grid()\n",
    "plt.plot(log_y, '-', label='Observed');\n",
    "plt.plot(predictions_mean, '-r', label='Predicted')\n",
    "plt.fill_between(x=predictions_mean.index, y1=predictions_lower, y2=predictions_upper, color='red', alpha=0.2)\n",
    "plt.xlabel('Month');\n",
    "plt.legend();"
   ]
  },
  {
   "cell_type": "markdown",
   "metadata": {},
   "source": [
    "### 3f. Application: Forecasting\n",
    "\n",
    "We've done well: our model fits pretty closely to our existing data. Let's now use it to forecast what's likely to occur in future."
   ]
  },
  {
   "cell_type": "code",
   "execution_count": 43,
   "metadata": {
    "scrolled": false
   },
   "outputs": [
    {
     "data": {
      "image/png": "[encoded data removed]",
      "text/plain": [
       "<Figure size 1008x360 with 1 Axes>"
      ]
     },
     "metadata": {
      "needs_background": "light"
     },
     "output_type": "display_data"
    }
   ],
   "source": [
    "# Declare a variable called forecast_period with the amount of months to forecast, and\n",
    "# create a range of future dates that is the length of the periods you've chosen to forecast\n",
    "forecast_period = 24\n",
    "forecast = results.get_forecast(forecast_period)\n",
    "forecast_mean = forecast.predicted_mean\n",
    "forecast_se = forecast.se_mean\n",
    "forecast_upper = forecast_mean + 2*forecast_se\n",
    "forecast_lower = forecast_mean - 2*forecast_se\n",
    "\n",
    "# Convert that range into a dataframe that includes your predictions\n",
    "plot_log_y = log_y.append(forecast_mean)\n",
    "\n",
    "# Plot your future predictions\n",
    "fig, ax = plt.subplots(figsize=(14, 5))\n",
    "ax.grid()\n",
    "plt.plot(log_y, '-', label='Observed');\n",
    "plt.plot(plot_log_y[-forecast_period-1:], '-r');\n",
    "plt.plot(forecast_mean, '-r', label='Predicted')\n",
    "plt.fill_between(x=forecast_mean.index, y1=forecast_lower, y2=forecast_upper, color='red', alpha=0.2)\n",
    "plt.xlabel('Month');\n",
    "plt.legend();"
   ]
  },
  {
   "cell_type": "markdown",
   "metadata": {},
   "source": [
    "<span style=\"color:blue\">It's important to note that this is the transformed series. We can invert the transformation to get predictions on the original time series.</span>"
   ]
  },
  {
   "cell_type": "code",
   "execution_count": 44,
   "metadata": {},
   "outputs": [
    {
     "data": {
      "image/png": "[encoded data removed]",
      "text/plain": [
       "<Figure size 1008x360 with 1 Axes>"
      ]
     },
     "metadata": {
      "needs_background": "light"
     },
     "output_type": "display_data"
    }
   ],
   "source": [
    "transformed_mean = np.exp(forecast_mean)\n",
    "transformed_upper = np.exp(forecast_upper)\n",
    "transformed_lower = np.exp(forecast_lower)\n",
    "\n",
    "plot_y = y.append(transformed_mean)\n",
    "\n",
    "fig, ax = plt.subplots(figsize=(14, 5))\n",
    "ax.grid()\n",
    "plt.plot(y, '-', label='Observed');\n",
    "plt.plot(plot_y[-forecast_period-1:], '-r');\n",
    "plt.plot(transformed_mean, '-r', label='Predicted')\n",
    "plt.fill_between(x=transformed_mean.index, y1=transformed_lower, y2=transformed_upper, color='red', alpha=0.2)\n",
    "plt.xlabel('Month');\n",
    "plt.legend();"
   ]
  },
  {
   "cell_type": "markdown",
   "metadata": {},
   "source": [
    "## 4. Evaluating and Concluding\n",
    "\n",
    "Our model captures the centre of a line that's increasing at a remarkable rate. Cowboy Cigarettes sell more cigarettes in the summer, perhaps due to the good weather, disposable income and time off that people enjoy, and the least in the winter, when people might be spending less and enjoying less free time outdoors. \n",
    "\n",
    "Remarkably, our ARIMA model made predictions using just one variable. We can only speculate, however, on the causes of the behaviour predicted by our model. We should also take heed that spikes in data, due to sudden unusual circumstances like wars, are not handled well by ARIMA; and the outbreak of the Vietnam War in the 1960s would likely cause our model some distress.  \n",
    "\n",
    "We could suggest to our employers that, if they are interested in discovering the causes of the cigarette sales trajectory, they execute a regression analysis in addition to the time series one. "
   ]
  }
 ],
 "metadata": {
  "kernelspec": {
   "display_name": "Python 3",
   "language": "python",
   "name": "python3"
  },
  "language_info": {
   "codemirror_mode": {
    "name": "ipython",
    "version": 3
   },
   "file_extension": ".py",
   "mimetype": "text/x-python",
   "name": "python",
   "nbconvert_exporter": "python",
   "pygments_lexer": "ipython3",
   "version": "3.9.1"
  }
 },
 "nbformat": 4,
 "nbformat_minor": 2
}
