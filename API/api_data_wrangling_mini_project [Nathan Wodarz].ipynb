{
 "cells": [
  {
   "cell_type": "markdown",
   "metadata": {},
   "source": [
    "This exercise will require you to pull some data from the Qunadl API. Qaundl is currently the most widely used aggregator of financial market data."
   ]
  },
  {
   "cell_type": "markdown",
   "metadata": {},
   "source": [
    "As a first step, you will need to register a free account on the http://www.quandl.com website."
   ]
  },
  {
   "cell_type": "markdown",
   "metadata": {},
   "source": [
    "After you register, you will be provided with a unique API key, that you should store:"
   ]
  },
  {
   "cell_type": "code",
   "execution_count": 1,
   "metadata": {},
   "outputs": [],
   "source": [
    "# Store the API key as a string - according to PEP8, constants are always named in all upper case\n",
    "API_KEY = ''"
   ]
  },
  {
   "cell_type": "markdown",
   "metadata": {},
   "source": [
    "Qaundl has a large number of data sources, but, unfortunately, most of them require a Premium subscription. Still, there are also a good number of free datasets."
   ]
  },
  {
   "cell_type": "markdown",
   "metadata": {},
   "source": [
    "For this mini project, we will focus on equities data from the Frankfurt Stock Exhange (FSE), which is available for free. We'll try and analyze the stock prices of a company called Carl Zeiss Meditec, which manufactures tools for eye examinations, as well as medical lasers for laser eye surgery: https://www.zeiss.com/meditec/int/home.html. The company is listed under the stock ticker AFX_X."
   ]
  },
  {
   "cell_type": "markdown",
   "metadata": {},
   "source": [
    "You can find the detailed Quandl API instructions here: https://docs.quandl.com/docs/time-series"
   ]
  },
  {
   "cell_type": "markdown",
   "metadata": {},
   "source": [
    "While there is a dedicated Python package for connecting to the Quandl API, we would prefer that you use the *requests* package, which can be easily downloaded using *pip* or *conda*. You can find the documentation for the package here: http://docs.python-requests.org/en/master/ "
   ]
  },
  {
   "cell_type": "markdown",
   "metadata": {},
   "source": [
    "Finally, apart from the *requests* package, you are encouraged to not use any third party Python packages, such as *pandas*, and instead focus on what's available in the Python Standard Library (the *collections* module might come in handy: https://pymotw.com/3/collections/ ).\n",
    "Also, since you won't have access to DataFrames, you are encouraged to us Python's native data structures - preferably dictionaries, though some questions can also be answered using lists.\n",
    "You can read more on these data structures here: https://docs.python.org/3/tutorial/datastructures.html"
   ]
  },
  {
   "cell_type": "markdown",
   "metadata": {},
   "source": [
    "Keep in mind that the JSON responses you will be getting from the API map almost one-to-one to Python's dictionaries. Unfortunately, they can be very nested, so make sure you read up on indexing dictionaries in the documentation provided above."
   ]
  },
  {
   "cell_type": "code",
   "execution_count": 2,
   "metadata": {},
   "outputs": [],
   "source": [
    "# First, import the relevant modules\n",
    "import requests\n",
    "import json\n",
    "import statistics"
   ]
  },
  {
   "cell_type": "code",
   "execution_count": 3,
   "metadata": {},
   "outputs": [],
   "source": [
    "# Define a function to create the url.\n",
    "def quandl_url(first_date, last_date):\n",
    "    \"\"\"\n",
    "    Creates a url to access Quandl json data on the stock with ticker name AFX_X at the Frankfurt Stock exchange between the \n",
    "    dates first_date and last_date\n",
    "    \"\"\"\n",
    "    url = 'https://www.quandl.com/api/v3/datasets/FSE/AFX_X/data.json?'\n",
    "    url += 'start_date=' + '\\\"' + first_date + '\\\"&'\n",
    "    url += 'end_date=' + '\\\"' + last_date + '\\\"&'\n",
    "    url += 'api_key=' + API_KEY\n",
    "    return url"
   ]
  },
  {
   "cell_type": "code",
   "execution_count": 4,
   "metadata": {},
   "outputs": [],
   "source": [
    "# Now, call the Quandl API and pull out a small sample of the data (only one day) to get a glimpse\n",
    "# into the JSON structure that will be returned\n",
    "\n",
    "# The chosen start date and end date are the latest available days when this was written.\n",
    "url = quandl_url('2020-11-06', '2020-11-06')\n",
    "r = requests.get(url)\n",
    "json_data = r.json()"
   ]
  },
  {
   "cell_type": "code",
   "execution_count": 5,
   "metadata": {},
   "outputs": [
    {
     "name": "stdout",
     "output_type": "stream",
     "text": [
      "{'dataset_data': {'limit': None, 'transform': None, 'column_index': None, 'column_names': ['Date', 'Open', 'High', 'Low', 'Close', 'Change', 'Traded Volume', 'Turnover', 'Last Price of the Day', 'Daily Traded Units', 'Daily Turnover'], 'start_date': '2020-11-06', 'end_date': '2020-11-06', 'frequency': 'daily', 'data': [['2020-11-06', 115.2, 115.8, 114.8, 115.1, None, 190.0, 21831.0, None, None, None]], 'collapse': None, 'order': None}}\n"
     ]
    }
   ],
   "source": [
    "# Inspect the JSON structure of the object you created, and take note of how nested it is,\n",
    "# as well as the overall structure\n",
    "print(json_data)"
   ]
  },
  {
   "cell_type": "markdown",
   "metadata": {},
   "source": [
    "The following is exploration of the structure of the returned data."
   ]
  },
  {
   "cell_type": "code",
   "execution_count": 6,
   "metadata": {},
   "outputs": [
    {
     "name": "stdout",
     "output_type": "stream",
     "text": [
      "<class 'dict'>\n"
     ]
    }
   ],
   "source": [
    "print(type(json_data))"
   ]
  },
  {
   "cell_type": "code",
   "execution_count": 7,
   "metadata": {},
   "outputs": [
    {
     "name": "stdout",
     "output_type": "stream",
     "text": [
      "dict_keys(['dataset_data'])\n"
     ]
    }
   ],
   "source": [
    "print(json_data.keys())"
   ]
  },
  {
   "cell_type": "code",
   "execution_count": 8,
   "metadata": {},
   "outputs": [
    {
     "name": "stdout",
     "output_type": "stream",
     "text": [
      "dict_keys(['limit', 'transform', 'column_index', 'column_names', 'start_date', 'end_date', 'frequency', 'data', 'collapse', 'order'])\n"
     ]
    }
   ],
   "source": [
    "print(json_data['dataset_data'].keys())"
   ]
  },
  {
   "cell_type": "code",
   "execution_count": 9,
   "metadata": {},
   "outputs": [
    {
     "name": "stdout",
     "output_type": "stream",
     "text": [
      "<class 'list'>\n"
     ]
    }
   ],
   "source": [
    "print(type(json_data['dataset_data']['data']))"
   ]
  },
  {
   "cell_type": "code",
   "execution_count": 10,
   "metadata": {},
   "outputs": [
    {
     "name": "stdout",
     "output_type": "stream",
     "text": [
      "<class 'list'>\n"
     ]
    }
   ],
   "source": [
    "print(type(json_data['dataset_data']['data'][0]))"
   ]
  },
  {
   "cell_type": "code",
   "execution_count": 11,
   "metadata": {
    "scrolled": true
   },
   "outputs": [
    {
     "name": "stdout",
     "output_type": "stream",
     "text": [
      "Index   Column Name              Value        Type\n",
      "0       Date                     2020-11-06   <class 'str'>\n",
      "1       Open                     115.2        <class 'float'>\n",
      "2       High                     115.8        <class 'float'>\n",
      "3       Low                      114.8        <class 'float'>\n",
      "4       Close                    115.1        <class 'float'>\n",
      "5       Change                   None         <class 'NoneType'>\n",
      "6       Traded Volume            190.0        <class 'float'>\n",
      "7       Turnover                 21831.0      <class 'float'>\n",
      "8       Last Price of the Day    None         <class 'NoneType'>\n",
      "9       Daily Traded Units       None         <class 'NoneType'>\n",
      "10      Daily Turnover           None         <class 'NoneType'>\n"
     ]
    }
   ],
   "source": [
    "# Explore the types of data contained within the time series info.\n",
    "# Spacing size is arbitrary for readability.\n",
    "print('Index'.ljust(8,' ') + 'Column Name'.ljust(25, ' ') + 'Value'.ljust(13, ' ') + 'Type')\n",
    "for idx, val in enumerate(json_data['dataset_data']['data'][0]):\n",
    "    print(str(idx).ljust(8,' ') + json_data['dataset_data']['column_names'][idx].ljust(25, ' ') + str(val).ljust(13, ' ') + str(type(val)))"
   ]
  },
  {
   "cell_type": "markdown",
   "metadata": {},
   "source": [
    "It appears that all of the data is referenced by the 'dataset_set' key. Nested within that, the stock time series information is a list of lists referenced by the key 'data'."
   ]
  },
  {
   "cell_type": "code",
   "execution_count": 12,
   "metadata": {},
   "outputs": [],
   "source": [
    "# Function to grab json information from the Quandl API.\n",
    "# The particular database and ticker symbol are hardcoded for this project.\n",
    "def get_stock_json(first_date, last_date):\n",
    "    \"\"\"\n",
    "    Gets the Python dict obtained from the json form of the Quandl data for the stock with ticker name AFX_X \n",
    "    at the Frankfurt Stock exchange between the dates first_date and last_date\n",
    "    \"\"\"    \n",
    "    url = quandl_url(first_date, last_date)\n",
    "    r = requests.get(url)\n",
    "    return r.json()"
   ]
  },
  {
   "cell_type": "markdown",
   "metadata": {},
   "source": [
    "Analysis of the raw data shows that there are three suspicious entries. All three have opening prices of 'None' and all three are the same as the previous day's entries with minor rounding differences. These dates were April 13th, April 14th, and May 1st. Examination of https://www.tradinghours.com/exchanges/fsx/market-holidays/2017 shows that these days were holidays where the Exchange was closed. As a result, we intentionally omit any data where the opening price is listed as 'None'. This has mild effects on the mean and median, but doesn't change the other answers."
   ]
  },
  {
   "cell_type": "code",
   "execution_count": 13,
   "metadata": {},
   "outputs": [],
   "source": [
    "def create_stock_price_dict(json_data):\n",
    "    \"\"\"\n",
    "    Converts the stock data json_data to a dictionary where keys are strings representing states and values are dictionaries\n",
    "    with keys given by the column names in json_data and values by the corresponding date's entry.\n",
    "    \"\"\"\n",
    "    column_names = json_data['dataset_data']['column_names']\n",
    "    \n",
    "    stock_price_dict = {}\n",
    "    for stock_day in json_data['dataset_data']['data']:\n",
    "        # Pair this day's data with the column names to form a dict for today's data.\n",
    "        current_day_prices = dict(zip(column_names, stock_day))\n",
    "        # Only use this data if the opening price is valid, as discussed above.\n",
    "        if current_day_prices['Open'] is not None:\n",
    "            # The date is used as a key in the top-level dictionary, so there's no need to repeat it.\n",
    "            current_date = current_day_prices.pop('Date', None)\n",
    "            stock_price_dict[current_date] = current_day_prices\n",
    "        \n",
    "    return stock_price_dict"
   ]
  },
  {
   "cell_type": "code",
   "execution_count": 14,
   "metadata": {},
   "outputs": [],
   "source": [
    "# Combine the previous two functions to create a single function pipeline\n",
    "def create_quandl_data(first_date, last_date):\n",
    "    \"\"\"\n",
    "    Creates a dictionary from the json form of the Quandl data for the stock with ticker name AFX_X \n",
    "    at the Frankfurt Stock exchange between the dates first_date and last_date. This dictionary has format described by the\n",
    "    function create_stock_dict\n",
    "    \"\"\"      \n",
    "    stock_json = get_stock_json(first_date, last_date)\n",
    "    return create_stock_price_dict(stock_json)"
   ]
  },
  {
   "cell_type": "markdown",
   "metadata": {},
   "source": [
    "These are your tasks for this mini project:\n",
    "\n",
    "1. Collect data from the Franfurt Stock Exchange, for the ticker AFX_X, for the whole year 2017 (keep in mind that the date format is YYYY-MM-DD).\n",
    "2. Convert the returned JSON object into a Python dictionary.\n",
    "3. Calculate what the highest and lowest opening prices were for the stock in this period.\n",
    "4. What was the largest change in any one day (based on High and Low price)?\n",
    "5. What was the largest change between any two days (based on Closing Price)?\n",
    "6. What was the average daily trading volume during this year?\n",
    "7. (Optional) What was the median trading volume during this year. (Note: you may need to implement your own function for calculating the median.)"
   ]
  },
  {
   "cell_type": "markdown",
   "metadata": {},
   "source": [
    "<b>Q1.</b> Collect data from the Franfurt Stock Exchange, for the ticker AFX_X, for the whole year 2017 (keep in mind that the date format is YYYY-MM-DD)."
   ]
  },
  {
   "cell_type": "markdown",
   "metadata": {},
   "source": [
    "<b>Q2.</b> Convert the returned JSON object into a Python dictionary."
   ]
  },
  {
   "cell_type": "code",
   "execution_count": 15,
   "metadata": {},
   "outputs": [
    {
     "data": {
      "text/plain": [
       "dict"
      ]
     },
     "execution_count": 15,
     "metadata": {},
     "output_type": "execute_result"
    }
   ],
   "source": [
    "# Both of these problems are handled at once by the pipeline set up above.\n",
    "afx_2017_data = create_quandl_data('2017-01-01', '2017-12-31')\n",
    "type(afx_2017_data)"
   ]
  },
  {
   "cell_type": "markdown",
   "metadata": {},
   "source": [
    "<b>Q3.</b> Calculate what the highest and lowest opening prices were for the stock in this period."
   ]
  },
  {
   "cell_type": "code",
   "execution_count": 16,
   "metadata": {},
   "outputs": [
    {
     "name": "stdout",
     "output_type": "stream",
     "text": [
      "The highest opening price was 53.11\n",
      "The lowest opening price was 34.00\n"
     ]
    }
   ],
   "source": [
    "# Collect the opening prices\n",
    "opening_prices = [ daily_prices['Open'] for daily_prices in afx_2017_data.values()]\n",
    "\n",
    "print('The highest opening price was {:.2f}'.format(max(opening_prices)))\n",
    "print('The lowest opening price was {:.2f}'.format(min(opening_prices)))"
   ]
  },
  {
   "cell_type": "markdown",
   "metadata": {},
   "source": [
    "<b>Q4.</b> What was the largest change in any one day (based on High and Low price)?"
   ]
  },
  {
   "cell_type": "code",
   "execution_count": 17,
   "metadata": {},
   "outputs": [
    {
     "name": "stdout",
     "output_type": "stream",
     "text": [
      "True\n"
     ]
    }
   ],
   "source": [
    "# Collection High price less Low price\n",
    "price_differences = [ daily_prices['High'] - daily_prices['Low'] for daily_prices in afx_2017_data.values() ]\n",
    "        \n",
    "# Quick validation, to make sure that high_price >= low_price for all days\n",
    "print(min(price_differences) >= 0)"
   ]
  },
  {
   "cell_type": "code",
   "execution_count": 18,
   "metadata": {},
   "outputs": [
    {
     "name": "stdout",
     "output_type": "stream",
     "text": [
      "The maximum daily change in price was 2.81\n"
     ]
    }
   ],
   "source": [
    "# The requested value is then the max of this collection.\n",
    "print('The maximum daily change in price was {:.2f}'.format(max(price_differences)))"
   ]
  },
  {
   "cell_type": "markdown",
   "metadata": {},
   "source": [
    "<b>Q5.</b> What was the largest change between any two days (based on Closing Price)?"
   ]
  },
  {
   "cell_type": "code",
   "execution_count": 19,
   "metadata": {},
   "outputs": [
    {
     "name": "stdout",
     "output_type": "stream",
     "text": [
      "True\n"
     ]
    }
   ],
   "source": [
    "# Extract the closing prices\n",
    "closing_prices = [ daily_prices['Close'] for daily_prices in afx_2017_data.values()]\n",
    "\n",
    "# We subtract the sublist of the last N-1 entries from the sublist of the first N-1 entries where N is the list length\n",
    "# This gives the day-to-day change. We are interested in the largest magnitude, so we track the absolute value of the changes.\n",
    "closing_differences = [ abs(a - b) for a, b in zip(closing_prices[1:], closing_prices[:-1])]\n",
    "\n",
    "# Validate the computations by checking to verify no negative values\n",
    "print(min(closing_differences) >= 0)"
   ]
  },
  {
   "cell_type": "code",
   "execution_count": 20,
   "metadata": {},
   "outputs": [
    {
     "name": "stdout",
     "output_type": "stream",
     "text": [
      "The maximum day-to-day change in price was 2.56\n"
     ]
    }
   ],
   "source": [
    "print('The maximum day-to-day change in price was {:.2f}'.format(max(closing_differences)))"
   ]
  },
  {
   "cell_type": "markdown",
   "metadata": {},
   "source": [
    "<b>Q6.</b> What was the average daily trading volume during this year?"
   ]
  },
  {
   "cell_type": "code",
   "execution_count": 21,
   "metadata": {},
   "outputs": [],
   "source": [
    "# Extract the daily volumes\n",
    "daily_volumes = [ daily_prices['Traded Volume'] for daily_prices in afx_2017_data.values()]"
   ]
  },
  {
   "cell_type": "code",
   "execution_count": 22,
   "metadata": {},
   "outputs": [
    {
     "name": "stdout",
     "output_type": "stream",
     "text": [
      "The mean daily volume was 89,140.98 shares\n"
     ]
    }
   ],
   "source": [
    "mean_volume = sum(daily_volumes) / len(daily_volumes)\n",
    "print('The mean daily volume was {:,.2f} shares'.format(mean_volume))"
   ]
  },
  {
   "cell_type": "markdown",
   "metadata": {},
   "source": [
    "This agrees with the `mean` function provided in the `statistics` package."
   ]
  },
  {
   "cell_type": "code",
   "execution_count": 23,
   "metadata": {},
   "outputs": [
    {
     "name": "stdout",
     "output_type": "stream",
     "text": [
      "True\n"
     ]
    }
   ],
   "source": [
    "print(statistics.mean(daily_volumes) == mean_volume)"
   ]
  },
  {
   "cell_type": "markdown",
   "metadata": {},
   "source": [
    "<b>Q7.</b> (Optional) What was the median trading volume during this year. (Note: you may need to implement your own function for calculating the median.)"
   ]
  },
  {
   "cell_type": "markdown",
   "metadata": {},
   "source": [
    "It is possible to use the `median` function from the `statistics` package."
   ]
  },
  {
   "cell_type": "code",
   "execution_count": 24,
   "metadata": {},
   "outputs": [
    {
     "name": "stdout",
     "output_type": "stream",
     "text": [
      "The median daily volume was 74,723.50 shares\n"
     ]
    }
   ],
   "source": [
    "print('The median daily volume was {:,.2f} shares'.format(statistics.median(daily_volumes)))"
   ]
  },
  {
   "cell_type": "markdown",
   "metadata": {},
   "source": [
    "Based on problem wording, we'll also implement our own median function to verify."
   ]
  },
  {
   "cell_type": "code",
   "execution_count": 25,
   "metadata": {},
   "outputs": [],
   "source": [
    "def median(x):\n",
    "    \"\"\"\n",
    "    Determines the median of a list of numeric values.\n",
    "    \"\"\"\n",
    "    sorted_list = x\n",
    "    sorted_list.sort()\n",
    "    l = len(sorted_list)\n",
    "    if (l % 2 == 1):\n",
    "        # If there are an odd number of list entries, return the middle one.\n",
    "        i = int((l - 1) / 2)\n",
    "        return sorted_list[i]\n",
    "    else:\n",
    "         # Otherwise, return the mean of the middle two entries.\n",
    "        i = int(l / 2)\n",
    "        return (sorted_list[i - 1] + sorted_list[i]) / 2"
   ]
  },
  {
   "cell_type": "code",
   "execution_count": 26,
   "metadata": {},
   "outputs": [
    {
     "name": "stdout",
     "output_type": "stream",
     "text": [
      "The median daily volume was 74,723.50 shares\n"
     ]
    }
   ],
   "source": [
    "print('The median daily volume was {:,.2f} shares'.format(median(daily_volumes)))"
   ]
  },
  {
   "cell_type": "markdown",
   "metadata": {},
   "source": [
    "The two values match, as required."
   ]
  },
  {
   "cell_type": "code",
   "execution_count": 27,
   "metadata": {},
   "outputs": [
    {
     "name": "stdout",
     "output_type": "stream",
     "text": [
      "True\n"
     ]
    }
   ],
   "source": [
    "print(statistics.median(daily_volumes) == median(daily_volumes))"
   ]
  }
 ],
 "metadata": {
  "kernelspec": {
   "display_name": "Python 3",
   "language": "python",
   "name": "python3"
  },
  "language_info": {
   "codemirror_mode": {
    "name": "ipython",
    "version": 3
   },
   "file_extension": ".py",
   "mimetype": "text/x-python",
   "name": "python",
   "nbconvert_exporter": "python",
   "pygments_lexer": "ipython3",
   "version": "3.8.3"
  }
 },
 "nbformat": 4,
 "nbformat_minor": 2
}
